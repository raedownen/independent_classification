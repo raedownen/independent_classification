{
 "cells": [
  {
   "cell_type": "code",
   "execution_count": 1,
   "id": "804a3e11",
   "metadata": {},
   "outputs": [],
   "source": [
    "from matplotlib import pyplot as plt\n",
    "from matplotlib.colors import ListedColormap\n",
    "from env import user, password, host\n",
    "from scipy import stats\n",
    "from scipy.stats import levene, ttest_ind\n",
    "from sklearn.ensemble import RandomForestClassifier\n",
    "from sklearn.impute import SimpleImputer\n",
    "from sklearn.linear_model import LogisticRegression\n",
    "from sklearn.metrics import classification_report, confusion_matrix, ConfusionMatrixDisplay, plot_confusion_matrix\n",
    "from sklearn.model_selection import train_test_split\n",
    "from sklearn.neighbors import KNeighborsClassifier\n",
    "from sklearn.preprocessing import MinMaxScaler\n",
    "from sklearn.tree import DecisionTreeClassifier, plot_tree, export_text\n",
    "import math\n",
    "import numpy as np\n",
    "import os\n",
    "import pandas as pd\n",
    "import requests\n",
    "import seaborn as sns\n",
    "import statsmodels.api as sm\n",
    "import warnings\n",
    "warnings.filterwarnings(\"ignore\")\n"
   ]
  },
  {
   "cell_type": "code",
   "execution_count": 2,
   "id": "2c6bcd7c",
   "metadata": {},
   "outputs": [],
   "source": [
    "df22 = pd.read_csv('CAMPUS_summary_22.csv')\n",
    "df21 = pd.read_csv('CAMPUS_summary_21.csv')\n",
    "df20 = pd.read_csv('CAMPUS_summary_20.csv')\n",
    "df19 = pd.read_csv('CAMPUS_summary_19.csv')\n",
    "df18 = pd.read_csv('CAMPUS_summary_18.csv')"
   ]
  },
  {
   "cell_type": "code",
   "execution_count": 3,
   "id": "46200afd",
   "metadata": {},
   "outputs": [
    {
     "data": {
      "text/html": [
       "<div>\n",
       "<style scoped>\n",
       "    .dataframe tbody tr th:only-of-type {\n",
       "        vertical-align: middle;\n",
       "    }\n",
       "\n",
       "    .dataframe tbody tr th {\n",
       "        vertical-align: top;\n",
       "    }\n",
       "\n",
       "    .dataframe thead th {\n",
       "        text-align: right;\n",
       "    }\n",
       "</style>\n",
       "<table border=\"1\" class=\"dataframe\">\n",
       "  <thead>\n",
       "    <tr style=\"text-align: right;\">\n",
       "      <th></th>\n",
       "      <th>agg_level</th>\n",
       "      <th>campus_number</th>\n",
       "      <th>region</th>\n",
       "      <th>dist_name_num</th>\n",
       "      <th>charter_status</th>\n",
       "      <th>campus</th>\n",
       "      <th>section</th>\n",
       "      <th>heading</th>\n",
       "      <th>heading_name</th>\n",
       "      <th>student_count</th>\n",
       "    </tr>\n",
       "  </thead>\n",
       "  <tbody>\n",
       "    <tr>\n",
       "      <th>0</th>\n",
       "      <td>CAMPUS SUMMARY</td>\n",
       "      <td>57816102</td>\n",
       "      <td>10</td>\n",
       "      <td>A W BROWN LEADERSHIP ACADEMY 057816</td>\n",
       "      <td>OPEN ENROLLMENT CHARTER</td>\n",
       "      <td>GENESIS CAMPUS PRE-K THRU 5 057816102</td>\n",
       "      <td>A-PARTICIPATION</td>\n",
       "      <td>A01</td>\n",
       "      <td>CAMPUS CUMULATIVE YEAR END ENROLLMENT</td>\n",
       "      <td>533</td>\n",
       "    </tr>\n",
       "    <tr>\n",
       "      <th>1</th>\n",
       "      <td>CAMPUS SUMMARY</td>\n",
       "      <td>57816102</td>\n",
       "      <td>10</td>\n",
       "      <td>A W BROWN LEADERSHIP ACADEMY 057816</td>\n",
       "      <td>OPEN ENROLLMENT CHARTER</td>\n",
       "      <td>GENESIS CAMPUS PRE-K THRU 5 057816102</td>\n",
       "      <td>A-PARTICIPATION</td>\n",
       "      <td>A02</td>\n",
       "      <td>CAMPUS DISCIPLINE POPULATION</td>\n",
       "      <td>27</td>\n",
       "    </tr>\n",
       "    <tr>\n",
       "      <th>2</th>\n",
       "      <td>CAMPUS SUMMARY</td>\n",
       "      <td>57816102</td>\n",
       "      <td>10</td>\n",
       "      <td>A W BROWN LEADERSHIP ACADEMY 057816</td>\n",
       "      <td>OPEN ENROLLMENT CHARTER</td>\n",
       "      <td>GENESIS CAMPUS PRE-K THRU 5 057816102</td>\n",
       "      <td>A-PARTICIPATION</td>\n",
       "      <td>A03</td>\n",
       "      <td>CAMPUS DISCIPLINE RECORD COUNT</td>\n",
       "      <td>40</td>\n",
       "    </tr>\n",
       "    <tr>\n",
       "      <th>3</th>\n",
       "      <td>CAMPUS SUMMARY</td>\n",
       "      <td>57816102</td>\n",
       "      <td>10</td>\n",
       "      <td>A W BROWN LEADERSHIP ACADEMY 057816</td>\n",
       "      <td>OPEN ENROLLMENT CHARTER</td>\n",
       "      <td>GENESIS CAMPUS PRE-K THRU 5 057816102</td>\n",
       "      <td>B-DISCIPLINE DATA TRENDS</td>\n",
       "      <td>B13</td>\n",
       "      <td>STUDENTS SUSPENDED OUT OF SCHOOL</td>\n",
       "      <td>27</td>\n",
       "    </tr>\n",
       "    <tr>\n",
       "      <th>4</th>\n",
       "      <td>CAMPUS SUMMARY</td>\n",
       "      <td>57816102</td>\n",
       "      <td>10</td>\n",
       "      <td>A W BROWN LEADERSHIP ACADEMY 057816</td>\n",
       "      <td>OPEN ENROLLMENT CHARTER</td>\n",
       "      <td>GENESIS CAMPUS PRE-K THRU 5 057816102</td>\n",
       "      <td>F-OUT OF SCHOOL SUSPENSIONS</td>\n",
       "      <td>C24</td>\n",
       "      <td>BLACK OR AFRICAN AMERICAN</td>\n",
       "      <td>-999</td>\n",
       "    </tr>\n",
       "  </tbody>\n",
       "</table>\n",
       "</div>"
      ],
      "text/plain": [
       "        agg_level  campus_number  region                        dist_name_num  \\\n",
       "0  CAMPUS SUMMARY       57816102      10  A W BROWN LEADERSHIP ACADEMY 057816   \n",
       "1  CAMPUS SUMMARY       57816102      10  A W BROWN LEADERSHIP ACADEMY 057816   \n",
       "2  CAMPUS SUMMARY       57816102      10  A W BROWN LEADERSHIP ACADEMY 057816   \n",
       "3  CAMPUS SUMMARY       57816102      10  A W BROWN LEADERSHIP ACADEMY 057816   \n",
       "4  CAMPUS SUMMARY       57816102      10  A W BROWN LEADERSHIP ACADEMY 057816   \n",
       "\n",
       "            charter_status                                 campus  \\\n",
       "0  OPEN ENROLLMENT CHARTER  GENESIS CAMPUS PRE-K THRU 5 057816102   \n",
       "1  OPEN ENROLLMENT CHARTER  GENESIS CAMPUS PRE-K THRU 5 057816102   \n",
       "2  OPEN ENROLLMENT CHARTER  GENESIS CAMPUS PRE-K THRU 5 057816102   \n",
       "3  OPEN ENROLLMENT CHARTER  GENESIS CAMPUS PRE-K THRU 5 057816102   \n",
       "4  OPEN ENROLLMENT CHARTER  GENESIS CAMPUS PRE-K THRU 5 057816102   \n",
       "\n",
       "                       section heading                           heading_name  \\\n",
       "0              A-PARTICIPATION     A01  CAMPUS CUMULATIVE YEAR END ENROLLMENT   \n",
       "1              A-PARTICIPATION     A02           CAMPUS DISCIPLINE POPULATION   \n",
       "2              A-PARTICIPATION     A03         CAMPUS DISCIPLINE RECORD COUNT   \n",
       "3     B-DISCIPLINE DATA TRENDS     B13       STUDENTS SUSPENDED OUT OF SCHOOL   \n",
       "4  F-OUT OF SCHOOL SUSPENSIONS     C24              BLACK OR AFRICAN AMERICAN   \n",
       "\n",
       "  student_count  \n",
       "0           533  \n",
       "1            27  \n",
       "2            40  \n",
       "3            27  \n",
       "4          -999  "
      ]
     },
     "execution_count": 3,
     "metadata": {},
     "output_type": "execute_result"
    }
   ],
   "source": [
    "df22.head()"
   ]
  },
  {
   "cell_type": "code",
   "execution_count": 4,
   "id": "31b51a37",
   "metadata": {},
   "outputs": [
    {
     "data": {
      "text/html": [
       "<div>\n",
       "<style scoped>\n",
       "    .dataframe tbody tr th:only-of-type {\n",
       "        vertical-align: middle;\n",
       "    }\n",
       "\n",
       "    .dataframe tbody tr th {\n",
       "        vertical-align: top;\n",
       "    }\n",
       "\n",
       "    .dataframe thead th {\n",
       "        text-align: right;\n",
       "    }\n",
       "</style>\n",
       "<table border=\"1\" class=\"dataframe\">\n",
       "  <thead>\n",
       "    <tr style=\"text-align: right;\">\n",
       "      <th></th>\n",
       "      <th>agg_level</th>\n",
       "      <th>campus_number</th>\n",
       "      <th>region</th>\n",
       "      <th>dist_name_num</th>\n",
       "      <th>charter_status</th>\n",
       "      <th>campus</th>\n",
       "      <th>section</th>\n",
       "      <th>heading</th>\n",
       "      <th>heading_name</th>\n",
       "      <th>student_count</th>\n",
       "    </tr>\n",
       "  </thead>\n",
       "  <tbody>\n",
       "    <tr>\n",
       "      <th>0</th>\n",
       "      <td>CAMPUS SUMMARY</td>\n",
       "      <td>57816102</td>\n",
       "      <td>10</td>\n",
       "      <td>A W BROWN LEADERSHIP ACADEMY 057816</td>\n",
       "      <td>OPEN ENROLLMENT CHARTER</td>\n",
       "      <td>GENESIS CAMPUS PRE-K THRU 5 057816102</td>\n",
       "      <td>A-PARTICIPATION</td>\n",
       "      <td>A01</td>\n",
       "      <td>CAMPUS CUMULATIVE YEAR END ENROLLMENT</td>\n",
       "      <td>853</td>\n",
       "    </tr>\n",
       "    <tr>\n",
       "      <th>1</th>\n",
       "      <td>CAMPUS SUMMARY</td>\n",
       "      <td>57816101</td>\n",
       "      <td>10</td>\n",
       "      <td>A W BROWN LEADERSHIP ACADEMY 057816</td>\n",
       "      <td>OPEN ENROLLMENT CHARTER</td>\n",
       "      <td>QUEST CAMPUS PRE-K THRU 8 057816101</td>\n",
       "      <td>A-PARTICIPATION</td>\n",
       "      <td>A01</td>\n",
       "      <td>CAMPUS CUMULATIVE YEAR END ENROLLMENT</td>\n",
       "      <td>682</td>\n",
       "    </tr>\n",
       "    <tr>\n",
       "      <th>2</th>\n",
       "      <td>CAMPUS SUMMARY</td>\n",
       "      <td>57816101</td>\n",
       "      <td>10</td>\n",
       "      <td>A W BROWN LEADERSHIP ACADEMY 057816</td>\n",
       "      <td>OPEN ENROLLMENT CHARTER</td>\n",
       "      <td>QUEST CAMPUS PRE-K THRU 8 057816101</td>\n",
       "      <td>A-PARTICIPATION</td>\n",
       "      <td>A02</td>\n",
       "      <td>CAMPUS DISCIPLINE POPULATION</td>\n",
       "      <td>-999</td>\n",
       "    </tr>\n",
       "    <tr>\n",
       "      <th>3</th>\n",
       "      <td>CAMPUS SUMMARY</td>\n",
       "      <td>57816101</td>\n",
       "      <td>10</td>\n",
       "      <td>A W BROWN LEADERSHIP ACADEMY 057816</td>\n",
       "      <td>OPEN ENROLLMENT CHARTER</td>\n",
       "      <td>QUEST CAMPUS PRE-K THRU 8 057816101</td>\n",
       "      <td>A-PARTICIPATION</td>\n",
       "      <td>A03</td>\n",
       "      <td>CAMPUS DISCIPLINE RECORD COUNT</td>\n",
       "      <td>-999</td>\n",
       "    </tr>\n",
       "    <tr>\n",
       "      <th>4</th>\n",
       "      <td>CAMPUS SUMMARY</td>\n",
       "      <td>57816101</td>\n",
       "      <td>10</td>\n",
       "      <td>A W BROWN LEADERSHIP ACADEMY 057816</td>\n",
       "      <td>OPEN ENROLLMENT CHARTER</td>\n",
       "      <td>QUEST CAMPUS PRE-K THRU 8 057816101</td>\n",
       "      <td>B-DISCIPLINE DATA TRENDS</td>\n",
       "      <td>B13</td>\n",
       "      <td>STUDENTS SUSPENDED OUT OF SCHOOL</td>\n",
       "      <td>-999</td>\n",
       "    </tr>\n",
       "  </tbody>\n",
       "</table>\n",
       "</div>"
      ],
      "text/plain": [
       "        agg_level  campus_number  region                        dist_name_num  \\\n",
       "0  CAMPUS SUMMARY       57816102      10  A W BROWN LEADERSHIP ACADEMY 057816   \n",
       "1  CAMPUS SUMMARY       57816101      10  A W BROWN LEADERSHIP ACADEMY 057816   \n",
       "2  CAMPUS SUMMARY       57816101      10  A W BROWN LEADERSHIP ACADEMY 057816   \n",
       "3  CAMPUS SUMMARY       57816101      10  A W BROWN LEADERSHIP ACADEMY 057816   \n",
       "4  CAMPUS SUMMARY       57816101      10  A W BROWN LEADERSHIP ACADEMY 057816   \n",
       "\n",
       "            charter_status                                 campus  \\\n",
       "0  OPEN ENROLLMENT CHARTER  GENESIS CAMPUS PRE-K THRU 5 057816102   \n",
       "1  OPEN ENROLLMENT CHARTER    QUEST CAMPUS PRE-K THRU 8 057816101   \n",
       "2  OPEN ENROLLMENT CHARTER    QUEST CAMPUS PRE-K THRU 8 057816101   \n",
       "3  OPEN ENROLLMENT CHARTER    QUEST CAMPUS PRE-K THRU 8 057816101   \n",
       "4  OPEN ENROLLMENT CHARTER    QUEST CAMPUS PRE-K THRU 8 057816101   \n",
       "\n",
       "                    section heading                           heading_name  \\\n",
       "0           A-PARTICIPATION     A01  CAMPUS CUMULATIVE YEAR END ENROLLMENT   \n",
       "1           A-PARTICIPATION     A01  CAMPUS CUMULATIVE YEAR END ENROLLMENT   \n",
       "2           A-PARTICIPATION     A02           CAMPUS DISCIPLINE POPULATION   \n",
       "3           A-PARTICIPATION     A03         CAMPUS DISCIPLINE RECORD COUNT   \n",
       "4  B-DISCIPLINE DATA TRENDS     B13       STUDENTS SUSPENDED OUT OF SCHOOL   \n",
       "\n",
       "  student_count  \n",
       "0           853  \n",
       "1           682  \n",
       "2          -999  \n",
       "3          -999  \n",
       "4          -999  "
      ]
     },
     "execution_count": 4,
     "metadata": {},
     "output_type": "execute_result"
    }
   ],
   "source": [
    "df21.head()"
   ]
  },
  {
   "cell_type": "code",
   "execution_count": 5,
   "id": "77b35f0b",
   "metadata": {},
   "outputs": [
    {
     "data": {
      "text/html": [
       "<div>\n",
       "<style scoped>\n",
       "    .dataframe tbody tr th:only-of-type {\n",
       "        vertical-align: middle;\n",
       "    }\n",
       "\n",
       "    .dataframe tbody tr th {\n",
       "        vertical-align: top;\n",
       "    }\n",
       "\n",
       "    .dataframe thead th {\n",
       "        text-align: right;\n",
       "    }\n",
       "</style>\n",
       "<table border=\"1\" class=\"dataframe\">\n",
       "  <thead>\n",
       "    <tr style=\"text-align: right;\">\n",
       "      <th></th>\n",
       "      <th>agg_level</th>\n",
       "      <th>campus_number</th>\n",
       "      <th>region</th>\n",
       "      <th>dist_name_num</th>\n",
       "      <th>charter_status</th>\n",
       "      <th>campus</th>\n",
       "      <th>section</th>\n",
       "      <th>heading</th>\n",
       "      <th>heading_name</th>\n",
       "      <th>student_count</th>\n",
       "    </tr>\n",
       "  </thead>\n",
       "  <tbody>\n",
       "    <tr>\n",
       "      <th>0</th>\n",
       "      <td>CAMPUS SUMMARY</td>\n",
       "      <td>57816102</td>\n",
       "      <td>10</td>\n",
       "      <td>A W BROWN LEADERSHIP ACADEMY 057816</td>\n",
       "      <td>OPEN ENROLLMENT CHARTER</td>\n",
       "      <td>GENESIS CAMPUS PRE-K THRU 5 057816102</td>\n",
       "      <td>A-PARTICIPATION</td>\n",
       "      <td>A01</td>\n",
       "      <td>CAMPUS CUMULATIVE YEAR END ENROLLMENT</td>\n",
       "      <td>1086</td>\n",
       "    </tr>\n",
       "    <tr>\n",
       "      <th>1</th>\n",
       "      <td>CAMPUS SUMMARY</td>\n",
       "      <td>57816102</td>\n",
       "      <td>10</td>\n",
       "      <td>A W BROWN LEADERSHIP ACADEMY 057816</td>\n",
       "      <td>OPEN ENROLLMENT CHARTER</td>\n",
       "      <td>GENESIS CAMPUS PRE-K THRU 5 057816102</td>\n",
       "      <td>A-PARTICIPATION</td>\n",
       "      <td>A02</td>\n",
       "      <td>CAMPUS DISCIPLINE POPULATION</td>\n",
       "      <td>20</td>\n",
       "    </tr>\n",
       "    <tr>\n",
       "      <th>2</th>\n",
       "      <td>CAMPUS SUMMARY</td>\n",
       "      <td>57816102</td>\n",
       "      <td>10</td>\n",
       "      <td>A W BROWN LEADERSHIP ACADEMY 057816</td>\n",
       "      <td>OPEN ENROLLMENT CHARTER</td>\n",
       "      <td>GENESIS CAMPUS PRE-K THRU 5 057816102</td>\n",
       "      <td>A-PARTICIPATION</td>\n",
       "      <td>A03</td>\n",
       "      <td>CAMPUS DISCIPLINE RECORD COUNT</td>\n",
       "      <td>32</td>\n",
       "    </tr>\n",
       "    <tr>\n",
       "      <th>3</th>\n",
       "      <td>CAMPUS SUMMARY</td>\n",
       "      <td>57816102</td>\n",
       "      <td>10</td>\n",
       "      <td>A W BROWN LEADERSHIP ACADEMY 057816</td>\n",
       "      <td>OPEN ENROLLMENT CHARTER</td>\n",
       "      <td>GENESIS CAMPUS PRE-K THRU 5 057816102</td>\n",
       "      <td>B-DISCIPLINE DATA TRENDS</td>\n",
       "      <td>B10</td>\n",
       "      <td>COUNT OF STUDENTS SUSPENDED IN SCHOOL</td>\n",
       "      <td>-999</td>\n",
       "    </tr>\n",
       "    <tr>\n",
       "      <th>4</th>\n",
       "      <td>CAMPUS SUMMARY</td>\n",
       "      <td>57816102</td>\n",
       "      <td>10</td>\n",
       "      <td>A W BROWN LEADERSHIP ACADEMY 057816</td>\n",
       "      <td>OPEN ENROLLMENT CHARTER</td>\n",
       "      <td>GENESIS CAMPUS PRE-K THRU 5 057816102</td>\n",
       "      <td>B-DISCIPLINE DATA TRENDS</td>\n",
       "      <td>B13</td>\n",
       "      <td>STUDENTS SUSPENDED OUT OF SCHOOL</td>\n",
       "      <td>16</td>\n",
       "    </tr>\n",
       "  </tbody>\n",
       "</table>\n",
       "</div>"
      ],
      "text/plain": [
       "        agg_level  campus_number  region                        dist_name_num  \\\n",
       "0  CAMPUS SUMMARY       57816102      10  A W BROWN LEADERSHIP ACADEMY 057816   \n",
       "1  CAMPUS SUMMARY       57816102      10  A W BROWN LEADERSHIP ACADEMY 057816   \n",
       "2  CAMPUS SUMMARY       57816102      10  A W BROWN LEADERSHIP ACADEMY 057816   \n",
       "3  CAMPUS SUMMARY       57816102      10  A W BROWN LEADERSHIP ACADEMY 057816   \n",
       "4  CAMPUS SUMMARY       57816102      10  A W BROWN LEADERSHIP ACADEMY 057816   \n",
       "\n",
       "            charter_status                                 campus  \\\n",
       "0  OPEN ENROLLMENT CHARTER  GENESIS CAMPUS PRE-K THRU 5 057816102   \n",
       "1  OPEN ENROLLMENT CHARTER  GENESIS CAMPUS PRE-K THRU 5 057816102   \n",
       "2  OPEN ENROLLMENT CHARTER  GENESIS CAMPUS PRE-K THRU 5 057816102   \n",
       "3  OPEN ENROLLMENT CHARTER  GENESIS CAMPUS PRE-K THRU 5 057816102   \n",
       "4  OPEN ENROLLMENT CHARTER  GENESIS CAMPUS PRE-K THRU 5 057816102   \n",
       "\n",
       "                    section heading                           heading_name  \\\n",
       "0           A-PARTICIPATION     A01  CAMPUS CUMULATIVE YEAR END ENROLLMENT   \n",
       "1           A-PARTICIPATION     A02           CAMPUS DISCIPLINE POPULATION   \n",
       "2           A-PARTICIPATION     A03         CAMPUS DISCIPLINE RECORD COUNT   \n",
       "3  B-DISCIPLINE DATA TRENDS     B10  COUNT OF STUDENTS SUSPENDED IN SCHOOL   \n",
       "4  B-DISCIPLINE DATA TRENDS     B13       STUDENTS SUSPENDED OUT OF SCHOOL   \n",
       "\n",
       "  student_count  \n",
       "0          1086  \n",
       "1            20  \n",
       "2            32  \n",
       "3          -999  \n",
       "4            16  "
      ]
     },
     "execution_count": 5,
     "metadata": {},
     "output_type": "execute_result"
    }
   ],
   "source": [
    "df20.head()"
   ]
  },
  {
   "cell_type": "code",
   "execution_count": 6,
   "id": "d546b26b",
   "metadata": {},
   "outputs": [
    {
     "data": {
      "text/html": [
       "<div>\n",
       "<style scoped>\n",
       "    .dataframe tbody tr th:only-of-type {\n",
       "        vertical-align: middle;\n",
       "    }\n",
       "\n",
       "    .dataframe tbody tr th {\n",
       "        vertical-align: top;\n",
       "    }\n",
       "\n",
       "    .dataframe thead th {\n",
       "        text-align: right;\n",
       "    }\n",
       "</style>\n",
       "<table border=\"1\" class=\"dataframe\">\n",
       "  <thead>\n",
       "    <tr style=\"text-align: right;\">\n",
       "      <th></th>\n",
       "      <th>agg_level</th>\n",
       "      <th>campus_number</th>\n",
       "      <th>region</th>\n",
       "      <th>dist_name_num</th>\n",
       "      <th>charter_status</th>\n",
       "      <th>campus</th>\n",
       "      <th>section</th>\n",
       "      <th>heading</th>\n",
       "      <th>heading_name</th>\n",
       "      <th>student_count</th>\n",
       "    </tr>\n",
       "  </thead>\n",
       "  <tbody>\n",
       "    <tr>\n",
       "      <th>0</th>\n",
       "      <td>CAMPUS SUMMARY</td>\n",
       "      <td>57816102</td>\n",
       "      <td>10</td>\n",
       "      <td>A W BROWN LEADERSHIP ACADEMY 057816</td>\n",
       "      <td>OPEN ENROLLMENT CHARTER</td>\n",
       "      <td>A W BROWN - F L A EARLY CHILDHOOD 057816102</td>\n",
       "      <td>A-PARTICIPATION</td>\n",
       "      <td>A01</td>\n",
       "      <td>CAMPUS CUMULATIVE YEAR END ENROLLMENT</td>\n",
       "      <td>1291</td>\n",
       "    </tr>\n",
       "    <tr>\n",
       "      <th>1</th>\n",
       "      <td>CAMPUS SUMMARY</td>\n",
       "      <td>57816101</td>\n",
       "      <td>10</td>\n",
       "      <td>A W BROWN LEADERSHIP ACADEMY 057816</td>\n",
       "      <td>OPEN ENROLLMENT CHARTER</td>\n",
       "      <td>AW BROWN-F L A INT CAMPUS 057816101</td>\n",
       "      <td>A-PARTICIPATION</td>\n",
       "      <td>A01</td>\n",
       "      <td>CAMPUS CUMULATIVE YEAR END ENROLLMENT</td>\n",
       "      <td>961</td>\n",
       "    </tr>\n",
       "    <tr>\n",
       "      <th>2</th>\n",
       "      <td>CAMPUS SUMMARY</td>\n",
       "      <td>57829001</td>\n",
       "      <td>10</td>\n",
       "      <td>A+ ACADEMY 057829</td>\n",
       "      <td>OPEN ENROLLMENT CHARTER</td>\n",
       "      <td>A+ ACADEMY EL 057829001</td>\n",
       "      <td>A-PARTICIPATION</td>\n",
       "      <td>A01</td>\n",
       "      <td>CAMPUS CUMULATIVE YEAR END ENROLLMENT</td>\n",
       "      <td>853</td>\n",
       "    </tr>\n",
       "    <tr>\n",
       "      <th>3</th>\n",
       "      <td>CAMPUS SUMMARY</td>\n",
       "      <td>57829001</td>\n",
       "      <td>10</td>\n",
       "      <td>A+ ACADEMY 057829</td>\n",
       "      <td>OPEN ENROLLMENT CHARTER</td>\n",
       "      <td>A+ ACADEMY EL 057829001</td>\n",
       "      <td>A-PARTICIPATION</td>\n",
       "      <td>A02</td>\n",
       "      <td>CAMPUS DISCIPLINE POPULATION</td>\n",
       "      <td>24</td>\n",
       "    </tr>\n",
       "    <tr>\n",
       "      <th>4</th>\n",
       "      <td>CAMPUS SUMMARY</td>\n",
       "      <td>57829001</td>\n",
       "      <td>10</td>\n",
       "      <td>A+ ACADEMY 057829</td>\n",
       "      <td>OPEN ENROLLMENT CHARTER</td>\n",
       "      <td>A+ ACADEMY EL 057829001</td>\n",
       "      <td>A-PARTICIPATION</td>\n",
       "      <td>A03</td>\n",
       "      <td>CAMPUS DISCIPLINE RECORD COUNT</td>\n",
       "      <td>26</td>\n",
       "    </tr>\n",
       "  </tbody>\n",
       "</table>\n",
       "</div>"
      ],
      "text/plain": [
       "        agg_level  campus_number  region                        dist_name_num  \\\n",
       "0  CAMPUS SUMMARY       57816102      10  A W BROWN LEADERSHIP ACADEMY 057816   \n",
       "1  CAMPUS SUMMARY       57816101      10  A W BROWN LEADERSHIP ACADEMY 057816   \n",
       "2  CAMPUS SUMMARY       57829001      10                    A+ ACADEMY 057829   \n",
       "3  CAMPUS SUMMARY       57829001      10                    A+ ACADEMY 057829   \n",
       "4  CAMPUS SUMMARY       57829001      10                    A+ ACADEMY 057829   \n",
       "\n",
       "            charter_status                                       campus  \\\n",
       "0  OPEN ENROLLMENT CHARTER  A W BROWN - F L A EARLY CHILDHOOD 057816102   \n",
       "1  OPEN ENROLLMENT CHARTER          AW BROWN-F L A INT CAMPUS 057816101   \n",
       "2  OPEN ENROLLMENT CHARTER                      A+ ACADEMY EL 057829001   \n",
       "3  OPEN ENROLLMENT CHARTER                      A+ ACADEMY EL 057829001   \n",
       "4  OPEN ENROLLMENT CHARTER                      A+ ACADEMY EL 057829001   \n",
       "\n",
       "           section heading                           heading_name  \\\n",
       "0  A-PARTICIPATION     A01  CAMPUS CUMULATIVE YEAR END ENROLLMENT   \n",
       "1  A-PARTICIPATION     A01  CAMPUS CUMULATIVE YEAR END ENROLLMENT   \n",
       "2  A-PARTICIPATION     A01  CAMPUS CUMULATIVE YEAR END ENROLLMENT   \n",
       "3  A-PARTICIPATION     A02           CAMPUS DISCIPLINE POPULATION   \n",
       "4  A-PARTICIPATION     A03         CAMPUS DISCIPLINE RECORD COUNT   \n",
       "\n",
       "  student_count  \n",
       "0          1291  \n",
       "1           961  \n",
       "2           853  \n",
       "3            24  \n",
       "4            26  "
      ]
     },
     "execution_count": 6,
     "metadata": {},
     "output_type": "execute_result"
    }
   ],
   "source": [
    "df19.head()"
   ]
  },
  {
   "cell_type": "code",
   "execution_count": 7,
   "id": "a815ad44",
   "metadata": {},
   "outputs": [
    {
     "data": {
      "text/html": [
       "<div>\n",
       "<style scoped>\n",
       "    .dataframe tbody tr th:only-of-type {\n",
       "        vertical-align: middle;\n",
       "    }\n",
       "\n",
       "    .dataframe tbody tr th {\n",
       "        vertical-align: top;\n",
       "    }\n",
       "\n",
       "    .dataframe thead th {\n",
       "        text-align: right;\n",
       "    }\n",
       "</style>\n",
       "<table border=\"1\" class=\"dataframe\">\n",
       "  <thead>\n",
       "    <tr style=\"text-align: right;\">\n",
       "      <th></th>\n",
       "      <th>agg_level</th>\n",
       "      <th>campus_number</th>\n",
       "      <th>region</th>\n",
       "      <th>dist_name_num</th>\n",
       "      <th>charter_status</th>\n",
       "      <th>campus</th>\n",
       "      <th>section</th>\n",
       "      <th>heading</th>\n",
       "      <th>heading_name</th>\n",
       "      <th>student_count</th>\n",
       "    </tr>\n",
       "  </thead>\n",
       "  <tbody>\n",
       "    <tr>\n",
       "      <th>0</th>\n",
       "      <td>CAMPUS SUMMARY</td>\n",
       "      <td>57816102</td>\n",
       "      <td>10</td>\n",
       "      <td>A W BROWN LEADERSHIP ACADEMY 057816</td>\n",
       "      <td>OPEN ENROLLMENT CHARTER</td>\n",
       "      <td>A W BROWN - F L A EARLY CHILDHOOD 057816102</td>\n",
       "      <td>A-PARTICIPATION</td>\n",
       "      <td>A01</td>\n",
       "      <td>CAMPUS CUMULATIVE YEAR END ENROLLMENT</td>\n",
       "      <td>1278</td>\n",
       "    </tr>\n",
       "    <tr>\n",
       "      <th>1</th>\n",
       "      <td>CAMPUS SUMMARY</td>\n",
       "      <td>57816101</td>\n",
       "      <td>10</td>\n",
       "      <td>A W BROWN LEADERSHIP ACADEMY 057816</td>\n",
       "      <td>OPEN ENROLLMENT CHARTER</td>\n",
       "      <td>AW BROWN-F L A INT CAMPUS 057816101</td>\n",
       "      <td>A-PARTICIPATION</td>\n",
       "      <td>A01</td>\n",
       "      <td>CAMPUS CUMULATIVE YEAR END ENROLLMENT</td>\n",
       "      <td>1106</td>\n",
       "    </tr>\n",
       "    <tr>\n",
       "      <th>2</th>\n",
       "      <td>CAMPUS SUMMARY</td>\n",
       "      <td>57829001</td>\n",
       "      <td>10</td>\n",
       "      <td>A+ ACADEMY 057829</td>\n",
       "      <td>OPEN ENROLLMENT CHARTER</td>\n",
       "      <td>A+ ACADEMY EL 057829001</td>\n",
       "      <td>A-PARTICIPATION</td>\n",
       "      <td>A01</td>\n",
       "      <td>CAMPUS CUMULATIVE YEAR END ENROLLMENT</td>\n",
       "      <td>859</td>\n",
       "    </tr>\n",
       "    <tr>\n",
       "      <th>3</th>\n",
       "      <td>CAMPUS SUMMARY</td>\n",
       "      <td>57829002</td>\n",
       "      <td>10</td>\n",
       "      <td>A+ ACADEMY 057829</td>\n",
       "      <td>OPEN ENROLLMENT CHARTER</td>\n",
       "      <td>A+ SECONDARY SCHOOL 057829002</td>\n",
       "      <td>A-PARTICIPATION</td>\n",
       "      <td>A01</td>\n",
       "      <td>CAMPUS CUMULATIVE YEAR END ENROLLMENT</td>\n",
       "      <td>584</td>\n",
       "    </tr>\n",
       "    <tr>\n",
       "      <th>4</th>\n",
       "      <td>CAMPUS SUMMARY</td>\n",
       "      <td>57829001</td>\n",
       "      <td>10</td>\n",
       "      <td>A+ ACADEMY 057829</td>\n",
       "      <td>OPEN ENROLLMENT CHARTER</td>\n",
       "      <td>A+ ACADEMY EL 057829001</td>\n",
       "      <td>A-PARTICIPATION</td>\n",
       "      <td>A02</td>\n",
       "      <td>CAMPUS DISCIPLINE POPULATION</td>\n",
       "      <td>-999</td>\n",
       "    </tr>\n",
       "  </tbody>\n",
       "</table>\n",
       "</div>"
      ],
      "text/plain": [
       "        agg_level  campus_number  region                        dist_name_num  \\\n",
       "0  CAMPUS SUMMARY       57816102      10  A W BROWN LEADERSHIP ACADEMY 057816   \n",
       "1  CAMPUS SUMMARY       57816101      10  A W BROWN LEADERSHIP ACADEMY 057816   \n",
       "2  CAMPUS SUMMARY       57829001      10                    A+ ACADEMY 057829   \n",
       "3  CAMPUS SUMMARY       57829002      10                    A+ ACADEMY 057829   \n",
       "4  CAMPUS SUMMARY       57829001      10                    A+ ACADEMY 057829   \n",
       "\n",
       "            charter_status                                       campus  \\\n",
       "0  OPEN ENROLLMENT CHARTER  A W BROWN - F L A EARLY CHILDHOOD 057816102   \n",
       "1  OPEN ENROLLMENT CHARTER          AW BROWN-F L A INT CAMPUS 057816101   \n",
       "2  OPEN ENROLLMENT CHARTER                      A+ ACADEMY EL 057829001   \n",
       "3  OPEN ENROLLMENT CHARTER                A+ SECONDARY SCHOOL 057829002   \n",
       "4  OPEN ENROLLMENT CHARTER                      A+ ACADEMY EL 057829001   \n",
       "\n",
       "           section heading                           heading_name  \\\n",
       "0  A-PARTICIPATION     A01  CAMPUS CUMULATIVE YEAR END ENROLLMENT   \n",
       "1  A-PARTICIPATION     A01  CAMPUS CUMULATIVE YEAR END ENROLLMENT   \n",
       "2  A-PARTICIPATION     A01  CAMPUS CUMULATIVE YEAR END ENROLLMENT   \n",
       "3  A-PARTICIPATION     A01  CAMPUS CUMULATIVE YEAR END ENROLLMENT   \n",
       "4  A-PARTICIPATION     A02           CAMPUS DISCIPLINE POPULATION   \n",
       "\n",
       "  student_count  \n",
       "0          1278  \n",
       "1          1106  \n",
       "2           859  \n",
       "3           584  \n",
       "4          -999  "
      ]
     },
     "execution_count": 7,
     "metadata": {},
     "output_type": "execute_result"
    }
   ],
   "source": [
    "df18.head()"
   ]
  },
  {
   "cell_type": "code",
   "execution_count": 8,
   "id": "f8fa0920",
   "metadata": {},
   "outputs": [],
   "source": [
    "def prep22(df):\n",
    "    global df22\n",
    "    df22['charter_encoded'] = df22.charter_status.map({'OPEN ENROLLMENT CHARTER': 1, 'TRADITIONAL ISD/CSD':0})\n",
    "    df22=df22[(df22.heading == 'A01') | (df22.heading ==  'A03')]\n",
    "    df22=df22[df22['student_count'] != '-999']\n",
    "    df22['student_count']= df22['student_count'].str.replace(\"<\", \"\")\n",
    "    df22['student_count'] = df22['student_count'].astype(float)\n",
    "    dfpivot=df22.pivot(index='campus_number', columns='heading', values= 'student_count').dropna()\n",
    "    df22=df22.merge(dfpivot,how= 'right', on= 'campus_number')\n",
    "    df22=df22.rename(columns={'A01': 'student_enrollment', 'A03':'discipline_count'})\n",
    "    df22['discipline_percent']= ((df22['discipline_count']/df22['student_enrollment'])*100)\n",
    "    df22=df22.round({'discipline_percent': 0})\n",
    "    df22=df22.drop(columns=['agg_level', 'campus_number', 'region', 'charter_status', 'dist_name_num', 'student_count','section', 'heading', 'heading_name', 'student_count'])\n",
    "    df22=df22.drop_duplicates()\n",
    "    df22=df22.reset_index(drop=True)"
   ]
  },
  {
   "cell_type": "code",
   "execution_count": 9,
   "id": "81e8c36a",
   "metadata": {},
   "outputs": [],
   "source": [
    "prep22(df22)"
   ]
  },
  {
   "cell_type": "code",
   "execution_count": 10,
   "id": "89bd55f7",
   "metadata": {},
   "outputs": [
    {
     "data": {
      "text/html": [
       "<div>\n",
       "<style scoped>\n",
       "    .dataframe tbody tr th:only-of-type {\n",
       "        vertical-align: middle;\n",
       "    }\n",
       "\n",
       "    .dataframe tbody tr th {\n",
       "        vertical-align: top;\n",
       "    }\n",
       "\n",
       "    .dataframe thead th {\n",
       "        text-align: right;\n",
       "    }\n",
       "</style>\n",
       "<table border=\"1\" class=\"dataframe\">\n",
       "  <thead>\n",
       "    <tr style=\"text-align: right;\">\n",
       "      <th></th>\n",
       "      <th>campus</th>\n",
       "      <th>charter_encoded</th>\n",
       "      <th>student_enrollment</th>\n",
       "      <th>discipline_count</th>\n",
       "      <th>discipline_percent</th>\n",
       "    </tr>\n",
       "  </thead>\n",
       "  <tbody>\n",
       "    <tr>\n",
       "      <th>0</th>\n",
       "      <td>CAYUGA H S 001902001</td>\n",
       "      <td>0</td>\n",
       "      <td>173.0</td>\n",
       "      <td>37.0</td>\n",
       "      <td>21.0</td>\n",
       "    </tr>\n",
       "    <tr>\n",
       "      <th>1</th>\n",
       "      <td>ELKHART H S 001903001</td>\n",
       "      <td>0</td>\n",
       "      <td>335.0</td>\n",
       "      <td>141.0</td>\n",
       "      <td>42.0</td>\n",
       "    </tr>\n",
       "    <tr>\n",
       "      <th>2</th>\n",
       "      <td>ELKHART MIDDLE 001903041</td>\n",
       "      <td>0</td>\n",
       "      <td>309.0</td>\n",
       "      <td>65.0</td>\n",
       "      <td>21.0</td>\n",
       "    </tr>\n",
       "    <tr>\n",
       "      <th>3</th>\n",
       "      <td>ELKHART INT 001903102</td>\n",
       "      <td>0</td>\n",
       "      <td>295.0</td>\n",
       "      <td>40.0</td>\n",
       "      <td>14.0</td>\n",
       "    </tr>\n",
       "    <tr>\n",
       "      <th>4</th>\n",
       "      <td>FRANKSTON H S 001904001</td>\n",
       "      <td>0</td>\n",
       "      <td>248.0</td>\n",
       "      <td>101.0</td>\n",
       "      <td>41.0</td>\n",
       "    </tr>\n",
       "  </tbody>\n",
       "</table>\n",
       "</div>"
      ],
      "text/plain": [
       "                     campus  charter_encoded  student_enrollment  \\\n",
       "0      CAYUGA H S 001902001                0               173.0   \n",
       "1     ELKHART H S 001903001                0               335.0   \n",
       "2  ELKHART MIDDLE 001903041                0               309.0   \n",
       "3     ELKHART INT 001903102                0               295.0   \n",
       "4   FRANKSTON H S 001904001                0               248.0   \n",
       "\n",
       "   discipline_count  discipline_percent  \n",
       "0              37.0                21.0  \n",
       "1             141.0                42.0  \n",
       "2              65.0                21.0  \n",
       "3              40.0                14.0  \n",
       "4             101.0                41.0  "
      ]
     },
     "execution_count": 10,
     "metadata": {},
     "output_type": "execute_result"
    }
   ],
   "source": [
    "df22.head()"
   ]
  },
  {
   "cell_type": "code",
   "execution_count": 11,
   "id": "14e7af54",
   "metadata": {},
   "outputs": [],
   "source": [
    "def prep21(df):\n",
    "    global df21\n",
    "    df21['charter_encoded'] = df21.charter_status.map({'OPEN ENROLLMENT CHARTER': 1, 'TRADITIONAL ISD/CSD':0})\n",
    "    df21=df21[(df21.heading == 'A01') | (df21.heading ==  'A03')]\n",
    "    df21=df21[df21['student_count'] != '-999']\n",
    "    df21['student_count']= df21['student_count'].str.replace(\"<\", \"\")\n",
    "    df21['student_count'] = df21['student_count'].astype(float)\n",
    "    dfpivot=df21.pivot(index='campus_number', columns='heading', values= 'student_count').dropna()\n",
    "    df21=df21.merge(dfpivot,how= 'right', on= 'campus_number')\n",
    "    df21=df21.rename(columns={'A01': 'student_enrollment', 'A03':'discipline_count'})\n",
    "    df21['discipline_percent']= ((df21['discipline_count']/df21['student_enrollment'])*100)\n",
    "    df21=df21.round({'discipline_percent': 0})\n",
    "    df21=df21.drop(columns=['agg_level', 'campus_number', 'region', 'charter_status', 'dist_name_num', 'student_count','section', 'heading', 'heading_name', 'student_count'])\n",
    "    df21=df21.drop_duplicates()\n",
    "    df21=df21.reset_index(drop=True)"
   ]
  },
  {
   "cell_type": "code",
   "execution_count": 12,
   "id": "f9a6227f",
   "metadata": {},
   "outputs": [],
   "source": [
    "prep21(df21)"
   ]
  },
  {
   "cell_type": "code",
   "execution_count": 13,
   "id": "aba76229",
   "metadata": {},
   "outputs": [
    {
     "data": {
      "text/html": [
       "<div>\n",
       "<style scoped>\n",
       "    .dataframe tbody tr th:only-of-type {\n",
       "        vertical-align: middle;\n",
       "    }\n",
       "\n",
       "    .dataframe tbody tr th {\n",
       "        vertical-align: top;\n",
       "    }\n",
       "\n",
       "    .dataframe thead th {\n",
       "        text-align: right;\n",
       "    }\n",
       "</style>\n",
       "<table border=\"1\" class=\"dataframe\">\n",
       "  <thead>\n",
       "    <tr style=\"text-align: right;\">\n",
       "      <th></th>\n",
       "      <th>campus</th>\n",
       "      <th>charter_encoded</th>\n",
       "      <th>student_enrollment</th>\n",
       "      <th>discipline_count</th>\n",
       "      <th>discipline_percent</th>\n",
       "    </tr>\n",
       "  </thead>\n",
       "  <tbody>\n",
       "    <tr>\n",
       "      <th>0</th>\n",
       "      <td>CAYUGA H S 001902001</td>\n",
       "      <td>0</td>\n",
       "      <td>175.0</td>\n",
       "      <td>43.0</td>\n",
       "      <td>25.0</td>\n",
       "    </tr>\n",
       "    <tr>\n",
       "      <th>1</th>\n",
       "      <td>ELKHART H S 001903001</td>\n",
       "      <td>0</td>\n",
       "      <td>371.0</td>\n",
       "      <td>70.0</td>\n",
       "      <td>19.0</td>\n",
       "    </tr>\n",
       "    <tr>\n",
       "      <th>2</th>\n",
       "      <td>ELKHART MIDDLE 001903041</td>\n",
       "      <td>0</td>\n",
       "      <td>289.0</td>\n",
       "      <td>74.0</td>\n",
       "      <td>26.0</td>\n",
       "    </tr>\n",
       "    <tr>\n",
       "      <th>3</th>\n",
       "      <td>FRANKSTON H S 001904001</td>\n",
       "      <td>0</td>\n",
       "      <td>240.0</td>\n",
       "      <td>44.0</td>\n",
       "      <td>18.0</td>\n",
       "    </tr>\n",
       "    <tr>\n",
       "      <th>4</th>\n",
       "      <td>PALESTINE H S 001907001</td>\n",
       "      <td>0</td>\n",
       "      <td>1088.0</td>\n",
       "      <td>380.0</td>\n",
       "      <td>35.0</td>\n",
       "    </tr>\n",
       "  </tbody>\n",
       "</table>\n",
       "</div>"
      ],
      "text/plain": [
       "                     campus  charter_encoded  student_enrollment  \\\n",
       "0      CAYUGA H S 001902001                0               175.0   \n",
       "1     ELKHART H S 001903001                0               371.0   \n",
       "2  ELKHART MIDDLE 001903041                0               289.0   \n",
       "3   FRANKSTON H S 001904001                0               240.0   \n",
       "4   PALESTINE H S 001907001                0              1088.0   \n",
       "\n",
       "   discipline_count  discipline_percent  \n",
       "0              43.0                25.0  \n",
       "1              70.0                19.0  \n",
       "2              74.0                26.0  \n",
       "3              44.0                18.0  \n",
       "4             380.0                35.0  "
      ]
     },
     "execution_count": 13,
     "metadata": {},
     "output_type": "execute_result"
    }
   ],
   "source": [
    "df21.head()"
   ]
  },
  {
   "cell_type": "code",
   "execution_count": 14,
   "id": "5873e396",
   "metadata": {},
   "outputs": [],
   "source": [
    "def prep20(df):\n",
    "    global df20\n",
    "    df20['charter_encoded'] = df20.charter_status.map({'OPEN ENROLLMENT CHARTER': 1, 'TRADITIONAL ISD/CSD':0})\n",
    "    df20=df20[(df20.heading == 'A01') | (df20.heading ==  'A03')]\n",
    "    df20=df20[df20['student_count'] != '-999']\n",
    "    df20['student_count']= df20['student_count'].str.replace(\"<\", \"\")\n",
    "    df20['student_count'] = df20['student_count'].astype(float)\n",
    "    dfpivot=df20.pivot(index='campus_number', columns='heading', values= 'student_count').dropna()\n",
    "    df20=df20.merge(dfpivot,how= 'right', on= 'campus_number')\n",
    "    df20=df20.rename(columns={'A01': 'student_enrollment', 'A03':'discipline_count'})\n",
    "    df20['discipline_percent']= ((df20['discipline_count']/df20['student_enrollment'])*100)\n",
    "    df20=df20.round({'discipline_percent': 0})\n",
    "    df20=df20.drop(columns=['agg_level', 'campus_number', 'region', 'charter_status', 'dist_name_num', 'student_count','section', 'heading', 'heading_name', 'student_count'])\n",
    "    df20=df20.drop_duplicates()\n",
    "    df20=df20.reset_index(drop=True)"
   ]
  },
  {
   "cell_type": "code",
   "execution_count": 15,
   "id": "69b9963c",
   "metadata": {},
   "outputs": [],
   "source": [
    "prep20(df20)"
   ]
  },
  {
   "cell_type": "code",
   "execution_count": 16,
   "id": "54504612",
   "metadata": {},
   "outputs": [
    {
     "data": {
      "text/html": [
       "<div>\n",
       "<style scoped>\n",
       "    .dataframe tbody tr th:only-of-type {\n",
       "        vertical-align: middle;\n",
       "    }\n",
       "\n",
       "    .dataframe tbody tr th {\n",
       "        vertical-align: top;\n",
       "    }\n",
       "\n",
       "    .dataframe thead th {\n",
       "        text-align: right;\n",
       "    }\n",
       "</style>\n",
       "<table border=\"1\" class=\"dataframe\">\n",
       "  <thead>\n",
       "    <tr style=\"text-align: right;\">\n",
       "      <th></th>\n",
       "      <th>campus</th>\n",
       "      <th>charter_encoded</th>\n",
       "      <th>student_enrollment</th>\n",
       "      <th>discipline_count</th>\n",
       "      <th>discipline_percent</th>\n",
       "    </tr>\n",
       "  </thead>\n",
       "  <tbody>\n",
       "    <tr>\n",
       "      <th>0</th>\n",
       "      <td>CAYUGA H S 001902001</td>\n",
       "      <td>0</td>\n",
       "      <td>186.0</td>\n",
       "      <td>57.0</td>\n",
       "      <td>31.0</td>\n",
       "    </tr>\n",
       "    <tr>\n",
       "      <th>1</th>\n",
       "      <td>ELKHART H S 001903001</td>\n",
       "      <td>0</td>\n",
       "      <td>409.0</td>\n",
       "      <td>188.0</td>\n",
       "      <td>46.0</td>\n",
       "    </tr>\n",
       "    <tr>\n",
       "      <th>2</th>\n",
       "      <td>ELKHART MIDDLE 001903041</td>\n",
       "      <td>0</td>\n",
       "      <td>283.0</td>\n",
       "      <td>49.0</td>\n",
       "      <td>17.0</td>\n",
       "    </tr>\n",
       "    <tr>\n",
       "      <th>3</th>\n",
       "      <td>FRANKSTON H S 001904001</td>\n",
       "      <td>0</td>\n",
       "      <td>251.0</td>\n",
       "      <td>16.0</td>\n",
       "      <td>6.0</td>\n",
       "    </tr>\n",
       "    <tr>\n",
       "      <th>4</th>\n",
       "      <td>FRANKSTON MIDDLE 001904041</td>\n",
       "      <td>0</td>\n",
       "      <td>197.0</td>\n",
       "      <td>15.0</td>\n",
       "      <td>8.0</td>\n",
       "    </tr>\n",
       "  </tbody>\n",
       "</table>\n",
       "</div>"
      ],
      "text/plain": [
       "                       campus  charter_encoded  student_enrollment  \\\n",
       "0        CAYUGA H S 001902001                0               186.0   \n",
       "1       ELKHART H S 001903001                0               409.0   \n",
       "2    ELKHART MIDDLE 001903041                0               283.0   \n",
       "3     FRANKSTON H S 001904001                0               251.0   \n",
       "4  FRANKSTON MIDDLE 001904041                0               197.0   \n",
       "\n",
       "   discipline_count  discipline_percent  \n",
       "0              57.0                31.0  \n",
       "1             188.0                46.0  \n",
       "2              49.0                17.0  \n",
       "3              16.0                 6.0  \n",
       "4              15.0                 8.0  "
      ]
     },
     "execution_count": 16,
     "metadata": {},
     "output_type": "execute_result"
    }
   ],
   "source": [
    "df20.head()"
   ]
  },
  {
   "cell_type": "code",
   "execution_count": 17,
   "id": "753eb379",
   "metadata": {},
   "outputs": [],
   "source": [
    "def prep19(df):\n",
    "    global df19\n",
    "    df19['charter_encoded'] = df19.charter_status.map({'OPEN ENROLLMENT CHARTER': 1, 'TRADITIONAL ISD/CSD':0})\n",
    "    df19=df19[(df19.heading == 'A01') | (df19.heading ==  'A03')]\n",
    "    df19=df19[df19['student_count'] != '-999']\n",
    "    df19['student_count']= df19['student_count'].str.replace(\"<\", \"\")\n",
    "    df19['student_count'] = df19['student_count'].astype(float)\n",
    "    dfpivot=df19.pivot(index='campus_number', columns='heading', values= 'student_count').dropna()\n",
    "    df19=df19.merge(dfpivot,how= 'right', on= 'campus_number')\n",
    "    df19=df19.rename(columns={'A01': 'student_enrollment', 'A03':'discipline_count'})\n",
    "    df19['discipline_percent']= ((df19['discipline_count']/df19['student_enrollment'])*100)\n",
    "    df19=df19.round({'discipline_percent': 0})\n",
    "    df19=df19.drop(columns=['agg_level', 'campus_number', 'region', 'charter_status', 'dist_name_num', 'student_count','section', 'heading', 'heading_name', 'student_count'])\n",
    "    df19=df19.drop_duplicates()\n",
    "    df19=df19.reset_index(drop=True)"
   ]
  },
  {
   "cell_type": "code",
   "execution_count": 18,
   "id": "3a397736",
   "metadata": {},
   "outputs": [],
   "source": [
    "prep19(df19)"
   ]
  },
  {
   "cell_type": "code",
   "execution_count": 19,
   "id": "4a505ae9",
   "metadata": {},
   "outputs": [
    {
     "data": {
      "text/html": [
       "<div>\n",
       "<style scoped>\n",
       "    .dataframe tbody tr th:only-of-type {\n",
       "        vertical-align: middle;\n",
       "    }\n",
       "\n",
       "    .dataframe tbody tr th {\n",
       "        vertical-align: top;\n",
       "    }\n",
       "\n",
       "    .dataframe thead th {\n",
       "        text-align: right;\n",
       "    }\n",
       "</style>\n",
       "<table border=\"1\" class=\"dataframe\">\n",
       "  <thead>\n",
       "    <tr style=\"text-align: right;\">\n",
       "      <th></th>\n",
       "      <th>campus</th>\n",
       "      <th>charter_encoded</th>\n",
       "      <th>student_enrollment</th>\n",
       "      <th>discipline_count</th>\n",
       "      <th>discipline_percent</th>\n",
       "    </tr>\n",
       "  </thead>\n",
       "  <tbody>\n",
       "    <tr>\n",
       "      <th>0</th>\n",
       "      <td>CAYUGA H S 001902001</td>\n",
       "      <td>0</td>\n",
       "      <td>192.0</td>\n",
       "      <td>65.0</td>\n",
       "      <td>34.0</td>\n",
       "    </tr>\n",
       "    <tr>\n",
       "      <th>1</th>\n",
       "      <td>ELKHART H S 001903001</td>\n",
       "      <td>0</td>\n",
       "      <td>421.0</td>\n",
       "      <td>205.0</td>\n",
       "      <td>49.0</td>\n",
       "    </tr>\n",
       "    <tr>\n",
       "      <th>2</th>\n",
       "      <td>ELKHART MIDDLE 001903041</td>\n",
       "      <td>0</td>\n",
       "      <td>288.0</td>\n",
       "      <td>156.0</td>\n",
       "      <td>54.0</td>\n",
       "    </tr>\n",
       "    <tr>\n",
       "      <th>3</th>\n",
       "      <td>ELKHART EL 001903101</td>\n",
       "      <td>0</td>\n",
       "      <td>367.0</td>\n",
       "      <td>20.0</td>\n",
       "      <td>5.0</td>\n",
       "    </tr>\n",
       "    <tr>\n",
       "      <th>4</th>\n",
       "      <td>ELKHART INT 001903102</td>\n",
       "      <td>0</td>\n",
       "      <td>296.0</td>\n",
       "      <td>157.0</td>\n",
       "      <td>53.0</td>\n",
       "    </tr>\n",
       "  </tbody>\n",
       "</table>\n",
       "</div>"
      ],
      "text/plain": [
       "                     campus  charter_encoded  student_enrollment  \\\n",
       "0      CAYUGA H S 001902001                0               192.0   \n",
       "1     ELKHART H S 001903001                0               421.0   \n",
       "2  ELKHART MIDDLE 001903041                0               288.0   \n",
       "3      ELKHART EL 001903101                0               367.0   \n",
       "4     ELKHART INT 001903102                0               296.0   \n",
       "\n",
       "   discipline_count  discipline_percent  \n",
       "0              65.0                34.0  \n",
       "1             205.0                49.0  \n",
       "2             156.0                54.0  \n",
       "3              20.0                 5.0  \n",
       "4             157.0                53.0  "
      ]
     },
     "execution_count": 19,
     "metadata": {},
     "output_type": "execute_result"
    }
   ],
   "source": [
    "df19.head()"
   ]
  },
  {
   "cell_type": "code",
   "execution_count": 20,
   "id": "5a0cfa2a",
   "metadata": {},
   "outputs": [],
   "source": [
    "def prep18(df):\n",
    "    global df18\n",
    "    df18['charter_encoded'] = df18.charter_status.map({'OPEN ENROLLMENT CHARTER': 1, 'TRADITIONAL ISD/CSD':0})\n",
    "    df18=df18[(df18.heading == 'A01') | (df18.heading ==  'A03')]\n",
    "    df18=df18[df18['student_count'] != '-999']\n",
    "    df18['student_count']= df18['student_count'].str.replace(\"<\", \"\")\n",
    "    df18['student_count'] = df18['student_count'].astype(float)\n",
    "    dfpivot=df18.pivot(index='campus_number', columns='heading', values= 'student_count').dropna()\n",
    "    df18=df18.merge(dfpivot,how= 'right', on= 'campus_number')\n",
    "    df18=df18.rename(columns={'A01': 'student_enrollment', 'A03':'discipline_count'})\n",
    "    df18['discipline_percent']= ((df18['discipline_count']/df18['student_enrollment'])*100)\n",
    "    df18=df18.round({'discipline_percent': 0})\n",
    "    df18=df18.drop(columns=['agg_level', 'campus_number', 'region', 'charter_status', 'dist_name_num', 'student_count','section', 'heading', 'heading_name', 'student_count'])\n",
    "    df18=df18.drop_duplicates()\n",
    "    df18=df18.reset_index(drop=True)"
   ]
  },
  {
   "cell_type": "code",
   "execution_count": 21,
   "id": "42935604",
   "metadata": {},
   "outputs": [],
   "source": [
    "prep18(df18)"
   ]
  },
  {
   "cell_type": "code",
   "execution_count": 22,
   "id": "6cda149f",
   "metadata": {},
   "outputs": [
    {
     "data": {
      "text/html": [
       "<div>\n",
       "<style scoped>\n",
       "    .dataframe tbody tr th:only-of-type {\n",
       "        vertical-align: middle;\n",
       "    }\n",
       "\n",
       "    .dataframe tbody tr th {\n",
       "        vertical-align: top;\n",
       "    }\n",
       "\n",
       "    .dataframe thead th {\n",
       "        text-align: right;\n",
       "    }\n",
       "</style>\n",
       "<table border=\"1\" class=\"dataframe\">\n",
       "  <thead>\n",
       "    <tr style=\"text-align: right;\">\n",
       "      <th></th>\n",
       "      <th>campus</th>\n",
       "      <th>charter_encoded</th>\n",
       "      <th>student_enrollment</th>\n",
       "      <th>discipline_count</th>\n",
       "      <th>discipline_percent</th>\n",
       "    </tr>\n",
       "  </thead>\n",
       "  <tbody>\n",
       "    <tr>\n",
       "      <th>0</th>\n",
       "      <td>CAYUGA MIDDLE 001902041</td>\n",
       "      <td>0</td>\n",
       "      <td>155.0</td>\n",
       "      <td>38.0</td>\n",
       "      <td>25.0</td>\n",
       "    </tr>\n",
       "    <tr>\n",
       "      <th>1</th>\n",
       "      <td>ELKHART H S 001903001</td>\n",
       "      <td>0</td>\n",
       "      <td>411.0</td>\n",
       "      <td>205.0</td>\n",
       "      <td>50.0</td>\n",
       "    </tr>\n",
       "    <tr>\n",
       "      <th>2</th>\n",
       "      <td>ELKHART MIDDLE 001903041</td>\n",
       "      <td>0</td>\n",
       "      <td>298.0</td>\n",
       "      <td>151.0</td>\n",
       "      <td>51.0</td>\n",
       "    </tr>\n",
       "    <tr>\n",
       "      <th>3</th>\n",
       "      <td>ELKHART EL 001903101</td>\n",
       "      <td>0</td>\n",
       "      <td>379.0</td>\n",
       "      <td>11.0</td>\n",
       "      <td>3.0</td>\n",
       "    </tr>\n",
       "    <tr>\n",
       "      <th>4</th>\n",
       "      <td>ELKHART INT 001903102</td>\n",
       "      <td>0</td>\n",
       "      <td>276.0</td>\n",
       "      <td>151.0</td>\n",
       "      <td>55.0</td>\n",
       "    </tr>\n",
       "  </tbody>\n",
       "</table>\n",
       "</div>"
      ],
      "text/plain": [
       "                     campus  charter_encoded  student_enrollment  \\\n",
       "0   CAYUGA MIDDLE 001902041                0               155.0   \n",
       "1     ELKHART H S 001903001                0               411.0   \n",
       "2  ELKHART MIDDLE 001903041                0               298.0   \n",
       "3      ELKHART EL 001903101                0               379.0   \n",
       "4     ELKHART INT 001903102                0               276.0   \n",
       "\n",
       "   discipline_count  discipline_percent  \n",
       "0              38.0                25.0  \n",
       "1             205.0                50.0  \n",
       "2             151.0                51.0  \n",
       "3              11.0                 3.0  \n",
       "4             151.0                55.0  "
      ]
     },
     "execution_count": 22,
     "metadata": {},
     "output_type": "execute_result"
    }
   ],
   "source": [
    "df18.head()"
   ]
  },
  {
   "cell_type": "code",
   "execution_count": 23,
   "id": "9dbf613f",
   "metadata": {},
   "outputs": [],
   "source": [
    "def df_combine(a,b,c,d,e):\n",
    "    df=pd.concat([df18,df19,df20,df21,df22], ignore_index=True)\n",
    "    return(df)"
   ]
  },
  {
   "cell_type": "code",
   "execution_count": 24,
   "id": "d7fbadc5",
   "metadata": {},
   "outputs": [],
   "source": [
    "df=df_combine(df18,df19,df20,df21,df22)"
   ]
  },
  {
   "cell_type": "code",
   "execution_count": 25,
   "id": "0a291573",
   "metadata": {},
   "outputs": [
    {
     "data": {
      "text/html": [
       "<div>\n",
       "<style scoped>\n",
       "    .dataframe tbody tr th:only-of-type {\n",
       "        vertical-align: middle;\n",
       "    }\n",
       "\n",
       "    .dataframe tbody tr th {\n",
       "        vertical-align: top;\n",
       "    }\n",
       "\n",
       "    .dataframe thead th {\n",
       "        text-align: right;\n",
       "    }\n",
       "</style>\n",
       "<table border=\"1\" class=\"dataframe\">\n",
       "  <thead>\n",
       "    <tr style=\"text-align: right;\">\n",
       "      <th></th>\n",
       "      <th>campus</th>\n",
       "      <th>charter_encoded</th>\n",
       "      <th>student_enrollment</th>\n",
       "      <th>discipline_count</th>\n",
       "      <th>discipline_percent</th>\n",
       "    </tr>\n",
       "  </thead>\n",
       "  <tbody>\n",
       "    <tr>\n",
       "      <th>0</th>\n",
       "      <td>CAYUGA MIDDLE 001902041</td>\n",
       "      <td>0</td>\n",
       "      <td>155.0</td>\n",
       "      <td>38.0</td>\n",
       "      <td>25.0</td>\n",
       "    </tr>\n",
       "    <tr>\n",
       "      <th>1</th>\n",
       "      <td>ELKHART H S 001903001</td>\n",
       "      <td>0</td>\n",
       "      <td>411.0</td>\n",
       "      <td>205.0</td>\n",
       "      <td>50.0</td>\n",
       "    </tr>\n",
       "    <tr>\n",
       "      <th>2</th>\n",
       "      <td>ELKHART MIDDLE 001903041</td>\n",
       "      <td>0</td>\n",
       "      <td>298.0</td>\n",
       "      <td>151.0</td>\n",
       "      <td>51.0</td>\n",
       "    </tr>\n",
       "    <tr>\n",
       "      <th>3</th>\n",
       "      <td>ELKHART EL 001903101</td>\n",
       "      <td>0</td>\n",
       "      <td>379.0</td>\n",
       "      <td>11.0</td>\n",
       "      <td>3.0</td>\n",
       "    </tr>\n",
       "    <tr>\n",
       "      <th>4</th>\n",
       "      <td>ELKHART INT 001903102</td>\n",
       "      <td>0</td>\n",
       "      <td>276.0</td>\n",
       "      <td>151.0</td>\n",
       "      <td>55.0</td>\n",
       "    </tr>\n",
       "  </tbody>\n",
       "</table>\n",
       "</div>"
      ],
      "text/plain": [
       "                     campus  charter_encoded  student_enrollment  \\\n",
       "0   CAYUGA MIDDLE 001902041                0               155.0   \n",
       "1     ELKHART H S 001903001                0               411.0   \n",
       "2  ELKHART MIDDLE 001903041                0               298.0   \n",
       "3      ELKHART EL 001903101                0               379.0   \n",
       "4     ELKHART INT 001903102                0               276.0   \n",
       "\n",
       "   discipline_count  discipline_percent  \n",
       "0              38.0                25.0  \n",
       "1             205.0                50.0  \n",
       "2             151.0                51.0  \n",
       "3              11.0                 3.0  \n",
       "4             151.0                55.0  "
      ]
     },
     "execution_count": 25,
     "metadata": {},
     "output_type": "execute_result"
    }
   ],
   "source": [
    "df.head()"
   ]
  },
  {
   "cell_type": "code",
   "execution_count": 26,
   "id": "9cf96207",
   "metadata": {},
   "outputs": [],
   "source": [
    "def split_tea_data(df):\n",
    "    '''\n",
    "    This function performs split on tea data, stratify charter_encoded.\n",
    "    Returns train, validate, and test dfs.\n",
    "    '''\n",
    "    train_validate, test = train_test_split(df, test_size=.2, \n",
    "                                        random_state=123, \n",
    "                                        stratify=df.charter_encoded)\n",
    "    train, validate = train_test_split(train_validate, test_size=.3, \n",
    "                                   random_state=123, \n",
    "                                   stratify=train_validate.charter_encoded)\n",
    "    return train, validate, test"
   ]
  },
  {
   "cell_type": "code",
   "execution_count": 27,
   "id": "e970cfba",
   "metadata": {},
   "outputs": [],
   "source": [
    "train, validate, test=split_tea_data(df)"
   ]
  },
  {
   "cell_type": "code",
   "execution_count": 28,
   "id": "45f9e728",
   "metadata": {},
   "outputs": [
    {
     "data": {
      "text/html": [
       "<div>\n",
       "<style scoped>\n",
       "    .dataframe tbody tr th:only-of-type {\n",
       "        vertical-align: middle;\n",
       "    }\n",
       "\n",
       "    .dataframe tbody tr th {\n",
       "        vertical-align: top;\n",
       "    }\n",
       "\n",
       "    .dataframe thead th {\n",
       "        text-align: right;\n",
       "    }\n",
       "</style>\n",
       "<table border=\"1\" class=\"dataframe\">\n",
       "  <thead>\n",
       "    <tr style=\"text-align: right;\">\n",
       "      <th></th>\n",
       "      <th>campus</th>\n",
       "      <th>charter_encoded</th>\n",
       "      <th>student_enrollment</th>\n",
       "      <th>discipline_count</th>\n",
       "      <th>discipline_percent</th>\n",
       "    </tr>\n",
       "  </thead>\n",
       "  <tbody>\n",
       "    <tr>\n",
       "      <th>14461</th>\n",
       "      <td>IRVIN H S 071902008</td>\n",
       "      <td>0</td>\n",
       "      <td>1300.0</td>\n",
       "      <td>159.0</td>\n",
       "      <td>12.0</td>\n",
       "    </tr>\n",
       "    <tr>\n",
       "      <th>15829</th>\n",
       "      <td>VETERANS MIDDLE 108902046</td>\n",
       "      <td>0</td>\n",
       "      <td>949.0</td>\n",
       "      <td>1163.0</td>\n",
       "      <td>123.0</td>\n",
       "    </tr>\n",
       "    <tr>\n",
       "      <th>21119</th>\n",
       "      <td>LORENA HIGH 161907001</td>\n",
       "      <td>0</td>\n",
       "      <td>530.0</td>\n",
       "      <td>71.0</td>\n",
       "      <td>13.0</td>\n",
       "    </tr>\n",
       "    <tr>\n",
       "      <th>9136</th>\n",
       "      <td>TIPPS EL 101907141</td>\n",
       "      <td>0</td>\n",
       "      <td>1022.0</td>\n",
       "      <td>120.0</td>\n",
       "      <td>12.0</td>\n",
       "    </tr>\n",
       "    <tr>\n",
       "      <th>13930</th>\n",
       "      <td>YOUNG WOMEN'S STEAM ACADEMY AT BAL 057905352</td>\n",
       "      <td>0</td>\n",
       "      <td>1290.0</td>\n",
       "      <td>97.0</td>\n",
       "      <td>8.0</td>\n",
       "    </tr>\n",
       "  </tbody>\n",
       "</table>\n",
       "</div>"
      ],
      "text/plain": [
       "                                             campus  charter_encoded  \\\n",
       "14461                           IRVIN H S 071902008                0   \n",
       "15829                     VETERANS MIDDLE 108902046                0   \n",
       "21119                         LORENA HIGH 161907001                0   \n",
       "9136                             TIPPS EL 101907141                0   \n",
       "13930  YOUNG WOMEN'S STEAM ACADEMY AT BAL 057905352                0   \n",
       "\n",
       "       student_enrollment  discipline_count  discipline_percent  \n",
       "14461              1300.0             159.0                12.0  \n",
       "15829               949.0            1163.0               123.0  \n",
       "21119               530.0              71.0                13.0  \n",
       "9136               1022.0             120.0                12.0  \n",
       "13930              1290.0              97.0                 8.0  "
      ]
     },
     "execution_count": 28,
     "metadata": {},
     "output_type": "execute_result"
    }
   ],
   "source": [
    "train.head()"
   ]
  },
  {
   "cell_type": "code",
   "execution_count": 29,
   "id": "9b125ab7",
   "metadata": {},
   "outputs": [
    {
     "data": {
      "text/plain": [
       "(15918, 5)"
      ]
     },
     "execution_count": 29,
     "metadata": {},
     "output_type": "execute_result"
    }
   ],
   "source": [
    "train.shape"
   ]
  },
  {
   "cell_type": "code",
   "execution_count": 30,
   "id": "4274ea1e",
   "metadata": {},
   "outputs": [
    {
     "data": {
      "text/plain": [
       "(6822, 5)"
      ]
     },
     "execution_count": 30,
     "metadata": {},
     "output_type": "execute_result"
    }
   ],
   "source": [
    "validate.shape"
   ]
  },
  {
   "cell_type": "code",
   "execution_count": 31,
   "id": "26a2462e",
   "metadata": {},
   "outputs": [
    {
     "data": {
      "text/plain": [
       "(5686, 5)"
      ]
     },
     "execution_count": 31,
     "metadata": {},
     "output_type": "execute_result"
    }
   ],
   "source": [
    "test.shape"
   ]
  },
  {
   "cell_type": "code",
   "execution_count": 32,
   "id": "1aa51738",
   "metadata": {},
   "outputs": [
    {
     "name": "stdout",
     "output_type": "stream",
     "text": [
      "<class 'pandas.core.frame.DataFrame'>\n",
      "Int64Index: 15918 entries, 14461 to 12928\n",
      "Data columns (total 5 columns):\n",
      " #   Column              Non-Null Count  Dtype  \n",
      "---  ------              --------------  -----  \n",
      " 0   campus              15918 non-null  object \n",
      " 1   charter_encoded     15918 non-null  int64  \n",
      " 2   student_enrollment  15918 non-null  float64\n",
      " 3   discipline_count    15918 non-null  float64\n",
      " 4   discipline_percent  15918 non-null  float64\n",
      "dtypes: float64(3), int64(1), object(1)\n",
      "memory usage: 746.2+ KB\n"
     ]
    }
   ],
   "source": [
    "train.info()"
   ]
  },
  {
   "cell_type": "code",
   "execution_count": 33,
   "id": "67734de3",
   "metadata": {},
   "outputs": [
    {
     "data": {
      "text/html": [
       "<div>\n",
       "<style scoped>\n",
       "    .dataframe tbody tr th:only-of-type {\n",
       "        vertical-align: middle;\n",
       "    }\n",
       "\n",
       "    .dataframe tbody tr th {\n",
       "        vertical-align: top;\n",
       "    }\n",
       "\n",
       "    .dataframe thead th {\n",
       "        text-align: right;\n",
       "    }\n",
       "</style>\n",
       "<table border=\"1\" class=\"dataframe\">\n",
       "  <thead>\n",
       "    <tr style=\"text-align: right;\">\n",
       "      <th></th>\n",
       "      <th>charter_encoded</th>\n",
       "      <th>student_enrollment</th>\n",
       "      <th>discipline_count</th>\n",
       "      <th>discipline_percent</th>\n",
       "    </tr>\n",
       "  </thead>\n",
       "  <tbody>\n",
       "    <tr>\n",
       "      <th>count</th>\n",
       "      <td>15918.000000</td>\n",
       "      <td>15918.000000</td>\n",
       "      <td>15918.000000</td>\n",
       "      <td>15918.000000</td>\n",
       "    </tr>\n",
       "    <tr>\n",
       "      <th>mean</th>\n",
       "      <td>0.061440</td>\n",
       "      <td>791.996859</td>\n",
       "      <td>222.924676</td>\n",
       "      <td>25.205491</td>\n",
       "    </tr>\n",
       "    <tr>\n",
       "      <th>std</th>\n",
       "      <td>0.240143</td>\n",
       "      <td>613.691952</td>\n",
       "      <td>374.960071</td>\n",
       "      <td>30.315431</td>\n",
       "    </tr>\n",
       "    <tr>\n",
       "      <th>min</th>\n",
       "      <td>0.000000</td>\n",
       "      <td>10.000000</td>\n",
       "      <td>10.000000</td>\n",
       "      <td>0.000000</td>\n",
       "    </tr>\n",
       "    <tr>\n",
       "      <th>25%</th>\n",
       "      <td>0.000000</td>\n",
       "      <td>437.000000</td>\n",
       "      <td>29.000000</td>\n",
       "      <td>6.000000</td>\n",
       "    </tr>\n",
       "    <tr>\n",
       "      <th>50%</th>\n",
       "      <td>0.000000</td>\n",
       "      <td>645.000000</td>\n",
       "      <td>72.000000</td>\n",
       "      <td>14.000000</td>\n",
       "    </tr>\n",
       "    <tr>\n",
       "      <th>75%</th>\n",
       "      <td>0.000000</td>\n",
       "      <td>904.000000</td>\n",
       "      <td>238.000000</td>\n",
       "      <td>34.000000</td>\n",
       "    </tr>\n",
       "    <tr>\n",
       "      <th>max</th>\n",
       "      <td>1.000000</td>\n",
       "      <td>5529.000000</td>\n",
       "      <td>4593.000000</td>\n",
       "      <td>554.000000</td>\n",
       "    </tr>\n",
       "  </tbody>\n",
       "</table>\n",
       "</div>"
      ],
      "text/plain": [
       "       charter_encoded  student_enrollment  discipline_count  \\\n",
       "count     15918.000000        15918.000000      15918.000000   \n",
       "mean          0.061440          791.996859        222.924676   \n",
       "std           0.240143          613.691952        374.960071   \n",
       "min           0.000000           10.000000         10.000000   \n",
       "25%           0.000000          437.000000         29.000000   \n",
       "50%           0.000000          645.000000         72.000000   \n",
       "75%           0.000000          904.000000        238.000000   \n",
       "max           1.000000         5529.000000       4593.000000   \n",
       "\n",
       "       discipline_percent  \n",
       "count        15918.000000  \n",
       "mean            25.205491  \n",
       "std             30.315431  \n",
       "min              0.000000  \n",
       "25%              6.000000  \n",
       "50%             14.000000  \n",
       "75%             34.000000  \n",
       "max            554.000000  "
      ]
     },
     "execution_count": 33,
     "metadata": {},
     "output_type": "execute_result"
    }
   ],
   "source": [
    "train.describe()"
   ]
  },
  {
   "cell_type": "code",
   "execution_count": 34,
   "id": "78fb1a20",
   "metadata": {},
   "outputs": [
    {
     "data": {
      "text/plain": [
       "Index(['campus', 'charter_encoded', 'student_enrollment', 'discipline_count',\n",
       "       'discipline_percent'],\n",
       "      dtype='object')"
      ]
     },
     "execution_count": 34,
     "metadata": {},
     "output_type": "execute_result"
    }
   ],
   "source": [
    "train.columns"
   ]
  },
  {
   "cell_type": "code",
   "execution_count": 35,
   "id": "35d02f39",
   "metadata": {},
   "outputs": [
    {
     "data": {
      "text/plain": [
       "<seaborn.axisgrid.PairGrid at 0x16271b400>"
      ]
     },
     "execution_count": 35,
     "metadata": {},
     "output_type": "execute_result"
    },
    {
     "data": {
      "image/png": "[encoded data removed]",
      "text/plain": [
       "<Figure size 720x720 with 14 Axes>"
      ]
     },
     "metadata": {
      "needs_background": "light"
     },
     "output_type": "display_data"
    }
   ],
   "source": [
    "sns.pairplot(data=train, kind=\"reg\", corner=True)"
   ]
  },
  {
   "cell_type": "code",
   "execution_count": 36,
   "id": "44d7977b",
   "metadata": {},
   "outputs": [],
   "source": [
    "num_vars = ['student_enrollment', 'discipline_count' 'discipline_percent']\n",
    "cat_vars = ['campus', 'charter_encoded']"
   ]
  },
  {
   "cell_type": "code",
   "execution_count": 37,
   "id": "44407f0a",
   "metadata": {},
   "outputs": [
    {
     "data": {
      "image/png": "[encoded data removed]",
      "text/plain": [
       "<Figure size 432x288 with 1 Axes>"
      ]
     },
     "metadata": {
      "needs_background": "light"
     },
     "output_type": "display_data"
    },
    {
     "data": {
      "image/png": "[encoded data removed]",
      "text/plain": [
       "<Figure size 432x288 with 1 Axes>"
      ]
     },
     "metadata": {
      "needs_background": "light"
     },
     "output_type": "display_data"
    },
    {
     "data": {
      "image/png": "[encoded data removed]",
      "text/plain": [
       "<Figure size 432x288 with 1 Axes>"
      ]
     },
     "metadata": {
      "needs_background": "light"
     },
     "output_type": "display_data"
    },
    {
     "data": {
      "image/png": "[encoded data removed]",
      "text/plain": [
       "<Figure size 432x288 with 1 Axes>"
      ]
     },
     "metadata": {
      "needs_background": "light"
     },
     "output_type": "display_data"
    },
    {
     "data": {
      "image/png": "[encoded data removed]",
      "text/plain": [
       "<Figure size 432x288 with 1 Axes>"
      ]
     },
     "metadata": {
      "needs_background": "light"
     },
     "output_type": "display_data"
    }
   ],
   "source": [
    "for col in train.columns:\n",
    "    plt.hist(train[col])\n",
    "    plt.title(col)\n",
    "    plt.show()"
   ]
  },
  {
   "cell_type": "code",
   "execution_count": 38,
   "id": "04ae26a3",
   "metadata": {},
   "outputs": [
    {
     "name": "stdout",
     "output_type": "stream",
     "text": [
      "campus\n",
      "MATTHYS EL 101917134                            5\n",
      "VENUS PRI 126908102                             5\n",
      "YORK J H 170902049                              5\n",
      "HALTOM MIDDLE 220902041                         5\n",
      "EHRHART SCHOOL 123805001                        5\n",
      "                                               ..\n",
      "CROWLEY MIDDLE 220912042                        1\n",
      "HERMLEIGH SCHOOL 208901001                      1\n",
      "JHW INSPIRE ACADEMY - WILLIAMS HOU 015808011    1\n",
      "AMBASSADORS PREPARATORY ACADEMY 084804101       1\n",
      "IDEA ROUND ROCK TECH ACADEMY 108807300          1\n",
      "Name: campus, Length: 7049, dtype: int64\n",
      "MATTHYS EL 101917134                            0.031411\n",
      "VENUS PRI 126908102                             0.031411\n",
      "YORK J H 170902049                              0.031411\n",
      "HALTOM MIDDLE 220902041                         0.031411\n",
      "EHRHART SCHOOL 123805001                        0.031411\n",
      "                                                  ...   \n",
      "CROWLEY MIDDLE 220912042                        0.006282\n",
      "HERMLEIGH SCHOOL 208901001                      0.006282\n",
      "JHW INSPIRE ACADEMY - WILLIAMS HOU 015808011    0.006282\n",
      "AMBASSADORS PREPARATORY ACADEMY 084804101       0.006282\n",
      "IDEA ROUND ROCK TECH ACADEMY 108807300          0.006282\n",
      "Name: campus, Length: 7049, dtype: float64\n"
     ]
    },
    {
     "data": {
      "image/png": "[encoded data removed]",
      "text/plain": [
       "<Figure size 432x288 with 1 Axes>"
      ]
     },
     "metadata": {
      "needs_background": "light"
     },
     "output_type": "display_data"
    },
    {
     "name": "stdout",
     "output_type": "stream",
     "text": [
      "charter_encoded\n",
      "0    14940\n",
      "1      978\n",
      "Name: charter_encoded, dtype: int64\n",
      "0    93.856012\n",
      "1     6.143988\n",
      "Name: charter_encoded, dtype: float64\n"
     ]
    },
    {
     "data": {
      "image/png": "[encoded data removed]",
      "text/plain": [
       "<Figure size 432x288 with 1 Axes>"
      ]
     },
     "metadata": {
      "needs_background": "light"
     },
     "output_type": "display_data"
    }
   ],
   "source": [
    "for col in cat_vars:\n",
    "    print(col)\n",
    "    print(train[col].value_counts())\n",
    "    print(train[col].value_counts(normalize=True)*100)\n",
    "    sns.countplot(x=col, data=train)\n",
    "    plt.show()"
   ]
  },
  {
   "cell_type": "code",
   "execution_count": 39,
   "id": "e11af579",
   "metadata": {},
   "outputs": [
    {
     "data": {
      "text/plain": [
       "0.06143987938183189"
      ]
     },
     "execution_count": 39,
     "metadata": {},
     "output_type": "execute_result"
    }
   ],
   "source": [
    "978/15918"
   ]
  },
  {
   "cell_type": "code",
   "execution_count": 40,
   "id": "4eb33cdf",
   "metadata": {},
   "outputs": [
    {
     "data": {
      "text/plain": [
       "0.9385601206181681"
      ]
     },
     "execution_count": 40,
     "metadata": {},
     "output_type": "execute_result"
    }
   ],
   "source": [
    "14940/15918"
   ]
  },
  {
   "cell_type": "code",
   "execution_count": 41,
   "id": "7f58a6d3",
   "metadata": {},
   "outputs": [
    {
     "data": {
      "image/png": "[encoded data removed]",
      "text/plain": [
       "<Figure size 720x720 with 1 Axes>"
      ]
     },
     "metadata": {
      "needs_background": "light"
     },
     "output_type": "display_data"
    }
   ],
   "source": [
    "fig, ax = plt.subplots(1, figsize=(10, 10))\n",
    "sns.boxplot(x=train['charter_encoded'], y=train['discipline_percent']);\n",
    "plt.xticks(rotation = 90)\n",
    "plt.show()"
   ]
  },
  {
   "cell_type": "code",
   "execution_count": 42,
   "id": "15376455",
   "metadata": {},
   "outputs": [
    {
     "data": {
      "image/png": "[encoded data removed]",
      "text/plain": [
       "<Figure size 720x720 with 1 Axes>"
      ]
     },
     "metadata": {
      "needs_background": "light"
     },
     "output_type": "display_data"
    }
   ],
   "source": [
    "fig, ax = plt.subplots(1, figsize=(10, 10))\n",
    "sns.boxplot(x=train['charter_encoded'], y=train['discipline_count']);\n",
    "plt.xticks(rotation = 90)\n",
    "plt.show()"
   ]
  },
  {
   "cell_type": "code",
   "execution_count": 43,
   "id": "98686c24",
   "metadata": {},
   "outputs": [
    {
     "data": {
      "image/png": "[encoded data removed]",
      "text/plain": [
       "<Figure size 720x720 with 1 Axes>"
      ]
     },
     "metadata": {
      "needs_background": "light"
     },
     "output_type": "display_data"
    }
   ],
   "source": [
    "fig, ax = plt.subplots(1, figsize=(10, 10))\n",
    "sns.boxplot(x=train['charter_encoded'], y=train['student_enrollment']);\n",
    "plt.xticks(rotation = 90)\n",
    "plt.show()"
   ]
  },
  {
   "cell_type": "code",
   "execution_count": 44,
   "id": "813b6c1b",
   "metadata": {},
   "outputs": [
    {
     "data": {
      "text/plain": [
       "<AxesSubplot:xlabel='student_enrollment', ylabel='discipline_count'>"
      ]
     },
     "execution_count": 44,
     "metadata": {},
     "output_type": "execute_result"
    },
    {
     "data": {
      "image/png": "[encoded data removed]",
      "text/plain": [
       "<Figure size 432x288 with 1 Axes>"
      ]
     },
     "metadata": {
      "needs_background": "light"
     },
     "output_type": "display_data"
    }
   ],
   "source": [
    "sns.scatterplot(x='student_enrollment', y='discipline_count', data=train, hue='charter_encoded')"
   ]
  },
  {
   "cell_type": "code",
   "execution_count": 45,
   "id": "707f82f4",
   "metadata": {},
   "outputs": [
    {
     "data": {
      "text/plain": [
       "<AxesSubplot:xlabel='discipline_percent', ylabel='Count'>"
      ]
     },
     "execution_count": 45,
     "metadata": {},
     "output_type": "execute_result"
    },
    {
     "data": {
      "image/png": "[encoded data removed]",
      "text/plain": [
       "<Figure size 432x288 with 1 Axes>"
      ]
     },
     "metadata": {
      "needs_background": "light"
     },
     "output_type": "display_data"
    }
   ],
   "source": [
    "sns.histplot(x='discipline_percent', data=train, kde=True)"
   ]
  },
  {
   "cell_type": "code",
   "execution_count": 46,
   "id": "e54f582e",
   "metadata": {},
   "outputs": [
    {
     "data": {
      "text/plain": [
       "<AxesSubplot:>"
      ]
     },
     "execution_count": 46,
     "metadata": {},
     "output_type": "execute_result"
    },
    {
     "data": {
      "image/png": "[encoded data removed]",
      "text/plain": [
       "<Figure size 432x288 with 1 Axes>"
      ]
     },
     "metadata": {
      "needs_background": "light"
     },
     "output_type": "display_data"
    }
   ],
   "source": [
    "# histogram of churned customers\n",
    "charterdiscp = train[train.charter_encoded==1].discipline_percent\n",
    "charterdiscp.hist()"
   ]
  },
  {
   "cell_type": "code",
   "execution_count": 47,
   "id": "36d81ab4",
   "metadata": {},
   "outputs": [
    {
     "data": {
      "text/plain": [
       "<AxesSubplot:>"
      ]
     },
     "execution_count": 47,
     "metadata": {},
     "output_type": "execute_result"
    },
    {
     "data": {
      "image/png": "[encoded data removed]",
      "text/plain": [
       "<Figure size 432x288 with 1 Axes>"
      ]
     },
     "metadata": {
      "needs_background": "light"
     },
     "output_type": "display_data"
    }
   ],
   "source": [
    "# histogram of non-churned customers\n",
    "non_charterdiscp = train[train.charter_encoded==0].discipline_percent\n",
    "non_charterdiscp.hist()"
   ]
  },
  {
   "cell_type": "markdown",
   "id": "089351b3",
   "metadata": {},
   "source": [
    "Hypothesis\n",
    "Null H: Mean of disciplined students is the same for charter schools and traditional schools. Alt H: Mean of disciplined students is not the same for charter schools and traditional schools."
   ]
  },
  {
   "cell_type": "code",
   "execution_count": 48,
   "id": "29fbfbfd",
   "metadata": {},
   "outputs": [],
   "source": [
    "mean_a = charterdiscp.mean()\n",
    "mean_b = non_charterdiscp.mean()"
   ]
  },
  {
   "cell_type": "code",
   "execution_count": 49,
   "id": "8d223c7b",
   "metadata": {},
   "outputs": [
    {
     "data": {
      "text/plain": [
       "(16.685071574642127, 25.763253012048192)"
      ]
     },
     "execution_count": 49,
     "metadata": {},
     "output_type": "execute_result"
    }
   ],
   "source": [
    "mean_a, mean_b"
   ]
  },
  {
   "cell_type": "code",
   "execution_count": 50,
   "id": "5551706c",
   "metadata": {},
   "outputs": [],
   "source": [
    "# remember that our confidence level determines our alpha, \n",
    "# which we use to compare to p\n",
    "alpha = 0.05"
   ]
  },
  {
   "cell_type": "code",
   "execution_count": 51,
   "id": "4c0eaeff",
   "metadata": {},
   "outputs": [],
   "source": [
    "# Mini H0: variances are equal between groups\n",
    "# Ha: variances are inequal between groups\n",
    "# alpha: 0.05\n",
    "stat, pval = stats.levene(charterdiscp, non_charterdiscp)"
   ]
  },
  {
   "cell_type": "code",
   "execution_count": 52,
   "id": "9b68975c",
   "metadata": {},
   "outputs": [
    {
     "data": {
      "text/plain": [
       "(87.10592642169593, 1.1614599401392916e-20)"
      ]
     },
     "execution_count": 52,
     "metadata": {},
     "output_type": "execute_result"
    }
   ],
   "source": [
    "stat, pval"
   ]
  },
  {
   "cell_type": "code",
   "execution_count": 53,
   "id": "bb1ff62c",
   "metadata": {},
   "outputs": [],
   "source": [
    "# implications of one-tailed two-sampled t-test:\n",
    "# p will be divided by two because we are only looking at one tail of the curve\n",
    "# we will pay attention to the sign of our t-statistic\n",
    "# t, p = t-test: (group A, group B) ==> comparison of mu_a > mu_b\n",
    "t, p = stats.ttest_ind(charterdiscp, non_charterdiscp, equal_var=False)"
   ]
  },
  {
   "cell_type": "code",
   "execution_count": 54,
   "id": "553cd979",
   "metadata": {},
   "outputs": [
    {
     "data": {
      "text/plain": [
       "(-14.134290589822502, 1.9771683419824536e-42)"
      ]
     },
     "execution_count": 54,
     "metadata": {},
     "output_type": "execute_result"
    }
   ],
   "source": [
    "t, p"
   ]
  },
  {
   "cell_type": "code",
   "execution_count": 55,
   "id": "11a7c6f7",
   "metadata": {},
   "outputs": [
    {
     "name": "stdout",
     "output_type": "stream",
     "text": [
      "Is p less than alpha?  True\n"
     ]
    }
   ],
   "source": [
    "print('Is p less than alpha? ', pval < alpha)"
   ]
  },
  {
   "cell_type": "code",
   "execution_count": 56,
   "id": "8f0a7a23",
   "metadata": {},
   "outputs": [
    {
     "name": "stdout",
     "output_type": "stream",
     "text": [
      "we fail to reject the null hypothesis\n"
     ]
    }
   ],
   "source": [
    "if (t > 0) and ((p / 2) < alpha):\n",
    "    print('We can reject the null hypothesis')\n",
    "else:\n",
    "    print('we fail to reject the null hypothesis')"
   ]
  },
  {
   "cell_type": "code",
   "execution_count": 57,
   "id": "97bd8f7c",
   "metadata": {},
   "outputs": [],
   "source": [
    "# assign the train variables\n",
    "X_train_scaled = train[['student_enrollment','discipline_count','discipline_percent']]\n",
    "y_train=train[['charter_encoded']]\n",
    "\n",
    "#assign the validate variables\n",
    "X_validate_scaled=validate[['student_enrollment','discipline_count','discipline_percent']]\n",
    "y_validate=validate[['charter_encoded']]\n",
    "\n",
    "# assign the test variables\n",
    "X_test_scaled=test[['student_enrollment','discipline_count','discipline_percent']]\n",
    "y_test=test[['charter_encoded']]"
   ]
  },
  {
   "cell_type": "code",
   "execution_count": 58,
   "id": "b15f2dc9",
   "metadata": {},
   "outputs": [],
   "source": [
    "def scale_data(train, \n",
    "               validate, \n",
    "               test, \n",
    "               columns_to_scale = ['student_enrollment','discipline_count','discipline_percent'],\n",
    "               return_scaler=False):\n",
    "    '''\n",
    "    Scales the 3 data splits. \n",
    "    Takes in train, validate, and test data splits and returns their scaled counterparts.\n",
    "    If return_scalar is True, the scaler object will be returned as well\n",
    "    '''\n",
    "    # make copies of our original data so we dont gronk up anything\n",
    "    train_scaled = train.copy()\n",
    "    validate_scaled = validate.copy()\n",
    "    test_scaled = test.copy()\n",
    "    #     make the thing\n",
    "    scaler = MinMaxScaler()\n",
    "    #     fit the thing\n",
    "    scaler.fit(train[columns_to_scale])\n",
    "    # applying the scaler:\n",
    "    train_scaled[columns_to_scale] = pd.DataFrame(scaler.transform(train[columns_to_scale]),\n",
    "                                                  columns=train[columns_to_scale].columns.values).set_index([train.index.values])\n",
    "                                                  \n",
    "    validate_scaled[columns_to_scale] = pd.DataFrame(scaler.transform(validate[columns_to_scale]),\n",
    "                                           columns=validate[columns_to_scale].columns.values).set_index([validate.index.values])\n",
    "    \n",
    "    test_scaled[columns_to_scale] = pd.DataFrame(scaler.transform(test[columns_to_scale]),\n",
    "                                                 columns=test[columns_to_scale].columns.values).set_index([test.index.values])\n",
    "    \n",
    "    if return_scaler:\n",
    "        return scaler, train_scaled, validate_scaled, test_scaled\n",
    "    else:\n",
    "        return train_scaled, validate_scaled, test_scaled"
   ]
  },
  {
   "cell_type": "code",
   "execution_count": 59,
   "id": "d3fd52b5",
   "metadata": {},
   "outputs": [],
   "source": [
    "train_scaled, validate_scaled, test_scaled = scale_data(train, validate, test)"
   ]
  },
  {
   "cell_type": "code",
   "execution_count": 60,
   "id": "22b6084e",
   "metadata": {},
   "outputs": [
    {
     "data": {
      "text/plain": [
       "(                                             campus  charter_encoded  \\\n",
       " 14461                           IRVIN H S 071902008                0   \n",
       " 15829                     VETERANS MIDDLE 108902046                0   \n",
       " 21119                         LORENA HIGH 161907001                0   \n",
       " 9136                             TIPPS EL 101907141                0   \n",
       " 13930  YOUNG WOMEN'S STEAM ACADEMY AT BAL 057905352                0   \n",
       " ...                                             ...              ...   \n",
       " 14048                       AUSTIN MIDDLE 057912045                0   \n",
       " 19501                       WELLINGTON EL 061902130                0   \n",
       " 25179                       CHANCELLOR EL 101903108                0   \n",
       " 14289                        DENTON CREEK 061911003                0   \n",
       " 12928                        CIBOLO GREEN 015910145                0   \n",
       " \n",
       "        student_enrollment  discipline_count  discipline_percent  \n",
       " 14461            0.233738          0.032511            0.021661  \n",
       " 15829            0.170140          0.251582            0.222022  \n",
       " 21119            0.094220          0.013310            0.023466  \n",
       " 9136             0.183367          0.024002            0.021661  \n",
       " 13930            0.231926          0.018983            0.014440  \n",
       " ...                   ...               ...                 ...  \n",
       " 14048            0.185903          0.037748            0.032491  \n",
       " 19501            0.149846          0.000436            0.001805  \n",
       " 25179            0.146403          0.030111            0.032491  \n",
       " 14289            0.006885          0.005237            0.128159  \n",
       " 12928            0.165066          0.009383            0.010830  \n",
       " \n",
       " [15918 rows x 5 columns],\n",
       "                                campus  charter_encoded  student_enrollment  \\\n",
       " 5913             WALLER H S 237904002                0            0.379235   \n",
       " 24412       JACK LUMMUS INT 070903105                0            0.119949   \n",
       " 11565      EASTERN HILLS EL 220905125                0            0.116507   \n",
       " 9087            COOK MIDDLE 101907047                0            0.286103   \n",
       " 26902             WODEN H S 174906001                0            0.039500   \n",
       " ...                               ...              ...                 ...   \n",
       " 22791        L B JOHNSON EL 015905109                0            0.073383   \n",
       " 7833               DAVIS EL 057909126                0            0.111796   \n",
       " 4664              FANNIN EL 175903103                0            0.091140   \n",
       " 10974  DRISCOLL EL & MIDDLE 178905041                0            0.057076   \n",
       " 4436    BRUCEVILLE-EDDY INT 161919042                0            0.031527   \n",
       " \n",
       "        discipline_count  discipline_percent  \n",
       " 5913           0.270129            0.106498  \n",
       " 24412          0.055859            0.072202  \n",
       " 11565          0.011346            0.016245  \n",
       " 9087           0.409557            0.214801  \n",
       " 26902          0.004800            0.025271  \n",
       " ...                 ...                 ...  \n",
       " 22791          0.000218            0.005415  \n",
       " 7833           0.000000            0.003610  \n",
       " 4664           0.001091            0.005415  \n",
       " 10974          0.000655            0.007220  \n",
       " 4436           0.001527            0.016245  \n",
       " \n",
       " [6822 rows x 5 columns],\n",
       "                                 campus  charter_encoded  student_enrollment  \\\n",
       " 25630               PARKS EL 101917112                0            0.081718   \n",
       " 141              LAKEWOOD EL 014903108                0            0.129190   \n",
       " 23611            PROSPER H S 043912001                0            0.616778   \n",
       " 3968    HAMSHIRE-FANNETT H S 123914001                0            0.102555   \n",
       " 949           ATLANTA MIDDLE 034901042                0            0.092770   \n",
       " ...                                ...              ...                 ...   \n",
       " 10027     SULPHUR SPRINGS EL 112901108                0            0.127922   \n",
       " 179         MOUNTAIN VIEW EL 014906121                0            0.187353   \n",
       " 24255               CAMEY EL 061902107                0            0.103280   \n",
       " 9049           KLENTZMAN INT 101903141                0            0.203479   \n",
       " 18794  JAMES EARL RUDDER H S 021902002                0            0.321979   \n",
       " \n",
       "        discipline_count  discipline_percent  \n",
       " 25630          0.004146            0.010830  \n",
       " 141            0.003273            0.005415  \n",
       " 23611          0.092952            0.023466  \n",
       " 3968           0.041676            0.063177  \n",
       " 949            0.032293            0.054152  \n",
       " ...                 ...                 ...  \n",
       " 10027          0.009601            0.014440  \n",
       " 179            0.032511            0.027076  \n",
       " 24255          0.007855            0.014440  \n",
       " 9049           0.092298            0.068592  \n",
       " 18794          0.190705            0.088448  \n",
       " \n",
       " [5686 rows x 5 columns])"
      ]
     },
     "execution_count": 60,
     "metadata": {},
     "output_type": "execute_result"
    }
   ],
   "source": [
    "train_scaled, validate_scaled, test_scaled"
   ]
  },
  {
   "cell_type": "code",
   "execution_count": 61,
   "id": "52b1b12b",
   "metadata": {},
   "outputs": [
    {
     "data": {
      "text/html": [
       "<div>\n",
       "<style scoped>\n",
       "    .dataframe tbody tr th:only-of-type {\n",
       "        vertical-align: middle;\n",
       "    }\n",
       "\n",
       "    .dataframe tbody tr th {\n",
       "        vertical-align: top;\n",
       "    }\n",
       "\n",
       "    .dataframe thead th {\n",
       "        text-align: right;\n",
       "    }\n",
       "</style>\n",
       "<table border=\"1\" class=\"dataframe\">\n",
       "  <thead>\n",
       "    <tr style=\"text-align: right;\">\n",
       "      <th></th>\n",
       "      <th>student_enrollment</th>\n",
       "      <th>discipline_count</th>\n",
       "      <th>discipline_percent</th>\n",
       "    </tr>\n",
       "  </thead>\n",
       "  <tbody>\n",
       "    <tr>\n",
       "      <th>14461</th>\n",
       "      <td>1300.0</td>\n",
       "      <td>159.0</td>\n",
       "      <td>12.0</td>\n",
       "    </tr>\n",
       "    <tr>\n",
       "      <th>15829</th>\n",
       "      <td>949.0</td>\n",
       "      <td>1163.0</td>\n",
       "      <td>123.0</td>\n",
       "    </tr>\n",
       "    <tr>\n",
       "      <th>21119</th>\n",
       "      <td>530.0</td>\n",
       "      <td>71.0</td>\n",
       "      <td>13.0</td>\n",
       "    </tr>\n",
       "    <tr>\n",
       "      <th>9136</th>\n",
       "      <td>1022.0</td>\n",
       "      <td>120.0</td>\n",
       "      <td>12.0</td>\n",
       "    </tr>\n",
       "    <tr>\n",
       "      <th>13930</th>\n",
       "      <td>1290.0</td>\n",
       "      <td>97.0</td>\n",
       "      <td>8.0</td>\n",
       "    </tr>\n",
       "  </tbody>\n",
       "</table>\n",
       "</div>"
      ],
      "text/plain": [
       "       student_enrollment  discipline_count  discipline_percent\n",
       "14461              1300.0             159.0                12.0\n",
       "15829               949.0            1163.0               123.0\n",
       "21119               530.0              71.0                13.0\n",
       "9136               1022.0             120.0                12.0\n",
       "13930              1290.0              97.0                 8.0"
      ]
     },
     "execution_count": 61,
     "metadata": {},
     "output_type": "execute_result"
    }
   ],
   "source": [
    "X_train_scaled.head()"
   ]
  },
  {
   "cell_type": "code",
   "execution_count": 62,
   "id": "f7de6749",
   "metadata": {},
   "outputs": [
    {
     "data": {
      "text/plain": [
       "charter_encoded\n",
       "0                  14940\n",
       "1                    978\n",
       "dtype: int64"
      ]
     },
     "execution_count": 62,
     "metadata": {},
     "output_type": "execute_result"
    }
   ],
   "source": [
    "y_train.value_counts()"
   ]
  },
  {
   "cell_type": "markdown",
   "id": "265b02dd",
   "metadata": {},
   "source": [
    "## Baseline"
   ]
  },
  {
   "cell_type": "code",
   "execution_count": 63,
   "id": "bb762bfc",
   "metadata": {},
   "outputs": [],
   "source": [
    "# The mode is a great baseline\n",
    "baseline = y_train.mode()"
   ]
  },
  {
   "cell_type": "code",
   "execution_count": 64,
   "id": "47cacfc9",
   "metadata": {},
   "outputs": [
    {
     "data": {
      "text/html": [
       "<div>\n",
       "<style scoped>\n",
       "    .dataframe tbody tr th:only-of-type {\n",
       "        vertical-align: middle;\n",
       "    }\n",
       "\n",
       "    .dataframe tbody tr th {\n",
       "        vertical-align: top;\n",
       "    }\n",
       "\n",
       "    .dataframe thead th {\n",
       "        text-align: right;\n",
       "    }\n",
       "</style>\n",
       "<table border=\"1\" class=\"dataframe\">\n",
       "  <thead>\n",
       "    <tr style=\"text-align: right;\">\n",
       "      <th></th>\n",
       "      <th>charter_encoded</th>\n",
       "    </tr>\n",
       "  </thead>\n",
       "  <tbody>\n",
       "    <tr>\n",
       "      <th>0</th>\n",
       "      <td>0</td>\n",
       "    </tr>\n",
       "  </tbody>\n",
       "</table>\n",
       "</div>"
      ],
      "text/plain": [
       "   charter_encoded\n",
       "0                0"
      ]
     },
     "execution_count": 64,
     "metadata": {},
     "output_type": "execute_result"
    }
   ],
   "source": [
    "baseline"
   ]
  },
  {
   "cell_type": "code",
   "execution_count": 65,
   "id": "acde69fa",
   "metadata": {},
   "outputs": [
    {
     "data": {
      "text/html": [
       "<div>\n",
       "<style scoped>\n",
       "    .dataframe tbody tr th:only-of-type {\n",
       "        vertical-align: middle;\n",
       "    }\n",
       "\n",
       "    .dataframe tbody tr th {\n",
       "        vertical-align: top;\n",
       "    }\n",
       "\n",
       "    .dataframe thead th {\n",
       "        text-align: right;\n",
       "    }\n",
       "</style>\n",
       "<table border=\"1\" class=\"dataframe\">\n",
       "  <thead>\n",
       "    <tr style=\"text-align: right;\">\n",
       "      <th></th>\n",
       "      <th>student_enrollment</th>\n",
       "      <th>discipline_count</th>\n",
       "      <th>discipline_percent</th>\n",
       "      <th>baseline_prediction</th>\n",
       "    </tr>\n",
       "  </thead>\n",
       "  <tbody>\n",
       "    <tr>\n",
       "      <th>14461</th>\n",
       "      <td>1300.0</td>\n",
       "      <td>159.0</td>\n",
       "      <td>12.0</td>\n",
       "      <td>0</td>\n",
       "    </tr>\n",
       "    <tr>\n",
       "      <th>15829</th>\n",
       "      <td>949.0</td>\n",
       "      <td>1163.0</td>\n",
       "      <td>123.0</td>\n",
       "      <td>0</td>\n",
       "    </tr>\n",
       "    <tr>\n",
       "      <th>21119</th>\n",
       "      <td>530.0</td>\n",
       "      <td>71.0</td>\n",
       "      <td>13.0</td>\n",
       "      <td>0</td>\n",
       "    </tr>\n",
       "    <tr>\n",
       "      <th>9136</th>\n",
       "      <td>1022.0</td>\n",
       "      <td>120.0</td>\n",
       "      <td>12.0</td>\n",
       "      <td>0</td>\n",
       "    </tr>\n",
       "    <tr>\n",
       "      <th>13930</th>\n",
       "      <td>1290.0</td>\n",
       "      <td>97.0</td>\n",
       "      <td>8.0</td>\n",
       "      <td>0</td>\n",
       "    </tr>\n",
       "    <tr>\n",
       "      <th>...</th>\n",
       "      <td>...</td>\n",
       "      <td>...</td>\n",
       "      <td>...</td>\n",
       "      <td>...</td>\n",
       "    </tr>\n",
       "    <tr>\n",
       "      <th>14048</th>\n",
       "      <td>1036.0</td>\n",
       "      <td>183.0</td>\n",
       "      <td>18.0</td>\n",
       "      <td>0</td>\n",
       "    </tr>\n",
       "    <tr>\n",
       "      <th>19501</th>\n",
       "      <td>837.0</td>\n",
       "      <td>12.0</td>\n",
       "      <td>1.0</td>\n",
       "      <td>0</td>\n",
       "    </tr>\n",
       "    <tr>\n",
       "      <th>25179</th>\n",
       "      <td>818.0</td>\n",
       "      <td>148.0</td>\n",
       "      <td>18.0</td>\n",
       "      <td>0</td>\n",
       "    </tr>\n",
       "    <tr>\n",
       "      <th>14289</th>\n",
       "      <td>48.0</td>\n",
       "      <td>34.0</td>\n",
       "      <td>71.0</td>\n",
       "      <td>0</td>\n",
       "    </tr>\n",
       "    <tr>\n",
       "      <th>12928</th>\n",
       "      <td>921.0</td>\n",
       "      <td>53.0</td>\n",
       "      <td>6.0</td>\n",
       "      <td>0</td>\n",
       "    </tr>\n",
       "  </tbody>\n",
       "</table>\n",
       "<p>15918 rows × 4 columns</p>\n",
       "</div>"
      ],
      "text/plain": [
       "       student_enrollment  discipline_count  discipline_percent  \\\n",
       "14461              1300.0             159.0                12.0   \n",
       "15829               949.0            1163.0               123.0   \n",
       "21119               530.0              71.0                13.0   \n",
       "9136               1022.0             120.0                12.0   \n",
       "13930              1290.0              97.0                 8.0   \n",
       "...                   ...               ...                 ...   \n",
       "14048              1036.0             183.0                18.0   \n",
       "19501               837.0              12.0                 1.0   \n",
       "25179               818.0             148.0                18.0   \n",
       "14289                48.0              34.0                71.0   \n",
       "12928               921.0              53.0                 6.0   \n",
       "\n",
       "       baseline_prediction  \n",
       "14461                    0  \n",
       "15829                    0  \n",
       "21119                    0  \n",
       "9136                     0  \n",
       "13930                    0  \n",
       "...                    ...  \n",
       "14048                    0  \n",
       "19501                    0  \n",
       "25179                    0  \n",
       "14289                    0  \n",
       "12928                    0  \n",
       "\n",
       "[15918 rows x 4 columns]"
      ]
     },
     "execution_count": 65,
     "metadata": {},
     "output_type": "execute_result"
    }
   ],
   "source": [
    "X_train_scaled['baseline_prediction'] = 0\n",
    "X_train_scaled"
   ]
  },
  {
   "cell_type": "code",
   "execution_count": 66,
   "id": "0c43b8b6",
   "metadata": {},
   "outputs": [],
   "source": [
    "actual = y_train\n",
    "predictions = X_train_scaled.baseline_prediction"
   ]
  },
  {
   "cell_type": "code",
   "execution_count": 67,
   "id": "336d8f66",
   "metadata": {},
   "outputs": [
    {
     "data": {
      "text/html": [
       "<div>\n",
       "<style scoped>\n",
       "    .dataframe tbody tr th:only-of-type {\n",
       "        vertical-align: middle;\n",
       "    }\n",
       "\n",
       "    .dataframe tbody tr th {\n",
       "        vertical-align: top;\n",
       "    }\n",
       "\n",
       "    .dataframe thead th {\n",
       "        text-align: right;\n",
       "    }\n",
       "</style>\n",
       "<table border=\"1\" class=\"dataframe\">\n",
       "  <thead>\n",
       "    <tr style=\"text-align: right;\">\n",
       "      <th>baseline_prediction</th>\n",
       "      <th>0</th>\n",
       "    </tr>\n",
       "    <tr>\n",
       "      <th>charter_encoded</th>\n",
       "      <th></th>\n",
       "    </tr>\n",
       "  </thead>\n",
       "  <tbody>\n",
       "    <tr>\n",
       "      <th>0</th>\n",
       "      <td>14940</td>\n",
       "    </tr>\n",
       "    <tr>\n",
       "      <th>1</th>\n",
       "      <td>978</td>\n",
       "    </tr>\n",
       "  </tbody>\n",
       "</table>\n",
       "</div>"
      ],
      "text/plain": [
       "baseline_prediction      0\n",
       "charter_encoded           \n",
       "0                    14940\n",
       "1                      978"
      ]
     },
     "execution_count": 67,
     "metadata": {},
     "output_type": "execute_result"
    }
   ],
   "source": [
    "pd.crosstab(y_train['charter_encoded'], X_train_scaled.baseline_prediction)"
   ]
  },
  {
   "cell_type": "code",
   "execution_count": 68,
   "id": "e56cac1e",
   "metadata": {},
   "outputs": [
    {
     "data": {
      "text/html": [
       "<div>\n",
       "<style scoped>\n",
       "    .dataframe tbody tr th:only-of-type {\n",
       "        vertical-align: middle;\n",
       "    }\n",
       "\n",
       "    .dataframe tbody tr th {\n",
       "        vertical-align: top;\n",
       "    }\n",
       "\n",
       "    .dataframe thead th {\n",
       "        text-align: right;\n",
       "    }\n",
       "</style>\n",
       "<table border=\"1\" class=\"dataframe\">\n",
       "  <thead>\n",
       "    <tr style=\"text-align: right;\">\n",
       "      <th></th>\n",
       "      <th>charter_encoded</th>\n",
       "    </tr>\n",
       "  </thead>\n",
       "  <tbody>\n",
       "    <tr>\n",
       "      <th>14461</th>\n",
       "      <td>True</td>\n",
       "    </tr>\n",
       "    <tr>\n",
       "      <th>15829</th>\n",
       "      <td>True</td>\n",
       "    </tr>\n",
       "    <tr>\n",
       "      <th>21119</th>\n",
       "      <td>True</td>\n",
       "    </tr>\n",
       "    <tr>\n",
       "      <th>9136</th>\n",
       "      <td>True</td>\n",
       "    </tr>\n",
       "    <tr>\n",
       "      <th>13930</th>\n",
       "      <td>True</td>\n",
       "    </tr>\n",
       "    <tr>\n",
       "      <th>...</th>\n",
       "      <td>...</td>\n",
       "    </tr>\n",
       "    <tr>\n",
       "      <th>14048</th>\n",
       "      <td>True</td>\n",
       "    </tr>\n",
       "    <tr>\n",
       "      <th>19501</th>\n",
       "      <td>True</td>\n",
       "    </tr>\n",
       "    <tr>\n",
       "      <th>25179</th>\n",
       "      <td>True</td>\n",
       "    </tr>\n",
       "    <tr>\n",
       "      <th>14289</th>\n",
       "      <td>True</td>\n",
       "    </tr>\n",
       "    <tr>\n",
       "      <th>12928</th>\n",
       "      <td>True</td>\n",
       "    </tr>\n",
       "  </tbody>\n",
       "</table>\n",
       "<p>15918 rows × 1 columns</p>\n",
       "</div>"
      ],
      "text/plain": [
       "       charter_encoded\n",
       "14461             True\n",
       "15829             True\n",
       "21119             True\n",
       "9136              True\n",
       "13930             True\n",
       "...                ...\n",
       "14048             True\n",
       "19501             True\n",
       "25179             True\n",
       "14289             True\n",
       "12928             True\n",
       "\n",
       "[15918 rows x 1 columns]"
      ]
     },
     "execution_count": 68,
     "metadata": {},
     "output_type": "execute_result"
    }
   ],
   "source": [
    "# Creates a boolean array where \"No\" becomes True and \"Yes\" becomes False\n",
    "(y_train == 0)"
   ]
  },
  {
   "cell_type": "code",
   "execution_count": 69,
   "id": "517b4971",
   "metadata": {},
   "outputs": [
    {
     "data": {
      "text/plain": [
       "charter_encoded    0.93856\n",
       "dtype: float64"
      ]
     },
     "execution_count": 69,
     "metadata": {},
     "output_type": "execute_result"
    }
   ],
   "source": [
    "# Takes the .mean() of the boolean array that represents the proportion \n",
    "# that would also match our baseline prediction\n",
    "(y_train == 0).mean() "
   ]
  },
  {
   "cell_type": "code",
   "execution_count": 70,
   "id": "db0113b1",
   "metadata": {},
   "outputs": [],
   "source": [
    "X_validate_scaled['baseline_prediction'] = 0"
   ]
  },
  {
   "cell_type": "code",
   "execution_count": 71,
   "id": "e246edfd",
   "metadata": {},
   "outputs": [],
   "source": [
    "X_test_scaled['baseline_prediction'] = 0"
   ]
  },
  {
   "cell_type": "markdown",
   "id": "c50400df",
   "metadata": {},
   "source": [
    "# Model: Decision Tree"
   ]
  },
  {
   "cell_type": "code",
   "execution_count": 72,
   "id": "8d1043ec",
   "metadata": {},
   "outputs": [],
   "source": [
    "# Create the decision tree object and specify hyperparams\n",
    "tree = DecisionTreeClassifier(max_depth = 3, random_state=123)"
   ]
  },
  {
   "cell_type": "code",
   "execution_count": 73,
   "id": "d069607c",
   "metadata": {},
   "outputs": [
    {
     "data": {
      "text/plain": [
       "DecisionTreeClassifier(max_depth=3, random_state=123)"
      ]
     },
     "execution_count": 73,
     "metadata": {},
     "output_type": "execute_result"
    }
   ],
   "source": [
    "tree"
   ]
  },
  {
   "cell_type": "code",
   "execution_count": 74,
   "id": "a6609fb4",
   "metadata": {},
   "outputs": [
    {
     "name": "stdout",
     "output_type": "stream",
     "text": [
      "|--- discipline_count <= 208.50\n",
      "|   |--- student_enrollment <= 565.50\n",
      "|   |   |--- discipline_percent <= 45.50\n",
      "|   |   |   |--- class: 0\n",
      "|   |   |--- discipline_percent >  45.50\n",
      "|   |   |   |--- class: 0\n",
      "|   |--- student_enrollment >  565.50\n",
      "|   |   |--- student_enrollment <= 604.50\n",
      "|   |   |   |--- class: 0\n",
      "|   |   |--- student_enrollment >  604.50\n",
      "|   |   |   |--- class: 0\n",
      "|--- discipline_count >  208.50\n",
      "|   |--- discipline_count <= 624.50\n",
      "|   |   |--- student_enrollment <= 1050.50\n",
      "|   |   |   |--- class: 0\n",
      "|   |   |--- student_enrollment >  1050.50\n",
      "|   |   |   |--- class: 0\n",
      "|   |--- discipline_count >  624.50\n",
      "|   |   |--- student_enrollment <= 488.00\n",
      "|   |   |   |--- class: 0\n",
      "|   |   |--- student_enrollment >  488.00\n",
      "|   |   |   |--- class: 0\n",
      "\n"
     ]
    }
   ],
   "source": [
    "tree.fit(X_train_scaled, y_train)\n",
    "\n",
    "# Rudimentary visualization of model structure\n",
    "print(export_text(tree, feature_names=X_train_scaled.columns.tolist()))"
   ]
  },
  {
   "cell_type": "code",
   "execution_count": 75,
   "id": "c491dd99",
   "metadata": {},
   "outputs": [
    {
     "data": {
      "text/plain": [
       "[Text(0.5, 0.875, 'discipline_count <= 208.5\\ngini = 0.115\\nsamples = 15918\\nvalue = [14940, 978]\\nclass = 0'),\n",
       " Text(0.25, 0.625, 'student_enrollment <= 565.5\\ngini = 0.141\\nsamples = 11551\\nvalue = [10672, 879]\\nclass = 0'),\n",
       " Text(0.125, 0.375, 'discipline_percent <= 45.5\\ngini = 0.166\\nsamples = 5833\\nvalue = [5300, 533]\\nclass = 0'),\n",
       " Text(0.0625, 0.125, 'gini = 0.172\\nsamples = 5456\\nvalue = [4937, 519]\\nclass = 0'),\n",
       " Text(0.1875, 0.125, 'gini = 0.072\\nsamples = 377\\nvalue = [363, 14]\\nclass = 0'),\n",
       " Text(0.375, 0.375, 'student_enrollment <= 604.5\\ngini = 0.114\\nsamples = 5718\\nvalue = [5372, 346]\\nclass = 0'),\n",
       " Text(0.3125, 0.125, 'gini = 0.077\\nsamples = 724\\nvalue = [695, 29]\\nclass = 0'),\n",
       " Text(0.4375, 0.125, 'gini = 0.119\\nsamples = 4994\\nvalue = [4677, 317]\\nclass = 0'),\n",
       " Text(0.75, 0.625, 'discipline_count <= 624.5\\ngini = 0.044\\nsamples = 4367\\nvalue = [4268, 99]\\nclass = 0'),\n",
       " Text(0.625, 0.375, 'student_enrollment <= 1050.5\\ngini = 0.065\\nsamples = 2785\\nvalue = [2691, 94]\\nclass = 0'),\n",
       " Text(0.5625, 0.125, 'gini = 0.081\\nsamples = 1850\\nvalue = [1772, 78]\\nclass = 0'),\n",
       " Text(0.6875, 0.125, 'gini = 0.034\\nsamples = 935\\nvalue = [919, 16]\\nclass = 0'),\n",
       " Text(0.875, 0.375, 'student_enrollment <= 488.0\\ngini = 0.006\\nsamples = 1582\\nvalue = [1577, 5]\\nclass = 0'),\n",
       " Text(0.8125, 0.125, 'gini = 0.26\\nsamples = 13\\nvalue = [11, 2]\\nclass = 0'),\n",
       " Text(0.9375, 0.125, 'gini = 0.004\\nsamples = 1569\\nvalue = [1566, 3]\\nclass = 0')]"
      ]
     },
     "execution_count": 75,
     "metadata": {},
     "output_type": "execute_result"
    },
    {
     "data": {
      "image/png": "[encoded data removed]",
      "text/plain": [
       "<Figure size 864x504 with 1 Axes>"
      ]
     },
     "metadata": {
      "needs_background": "light"
     },
     "output_type": "display_data"
    }
   ],
   "source": [
    "# Visualize the tree\n",
    "plt.figure(figsize=(12, 7))\n",
    "plot_tree(tree, feature_names=X_train_scaled.columns, class_names=tree.classes_.astype(str))\n",
    "#plt.show()"
   ]
  },
  {
   "cell_type": "code",
   "execution_count": 76,
   "id": "cecd3596",
   "metadata": {},
   "outputs": [],
   "source": [
    "y_pred=tree.predict(X_train_scaled)"
   ]
  },
  {
   "cell_type": "code",
   "execution_count": 77,
   "id": "da0a2415",
   "metadata": {},
   "outputs": [],
   "source": [
    "y_pred_proba = tree.predict_proba(X_train_scaled)\n"
   ]
  },
  {
   "cell_type": "code",
   "execution_count": 78,
   "id": "89376d6f",
   "metadata": {},
   "outputs": [
    {
     "name": "stdout",
     "output_type": "stream",
     "text": [
      "Accuracy of Decision Tree classifier on training set: 0.94\n"
     ]
    }
   ],
   "source": [
    "print('Accuracy of Decision Tree classifier on training set: {:.2f}'\n",
    "      .format(tree.score(X_train_scaled, y_train)))"
   ]
  },
  {
   "cell_type": "markdown",
   "id": "f871900b",
   "metadata": {},
   "source": [
    "# Create a confusion matrix"
   ]
  },
  {
   "cell_type": "code",
   "execution_count": 79,
   "id": "d86861c1",
   "metadata": {},
   "outputs": [
    {
     "data": {
      "text/plain": [
       "array([0, 0, 0, ..., 0, 0, 0])"
      ]
     },
     "execution_count": 79,
     "metadata": {},
     "output_type": "execute_result"
    }
   ],
   "source": [
    "tree.predict(X_train_scaled)"
   ]
  },
  {
   "cell_type": "code",
   "execution_count": 80,
   "id": "2c7bb298",
   "metadata": {},
   "outputs": [],
   "source": [
    "predictions = tree.predict(X_train_scaled)\n",
    "actual = y_train"
   ]
  },
  {
   "cell_type": "code",
   "execution_count": 81,
   "id": "15ac7e79",
   "metadata": {},
   "outputs": [
    {
     "data": {
      "text/plain": [
       "array([[14940,     0],\n",
       "       [  978,     0]])"
      ]
     },
     "execution_count": 81,
     "metadata": {},
     "output_type": "execute_result"
    }
   ],
   "source": [
    "confusion_matrix(actual, predictions)"
   ]
  },
  {
   "cell_type": "code",
   "execution_count": 82,
   "id": "4781243a",
   "metadata": {},
   "outputs": [
    {
     "data": {
      "text/html": [
       "<div>\n",
       "<style scoped>\n",
       "    .dataframe tbody tr th:only-of-type {\n",
       "        vertical-align: middle;\n",
       "    }\n",
       "\n",
       "    .dataframe tbody tr th {\n",
       "        vertical-align: top;\n",
       "    }\n",
       "\n",
       "    .dataframe thead th {\n",
       "        text-align: right;\n",
       "    }\n",
       "</style>\n",
       "<table border=\"1\" class=\"dataframe\">\n",
       "  <thead>\n",
       "    <tr style=\"text-align: right;\">\n",
       "      <th>col_0</th>\n",
       "      <th>0</th>\n",
       "    </tr>\n",
       "    <tr>\n",
       "      <th>charter_encoded</th>\n",
       "      <th></th>\n",
       "    </tr>\n",
       "  </thead>\n",
       "  <tbody>\n",
       "    <tr>\n",
       "      <th>0</th>\n",
       "      <td>14940</td>\n",
       "    </tr>\n",
       "    <tr>\n",
       "      <th>1</th>\n",
       "      <td>978</td>\n",
       "    </tr>\n",
       "  </tbody>\n",
       "</table>\n",
       "</div>"
      ],
      "text/plain": [
       "col_0                0\n",
       "charter_encoded       \n",
       "0                14940\n",
       "1                  978"
      ]
     },
     "execution_count": 82,
     "metadata": {},
     "output_type": "execute_result"
    }
   ],
   "source": [
    "pd.crosstab(y_train['charter_encoded'], tree.predict(X_train_scaled))"
   ]
  },
  {
   "cell_type": "code",
   "execution_count": 83,
   "id": "7f2ed28b",
   "metadata": {},
   "outputs": [
    {
     "data": {
      "text/plain": [
       "<sklearn.metrics._plot.confusion_matrix.ConfusionMatrixDisplay at 0x16e0281f0>"
      ]
     },
     "execution_count": 83,
     "metadata": {},
     "output_type": "execute_result"
    },
    {
     "data": {
      "image/png": "[encoded data removed]",
      "text/plain": [
       "<Figure size 432x288 with 2 Axes>"
      ]
     },
     "metadata": {
      "needs_background": "light"
     },
     "output_type": "display_data"
    }
   ],
   "source": [
    "plot_confusion_matrix(tree, X_train_scaled, y_train, display_labels=['traditional', 'charter'])\n"
   ]
  },
  {
   "cell_type": "code",
   "execution_count": 84,
   "id": "77720401",
   "metadata": {},
   "outputs": [
    {
     "name": "stdout",
     "output_type": "stream",
     "text": [
      "              precision    recall  f1-score   support\n",
      "\n",
      "           0       0.94      1.00      0.97     14940\n",
      "           1       0.00      0.00      0.00       978\n",
      "\n",
      "    accuracy                           0.94     15918\n",
      "   macro avg       0.47      0.50      0.48     15918\n",
      "weighted avg       0.88      0.94      0.91     15918\n",
      "\n"
     ]
    }
   ],
   "source": [
    "print(classification_report(actual, predictions))"
   ]
  },
  {
   "cell_type": "code",
   "execution_count": null,
   "id": "42686fbc",
   "metadata": {},
   "outputs": [],
   "source": []
  }
 ],
 "metadata": {
  "kernelspec": {
   "display_name": "Python 3 (ipykernel)",
   "language": "python",
   "name": "python3"
  },
  "language_info": {
   "codemirror_mode": {
    "name": "ipython",
    "version": 3
   },
   "file_extension": ".py",
   "mimetype": "text/x-python",
   "name": "python",
   "nbconvert_exporter": "python",
   "pygments_lexer": "ipython3",
   "version": "3.9.12"
  }
 },
 "nbformat": 4,
 "nbformat_minor": 5
}
