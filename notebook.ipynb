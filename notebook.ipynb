{
 "cells": [
  {
   "cell_type": "code",
   "execution_count": 1,
   "id": "ad3ee34c",
   "metadata": {},
   "outputs": [],
   "source": [
    "from matplotlib import pyplot as plt\n",
    "from matplotlib.colors import ListedColormap\n",
    "from env import user, password, host\n",
    "from scipy import stats\n",
    "from scipy.stats import levene, ttest_ind\n",
    "from sklearn.ensemble import RandomForestClassifier\n",
    "from sklearn.impute import SimpleImputer\n",
    "from sklearn.linear_model import LogisticRegression\n",
    "from sklearn.metrics import classification_report, confusion_matrix, ConfusionMatrixDisplay, plot_confusion_matrix\n",
    "from sklearn.model_selection import train_test_split\n",
    "from sklearn.neighbors import KNeighborsClassifier\n",
    "from sklearn.preprocessing import MinMaxScaler\n",
    "from sklearn.tree import DecisionTreeClassifier, plot_tree, export_text\n",
    "import math\n",
    "import numpy as np\n",
    "import os\n",
    "import pandas as pd\n",
    "import requests\n",
    "import seaborn as sns\n",
    "import statsmodels.api as sm\n",
    "import warnings\n",
    "warnings.filterwarnings(\"ignore\")\n",
    "import wrangle as w\n"
   ]
  },
  {
   "cell_type": "markdown",
   "id": "51dc80aa",
   "metadata": {},
   "source": [
    "# Acquire"
   ]
  },
  {
   "cell_type": "markdown",
   "id": "77ef03d3",
   "metadata": {},
   "source": [
    "### Data was acquired from the Texas Education Agency website"
   ]
  },
  {
   "cell_type": "code",
   "execution_count": 2,
   "id": "88820644",
   "metadata": {},
   "outputs": [],
   "source": [
    "df22 = pd.read_csv('CAMPUS_summary_22.csv')\n",
    "df21 = pd.read_csv('CAMPUS_summary_21.csv')\n",
    "df20 = pd.read_csv('CAMPUS_summary_20.csv')\n",
    "df19 = pd.read_csv('CAMPUS_summary_19.csv')\n",
    "df18 = pd.read_csv('CAMPUS_summary_18.csv')"
   ]
  },
  {
   "cell_type": "code",
   "execution_count": 3,
   "id": "2b060d9a",
   "metadata": {},
   "outputs": [
    {
     "data": {
      "text/html": [
       "<div>\n",
       "<style scoped>\n",
       "    .dataframe tbody tr th:only-of-type {\n",
       "        vertical-align: middle;\n",
       "    }\n",
       "\n",
       "    .dataframe tbody tr th {\n",
       "        vertical-align: top;\n",
       "    }\n",
       "\n",
       "    .dataframe thead th {\n",
       "        text-align: right;\n",
       "    }\n",
       "</style>\n",
       "<table border=\"1\" class=\"dataframe\">\n",
       "  <thead>\n",
       "    <tr style=\"text-align: right;\">\n",
       "      <th></th>\n",
       "      <th>agg_level</th>\n",
       "      <th>campus_number</th>\n",
       "      <th>region</th>\n",
       "      <th>dist_name_num</th>\n",
       "      <th>charter_status</th>\n",
       "      <th>campus</th>\n",
       "      <th>section</th>\n",
       "      <th>heading</th>\n",
       "      <th>heading_name</th>\n",
       "      <th>student_count</th>\n",
       "    </tr>\n",
       "  </thead>\n",
       "  <tbody>\n",
       "    <tr>\n",
       "      <th>0</th>\n",
       "      <td>CAMPUS SUMMARY</td>\n",
       "      <td>57816102</td>\n",
       "      <td>10</td>\n",
       "      <td>A W BROWN LEADERSHIP ACADEMY 057816</td>\n",
       "      <td>OPEN ENROLLMENT CHARTER</td>\n",
       "      <td>GENESIS CAMPUS PRE-K THRU 5 057816102</td>\n",
       "      <td>A-PARTICIPATION</td>\n",
       "      <td>A01</td>\n",
       "      <td>CAMPUS CUMULATIVE YEAR END ENROLLMENT</td>\n",
       "      <td>533</td>\n",
       "    </tr>\n",
       "    <tr>\n",
       "      <th>1</th>\n",
       "      <td>CAMPUS SUMMARY</td>\n",
       "      <td>57816102</td>\n",
       "      <td>10</td>\n",
       "      <td>A W BROWN LEADERSHIP ACADEMY 057816</td>\n",
       "      <td>OPEN ENROLLMENT CHARTER</td>\n",
       "      <td>GENESIS CAMPUS PRE-K THRU 5 057816102</td>\n",
       "      <td>A-PARTICIPATION</td>\n",
       "      <td>A02</td>\n",
       "      <td>CAMPUS DISCIPLINE POPULATION</td>\n",
       "      <td>27</td>\n",
       "    </tr>\n",
       "    <tr>\n",
       "      <th>2</th>\n",
       "      <td>CAMPUS SUMMARY</td>\n",
       "      <td>57816102</td>\n",
       "      <td>10</td>\n",
       "      <td>A W BROWN LEADERSHIP ACADEMY 057816</td>\n",
       "      <td>OPEN ENROLLMENT CHARTER</td>\n",
       "      <td>GENESIS CAMPUS PRE-K THRU 5 057816102</td>\n",
       "      <td>A-PARTICIPATION</td>\n",
       "      <td>A03</td>\n",
       "      <td>CAMPUS DISCIPLINE RECORD COUNT</td>\n",
       "      <td>40</td>\n",
       "    </tr>\n",
       "    <tr>\n",
       "      <th>3</th>\n",
       "      <td>CAMPUS SUMMARY</td>\n",
       "      <td>57816102</td>\n",
       "      <td>10</td>\n",
       "      <td>A W BROWN LEADERSHIP ACADEMY 057816</td>\n",
       "      <td>OPEN ENROLLMENT CHARTER</td>\n",
       "      <td>GENESIS CAMPUS PRE-K THRU 5 057816102</td>\n",
       "      <td>B-DISCIPLINE DATA TRENDS</td>\n",
       "      <td>B13</td>\n",
       "      <td>STUDENTS SUSPENDED OUT OF SCHOOL</td>\n",
       "      <td>27</td>\n",
       "    </tr>\n",
       "    <tr>\n",
       "      <th>4</th>\n",
       "      <td>CAMPUS SUMMARY</td>\n",
       "      <td>57816102</td>\n",
       "      <td>10</td>\n",
       "      <td>A W BROWN LEADERSHIP ACADEMY 057816</td>\n",
       "      <td>OPEN ENROLLMENT CHARTER</td>\n",
       "      <td>GENESIS CAMPUS PRE-K THRU 5 057816102</td>\n",
       "      <td>F-OUT OF SCHOOL SUSPENSIONS</td>\n",
       "      <td>C24</td>\n",
       "      <td>BLACK OR AFRICAN AMERICAN</td>\n",
       "      <td>-999</td>\n",
       "    </tr>\n",
       "  </tbody>\n",
       "</table>\n",
       "</div>"
      ],
      "text/plain": [
       "        agg_level  campus_number  region                        dist_name_num  \\\n",
       "0  CAMPUS SUMMARY       57816102      10  A W BROWN LEADERSHIP ACADEMY 057816   \n",
       "1  CAMPUS SUMMARY       57816102      10  A W BROWN LEADERSHIP ACADEMY 057816   \n",
       "2  CAMPUS SUMMARY       57816102      10  A W BROWN LEADERSHIP ACADEMY 057816   \n",
       "3  CAMPUS SUMMARY       57816102      10  A W BROWN LEADERSHIP ACADEMY 057816   \n",
       "4  CAMPUS SUMMARY       57816102      10  A W BROWN LEADERSHIP ACADEMY 057816   \n",
       "\n",
       "            charter_status                                 campus  \\\n",
       "0  OPEN ENROLLMENT CHARTER  GENESIS CAMPUS PRE-K THRU 5 057816102   \n",
       "1  OPEN ENROLLMENT CHARTER  GENESIS CAMPUS PRE-K THRU 5 057816102   \n",
       "2  OPEN ENROLLMENT CHARTER  GENESIS CAMPUS PRE-K THRU 5 057816102   \n",
       "3  OPEN ENROLLMENT CHARTER  GENESIS CAMPUS PRE-K THRU 5 057816102   \n",
       "4  OPEN ENROLLMENT CHARTER  GENESIS CAMPUS PRE-K THRU 5 057816102   \n",
       "\n",
       "                       section heading                           heading_name  \\\n",
       "0              A-PARTICIPATION     A01  CAMPUS CUMULATIVE YEAR END ENROLLMENT   \n",
       "1              A-PARTICIPATION     A02           CAMPUS DISCIPLINE POPULATION   \n",
       "2              A-PARTICIPATION     A03         CAMPUS DISCIPLINE RECORD COUNT   \n",
       "3     B-DISCIPLINE DATA TRENDS     B13       STUDENTS SUSPENDED OUT OF SCHOOL   \n",
       "4  F-OUT OF SCHOOL SUSPENSIONS     C24              BLACK OR AFRICAN AMERICAN   \n",
       "\n",
       "  student_count  \n",
       "0           533  \n",
       "1            27  \n",
       "2            40  \n",
       "3            27  \n",
       "4          -999  "
      ]
     },
     "execution_count": 3,
     "metadata": {},
     "output_type": "execute_result"
    }
   ],
   "source": [
    "df22.head()"
   ]
  },
  {
   "cell_type": "code",
   "execution_count": 4,
   "id": "864878fd",
   "metadata": {},
   "outputs": [
    {
     "data": {
      "text/html": [
       "<div>\n",
       "<style scoped>\n",
       "    .dataframe tbody tr th:only-of-type {\n",
       "        vertical-align: middle;\n",
       "    }\n",
       "\n",
       "    .dataframe tbody tr th {\n",
       "        vertical-align: top;\n",
       "    }\n",
       "\n",
       "    .dataframe thead th {\n",
       "        text-align: right;\n",
       "    }\n",
       "</style>\n",
       "<table border=\"1\" class=\"dataframe\">\n",
       "  <thead>\n",
       "    <tr style=\"text-align: right;\">\n",
       "      <th></th>\n",
       "      <th>agg_level</th>\n",
       "      <th>campus_number</th>\n",
       "      <th>region</th>\n",
       "      <th>dist_name_num</th>\n",
       "      <th>charter_status</th>\n",
       "      <th>campus</th>\n",
       "      <th>section</th>\n",
       "      <th>heading</th>\n",
       "      <th>heading_name</th>\n",
       "      <th>student_count</th>\n",
       "    </tr>\n",
       "  </thead>\n",
       "  <tbody>\n",
       "    <tr>\n",
       "      <th>0</th>\n",
       "      <td>CAMPUS SUMMARY</td>\n",
       "      <td>57816102</td>\n",
       "      <td>10</td>\n",
       "      <td>A W BROWN LEADERSHIP ACADEMY 057816</td>\n",
       "      <td>OPEN ENROLLMENT CHARTER</td>\n",
       "      <td>GENESIS CAMPUS PRE-K THRU 5 057816102</td>\n",
       "      <td>A-PARTICIPATION</td>\n",
       "      <td>A01</td>\n",
       "      <td>CAMPUS CUMULATIVE YEAR END ENROLLMENT</td>\n",
       "      <td>853</td>\n",
       "    </tr>\n",
       "    <tr>\n",
       "      <th>1</th>\n",
       "      <td>CAMPUS SUMMARY</td>\n",
       "      <td>57816101</td>\n",
       "      <td>10</td>\n",
       "      <td>A W BROWN LEADERSHIP ACADEMY 057816</td>\n",
       "      <td>OPEN ENROLLMENT CHARTER</td>\n",
       "      <td>QUEST CAMPUS PRE-K THRU 8 057816101</td>\n",
       "      <td>A-PARTICIPATION</td>\n",
       "      <td>A01</td>\n",
       "      <td>CAMPUS CUMULATIVE YEAR END ENROLLMENT</td>\n",
       "      <td>682</td>\n",
       "    </tr>\n",
       "    <tr>\n",
       "      <th>2</th>\n",
       "      <td>CAMPUS SUMMARY</td>\n",
       "      <td>57816101</td>\n",
       "      <td>10</td>\n",
       "      <td>A W BROWN LEADERSHIP ACADEMY 057816</td>\n",
       "      <td>OPEN ENROLLMENT CHARTER</td>\n",
       "      <td>QUEST CAMPUS PRE-K THRU 8 057816101</td>\n",
       "      <td>A-PARTICIPATION</td>\n",
       "      <td>A02</td>\n",
       "      <td>CAMPUS DISCIPLINE POPULATION</td>\n",
       "      <td>-999</td>\n",
       "    </tr>\n",
       "    <tr>\n",
       "      <th>3</th>\n",
       "      <td>CAMPUS SUMMARY</td>\n",
       "      <td>57816101</td>\n",
       "      <td>10</td>\n",
       "      <td>A W BROWN LEADERSHIP ACADEMY 057816</td>\n",
       "      <td>OPEN ENROLLMENT CHARTER</td>\n",
       "      <td>QUEST CAMPUS PRE-K THRU 8 057816101</td>\n",
       "      <td>A-PARTICIPATION</td>\n",
       "      <td>A03</td>\n",
       "      <td>CAMPUS DISCIPLINE RECORD COUNT</td>\n",
       "      <td>-999</td>\n",
       "    </tr>\n",
       "    <tr>\n",
       "      <th>4</th>\n",
       "      <td>CAMPUS SUMMARY</td>\n",
       "      <td>57816101</td>\n",
       "      <td>10</td>\n",
       "      <td>A W BROWN LEADERSHIP ACADEMY 057816</td>\n",
       "      <td>OPEN ENROLLMENT CHARTER</td>\n",
       "      <td>QUEST CAMPUS PRE-K THRU 8 057816101</td>\n",
       "      <td>B-DISCIPLINE DATA TRENDS</td>\n",
       "      <td>B13</td>\n",
       "      <td>STUDENTS SUSPENDED OUT OF SCHOOL</td>\n",
       "      <td>-999</td>\n",
       "    </tr>\n",
       "  </tbody>\n",
       "</table>\n",
       "</div>"
      ],
      "text/plain": [
       "        agg_level  campus_number  region                        dist_name_num  \\\n",
       "0  CAMPUS SUMMARY       57816102      10  A W BROWN LEADERSHIP ACADEMY 057816   \n",
       "1  CAMPUS SUMMARY       57816101      10  A W BROWN LEADERSHIP ACADEMY 057816   \n",
       "2  CAMPUS SUMMARY       57816101      10  A W BROWN LEADERSHIP ACADEMY 057816   \n",
       "3  CAMPUS SUMMARY       57816101      10  A W BROWN LEADERSHIP ACADEMY 057816   \n",
       "4  CAMPUS SUMMARY       57816101      10  A W BROWN LEADERSHIP ACADEMY 057816   \n",
       "\n",
       "            charter_status                                 campus  \\\n",
       "0  OPEN ENROLLMENT CHARTER  GENESIS CAMPUS PRE-K THRU 5 057816102   \n",
       "1  OPEN ENROLLMENT CHARTER    QUEST CAMPUS PRE-K THRU 8 057816101   \n",
       "2  OPEN ENROLLMENT CHARTER    QUEST CAMPUS PRE-K THRU 8 057816101   \n",
       "3  OPEN ENROLLMENT CHARTER    QUEST CAMPUS PRE-K THRU 8 057816101   \n",
       "4  OPEN ENROLLMENT CHARTER    QUEST CAMPUS PRE-K THRU 8 057816101   \n",
       "\n",
       "                    section heading                           heading_name  \\\n",
       "0           A-PARTICIPATION     A01  CAMPUS CUMULATIVE YEAR END ENROLLMENT   \n",
       "1           A-PARTICIPATION     A01  CAMPUS CUMULATIVE YEAR END ENROLLMENT   \n",
       "2           A-PARTICIPATION     A02           CAMPUS DISCIPLINE POPULATION   \n",
       "3           A-PARTICIPATION     A03         CAMPUS DISCIPLINE RECORD COUNT   \n",
       "4  B-DISCIPLINE DATA TRENDS     B13       STUDENTS SUSPENDED OUT OF SCHOOL   \n",
       "\n",
       "  student_count  \n",
       "0           853  \n",
       "1           682  \n",
       "2          -999  \n",
       "3          -999  \n",
       "4          -999  "
      ]
     },
     "execution_count": 4,
     "metadata": {},
     "output_type": "execute_result"
    }
   ],
   "source": [
    "df21.head()"
   ]
  },
  {
   "cell_type": "code",
   "execution_count": 5,
   "id": "9d704c01",
   "metadata": {},
   "outputs": [
    {
     "data": {
      "text/html": [
       "<div>\n",
       "<style scoped>\n",
       "    .dataframe tbody tr th:only-of-type {\n",
       "        vertical-align: middle;\n",
       "    }\n",
       "\n",
       "    .dataframe tbody tr th {\n",
       "        vertical-align: top;\n",
       "    }\n",
       "\n",
       "    .dataframe thead th {\n",
       "        text-align: right;\n",
       "    }\n",
       "</style>\n",
       "<table border=\"1\" class=\"dataframe\">\n",
       "  <thead>\n",
       "    <tr style=\"text-align: right;\">\n",
       "      <th></th>\n",
       "      <th>agg_level</th>\n",
       "      <th>campus_number</th>\n",
       "      <th>region</th>\n",
       "      <th>dist_name_num</th>\n",
       "      <th>charter_status</th>\n",
       "      <th>campus</th>\n",
       "      <th>section</th>\n",
       "      <th>heading</th>\n",
       "      <th>heading_name</th>\n",
       "      <th>student_count</th>\n",
       "    </tr>\n",
       "  </thead>\n",
       "  <tbody>\n",
       "    <tr>\n",
       "      <th>0</th>\n",
       "      <td>CAMPUS SUMMARY</td>\n",
       "      <td>57816102</td>\n",
       "      <td>10</td>\n",
       "      <td>A W BROWN LEADERSHIP ACADEMY 057816</td>\n",
       "      <td>OPEN ENROLLMENT CHARTER</td>\n",
       "      <td>GENESIS CAMPUS PRE-K THRU 5 057816102</td>\n",
       "      <td>A-PARTICIPATION</td>\n",
       "      <td>A01</td>\n",
       "      <td>CAMPUS CUMULATIVE YEAR END ENROLLMENT</td>\n",
       "      <td>1086</td>\n",
       "    </tr>\n",
       "    <tr>\n",
       "      <th>1</th>\n",
       "      <td>CAMPUS SUMMARY</td>\n",
       "      <td>57816102</td>\n",
       "      <td>10</td>\n",
       "      <td>A W BROWN LEADERSHIP ACADEMY 057816</td>\n",
       "      <td>OPEN ENROLLMENT CHARTER</td>\n",
       "      <td>GENESIS CAMPUS PRE-K THRU 5 057816102</td>\n",
       "      <td>A-PARTICIPATION</td>\n",
       "      <td>A02</td>\n",
       "      <td>CAMPUS DISCIPLINE POPULATION</td>\n",
       "      <td>20</td>\n",
       "    </tr>\n",
       "    <tr>\n",
       "      <th>2</th>\n",
       "      <td>CAMPUS SUMMARY</td>\n",
       "      <td>57816102</td>\n",
       "      <td>10</td>\n",
       "      <td>A W BROWN LEADERSHIP ACADEMY 057816</td>\n",
       "      <td>OPEN ENROLLMENT CHARTER</td>\n",
       "      <td>GENESIS CAMPUS PRE-K THRU 5 057816102</td>\n",
       "      <td>A-PARTICIPATION</td>\n",
       "      <td>A03</td>\n",
       "      <td>CAMPUS DISCIPLINE RECORD COUNT</td>\n",
       "      <td>32</td>\n",
       "    </tr>\n",
       "    <tr>\n",
       "      <th>3</th>\n",
       "      <td>CAMPUS SUMMARY</td>\n",
       "      <td>57816102</td>\n",
       "      <td>10</td>\n",
       "      <td>A W BROWN LEADERSHIP ACADEMY 057816</td>\n",
       "      <td>OPEN ENROLLMENT CHARTER</td>\n",
       "      <td>GENESIS CAMPUS PRE-K THRU 5 057816102</td>\n",
       "      <td>B-DISCIPLINE DATA TRENDS</td>\n",
       "      <td>B10</td>\n",
       "      <td>COUNT OF STUDENTS SUSPENDED IN SCHOOL</td>\n",
       "      <td>-999</td>\n",
       "    </tr>\n",
       "    <tr>\n",
       "      <th>4</th>\n",
       "      <td>CAMPUS SUMMARY</td>\n",
       "      <td>57816102</td>\n",
       "      <td>10</td>\n",
       "      <td>A W BROWN LEADERSHIP ACADEMY 057816</td>\n",
       "      <td>OPEN ENROLLMENT CHARTER</td>\n",
       "      <td>GENESIS CAMPUS PRE-K THRU 5 057816102</td>\n",
       "      <td>B-DISCIPLINE DATA TRENDS</td>\n",
       "      <td>B13</td>\n",
       "      <td>STUDENTS SUSPENDED OUT OF SCHOOL</td>\n",
       "      <td>16</td>\n",
       "    </tr>\n",
       "  </tbody>\n",
       "</table>\n",
       "</div>"
      ],
      "text/plain": [
       "        agg_level  campus_number  region                        dist_name_num  \\\n",
       "0  CAMPUS SUMMARY       57816102      10  A W BROWN LEADERSHIP ACADEMY 057816   \n",
       "1  CAMPUS SUMMARY       57816102      10  A W BROWN LEADERSHIP ACADEMY 057816   \n",
       "2  CAMPUS SUMMARY       57816102      10  A W BROWN LEADERSHIP ACADEMY 057816   \n",
       "3  CAMPUS SUMMARY       57816102      10  A W BROWN LEADERSHIP ACADEMY 057816   \n",
       "4  CAMPUS SUMMARY       57816102      10  A W BROWN LEADERSHIP ACADEMY 057816   \n",
       "\n",
       "            charter_status                                 campus  \\\n",
       "0  OPEN ENROLLMENT CHARTER  GENESIS CAMPUS PRE-K THRU 5 057816102   \n",
       "1  OPEN ENROLLMENT CHARTER  GENESIS CAMPUS PRE-K THRU 5 057816102   \n",
       "2  OPEN ENROLLMENT CHARTER  GENESIS CAMPUS PRE-K THRU 5 057816102   \n",
       "3  OPEN ENROLLMENT CHARTER  GENESIS CAMPUS PRE-K THRU 5 057816102   \n",
       "4  OPEN ENROLLMENT CHARTER  GENESIS CAMPUS PRE-K THRU 5 057816102   \n",
       "\n",
       "                    section heading                           heading_name  \\\n",
       "0           A-PARTICIPATION     A01  CAMPUS CUMULATIVE YEAR END ENROLLMENT   \n",
       "1           A-PARTICIPATION     A02           CAMPUS DISCIPLINE POPULATION   \n",
       "2           A-PARTICIPATION     A03         CAMPUS DISCIPLINE RECORD COUNT   \n",
       "3  B-DISCIPLINE DATA TRENDS     B10  COUNT OF STUDENTS SUSPENDED IN SCHOOL   \n",
       "4  B-DISCIPLINE DATA TRENDS     B13       STUDENTS SUSPENDED OUT OF SCHOOL   \n",
       "\n",
       "  student_count  \n",
       "0          1086  \n",
       "1            20  \n",
       "2            32  \n",
       "3          -999  \n",
       "4            16  "
      ]
     },
     "execution_count": 5,
     "metadata": {},
     "output_type": "execute_result"
    }
   ],
   "source": [
    "df20.head()"
   ]
  },
  {
   "cell_type": "code",
   "execution_count": 6,
   "id": "f256385c",
   "metadata": {},
   "outputs": [
    {
     "data": {
      "text/html": [
       "<div>\n",
       "<style scoped>\n",
       "    .dataframe tbody tr th:only-of-type {\n",
       "        vertical-align: middle;\n",
       "    }\n",
       "\n",
       "    .dataframe tbody tr th {\n",
       "        vertical-align: top;\n",
       "    }\n",
       "\n",
       "    .dataframe thead th {\n",
       "        text-align: right;\n",
       "    }\n",
       "</style>\n",
       "<table border=\"1\" class=\"dataframe\">\n",
       "  <thead>\n",
       "    <tr style=\"text-align: right;\">\n",
       "      <th></th>\n",
       "      <th>agg_level</th>\n",
       "      <th>campus_number</th>\n",
       "      <th>region</th>\n",
       "      <th>dist_name_num</th>\n",
       "      <th>charter_status</th>\n",
       "      <th>campus</th>\n",
       "      <th>section</th>\n",
       "      <th>heading</th>\n",
       "      <th>heading_name</th>\n",
       "      <th>student_count</th>\n",
       "    </tr>\n",
       "  </thead>\n",
       "  <tbody>\n",
       "    <tr>\n",
       "      <th>0</th>\n",
       "      <td>CAMPUS SUMMARY</td>\n",
       "      <td>57816102</td>\n",
       "      <td>10</td>\n",
       "      <td>A W BROWN LEADERSHIP ACADEMY 057816</td>\n",
       "      <td>OPEN ENROLLMENT CHARTER</td>\n",
       "      <td>A W BROWN - F L A EARLY CHILDHOOD 057816102</td>\n",
       "      <td>A-PARTICIPATION</td>\n",
       "      <td>A01</td>\n",
       "      <td>CAMPUS CUMULATIVE YEAR END ENROLLMENT</td>\n",
       "      <td>1291</td>\n",
       "    </tr>\n",
       "    <tr>\n",
       "      <th>1</th>\n",
       "      <td>CAMPUS SUMMARY</td>\n",
       "      <td>57816101</td>\n",
       "      <td>10</td>\n",
       "      <td>A W BROWN LEADERSHIP ACADEMY 057816</td>\n",
       "      <td>OPEN ENROLLMENT CHARTER</td>\n",
       "      <td>AW BROWN-F L A INT CAMPUS 057816101</td>\n",
       "      <td>A-PARTICIPATION</td>\n",
       "      <td>A01</td>\n",
       "      <td>CAMPUS CUMULATIVE YEAR END ENROLLMENT</td>\n",
       "      <td>961</td>\n",
       "    </tr>\n",
       "    <tr>\n",
       "      <th>2</th>\n",
       "      <td>CAMPUS SUMMARY</td>\n",
       "      <td>57829001</td>\n",
       "      <td>10</td>\n",
       "      <td>A+ ACADEMY 057829</td>\n",
       "      <td>OPEN ENROLLMENT CHARTER</td>\n",
       "      <td>A+ ACADEMY EL 057829001</td>\n",
       "      <td>A-PARTICIPATION</td>\n",
       "      <td>A01</td>\n",
       "      <td>CAMPUS CUMULATIVE YEAR END ENROLLMENT</td>\n",
       "      <td>853</td>\n",
       "    </tr>\n",
       "    <tr>\n",
       "      <th>3</th>\n",
       "      <td>CAMPUS SUMMARY</td>\n",
       "      <td>57829001</td>\n",
       "      <td>10</td>\n",
       "      <td>A+ ACADEMY 057829</td>\n",
       "      <td>OPEN ENROLLMENT CHARTER</td>\n",
       "      <td>A+ ACADEMY EL 057829001</td>\n",
       "      <td>A-PARTICIPATION</td>\n",
       "      <td>A02</td>\n",
       "      <td>CAMPUS DISCIPLINE POPULATION</td>\n",
       "      <td>24</td>\n",
       "    </tr>\n",
       "    <tr>\n",
       "      <th>4</th>\n",
       "      <td>CAMPUS SUMMARY</td>\n",
       "      <td>57829001</td>\n",
       "      <td>10</td>\n",
       "      <td>A+ ACADEMY 057829</td>\n",
       "      <td>OPEN ENROLLMENT CHARTER</td>\n",
       "      <td>A+ ACADEMY EL 057829001</td>\n",
       "      <td>A-PARTICIPATION</td>\n",
       "      <td>A03</td>\n",
       "      <td>CAMPUS DISCIPLINE RECORD COUNT</td>\n",
       "      <td>26</td>\n",
       "    </tr>\n",
       "  </tbody>\n",
       "</table>\n",
       "</div>"
      ],
      "text/plain": [
       "        agg_level  campus_number  region                        dist_name_num  \\\n",
       "0  CAMPUS SUMMARY       57816102      10  A W BROWN LEADERSHIP ACADEMY 057816   \n",
       "1  CAMPUS SUMMARY       57816101      10  A W BROWN LEADERSHIP ACADEMY 057816   \n",
       "2  CAMPUS SUMMARY       57829001      10                    A+ ACADEMY 057829   \n",
       "3  CAMPUS SUMMARY       57829001      10                    A+ ACADEMY 057829   \n",
       "4  CAMPUS SUMMARY       57829001      10                    A+ ACADEMY 057829   \n",
       "\n",
       "            charter_status                                       campus  \\\n",
       "0  OPEN ENROLLMENT CHARTER  A W BROWN - F L A EARLY CHILDHOOD 057816102   \n",
       "1  OPEN ENROLLMENT CHARTER          AW BROWN-F L A INT CAMPUS 057816101   \n",
       "2  OPEN ENROLLMENT CHARTER                      A+ ACADEMY EL 057829001   \n",
       "3  OPEN ENROLLMENT CHARTER                      A+ ACADEMY EL 057829001   \n",
       "4  OPEN ENROLLMENT CHARTER                      A+ ACADEMY EL 057829001   \n",
       "\n",
       "           section heading                           heading_name  \\\n",
       "0  A-PARTICIPATION     A01  CAMPUS CUMULATIVE YEAR END ENROLLMENT   \n",
       "1  A-PARTICIPATION     A01  CAMPUS CUMULATIVE YEAR END ENROLLMENT   \n",
       "2  A-PARTICIPATION     A01  CAMPUS CUMULATIVE YEAR END ENROLLMENT   \n",
       "3  A-PARTICIPATION     A02           CAMPUS DISCIPLINE POPULATION   \n",
       "4  A-PARTICIPATION     A03         CAMPUS DISCIPLINE RECORD COUNT   \n",
       "\n",
       "  student_count  \n",
       "0          1291  \n",
       "1           961  \n",
       "2           853  \n",
       "3            24  \n",
       "4            26  "
      ]
     },
     "execution_count": 6,
     "metadata": {},
     "output_type": "execute_result"
    }
   ],
   "source": [
    "df19.head()"
   ]
  },
  {
   "cell_type": "code",
   "execution_count": 7,
   "id": "d893156e",
   "metadata": {},
   "outputs": [
    {
     "data": {
      "text/html": [
       "<div>\n",
       "<style scoped>\n",
       "    .dataframe tbody tr th:only-of-type {\n",
       "        vertical-align: middle;\n",
       "    }\n",
       "\n",
       "    .dataframe tbody tr th {\n",
       "        vertical-align: top;\n",
       "    }\n",
       "\n",
       "    .dataframe thead th {\n",
       "        text-align: right;\n",
       "    }\n",
       "</style>\n",
       "<table border=\"1\" class=\"dataframe\">\n",
       "  <thead>\n",
       "    <tr style=\"text-align: right;\">\n",
       "      <th></th>\n",
       "      <th>agg_level</th>\n",
       "      <th>campus_number</th>\n",
       "      <th>region</th>\n",
       "      <th>dist_name_num</th>\n",
       "      <th>charter_status</th>\n",
       "      <th>campus</th>\n",
       "      <th>section</th>\n",
       "      <th>heading</th>\n",
       "      <th>heading_name</th>\n",
       "      <th>student_count</th>\n",
       "    </tr>\n",
       "  </thead>\n",
       "  <tbody>\n",
       "    <tr>\n",
       "      <th>0</th>\n",
       "      <td>CAMPUS SUMMARY</td>\n",
       "      <td>57816102</td>\n",
       "      <td>10</td>\n",
       "      <td>A W BROWN LEADERSHIP ACADEMY 057816</td>\n",
       "      <td>OPEN ENROLLMENT CHARTER</td>\n",
       "      <td>A W BROWN - F L A EARLY CHILDHOOD 057816102</td>\n",
       "      <td>A-PARTICIPATION</td>\n",
       "      <td>A01</td>\n",
       "      <td>CAMPUS CUMULATIVE YEAR END ENROLLMENT</td>\n",
       "      <td>1278</td>\n",
       "    </tr>\n",
       "    <tr>\n",
       "      <th>1</th>\n",
       "      <td>CAMPUS SUMMARY</td>\n",
       "      <td>57816101</td>\n",
       "      <td>10</td>\n",
       "      <td>A W BROWN LEADERSHIP ACADEMY 057816</td>\n",
       "      <td>OPEN ENROLLMENT CHARTER</td>\n",
       "      <td>AW BROWN-F L A INT CAMPUS 057816101</td>\n",
       "      <td>A-PARTICIPATION</td>\n",
       "      <td>A01</td>\n",
       "      <td>CAMPUS CUMULATIVE YEAR END ENROLLMENT</td>\n",
       "      <td>1106</td>\n",
       "    </tr>\n",
       "    <tr>\n",
       "      <th>2</th>\n",
       "      <td>CAMPUS SUMMARY</td>\n",
       "      <td>57829001</td>\n",
       "      <td>10</td>\n",
       "      <td>A+ ACADEMY 057829</td>\n",
       "      <td>OPEN ENROLLMENT CHARTER</td>\n",
       "      <td>A+ ACADEMY EL 057829001</td>\n",
       "      <td>A-PARTICIPATION</td>\n",
       "      <td>A01</td>\n",
       "      <td>CAMPUS CUMULATIVE YEAR END ENROLLMENT</td>\n",
       "      <td>859</td>\n",
       "    </tr>\n",
       "    <tr>\n",
       "      <th>3</th>\n",
       "      <td>CAMPUS SUMMARY</td>\n",
       "      <td>57829002</td>\n",
       "      <td>10</td>\n",
       "      <td>A+ ACADEMY 057829</td>\n",
       "      <td>OPEN ENROLLMENT CHARTER</td>\n",
       "      <td>A+ SECONDARY SCHOOL 057829002</td>\n",
       "      <td>A-PARTICIPATION</td>\n",
       "      <td>A01</td>\n",
       "      <td>CAMPUS CUMULATIVE YEAR END ENROLLMENT</td>\n",
       "      <td>584</td>\n",
       "    </tr>\n",
       "    <tr>\n",
       "      <th>4</th>\n",
       "      <td>CAMPUS SUMMARY</td>\n",
       "      <td>57829001</td>\n",
       "      <td>10</td>\n",
       "      <td>A+ ACADEMY 057829</td>\n",
       "      <td>OPEN ENROLLMENT CHARTER</td>\n",
       "      <td>A+ ACADEMY EL 057829001</td>\n",
       "      <td>A-PARTICIPATION</td>\n",
       "      <td>A02</td>\n",
       "      <td>CAMPUS DISCIPLINE POPULATION</td>\n",
       "      <td>-999</td>\n",
       "    </tr>\n",
       "  </tbody>\n",
       "</table>\n",
       "</div>"
      ],
      "text/plain": [
       "        agg_level  campus_number  region                        dist_name_num  \\\n",
       "0  CAMPUS SUMMARY       57816102      10  A W BROWN LEADERSHIP ACADEMY 057816   \n",
       "1  CAMPUS SUMMARY       57816101      10  A W BROWN LEADERSHIP ACADEMY 057816   \n",
       "2  CAMPUS SUMMARY       57829001      10                    A+ ACADEMY 057829   \n",
       "3  CAMPUS SUMMARY       57829002      10                    A+ ACADEMY 057829   \n",
       "4  CAMPUS SUMMARY       57829001      10                    A+ ACADEMY 057829   \n",
       "\n",
       "            charter_status                                       campus  \\\n",
       "0  OPEN ENROLLMENT CHARTER  A W BROWN - F L A EARLY CHILDHOOD 057816102   \n",
       "1  OPEN ENROLLMENT CHARTER          AW BROWN-F L A INT CAMPUS 057816101   \n",
       "2  OPEN ENROLLMENT CHARTER                      A+ ACADEMY EL 057829001   \n",
       "3  OPEN ENROLLMENT CHARTER                A+ SECONDARY SCHOOL 057829002   \n",
       "4  OPEN ENROLLMENT CHARTER                      A+ ACADEMY EL 057829001   \n",
       "\n",
       "           section heading                           heading_name  \\\n",
       "0  A-PARTICIPATION     A01  CAMPUS CUMULATIVE YEAR END ENROLLMENT   \n",
       "1  A-PARTICIPATION     A01  CAMPUS CUMULATIVE YEAR END ENROLLMENT   \n",
       "2  A-PARTICIPATION     A01  CAMPUS CUMULATIVE YEAR END ENROLLMENT   \n",
       "3  A-PARTICIPATION     A01  CAMPUS CUMULATIVE YEAR END ENROLLMENT   \n",
       "4  A-PARTICIPATION     A02           CAMPUS DISCIPLINE POPULATION   \n",
       "\n",
       "  student_count  \n",
       "0          1278  \n",
       "1          1106  \n",
       "2           859  \n",
       "3           584  \n",
       "4          -999  "
      ]
     },
     "execution_count": 7,
     "metadata": {},
     "output_type": "execute_result"
    }
   ],
   "source": [
    "df18.head()"
   ]
  },
  {
   "cell_type": "raw",
   "id": "7c945121",
   "metadata": {},
   "source": [
    "def prep22(df):\n",
    "    global df22\n",
    "    df22['charter_encoded'] = df22.charter_status.map({'OPEN ENROLLMENT CHARTER': 1, 'TRADITIONAL ISD/CSD':0})\n",
    "    df22=df22[(df22.heading == 'A01') | (df22.heading ==  'A03')]\n",
    "    df22=df22[df22['student_count'] != '-999']\n",
    "    df22['student_count']= df22['student_count'].str.replace(\"<\", \"\")\n",
    "    df22['student_count'] = df22['student_count'].astype(float)\n",
    "    dfpivot=df22.pivot(index='campus_number', columns='heading', values= 'student_count').dropna()\n",
    "    df22=df22.merge(dfpivot,how= 'right', on= 'campus_number')\n",
    "    df22=df22.rename(columns={'A01': 'student_enrollment', 'A03':'discipline_count'})\n",
    "    df22['discipline_percent']= ((df22['discipline_count']/df22['student_enrollment'])*100)\n",
    "    df22=df22.round({'discipline_percent': 0})\n",
    "    df22=df22.drop(columns=['agg_level', 'campus_number', 'region', 'charter_status', 'dist_name_num', 'student_count','section', 'heading', 'heading_name', 'student_count'])\n",
    "    df22=df22.drop_duplicates()\n",
    "    df22=df22.reset_index(drop=True)"
   ]
  },
  {
   "cell_type": "code",
   "execution_count": 8,
   "id": "47d402a6",
   "metadata": {},
   "outputs": [
    {
     "data": {
      "text/html": [
       "<div>\n",
       "<style scoped>\n",
       "    .dataframe tbody tr th:only-of-type {\n",
       "        vertical-align: middle;\n",
       "    }\n",
       "\n",
       "    .dataframe tbody tr th {\n",
       "        vertical-align: top;\n",
       "    }\n",
       "\n",
       "    .dataframe thead th {\n",
       "        text-align: right;\n",
       "    }\n",
       "</style>\n",
       "<table border=\"1\" class=\"dataframe\">\n",
       "  <thead>\n",
       "    <tr style=\"text-align: right;\">\n",
       "      <th></th>\n",
       "      <th>agg_level</th>\n",
       "      <th>campus_number</th>\n",
       "      <th>region</th>\n",
       "      <th>dist_name_num</th>\n",
       "      <th>charter_status</th>\n",
       "      <th>campus</th>\n",
       "      <th>section</th>\n",
       "      <th>heading</th>\n",
       "      <th>heading_name</th>\n",
       "      <th>student_count</th>\n",
       "    </tr>\n",
       "  </thead>\n",
       "  <tbody>\n",
       "    <tr>\n",
       "      <th>0</th>\n",
       "      <td>CAMPUS SUMMARY</td>\n",
       "      <td>57816102</td>\n",
       "      <td>10</td>\n",
       "      <td>A W BROWN LEADERSHIP ACADEMY 057816</td>\n",
       "      <td>OPEN ENROLLMENT CHARTER</td>\n",
       "      <td>GENESIS CAMPUS PRE-K THRU 5 057816102</td>\n",
       "      <td>A-PARTICIPATION</td>\n",
       "      <td>A01</td>\n",
       "      <td>CAMPUS CUMULATIVE YEAR END ENROLLMENT</td>\n",
       "      <td>533</td>\n",
       "    </tr>\n",
       "    <tr>\n",
       "      <th>1</th>\n",
       "      <td>CAMPUS SUMMARY</td>\n",
       "      <td>57816102</td>\n",
       "      <td>10</td>\n",
       "      <td>A W BROWN LEADERSHIP ACADEMY 057816</td>\n",
       "      <td>OPEN ENROLLMENT CHARTER</td>\n",
       "      <td>GENESIS CAMPUS PRE-K THRU 5 057816102</td>\n",
       "      <td>A-PARTICIPATION</td>\n",
       "      <td>A02</td>\n",
       "      <td>CAMPUS DISCIPLINE POPULATION</td>\n",
       "      <td>27</td>\n",
       "    </tr>\n",
       "    <tr>\n",
       "      <th>2</th>\n",
       "      <td>CAMPUS SUMMARY</td>\n",
       "      <td>57816102</td>\n",
       "      <td>10</td>\n",
       "      <td>A W BROWN LEADERSHIP ACADEMY 057816</td>\n",
       "      <td>OPEN ENROLLMENT CHARTER</td>\n",
       "      <td>GENESIS CAMPUS PRE-K THRU 5 057816102</td>\n",
       "      <td>A-PARTICIPATION</td>\n",
       "      <td>A03</td>\n",
       "      <td>CAMPUS DISCIPLINE RECORD COUNT</td>\n",
       "      <td>40</td>\n",
       "    </tr>\n",
       "    <tr>\n",
       "      <th>3</th>\n",
       "      <td>CAMPUS SUMMARY</td>\n",
       "      <td>57816102</td>\n",
       "      <td>10</td>\n",
       "      <td>A W BROWN LEADERSHIP ACADEMY 057816</td>\n",
       "      <td>OPEN ENROLLMENT CHARTER</td>\n",
       "      <td>GENESIS CAMPUS PRE-K THRU 5 057816102</td>\n",
       "      <td>B-DISCIPLINE DATA TRENDS</td>\n",
       "      <td>B13</td>\n",
       "      <td>STUDENTS SUSPENDED OUT OF SCHOOL</td>\n",
       "      <td>27</td>\n",
       "    </tr>\n",
       "    <tr>\n",
       "      <th>4</th>\n",
       "      <td>CAMPUS SUMMARY</td>\n",
       "      <td>57816102</td>\n",
       "      <td>10</td>\n",
       "      <td>A W BROWN LEADERSHIP ACADEMY 057816</td>\n",
       "      <td>OPEN ENROLLMENT CHARTER</td>\n",
       "      <td>GENESIS CAMPUS PRE-K THRU 5 057816102</td>\n",
       "      <td>F-OUT OF SCHOOL SUSPENSIONS</td>\n",
       "      <td>C24</td>\n",
       "      <td>BLACK OR AFRICAN AMERICAN</td>\n",
       "      <td>-999</td>\n",
       "    </tr>\n",
       "    <tr>\n",
       "      <th>...</th>\n",
       "      <td>...</td>\n",
       "      <td>...</td>\n",
       "      <td>...</td>\n",
       "      <td>...</td>\n",
       "      <td>...</td>\n",
       "      <td>...</td>\n",
       "      <td>...</td>\n",
       "      <td>...</td>\n",
       "      <td>...</td>\n",
       "      <td>...</td>\n",
       "    </tr>\n",
       "    <tr>\n",
       "      <th>323988</th>\n",
       "      <td>CAMPUS SUMMARY</td>\n",
       "      <td>25906001</td>\n",
       "      <td>15</td>\n",
       "      <td>ZEPHYR ISD 025906</td>\n",
       "      <td>TRADITIONAL ISD/CSD</td>\n",
       "      <td>ZEPHYR SCHOOL 025906001</td>\n",
       "      <td>V-AT RISK IN SCHOOL SUS.</td>\n",
       "      <td>F19</td>\n",
       "      <td>NON AT RISK IN SCHOOL SUSPENSIONS</td>\n",
       "      <td>-999</td>\n",
       "    </tr>\n",
       "    <tr>\n",
       "      <th>323989</th>\n",
       "      <td>CAMPUS SUMMARY</td>\n",
       "      <td>25906001</td>\n",
       "      <td>15</td>\n",
       "      <td>ZEPHYR ISD 025906</td>\n",
       "      <td>TRADITIONAL ISD/CSD</td>\n",
       "      <td>ZEPHYR SCHOOL 025906001</td>\n",
       "      <td>W-REASON INCIDENT COUNTS</td>\n",
       "      <td>G21</td>\n",
       "      <td>21-VIOLATED LOCAL CODE OF CONDUCT</td>\n",
       "      <td>-999</td>\n",
       "    </tr>\n",
       "    <tr>\n",
       "      <th>323990</th>\n",
       "      <td>CAMPUS SUMMARY</td>\n",
       "      <td>25906001</td>\n",
       "      <td>15</td>\n",
       "      <td>ZEPHYR ISD 025906</td>\n",
       "      <td>TRADITIONAL ISD/CSD</td>\n",
       "      <td>ZEPHYR SCHOOL 025906001</td>\n",
       "      <td>W-REASON INCIDENT COUNTS</td>\n",
       "      <td>G61</td>\n",
       "      <td>61-BULLYING \u001a TEC 37.0052(B)</td>\n",
       "      <td>-999</td>\n",
       "    </tr>\n",
       "    <tr>\n",
       "      <th>323991</th>\n",
       "      <td>CAMPUS SUMMARY</td>\n",
       "      <td>25906001</td>\n",
       "      <td>15</td>\n",
       "      <td>ZEPHYR ISD 025906</td>\n",
       "      <td>TRADITIONAL ISD/CSD</td>\n",
       "      <td>ZEPHYR SCHOOL 025906001</td>\n",
       "      <td>X-DISCIPLINE ACTION COUNTS</td>\n",
       "      <td>H05</td>\n",
       "      <td>05-OUT-OF-SCHOOL SUSPENSION</td>\n",
       "      <td>-999</td>\n",
       "    </tr>\n",
       "    <tr>\n",
       "      <th>323992</th>\n",
       "      <td>CAMPUS SUMMARY</td>\n",
       "      <td>25906001</td>\n",
       "      <td>15</td>\n",
       "      <td>ZEPHYR ISD 025906</td>\n",
       "      <td>TRADITIONAL ISD/CSD</td>\n",
       "      <td>ZEPHYR SCHOOL 025906001</td>\n",
       "      <td>X-DISCIPLINE ACTION COUNTS</td>\n",
       "      <td>H06</td>\n",
       "      <td>06-IN-SCHOOL SUSPENSION</td>\n",
       "      <td>-999</td>\n",
       "    </tr>\n",
       "  </tbody>\n",
       "</table>\n",
       "<p>323993 rows × 10 columns</p>\n",
       "</div>"
      ],
      "text/plain": [
       "             agg_level  campus_number  region  \\\n",
       "0       CAMPUS SUMMARY       57816102      10   \n",
       "1       CAMPUS SUMMARY       57816102      10   \n",
       "2       CAMPUS SUMMARY       57816102      10   \n",
       "3       CAMPUS SUMMARY       57816102      10   \n",
       "4       CAMPUS SUMMARY       57816102      10   \n",
       "...                ...            ...     ...   \n",
       "323988  CAMPUS SUMMARY       25906001      15   \n",
       "323989  CAMPUS SUMMARY       25906001      15   \n",
       "323990  CAMPUS SUMMARY       25906001      15   \n",
       "323991  CAMPUS SUMMARY       25906001      15   \n",
       "323992  CAMPUS SUMMARY       25906001      15   \n",
       "\n",
       "                              dist_name_num           charter_status  \\\n",
       "0       A W BROWN LEADERSHIP ACADEMY 057816  OPEN ENROLLMENT CHARTER   \n",
       "1       A W BROWN LEADERSHIP ACADEMY 057816  OPEN ENROLLMENT CHARTER   \n",
       "2       A W BROWN LEADERSHIP ACADEMY 057816  OPEN ENROLLMENT CHARTER   \n",
       "3       A W BROWN LEADERSHIP ACADEMY 057816  OPEN ENROLLMENT CHARTER   \n",
       "4       A W BROWN LEADERSHIP ACADEMY 057816  OPEN ENROLLMENT CHARTER   \n",
       "...                                     ...                      ...   \n",
       "323988                    ZEPHYR ISD 025906      TRADITIONAL ISD/CSD   \n",
       "323989                    ZEPHYR ISD 025906      TRADITIONAL ISD/CSD   \n",
       "323990                    ZEPHYR ISD 025906      TRADITIONAL ISD/CSD   \n",
       "323991                    ZEPHYR ISD 025906      TRADITIONAL ISD/CSD   \n",
       "323992                    ZEPHYR ISD 025906      TRADITIONAL ISD/CSD   \n",
       "\n",
       "                                       campus                      section  \\\n",
       "0       GENESIS CAMPUS PRE-K THRU 5 057816102              A-PARTICIPATION   \n",
       "1       GENESIS CAMPUS PRE-K THRU 5 057816102              A-PARTICIPATION   \n",
       "2       GENESIS CAMPUS PRE-K THRU 5 057816102              A-PARTICIPATION   \n",
       "3       GENESIS CAMPUS PRE-K THRU 5 057816102     B-DISCIPLINE DATA TRENDS   \n",
       "4       GENESIS CAMPUS PRE-K THRU 5 057816102  F-OUT OF SCHOOL SUSPENSIONS   \n",
       "...                                       ...                          ...   \n",
       "323988                ZEPHYR SCHOOL 025906001     V-AT RISK IN SCHOOL SUS.   \n",
       "323989                ZEPHYR SCHOOL 025906001     W-REASON INCIDENT COUNTS   \n",
       "323990                ZEPHYR SCHOOL 025906001     W-REASON INCIDENT COUNTS   \n",
       "323991                ZEPHYR SCHOOL 025906001   X-DISCIPLINE ACTION COUNTS   \n",
       "323992                ZEPHYR SCHOOL 025906001   X-DISCIPLINE ACTION COUNTS   \n",
       "\n",
       "       heading                           heading_name student_count  \n",
       "0          A01  CAMPUS CUMULATIVE YEAR END ENROLLMENT           533  \n",
       "1          A02           CAMPUS DISCIPLINE POPULATION            27  \n",
       "2          A03         CAMPUS DISCIPLINE RECORD COUNT            40  \n",
       "3          B13       STUDENTS SUSPENDED OUT OF SCHOOL            27  \n",
       "4          C24              BLACK OR AFRICAN AMERICAN          -999  \n",
       "...        ...                                    ...           ...  \n",
       "323988     F19      NON AT RISK IN SCHOOL SUSPENSIONS          -999  \n",
       "323989     G21      21-VIOLATED LOCAL CODE OF CONDUCT          -999  \n",
       "323990     G61           61-BULLYING \u001a TEC 37.0052(B)          -999  \n",
       "323991     H05            05-OUT-OF-SCHOOL SUSPENSION          -999  \n",
       "323992     H06                06-IN-SCHOOL SUSPENSION          -999  \n",
       "\n",
       "[323993 rows x 10 columns]"
      ]
     },
     "execution_count": 8,
     "metadata": {},
     "output_type": "execute_result"
    }
   ],
   "source": [
    "df22"
   ]
  },
  {
   "cell_type": "code",
   "execution_count": 9,
   "id": "0618f03e",
   "metadata": {},
   "outputs": [
    {
     "ename": "NameError",
     "evalue": "name 'df22' is not defined",
     "output_type": "error",
     "traceback": [
      "\u001b[0;31m---------------------------------------------------------------------------\u001b[0m",
      "\u001b[0;31mNameError\u001b[0m                                 Traceback (most recent call last)",
      "Input \u001b[0;32mIn [9]\u001b[0m, in \u001b[0;36m<cell line: 1>\u001b[0;34m()\u001b[0m\n\u001b[0;32m----> 1\u001b[0m \u001b[43mw\u001b[49m\u001b[38;5;241;43m.\u001b[39;49m\u001b[43mprep22\u001b[49m\u001b[43m(\u001b[49m\u001b[43mdf22\u001b[49m\u001b[43m)\u001b[49m\n",
      "File \u001b[0;32m~/codeup-data-science/independent_classification/wrangle.py:38\u001b[0m, in \u001b[0;36mprep22\u001b[0;34m(df)\u001b[0m\n\u001b[1;32m     36\u001b[0m \u001b[38;5;28;01mdef\u001b[39;00m \u001b[38;5;21mprep22\u001b[39m(df):\n\u001b[1;32m     37\u001b[0m     \u001b[38;5;28;01mglobal\u001b[39;00m df22\n\u001b[0;32m---> 38\u001b[0m     df22[\u001b[38;5;124m'\u001b[39m\u001b[38;5;124mcharter_encoded\u001b[39m\u001b[38;5;124m'\u001b[39m] \u001b[38;5;241m=\u001b[39m \u001b[43mdf22\u001b[49m\u001b[38;5;241m.\u001b[39mcharter_status\u001b[38;5;241m.\u001b[39mmap({\u001b[38;5;124m'\u001b[39m\u001b[38;5;124mOPEN ENROLLMENT CHARTER\u001b[39m\u001b[38;5;124m'\u001b[39m: \u001b[38;5;241m1\u001b[39m, \u001b[38;5;124m'\u001b[39m\u001b[38;5;124mTRADITIONAL ISD/CSD\u001b[39m\u001b[38;5;124m'\u001b[39m:\u001b[38;5;241m0\u001b[39m})\n\u001b[1;32m     39\u001b[0m     df22\u001b[38;5;241m=\u001b[39mdf22[(df22\u001b[38;5;241m.\u001b[39mheading \u001b[38;5;241m==\u001b[39m \u001b[38;5;124m'\u001b[39m\u001b[38;5;124mA01\u001b[39m\u001b[38;5;124m'\u001b[39m) \u001b[38;5;241m|\u001b[39m (df22\u001b[38;5;241m.\u001b[39mheading \u001b[38;5;241m==\u001b[39m  \u001b[38;5;124m'\u001b[39m\u001b[38;5;124mA03\u001b[39m\u001b[38;5;124m'\u001b[39m)]\n\u001b[1;32m     40\u001b[0m     df22\u001b[38;5;241m=\u001b[39mdf22[df22[\u001b[38;5;124m'\u001b[39m\u001b[38;5;124mstudent_count\u001b[39m\u001b[38;5;124m'\u001b[39m] \u001b[38;5;241m!=\u001b[39m \u001b[38;5;124m'\u001b[39m\u001b[38;5;124m-999\u001b[39m\u001b[38;5;124m'\u001b[39m]\n",
      "\u001b[0;31mNameError\u001b[0m: name 'df22' is not defined"
     ]
    }
   ],
   "source": [
    "w.prep22(df22)"
   ]
  },
  {
   "cell_type": "code",
   "execution_count": null,
   "id": "8e4db252",
   "metadata": {},
   "outputs": [],
   "source": [
    "df22.head()"
   ]
  },
  {
   "cell_type": "code",
   "execution_count": null,
   "id": "f3f50edf",
   "metadata": {},
   "outputs": [],
   "source": [
    "stop"
   ]
  },
  {
   "cell_type": "code",
   "execution_count": null,
   "id": "8fe06e0c",
   "metadata": {},
   "outputs": [],
   "source": [
    "def prep21(df):\n",
    "    global df21\n",
    "    df21['charter_encoded'] = df21.charter_status.map({'OPEN ENROLLMENT CHARTER': 1, 'TRADITIONAL ISD/CSD':0})\n",
    "    df21=df21[(df21.heading == 'A01') | (df21.heading ==  'A03')]\n",
    "    df21=df21[df21['student_count'] != '-999']\n",
    "    df21['student_count']= df21['student_count'].str.replace(\"<\", \"\")\n",
    "    df21['student_count'] = df21['student_count'].astype(float)\n",
    "    dfpivot=df21.pivot(index='campus_number', columns='heading', values= 'student_count').dropna()\n",
    "    df21=df21.merge(dfpivot,how= 'right', on= 'campus_number')\n",
    "    df21=df21.rename(columns={'A01': 'student_enrollment', 'A03':'discipline_count'})\n",
    "    df21['discipline_percent']= ((df21['discipline_count']/df21['student_enrollment'])*100)\n",
    "    df21=df21.round({'discipline_percent': 0})\n",
    "    df21=df21.drop(columns=['agg_level', 'campus_number', 'region', 'charter_status', 'dist_name_num', 'student_count','section', 'heading', 'heading_name', 'student_count'])\n",
    "    df21=df21.drop_duplicates()\n",
    "    df21=df21.reset_index(drop=True)"
   ]
  },
  {
   "cell_type": "code",
   "execution_count": null,
   "id": "185d7730",
   "metadata": {},
   "outputs": [],
   "source": [
    "prep21(df21)"
   ]
  },
  {
   "cell_type": "code",
   "execution_count": null,
   "id": "2956fcc0",
   "metadata": {},
   "outputs": [],
   "source": [
    "df21.head()"
   ]
  },
  {
   "cell_type": "code",
   "execution_count": null,
   "id": "169df491",
   "metadata": {},
   "outputs": [],
   "source": [
    "def prep20(df):\n",
    "    global df20\n",
    "    df20['charter_encoded'] = df20.charter_status.map({'OPEN ENROLLMENT CHARTER': 1, 'TRADITIONAL ISD/CSD':0})\n",
    "    df20=df20[(df20.heading == 'A01') | (df20.heading ==  'A03')]\n",
    "    df20=df20[df20['student_count'] != '-999']\n",
    "    df20['student_count']= df20['student_count'].str.replace(\"<\", \"\")\n",
    "    df20['student_count'] = df20['student_count'].astype(float)\n",
    "    dfpivot=df20.pivot(index='campus_number', columns='heading', values= 'student_count').dropna()\n",
    "    df20=df20.merge(dfpivot,how= 'right', on= 'campus_number')\n",
    "    df20=df20.rename(columns={'A01': 'student_enrollment', 'A03':'discipline_count'})\n",
    "    df20['discipline_percent']= ((df20['discipline_count']/df20['student_enrollment'])*100)\n",
    "    df20=df20.round({'discipline_percent': 0})\n",
    "    df20=df20.drop(columns=['agg_level', 'campus_number', 'region', 'charter_status', 'dist_name_num', 'student_count','section', 'heading', 'heading_name', 'student_count'])\n",
    "    df20=df20.drop_duplicates()\n",
    "    df20=df20.reset_index(drop=True)"
   ]
  },
  {
   "cell_type": "code",
   "execution_count": null,
   "id": "9cdac256",
   "metadata": {},
   "outputs": [],
   "source": [
    "prep20(df20)"
   ]
  },
  {
   "cell_type": "code",
   "execution_count": null,
   "id": "ddb9e8f6",
   "metadata": {},
   "outputs": [],
   "source": [
    "df20.head()"
   ]
  },
  {
   "cell_type": "code",
   "execution_count": null,
   "id": "698aff51",
   "metadata": {},
   "outputs": [],
   "source": [
    "def prep19(df):\n",
    "    global df19\n",
    "    df19['charter_encoded'] = df19.charter_status.map({'OPEN ENROLLMENT CHARTER': 1, 'TRADITIONAL ISD/CSD':0})\n",
    "    df19=df19[(df19.heading == 'A01') | (df19.heading ==  'A03')]\n",
    "    df19=df19[df19['student_count'] != '-999']\n",
    "    df19['student_count']= df19['student_count'].str.replace(\"<\", \"\")\n",
    "    df19['student_count'] = df19['student_count'].astype(float)\n",
    "    dfpivot=df19.pivot(index='campus_number', columns='heading', values= 'student_count').dropna()\n",
    "    df19=df19.merge(dfpivot,how= 'right', on= 'campus_number')\n",
    "    df19=df19.rename(columns={'A01': 'student_enrollment', 'A03':'discipline_count'})\n",
    "    df19['discipline_percent']= ((df19['discipline_count']/df19['student_enrollment'])*100)\n",
    "    df19=df19.round({'discipline_percent': 0})\n",
    "    df19=df19.drop(columns=['agg_level', 'campus_number', 'region', 'charter_status', 'dist_name_num', 'student_count','section', 'heading', 'heading_name', 'student_count'])\n",
    "    df19=df19.drop_duplicates()\n",
    "    df19=df19.reset_index(drop=True)"
   ]
  },
  {
   "cell_type": "code",
   "execution_count": null,
   "id": "12ff989e",
   "metadata": {},
   "outputs": [],
   "source": [
    "prep19(df19)"
   ]
  },
  {
   "cell_type": "code",
   "execution_count": null,
   "id": "74c38348",
   "metadata": {},
   "outputs": [],
   "source": [
    "df19.head()"
   ]
  },
  {
   "cell_type": "code",
   "execution_count": null,
   "id": "7bf9d90b",
   "metadata": {},
   "outputs": [],
   "source": [
    "def prep18(df):\n",
    "    global df18\n",
    "    df18['charter_encoded'] = df18.charter_status.map({'OPEN ENROLLMENT CHARTER': 1, 'TRADITIONAL ISD/CSD':0})\n",
    "    df18=df18[(df18.heading == 'A01') | (df18.heading ==  'A03')]\n",
    "    df18=df18[df18['student_count'] != '-999']\n",
    "    df18['student_count']= df18['student_count'].str.replace(\"<\", \"\")\n",
    "    df18['student_count'] = df18['student_count'].astype(float)\n",
    "    dfpivot=df18.pivot(index='campus_number', columns='heading', values= 'student_count').dropna()\n",
    "    df18=df18.merge(dfpivot,how= 'right', on= 'campus_number')\n",
    "    df18=df18.rename(columns={'A01': 'student_enrollment', 'A03':'discipline_count'})\n",
    "    df18['discipline_percent']= ((df18['discipline_count']/df18['student_enrollment'])*100)\n",
    "    df18=df18.round({'discipline_percent': 0})\n",
    "    df18=df18.drop(columns=['agg_level', 'campus_number', 'region', 'charter_status', 'dist_name_num', 'student_count','section', 'heading', 'heading_name', 'student_count'])\n",
    "    df18=df18.drop_duplicates()\n",
    "    df18=df18.reset_index(drop=True)"
   ]
  },
  {
   "cell_type": "code",
   "execution_count": null,
   "id": "54f1f2a0",
   "metadata": {},
   "outputs": [],
   "source": [
    "prep18(df18)"
   ]
  },
  {
   "cell_type": "code",
   "execution_count": null,
   "id": "38077a05",
   "metadata": {},
   "outputs": [],
   "source": [
    "df18.head()"
   ]
  },
  {
   "cell_type": "code",
   "execution_count": null,
   "id": "ab7702ef",
   "metadata": {},
   "outputs": [],
   "source": [
    "def df_combine(a,b,c,d,e):\n",
    "    df=pd.concat([df18,df19,df20,df21,df22], ignore_index=True)\n",
    "    return(df)"
   ]
  },
  {
   "cell_type": "code",
   "execution_count": null,
   "id": "2f918f90",
   "metadata": {},
   "outputs": [],
   "source": [
    "df=df_combine(df18,df19,df20,df21,df22)"
   ]
  },
  {
   "cell_type": "code",
   "execution_count": null,
   "id": "1f535a6c",
   "metadata": {},
   "outputs": [],
   "source": [
    "df.head()"
   ]
  },
  {
   "cell_type": "code",
   "execution_count": null,
   "id": "21b84034",
   "metadata": {},
   "outputs": [],
   "source": [
    "def split_tea_data(df):\n",
    "    '''\n",
    "    This function performs split on tea data, stratify charter_encoded.\n",
    "    Returns train, validate, and test dfs.\n",
    "    '''\n",
    "    train_validate, test = train_test_split(df, test_size=.2, \n",
    "                                        random_state=123, \n",
    "                                        stratify=df.charter_encoded)\n",
    "    train, validate = train_test_split(train_validate, test_size=.3, \n",
    "                                   random_state=123, \n",
    "                                   stratify=train_validate.charter_encoded)\n",
    "    return train, validate, test"
   ]
  },
  {
   "cell_type": "code",
   "execution_count": null,
   "id": "24f55413",
   "metadata": {},
   "outputs": [],
   "source": [
    "train, validate, test=split_tea_data(df)"
   ]
  },
  {
   "cell_type": "code",
   "execution_count": null,
   "id": "905e839d",
   "metadata": {},
   "outputs": [],
   "source": [
    "train.head()"
   ]
  },
  {
   "cell_type": "code",
   "execution_count": null,
   "id": "ba54aea1",
   "metadata": {},
   "outputs": [],
   "source": [
    "train.shape"
   ]
  },
  {
   "cell_type": "code",
   "execution_count": null,
   "id": "6e016b28",
   "metadata": {},
   "outputs": [],
   "source": [
    "validate.shape"
   ]
  },
  {
   "cell_type": "code",
   "execution_count": null,
   "id": "99a8ed7b",
   "metadata": {},
   "outputs": [],
   "source": [
    "test.shape"
   ]
  },
  {
   "cell_type": "code",
   "execution_count": null,
   "id": "b616a7d8",
   "metadata": {},
   "outputs": [],
   "source": [
    "train.info()"
   ]
  },
  {
   "cell_type": "code",
   "execution_count": null,
   "id": "8ea50ef5",
   "metadata": {},
   "outputs": [],
   "source": [
    "train.describe()"
   ]
  },
  {
   "cell_type": "code",
   "execution_count": null,
   "id": "2d3dbf38",
   "metadata": {},
   "outputs": [],
   "source": [
    "train.columns"
   ]
  },
  {
   "cell_type": "code",
   "execution_count": null,
   "id": "8a67d5e0",
   "metadata": {},
   "outputs": [],
   "source": [
    "sns.pairplot(data=train, kind=\"reg\", corner=True)"
   ]
  },
  {
   "cell_type": "code",
   "execution_count": null,
   "id": "ead513a1",
   "metadata": {},
   "outputs": [],
   "source": [
    "num_vars = ['student_enrollment', 'discipline_count' 'discipline_percent']\n",
    "cat_vars = ['campus', 'charter_encoded']"
   ]
  },
  {
   "cell_type": "code",
   "execution_count": null,
   "id": "7c25afda",
   "metadata": {},
   "outputs": [],
   "source": [
    "for col in train.columns:\n",
    "    plt.hist(train[col])\n",
    "    plt.title(col)\n",
    "    plt.show()"
   ]
  },
  {
   "cell_type": "code",
   "execution_count": null,
   "id": "e713a1f1",
   "metadata": {},
   "outputs": [],
   "source": [
    "for col in cat_vars:\n",
    "    print(col)\n",
    "    print(train[col].value_counts())\n",
    "    print(train[col].value_counts(normalize=True)*100)\n",
    "    sns.countplot(x=col, data=train)\n",
    "    plt.show()"
   ]
  },
  {
   "cell_type": "code",
   "execution_count": null,
   "id": "549866c9",
   "metadata": {},
   "outputs": [],
   "source": [
    "978/15918"
   ]
  },
  {
   "cell_type": "code",
   "execution_count": null,
   "id": "a333f5fe",
   "metadata": {},
   "outputs": [],
   "source": [
    "14940/15918"
   ]
  },
  {
   "cell_type": "code",
   "execution_count": null,
   "id": "10f80e21",
   "metadata": {},
   "outputs": [],
   "source": [
    "fig, ax = plt.subplots(1, figsize=(10, 10))\n",
    "sns.boxplot(x=train['charter_encoded'], y=train['discipline_percent']);\n",
    "plt.xticks(rotation = 90)\n",
    "plt.show()"
   ]
  },
  {
   "cell_type": "code",
   "execution_count": null,
   "id": "48122e2b",
   "metadata": {},
   "outputs": [],
   "source": [
    "fig, ax = plt.subplots(1, figsize=(10, 10))\n",
    "sns.boxplot(x=train['charter_encoded'], y=train['discipline_count']);\n",
    "plt.xticks(rotation = 90)\n",
    "plt.show()"
   ]
  },
  {
   "cell_type": "code",
   "execution_count": null,
   "id": "dc49d294",
   "metadata": {},
   "outputs": [],
   "source": [
    "fig, ax = plt.subplots(1, figsize=(10, 10))\n",
    "sns.boxplot(x=train['charter_encoded'], y=train['student_enrollment']);\n",
    "plt.xticks(rotation = 90)\n",
    "plt.show()"
   ]
  },
  {
   "cell_type": "code",
   "execution_count": null,
   "id": "ddea941a",
   "metadata": {},
   "outputs": [],
   "source": [
    "sns.scatterplot(x='student_enrollment', y='discipline_count', data=train, hue='charter_encoded')"
   ]
  },
  {
   "cell_type": "code",
   "execution_count": null,
   "id": "c9dfd366",
   "metadata": {},
   "outputs": [],
   "source": [
    "sns.histplot(x='discipline_percent', data=train, kde=True)"
   ]
  },
  {
   "cell_type": "code",
   "execution_count": null,
   "id": "8c6e72c3",
   "metadata": {},
   "outputs": [],
   "source": [
    "# histogram of churned customers\n",
    "charterdiscp = train[train.charter_encoded==1].discipline_percent\n",
    "charterdiscp.hist()"
   ]
  },
  {
   "cell_type": "code",
   "execution_count": null,
   "id": "84fff263",
   "metadata": {},
   "outputs": [],
   "source": [
    "# histogram of non-churned customers\n",
    "non_charterdiscp = train[train.charter_encoded==0].discipline_percent\n",
    "non_charterdiscp.hist()"
   ]
  },
  {
   "cell_type": "markdown",
   "id": "5c9deec1",
   "metadata": {},
   "source": [
    "Hypothesis\n",
    "Null H: Mean of disciplined students is the same for charter schools and traditional schools. Alt H: Mean of disciplined students is not the same for charter schools and traditional schools."
   ]
  },
  {
   "cell_type": "code",
   "execution_count": null,
   "id": "234720a6",
   "metadata": {},
   "outputs": [],
   "source": [
    "mean_a = charterdiscp.mean()\n",
    "mean_b = non_charterdiscp.mean()"
   ]
  },
  {
   "cell_type": "code",
   "execution_count": null,
   "id": "d31fe516",
   "metadata": {},
   "outputs": [],
   "source": [
    "mean_a, mean_b"
   ]
  },
  {
   "cell_type": "code",
   "execution_count": null,
   "id": "57397197",
   "metadata": {},
   "outputs": [],
   "source": [
    "# remember that our confidence level determines our alpha, \n",
    "# which we use to compare to p\n",
    "alpha = 0.05"
   ]
  },
  {
   "cell_type": "code",
   "execution_count": null,
   "id": "5a7be6aa",
   "metadata": {},
   "outputs": [],
   "source": [
    "# Mini H0: variances are equal between groups\n",
    "# Ha: variances are inequal between groups\n",
    "# alpha: 0.05\n",
    "stat, pval = stats.levene(charterdiscp, non_charterdiscp)"
   ]
  },
  {
   "cell_type": "code",
   "execution_count": null,
   "id": "947f266b",
   "metadata": {},
   "outputs": [],
   "source": [
    "stat, pval"
   ]
  },
  {
   "cell_type": "code",
   "execution_count": null,
   "id": "ac7f6ef3",
   "metadata": {},
   "outputs": [],
   "source": [
    "# implications of one-tailed two-sampled t-test:\n",
    "# p will be divided by two because we are only looking at one tail of the curve\n",
    "# we will pay attention to the sign of our t-statistic\n",
    "# t, p = t-test: (group A, group B) ==> comparison of mu_a > mu_b\n",
    "t, p = stats.ttest_ind(charterdiscp, non_charterdiscp, equal_var=False)"
   ]
  },
  {
   "cell_type": "code",
   "execution_count": null,
   "id": "bd927bb5",
   "metadata": {},
   "outputs": [],
   "source": [
    "t, p"
   ]
  },
  {
   "cell_type": "code",
   "execution_count": null,
   "id": "ab4828ef",
   "metadata": {},
   "outputs": [],
   "source": [
    "print('Is p less than alpha? ', pval < alpha)"
   ]
  },
  {
   "cell_type": "code",
   "execution_count": null,
   "id": "8962c0d5",
   "metadata": {},
   "outputs": [],
   "source": [
    "if (t > 0) and ((p / 2) < alpha):\n",
    "    print('We can reject the null hypothesis')\n",
    "else:\n",
    "    print('we fail to reject the null hypothesis')"
   ]
  },
  {
   "cell_type": "code",
   "execution_count": null,
   "id": "9db255cd",
   "metadata": {},
   "outputs": [],
   "source": [
    "# assign the train variables\n",
    "X_train_scaled = train[['student_enrollment','discipline_count','discipline_percent']]\n",
    "y_train=train[['charter_encoded']]\n",
    "\n",
    "#assign the validate variables\n",
    "X_validate_scaled=validate[['student_enrollment','discipline_count','discipline_percent']]\n",
    "y_validate=validate[['charter_encoded']]\n",
    "\n",
    "# assign the test variables\n",
    "X_test_scaled=test[['student_enrollment','discipline_count','discipline_percent']]\n",
    "y_test=test[['charter_encoded']]"
   ]
  },
  {
   "cell_type": "code",
   "execution_count": null,
   "id": "fcf760ce",
   "metadata": {},
   "outputs": [],
   "source": [
    "def scale_data(train, \n",
    "               validate, \n",
    "               test, \n",
    "               columns_to_scale = ['student_enrollment','discipline_count','discipline_percent'],\n",
    "               return_scaler=False):\n",
    "    '''\n",
    "    Scales the 3 data splits. \n",
    "    Takes in train, validate, and test data splits and returns their scaled counterparts.\n",
    "    If return_scalar is True, the scaler object will be returned as well\n",
    "    '''\n",
    "    # make copies of our original data so we dont gronk up anything\n",
    "    train_scaled = train.copy()\n",
    "    validate_scaled = validate.copy()\n",
    "    test_scaled = test.copy()\n",
    "    #     make the thing\n",
    "    scaler = MinMaxScaler()\n",
    "    #     fit the thing\n",
    "    scaler.fit(train[columns_to_scale])\n",
    "    # applying the scaler:\n",
    "    train_scaled[columns_to_scale] = pd.DataFrame(scaler.transform(train[columns_to_scale]),\n",
    "                                                  columns=train[columns_to_scale].columns.values).set_index([train.index.values])\n",
    "                                                  \n",
    "    validate_scaled[columns_to_scale] = pd.DataFrame(scaler.transform(validate[columns_to_scale]),\n",
    "                                           columns=validate[columns_to_scale].columns.values).set_index([validate.index.values])\n",
    "    \n",
    "    test_scaled[columns_to_scale] = pd.DataFrame(scaler.transform(test[columns_to_scale]),\n",
    "                                                 columns=test[columns_to_scale].columns.values).set_index([test.index.values])\n",
    "    \n",
    "    if return_scaler:\n",
    "        return scaler, train_scaled, validate_scaled, test_scaled\n",
    "    else:\n",
    "        return train_scaled, validate_scaled, test_scaled"
   ]
  },
  {
   "cell_type": "code",
   "execution_count": null,
   "id": "a2e3a041",
   "metadata": {},
   "outputs": [],
   "source": [
    "train_scaled, validate_scaled, test_scaled = scale_data(train, validate, test)"
   ]
  },
  {
   "cell_type": "code",
   "execution_count": null,
   "id": "9a0c533c",
   "metadata": {},
   "outputs": [],
   "source": [
    "train_scaled, validate_scaled, test_scaled"
   ]
  },
  {
   "cell_type": "code",
   "execution_count": null,
   "id": "732fc9ce",
   "metadata": {},
   "outputs": [],
   "source": [
    "X_train_scaled.head()"
   ]
  },
  {
   "cell_type": "code",
   "execution_count": null,
   "id": "76e1715e",
   "metadata": {},
   "outputs": [],
   "source": [
    "y_train.value_counts()"
   ]
  },
  {
   "cell_type": "markdown",
   "id": "642dcf8c",
   "metadata": {},
   "source": [
    "## Baseline"
   ]
  },
  {
   "cell_type": "code",
   "execution_count": null,
   "id": "0767a02a",
   "metadata": {},
   "outputs": [],
   "source": [
    "# The mode is a great baseline\n",
    "baseline = y_train.mode()"
   ]
  },
  {
   "cell_type": "code",
   "execution_count": null,
   "id": "ebc18588",
   "metadata": {},
   "outputs": [],
   "source": [
    "baseline"
   ]
  },
  {
   "cell_type": "code",
   "execution_count": null,
   "id": "52ea615a",
   "metadata": {},
   "outputs": [],
   "source": [
    "X_train_scaled['baseline_prediction'] = 0\n",
    "X_train_scaled"
   ]
  },
  {
   "cell_type": "code",
   "execution_count": null,
   "id": "51cdeabb",
   "metadata": {},
   "outputs": [],
   "source": [
    "actual = y_train\n",
    "predictions = X_train_scaled.baseline_prediction"
   ]
  },
  {
   "cell_type": "code",
   "execution_count": null,
   "id": "c575de36",
   "metadata": {},
   "outputs": [],
   "source": [
    "pd.crosstab(y_train['charter_encoded'], X_train_scaled.baseline_prediction)"
   ]
  },
  {
   "cell_type": "code",
   "execution_count": null,
   "id": "db8f8a12",
   "metadata": {},
   "outputs": [],
   "source": [
    "# Creates a boolean array where \"No\" becomes True and \"Yes\" becomes False\n",
    "(y_train == 0)"
   ]
  },
  {
   "cell_type": "code",
   "execution_count": null,
   "id": "26cf3c8b",
   "metadata": {},
   "outputs": [],
   "source": [
    "# Takes the .mean() of the boolean array that represents the proportion \n",
    "# that would also match our baseline prediction\n",
    "(y_train == 0).mean() "
   ]
  },
  {
   "cell_type": "code",
   "execution_count": null,
   "id": "f181fa99",
   "metadata": {},
   "outputs": [],
   "source": [
    "X_validate_scaled['baseline_prediction'] = 0"
   ]
  },
  {
   "cell_type": "code",
   "execution_count": null,
   "id": "97f51265",
   "metadata": {},
   "outputs": [],
   "source": [
    "X_test_scaled['baseline_prediction'] = 0"
   ]
  },
  {
   "cell_type": "markdown",
   "id": "68f98abf",
   "metadata": {},
   "source": [
    "# Model: Decision Tree"
   ]
  },
  {
   "cell_type": "markdown",
   "id": "21f3b1b6",
   "metadata": {},
   "source": [
    "## decision tree max depth=3"
   ]
  },
  {
   "cell_type": "code",
   "execution_count": null,
   "id": "a4717f89",
   "metadata": {},
   "outputs": [],
   "source": [
    "# Create the decision tree object and specify hyperparams\n",
    "tree3 = DecisionTreeClassifier(max_depth = 3, random_state=123)"
   ]
  },
  {
   "cell_type": "code",
   "execution_count": null,
   "id": "18f1f53c",
   "metadata": {},
   "outputs": [],
   "source": [
    "tree3.fit(X_train_scaled, y_train)\n",
    "\n",
    "# Rudimentary visualization of model structure\n",
    "print(export_text(tree3, feature_names=X_train_scaled.columns.tolist()))"
   ]
  },
  {
   "cell_type": "code",
   "execution_count": null,
   "id": "26fe5ce9",
   "metadata": {},
   "outputs": [],
   "source": [
    "# Visualize the tree\n",
    "plt.figure(figsize=(12, 7))\n",
    "plot_tree(tree3, feature_names=X_train_scaled.columns, class_names=tree3.classes_.astype(str))\n",
    "#plt.show()"
   ]
  },
  {
   "cell_type": "code",
   "execution_count": null,
   "id": "938b8429",
   "metadata": {},
   "outputs": [],
   "source": [
    "y_pred3=tree3.predict(X_train_scaled)"
   ]
  },
  {
   "cell_type": "code",
   "execution_count": null,
   "id": "522a0644",
   "metadata": {},
   "outputs": [],
   "source": [
    "y_pred_proba3 = tree3.predict_proba(X_train_scaled)\n"
   ]
  },
  {
   "cell_type": "code",
   "execution_count": null,
   "id": "dd1aabee",
   "metadata": {},
   "outputs": [],
   "source": [
    "print('Accuracy of Decision Tree classifier on training set: {:.2f}'\n",
    "      .format(tree3.score(X_train_scaled, y_train)))"
   ]
  },
  {
   "cell_type": "markdown",
   "id": "e6d6c2de",
   "metadata": {},
   "source": [
    "# Create a confusion matrix"
   ]
  },
  {
   "cell_type": "code",
   "execution_count": null,
   "id": "36876333",
   "metadata": {},
   "outputs": [],
   "source": [
    "tree3.predict(X_train_scaled)"
   ]
  },
  {
   "cell_type": "code",
   "execution_count": null,
   "id": "888f7d0c",
   "metadata": {},
   "outputs": [],
   "source": [
    "predictions3 = tree3.predict(X_train_scaled)\n",
    "actual3 = y_train"
   ]
  },
  {
   "cell_type": "code",
   "execution_count": null,
   "id": "69950d85",
   "metadata": {},
   "outputs": [],
   "source": [
    "confusion_matrix(actual, predictions)"
   ]
  },
  {
   "cell_type": "code",
   "execution_count": null,
   "id": "36b3a6ed",
   "metadata": {},
   "outputs": [],
   "source": [
    "pd.crosstab(y_train['charter_encoded'], tree3.predict(X_train_scaled))"
   ]
  },
  {
   "cell_type": "code",
   "execution_count": null,
   "id": "6c2da2a9",
   "metadata": {},
   "outputs": [],
   "source": [
    "plot_confusion_matrix(tree3, X_train_scaled, y_train, display_labels=['traditional', 'charter'])\n"
   ]
  },
  {
   "cell_type": "code",
   "execution_count": null,
   "id": "cbf5b75b",
   "metadata": {},
   "outputs": [],
   "source": [
    "print(classification_report(actual3, predictions3))"
   ]
  },
  {
   "cell_type": "markdown",
   "id": "32a295fa",
   "metadata": {},
   "source": [
    "## decision tree max depth=4"
   ]
  },
  {
   "cell_type": "code",
   "execution_count": null,
   "id": "b5154a86",
   "metadata": {},
   "outputs": [],
   "source": [
    "# Create the decision tree object and specify hyperparams\n",
    "tree4 = DecisionTreeClassifier(max_depth = 4, random_state=123)"
   ]
  },
  {
   "cell_type": "code",
   "execution_count": null,
   "id": "1b8a9746",
   "metadata": {},
   "outputs": [],
   "source": [
    "tree4"
   ]
  },
  {
   "cell_type": "code",
   "execution_count": null,
   "id": "cbd025ea",
   "metadata": {},
   "outputs": [],
   "source": [
    "tree4.fit(X_train_scaled, y_train)"
   ]
  },
  {
   "cell_type": "code",
   "execution_count": null,
   "id": "00bd20bb",
   "metadata": {},
   "outputs": [],
   "source": [
    "# Rudimentary visualization of model structure\n",
    "print(export_text(tree4, feature_names=X_train_scaled.columns.tolist()))"
   ]
  },
  {
   "cell_type": "code",
   "execution_count": null,
   "id": "a54da4fd",
   "metadata": {},
   "outputs": [],
   "source": [
    "# Visualize the tree\n",
    "plt.figure(figsize=(12, 7))\n",
    "plot_tree(tree4, feature_names=X_train_scaled.columns, class_names=tree4.classes_.astype(str))\n",
    "#plt.show()"
   ]
  },
  {
   "cell_type": "code",
   "execution_count": null,
   "id": "3f55ae3e",
   "metadata": {},
   "outputs": [],
   "source": [
    "y_pred4=tree4.predict(X_train_scaled)"
   ]
  },
  {
   "cell_type": "code",
   "execution_count": null,
   "id": "5bef03a4",
   "metadata": {},
   "outputs": [],
   "source": [
    "y_pred_proba4 = tree4.predict_proba(X_train_scaled)"
   ]
  },
  {
   "cell_type": "code",
   "execution_count": null,
   "id": "c43962e9",
   "metadata": {},
   "outputs": [],
   "source": [
    "print('Accuracy of Decision Tree classifier on training set: {:.2f}'\n",
    "      .format(tree4.score(X_train_scaled, y_train)))"
   ]
  },
  {
   "cell_type": "code",
   "execution_count": null,
   "id": "92b4949d",
   "metadata": {},
   "outputs": [],
   "source": [
    "tree4.predict(X_train_scaled)"
   ]
  },
  {
   "cell_type": "code",
   "execution_count": null,
   "id": "5c94a872",
   "metadata": {},
   "outputs": [],
   "source": [
    "predictions4 = tree4.predict(X_train_scaled)"
   ]
  },
  {
   "cell_type": "code",
   "execution_count": null,
   "id": "3cdcb5f0",
   "metadata": {},
   "outputs": [],
   "source": [
    "actual4 = y_train"
   ]
  },
  {
   "cell_type": "code",
   "execution_count": null,
   "id": "64b1d76c",
   "metadata": {},
   "outputs": [],
   "source": [
    "confusion_matrix(actual4, predictions4)"
   ]
  },
  {
   "cell_type": "code",
   "execution_count": null,
   "id": "e829f5f0",
   "metadata": {},
   "outputs": [],
   "source": [
    "pd.crosstab(y_train['charter_encoded'], tree4.predict(X_train_scaled))"
   ]
  },
  {
   "cell_type": "code",
   "execution_count": null,
   "id": "b757b1cb",
   "metadata": {},
   "outputs": [],
   "source": [
    "plot_confusion_matrix(tree4, X_train_scaled, y_train, display_labels=['traditional', 'charter'])\n"
   ]
  },
  {
   "cell_type": "code",
   "execution_count": null,
   "id": "889efef6",
   "metadata": {},
   "outputs": [],
   "source": [
    "print(classification_report(actual4, predictions4))"
   ]
  },
  {
   "cell_type": "markdown",
   "id": "2bf81839",
   "metadata": {},
   "source": [
    "## decision tree max depth=5"
   ]
  },
  {
   "cell_type": "code",
   "execution_count": null,
   "id": "44bf28c8",
   "metadata": {},
   "outputs": [],
   "source": [
    "# Create the decision tree object and specify hyperparams\n",
    "tree5 = DecisionTreeClassifier(max_depth = 5, random_state=123)"
   ]
  },
  {
   "cell_type": "code",
   "execution_count": null,
   "id": "4a3dd75b",
   "metadata": {},
   "outputs": [],
   "source": [
    "tree5.fit(X_train_scaled, y_train)\n",
    "\n",
    "# Rudimentary visualization of model structure\n",
    "print(export_text(tree5, feature_names=X_train_scaled.columns.tolist()))"
   ]
  },
  {
   "cell_type": "code",
   "execution_count": null,
   "id": "24c48768",
   "metadata": {},
   "outputs": [],
   "source": [
    "# Visualize the tree\n",
    "plt.figure(figsize=(12, 7))\n",
    "plot_tree(tree5, feature_names=X_train_scaled.columns, class_names=tree5.classes_.astype(str))\n",
    "#plt.show()"
   ]
  },
  {
   "cell_type": "code",
   "execution_count": null,
   "id": "97d2eda7",
   "metadata": {},
   "outputs": [],
   "source": [
    "y_pred5=tree5.predict(X_train_scaled)"
   ]
  },
  {
   "cell_type": "code",
   "execution_count": null,
   "id": "5702107f",
   "metadata": {},
   "outputs": [],
   "source": [
    "y_pred_proba5 = tree5.predict_proba(X_train_scaled)"
   ]
  },
  {
   "cell_type": "code",
   "execution_count": null,
   "id": "7762cd92",
   "metadata": {},
   "outputs": [],
   "source": [
    "print('Accuracy of Decision Tree classifier on training set: {:.2f}'\n",
    "      .format(tree5.score(X_train_scaled, y_train)))"
   ]
  },
  {
   "cell_type": "code",
   "execution_count": null,
   "id": "02796729",
   "metadata": {},
   "outputs": [],
   "source": [
    "tree5.predict(X_train_scaled)"
   ]
  },
  {
   "cell_type": "code",
   "execution_count": null,
   "id": "aa7241f7",
   "metadata": {},
   "outputs": [],
   "source": [
    "predictions5 = tree5.predict(X_train_scaled)\n",
    "actual5 = y_train"
   ]
  },
  {
   "cell_type": "code",
   "execution_count": null,
   "id": "8f477fd2",
   "metadata": {},
   "outputs": [],
   "source": [
    "confusion_matrix(actual5, predictions5)\n"
   ]
  },
  {
   "cell_type": "code",
   "execution_count": null,
   "id": "aae97feb",
   "metadata": {},
   "outputs": [],
   "source": [
    "pd.crosstab(y_train['charter_encoded'], tree5.predict(X_train_scaled))\n"
   ]
  },
  {
   "cell_type": "code",
   "execution_count": null,
   "id": "8899da0c",
   "metadata": {},
   "outputs": [],
   "source": [
    "plot_confusion_matrix(tree5, X_train_scaled, y_train, display_labels=['traditional', 'charter'])\n"
   ]
  },
  {
   "cell_type": "code",
   "execution_count": null,
   "id": "77ebca5c",
   "metadata": {},
   "outputs": [],
   "source": [
    "print(classification_report(actual5, predictions5))\n"
   ]
  },
  {
   "cell_type": "markdown",
   "id": "69d80eed",
   "metadata": {},
   "source": [
    "## best decision tree depth =4"
   ]
  },
  {
   "cell_type": "code",
   "execution_count": null,
   "id": "81729699",
   "metadata": {},
   "outputs": [],
   "source": [
    "print(classification_report(actual4, predictions4))"
   ]
  },
  {
   "cell_type": "markdown",
   "id": "3122ecbb",
   "metadata": {},
   "source": [
    "# Random Forest"
   ]
  },
  {
   "cell_type": "markdown",
   "id": "ee38c966",
   "metadata": {},
   "source": [
    "## RF max depth=3"
   ]
  },
  {
   "cell_type": "code",
   "execution_count": null,
   "id": "5b562378",
   "metadata": {},
   "outputs": [],
   "source": [
    "rf3 = RandomForestClassifier(max_depth=3, random_state=123)\n",
    "rf3"
   ]
  },
  {
   "cell_type": "code",
   "execution_count": null,
   "id": "9f0465b2",
   "metadata": {},
   "outputs": [],
   "source": [
    "rf3.fit(X_train_scaled, y_train)"
   ]
  },
  {
   "cell_type": "code",
   "execution_count": null,
   "id": "83ca52fd",
   "metadata": {},
   "outputs": [],
   "source": [
    "print(rf3.feature_importances_)"
   ]
  },
  {
   "cell_type": "code",
   "execution_count": null,
   "id": "3cc79c4c",
   "metadata": {},
   "outputs": [],
   "source": [
    "plt.bar(X_train_scaled.columns, rf3.feature_importances_)\n",
    "plt.show()"
   ]
  },
  {
   "cell_type": "code",
   "execution_count": null,
   "id": "dfa94b06",
   "metadata": {},
   "outputs": [],
   "source": [
    "y_pred3 = rf3.predict(X_train_scaled)\n",
    "y_pred3"
   ]
  },
  {
   "cell_type": "code",
   "execution_count": null,
   "id": "69063d32",
   "metadata": {},
   "outputs": [],
   "source": [
    "y_pred_proba3 = rf3.predict_proba(X_train_scaled)\n",
    "y_pred_proba3"
   ]
  },
  {
   "cell_type": "code",
   "execution_count": null,
   "id": "6e7c3c95",
   "metadata": {},
   "outputs": [],
   "source": [
    "print('Accuracy of random forest classifier on training set: {:.2f}'\n",
    "     .format(rf3.score(X_train_scaled, y_train)))"
   ]
  },
  {
   "cell_type": "code",
   "execution_count": null,
   "id": "9fd7ea66",
   "metadata": {},
   "outputs": [],
   "source": [
    "cm3 = confusion_matrix(y_train, y_pred3)\n",
    "print(cm3)"
   ]
  },
  {
   "cell_type": "code",
   "execution_count": null,
   "id": "6072a543",
   "metadata": {},
   "outputs": [],
   "source": [
    "disp3 = ConfusionMatrixDisplay(confusion_matrix=cm3, display_labels=rf3.classes_)\n",
    "disp3.plot()\n",
    "plt.show()"
   ]
  },
  {
   "cell_type": "code",
   "execution_count": null,
   "id": "0aa5ff7b",
   "metadata": {},
   "outputs": [],
   "source": [
    "print(classification_report(y_train, y_pred3))"
   ]
  },
  {
   "cell_type": "markdown",
   "id": "bd7fbfd5",
   "metadata": {},
   "source": [
    "## RF max depth=4"
   ]
  },
  {
   "cell_type": "code",
   "execution_count": null,
   "id": "40657be3",
   "metadata": {},
   "outputs": [],
   "source": [
    "rf4 = RandomForestClassifier(max_depth=4, random_state=123)\n",
    "rf4"
   ]
  },
  {
   "cell_type": "code",
   "execution_count": null,
   "id": "a8c220ad",
   "metadata": {},
   "outputs": [],
   "source": [
    "rf4.fit(X_train_scaled, y_train)"
   ]
  },
  {
   "cell_type": "code",
   "execution_count": null,
   "id": "04daa3c4",
   "metadata": {},
   "outputs": [],
   "source": [
    "print(rf4.feature_importances_)"
   ]
  },
  {
   "cell_type": "code",
   "execution_count": null,
   "id": "51aefa9e",
   "metadata": {},
   "outputs": [],
   "source": [
    "plt.bar(X_train_scaled.columns, rf4.feature_importances_)\n",
    "plt.show()"
   ]
  },
  {
   "cell_type": "code",
   "execution_count": null,
   "id": "cffe8161",
   "metadata": {},
   "outputs": [],
   "source": [
    "y_pred4 = rf4.predict(X_train_scaled)\n",
    "y_pred4"
   ]
  },
  {
   "cell_type": "code",
   "execution_count": null,
   "id": "6f0c095b",
   "metadata": {},
   "outputs": [],
   "source": [
    "y_pred_proba4 = rf4.predict_proba(X_train_scaled)\n",
    "y_pred_proba4"
   ]
  },
  {
   "cell_type": "code",
   "execution_count": null,
   "id": "3b280d3a",
   "metadata": {},
   "outputs": [],
   "source": [
    "print('Accuracy of random forest classifier on training set: {:.2f}'\n",
    "     .format(rf4.score(X_train_scaled, y_train)))"
   ]
  },
  {
   "cell_type": "code",
   "execution_count": null,
   "id": "0fb63cc0",
   "metadata": {},
   "outputs": [],
   "source": [
    "cm4 = confusion_matrix(y_train, y_pred4)\n",
    "print(cm4)"
   ]
  },
  {
   "cell_type": "code",
   "execution_count": null,
   "id": "372a0f1c",
   "metadata": {},
   "outputs": [],
   "source": [
    "disp4 = ConfusionMatrixDisplay(confusion_matrix=cm4, display_labels=rf4.classes_)\n",
    "disp4.plot()\n",
    "plt.show()"
   ]
  },
  {
   "cell_type": "code",
   "execution_count": null,
   "id": "1ec46894",
   "metadata": {},
   "outputs": [],
   "source": [
    "print(classification_report(y_train, y_pred4))"
   ]
  },
  {
   "cell_type": "markdown",
   "id": "cea74873",
   "metadata": {},
   "source": [
    "## RF max depth=5"
   ]
  },
  {
   "cell_type": "code",
   "execution_count": null,
   "id": "af1cd024",
   "metadata": {},
   "outputs": [],
   "source": [
    "rf5 = RandomForestClassifier(max_depth=5, random_state=123)\n",
    "rf5"
   ]
  },
  {
   "cell_type": "code",
   "execution_count": null,
   "id": "1f187760",
   "metadata": {},
   "outputs": [],
   "source": [
    "rf5.fit(X_train_scaled, y_train)"
   ]
  },
  {
   "cell_type": "code",
   "execution_count": null,
   "id": "ee649978",
   "metadata": {},
   "outputs": [],
   "source": [
    "print(rf5.feature_importances_)"
   ]
  },
  {
   "cell_type": "code",
   "execution_count": null,
   "id": "51dfb896",
   "metadata": {},
   "outputs": [],
   "source": [
    "plt.bar(X_train_scaled.columns, rf5.feature_importances_)\n",
    "plt.show()"
   ]
  },
  {
   "cell_type": "code",
   "execution_count": null,
   "id": "07c86a8e",
   "metadata": {},
   "outputs": [],
   "source": [
    "y_pred5 = rf5.predict(X_train_scaled)\n",
    "y_pred5"
   ]
  },
  {
   "cell_type": "code",
   "execution_count": null,
   "id": "39e0b98d",
   "metadata": {},
   "outputs": [],
   "source": [
    "y_pred_proba5 = rf5.predict_proba(X_train_scaled)\n",
    "y_pred_proba5"
   ]
  },
  {
   "cell_type": "code",
   "execution_count": null,
   "id": "787ba262",
   "metadata": {},
   "outputs": [],
   "source": [
    "print('Accuracy of random forest classifier on training set: {:.2f}'\n",
    "     .format(rf5.score(X_train_scaled, y_train)))"
   ]
  },
  {
   "cell_type": "code",
   "execution_count": null,
   "id": "c0cd1051",
   "metadata": {},
   "outputs": [],
   "source": [
    "cm5 = confusion_matrix(y_train, y_pred5)\n",
    "print(cm5)"
   ]
  },
  {
   "cell_type": "code",
   "execution_count": null,
   "id": "048d5119",
   "metadata": {},
   "outputs": [],
   "source": [
    "disp5 = ConfusionMatrixDisplay(confusion_matrix=cm5, display_labels=rf5.classes_)\n",
    "disp5.plot()\n",
    "plt.show()"
   ]
  },
  {
   "cell_type": "code",
   "execution_count": null,
   "id": "d94c6a25",
   "metadata": {},
   "outputs": [],
   "source": [
    "print(classification_report(y_train, y_pred5))"
   ]
  },
  {
   "cell_type": "markdown",
   "id": "3bbfd9e2",
   "metadata": {},
   "source": [
    "# K-Nearest Neighbor"
   ]
  },
  {
   "cell_type": "markdown",
   "id": "344a7f16",
   "metadata": {},
   "source": [
    "## n_neighbors=3"
   ]
  },
  {
   "cell_type": "code",
   "execution_count": null,
   "id": "73d8366d",
   "metadata": {},
   "outputs": [],
   "source": [
    "# weights = ['uniform', 'density']\n",
    "knn3 = KNeighborsClassifier(n_neighbors=3, weights='uniform')"
   ]
  },
  {
   "cell_type": "code",
   "execution_count": null,
   "id": "56308df2",
   "metadata": {},
   "outputs": [],
   "source": [
    "knn3.fit(X_train_scaled, y_train)"
   ]
  },
  {
   "cell_type": "code",
   "execution_count": null,
   "id": "08d3f4aa",
   "metadata": {},
   "outputs": [],
   "source": [
    "y_pred3 = knn3.predict(X_train_scaled)"
   ]
  },
  {
   "cell_type": "code",
   "execution_count": null,
   "id": "35288634",
   "metadata": {},
   "outputs": [],
   "source": [
    "y_pred_proba3 = knn3.predict_proba(X_train_scaled)"
   ]
  },
  {
   "cell_type": "code",
   "execution_count": null,
   "id": "5a041dac",
   "metadata": {},
   "outputs": [],
   "source": [
    "print('Accuracy of KNN classifier on training set: {:.2f}'\n",
    "     .format(knn3.score(X_train_scaled, y_train)))"
   ]
  },
  {
   "cell_type": "code",
   "execution_count": null,
   "id": "4a8f6323",
   "metadata": {},
   "outputs": [],
   "source": [
    "print(confusion_matrix(y_train, y_pred3))"
   ]
  },
  {
   "cell_type": "code",
   "execution_count": null,
   "id": "b053bfd9",
   "metadata": {},
   "outputs": [],
   "source": [
    "print(classification_report(y_train, y_pred3))"
   ]
  },
  {
   "cell_type": "markdown",
   "id": "55b7c842",
   "metadata": {},
   "source": [
    "## n_neighbors=4"
   ]
  },
  {
   "cell_type": "code",
   "execution_count": null,
   "id": "26c60406",
   "metadata": {},
   "outputs": [],
   "source": [
    "# weights = ['uniform', 'density']\n",
    "knn4 = KNeighborsClassifier(n_neighbors=4, weights='uniform')"
   ]
  },
  {
   "cell_type": "code",
   "execution_count": null,
   "id": "6ff2bce5",
   "metadata": {},
   "outputs": [],
   "source": [
    "knn4.fit(X_train_scaled, y_train)"
   ]
  },
  {
   "cell_type": "code",
   "execution_count": null,
   "id": "f0b89b58",
   "metadata": {},
   "outputs": [],
   "source": [
    "y_pred4 = knn4.predict(X_train_scaled)"
   ]
  },
  {
   "cell_type": "code",
   "execution_count": null,
   "id": "2943ddcf",
   "metadata": {},
   "outputs": [],
   "source": [
    "y_pred_proba4 = knn4.predict_proba(X_train_scaled)"
   ]
  },
  {
   "cell_type": "code",
   "execution_count": null,
   "id": "b3fd6487",
   "metadata": {},
   "outputs": [],
   "source": [
    "print('Accuracy of KNN classifier on training set: {:.2f}'\n",
    "     .format(knn4.score(X_train_scaled, y_train)))"
   ]
  },
  {
   "cell_type": "code",
   "execution_count": null,
   "id": "b5d0b013",
   "metadata": {},
   "outputs": [],
   "source": [
    "print(confusion_matrix(y_train, y_pred4))"
   ]
  },
  {
   "cell_type": "code",
   "execution_count": null,
   "id": "0ecd872c",
   "metadata": {},
   "outputs": [],
   "source": [
    "print(classification_report(y_train, y_pred4))"
   ]
  },
  {
   "cell_type": "markdown",
   "id": "4a68b5f0",
   "metadata": {},
   "source": [
    "## n_neighbors=5"
   ]
  },
  {
   "cell_type": "code",
   "execution_count": null,
   "id": "74a49abf",
   "metadata": {},
   "outputs": [],
   "source": [
    "# weights = ['uniform', 'density']\n",
    "knn5 = KNeighborsClassifier(n_neighbors=5, weights='uniform')"
   ]
  },
  {
   "cell_type": "code",
   "execution_count": null,
   "id": "9d7f7c15",
   "metadata": {},
   "outputs": [],
   "source": [
    "knn5.fit(X_train_scaled, y_train)"
   ]
  },
  {
   "cell_type": "code",
   "execution_count": null,
   "id": "cf590deb",
   "metadata": {},
   "outputs": [],
   "source": [
    "y_pred5 = knn5.predict(X_train_scaled)"
   ]
  },
  {
   "cell_type": "code",
   "execution_count": null,
   "id": "2b34a64d",
   "metadata": {},
   "outputs": [],
   "source": [
    "y_pred_proba5 = knn5.predict_proba(X_train_scaled)"
   ]
  },
  {
   "cell_type": "code",
   "execution_count": null,
   "id": "280d576a",
   "metadata": {},
   "outputs": [],
   "source": [
    "print('Accuracy of KNN classifier on training set: {:.2f}'\n",
    "     .format(knn5.score(X_train_scaled, y_train)))"
   ]
  },
  {
   "cell_type": "code",
   "execution_count": null,
   "id": "20512148",
   "metadata": {},
   "outputs": [],
   "source": [
    "print(confusion_matrix(y_train, y_pred5))"
   ]
  },
  {
   "cell_type": "code",
   "execution_count": null,
   "id": "477dce5b",
   "metadata": {},
   "outputs": [],
   "source": [
    "print(classification_report(y_train, y_pred5))"
   ]
  },
  {
   "cell_type": "markdown",
   "id": "60435764",
   "metadata": {},
   "source": [
    "# Logistic Regression"
   ]
  },
  {
   "cell_type": "code",
   "execution_count": null,
   "id": "707fb449",
   "metadata": {},
   "outputs": [],
   "source": [
    "# Define the logistic regression model\n",
    "logit = LogisticRegression(C=1, random_state=123)"
   ]
  },
  {
   "cell_type": "code",
   "execution_count": null,
   "id": "67f74616",
   "metadata": {},
   "outputs": [],
   "source": [
    "#  fit the model on train data\n",
    "logit.fit(X_train_scaled, y_train)"
   ]
  },
  {
   "cell_type": "code",
   "execution_count": null,
   "id": "9a196a0a",
   "metadata": {},
   "outputs": [],
   "source": [
    "# now use the model to make predictions\n",
    "y_predlr = logit.predict(X_train_scaled)"
   ]
  },
  {
   "cell_type": "code",
   "execution_count": null,
   "id": "b610c9f4",
   "metadata": {},
   "outputs": [],
   "source": [
    "#take a look at predictions\n",
    "y_predlr"
   ]
  },
  {
   "cell_type": "code",
   "execution_count": null,
   "id": "fc8767fc",
   "metadata": {},
   "outputs": [],
   "source": [
    "# look at predicted probabilites for first 10 observations\n",
    "logit.predict_proba(X_train_scaled)[:10]"
   ]
  },
  {
   "cell_type": "code",
   "execution_count": null,
   "id": "580d352c",
   "metadata": {},
   "outputs": [],
   "source": [
    "logit.classes_"
   ]
  },
  {
   "cell_type": "code",
   "execution_count": null,
   "id": "150a3c43",
   "metadata": {},
   "outputs": [],
   "source": [
    "# View raw probabilities (output from the model)\n",
    "\n",
    "y_pred_probalr = logit.predict_proba(X_train_scaled)\n",
    "y_pred_probalr = pd.DataFrame(y_pred_proba, columns = ['traditional', 'charter'])\n",
    "y_pred_probalr.head().round(3)"
   ]
  },
  {
   "cell_type": "code",
   "execution_count": null,
   "id": "85126eff",
   "metadata": {},
   "outputs": [],
   "source": [
    "#classification report\n",
    "print(classification_report(y_train, y_predlr))"
   ]
  },
  {
   "cell_type": "code",
   "execution_count": null,
   "id": "f86b0eb6",
   "metadata": {},
   "outputs": [],
   "source": [
    "# look at model 1 coefficents\n",
    " \n",
    "print('Coefficient: \\n', logit.coef_[0])"
   ]
  },
  {
   "cell_type": "code",
   "execution_count": null,
   "id": "e7b8562d",
   "metadata": {},
   "outputs": [],
   "source": [
    "# Make a dataframe of coefficients and feature names\n",
    "\n",
    "log_coeffs = pd.DataFrame(logit.coef_[0], index = X_train_scaled.columns,\n",
    "                          columns = ['coeffs']).sort_values(by = 'coeffs', ascending = True)\n",
    "log_coeffs"
   ]
  },
  {
   "cell_type": "code",
   "execution_count": null,
   "id": "72089c6f",
   "metadata": {},
   "outputs": [],
   "source": [
    "# convert from log odds to odds (exponentiate)\n",
    "odds = np.exp(log_coeffs)\n",
    "odds\n"
   ]
  },
  {
   "cell_type": "markdown",
   "id": "7c828ab5",
   "metadata": {},
   "source": [
    "# classification report"
   ]
  },
  {
   "cell_type": "markdown",
   "id": "06122d97",
   "metadata": {},
   "source": [
    "There are four ways to check if the predictions are right or wrong:\n",
    "\n",
    "TN / True Negative: the case was negative and predicted negative\n",
    "TP / True Positive: the case was positive and predicted positive\n",
    "FN / False Negative: the case was positive but predicted negative\n",
    "FP / False Positive: the case was negative but predicted positive\n",
    "\n",
    "\n",
    "\n",
    "Precision — What percent of your predictions were correct?\n",
    "Precision:- Accuracy of positive predictions.\n",
    "\n",
    "Precision = TP/(TP + FP)\n",
    "\n",
    "\n",
    "Recall — What proportion of actual positives was identified correctly?\n",
    "Recall:- Fraction of positives that were correctly identified.\n",
    "\n",
    "Recall = TP/(TP+FN)\n",
    "\n",
    "F1 score — What percent of positive predictions were correct?\n",
    "F1 Score is the weighted average of Precision and Recall. Therefore, this score takes both false positives and false negatives into account. Intuitively it is not as easy to understand as accuracy, but F1 is usually more useful than accuracy, especially if you have an uneven class distribution\n",
    "\n",
    "F1 Score = 2*(Recall * Precision) / (Recall + Precision)\n",
    "\n",
    "\n",
    "Support — Support is the number of actual occurrences of the class in the specified dataset.\n",
    "\n"
   ]
  },
  {
   "cell_type": "markdown",
   "id": "d6f6b6aa",
   "metadata": {},
   "source": [
    "# Validate"
   ]
  },
  {
   "cell_type": "code",
   "execution_count": null,
   "id": "0deffe0e",
   "metadata": {},
   "outputs": [],
   "source": [
    "# Create the decision tree object and specify hyperparams\n",
    "tree4 = DecisionTreeClassifier(max_depth = 4, random_state=123)"
   ]
  },
  {
   "cell_type": "code",
   "execution_count": null,
   "id": "76ca0356",
   "metadata": {},
   "outputs": [],
   "source": [
    "tree4.fit(X_validate_scaled, y_validate)"
   ]
  },
  {
   "cell_type": "code",
   "execution_count": null,
   "id": "b3ec8c63",
   "metadata": {},
   "outputs": [],
   "source": [
    "# Rudimentary visualization of model structure\n",
    "print(export_text(tree4, feature_names=X_validate_scaled.columns.tolist()))"
   ]
  },
  {
   "cell_type": "code",
   "execution_count": null,
   "id": "f8d8f3d7",
   "metadata": {},
   "outputs": [],
   "source": [
    "#Visualize the tree\n",
    "plt.figure(figsize=(12, 7))\n",
    "plot_tree(tree4, feature_names=X_validate_scaled.columns, class_names=tree4.classes_.astype(str))\n",
    "plt.show()"
   ]
  },
  {
   "cell_type": "code",
   "execution_count": null,
   "id": "cf991f20",
   "metadata": {},
   "outputs": [],
   "source": [
    "y_pred4=tree4.predict(X_validate_scaled)"
   ]
  },
  {
   "cell_type": "code",
   "execution_count": null,
   "id": "747a7fa5",
   "metadata": {},
   "outputs": [],
   "source": [
    "y_pred_proba4 = tree4.predict_proba(X_validate_scaled)"
   ]
  },
  {
   "cell_type": "code",
   "execution_count": null,
   "id": "581e8efb",
   "metadata": {},
   "outputs": [],
   "source": [
    "print('Accuracy of Decision Tree classifier on training set: {:.2f}'\n",
    "      .format(tree4.score(X_validate_scaled, y_validate)))"
   ]
  },
  {
   "cell_type": "code",
   "execution_count": null,
   "id": "cf3bd2e5",
   "metadata": {},
   "outputs": [],
   "source": [
    "tree4.predict(X_validate_scaled)"
   ]
  },
  {
   "cell_type": "code",
   "execution_count": null,
   "id": "28bbbcc3",
   "metadata": {},
   "outputs": [],
   "source": [
    "predictions4 = tree4.predict(X_validate_scaled)"
   ]
  },
  {
   "cell_type": "code",
   "execution_count": null,
   "id": "f7d4475a",
   "metadata": {},
   "outputs": [],
   "source": [
    "actual4 = y_validate"
   ]
  },
  {
   "cell_type": "code",
   "execution_count": null,
   "id": "0c62e008",
   "metadata": {},
   "outputs": [],
   "source": [
    "confusion_matrix(actual4, predictions4)"
   ]
  },
  {
   "cell_type": "code",
   "execution_count": null,
   "id": "cb78bb2a",
   "metadata": {},
   "outputs": [],
   "source": [
    "pd.crosstab(y_validate['charter_encoded'], tree4.predict(X_validate_scaled))"
   ]
  },
  {
   "cell_type": "code",
   "execution_count": null,
   "id": "71c17e66",
   "metadata": {},
   "outputs": [],
   "source": [
    "plot_confusion_matrix(tree4, X_validate_scaled, y_validate, display_labels=['traditional', 'charter'])"
   ]
  },
  {
   "cell_type": "code",
   "execution_count": null,
   "id": "214e7aff",
   "metadata": {},
   "outputs": [],
   "source": [
    "print(classification_report(actual4, predictions4))"
   ]
  },
  {
   "cell_type": "markdown",
   "id": "68284219",
   "metadata": {},
   "source": [
    "# Test"
   ]
  },
  {
   "cell_type": "code",
   "execution_count": null,
   "id": "f46beaae",
   "metadata": {},
   "outputs": [],
   "source": [
    "# Create the decision tree object and specify hyperparams\n",
    "tree4 = DecisionTreeClassifier(max_depth = 4, random_state=123)"
   ]
  },
  {
   "cell_type": "code",
   "execution_count": null,
   "id": "e1dfbc56",
   "metadata": {},
   "outputs": [],
   "source": [
    "tree4.fit(X_test_scaled, y_test)"
   ]
  },
  {
   "cell_type": "code",
   "execution_count": null,
   "id": "fadace3c",
   "metadata": {},
   "outputs": [],
   "source": [
    "# Rudimentary visualization of model structure\n",
    "print(export_text(tree4, feature_names=X_train_scaled.columns.tolist()))"
   ]
  },
  {
   "cell_type": "code",
   "execution_count": null,
   "id": "b63bac9e",
   "metadata": {},
   "outputs": [],
   "source": [
    "#Visualize the tree\n",
    "plt.figure(figsize=(12, 7))\n",
    "plot_tree(tree4, feature_names=X_test_scaled.columns, class_names=tree4.classes_.astype(str))\n",
    "plt.show()"
   ]
  },
  {
   "cell_type": "code",
   "execution_count": null,
   "id": "4550169a",
   "metadata": {},
   "outputs": [],
   "source": [
    "y_pred4=tree4.predict(X_test_scaled)"
   ]
  },
  {
   "cell_type": "code",
   "execution_count": null,
   "id": "2e95878f",
   "metadata": {},
   "outputs": [],
   "source": [
    "y_pred_proba4 = tree4.predict_proba(X_test_scaled)"
   ]
  },
  {
   "cell_type": "code",
   "execution_count": null,
   "id": "04c9dfd1",
   "metadata": {},
   "outputs": [],
   "source": [
    "print('Accuracy of Decision Tree classifier on training set: {:.2f}'\n",
    "      .format(tree4.score(X_test_scaled, y_test)))"
   ]
  },
  {
   "cell_type": "code",
   "execution_count": null,
   "id": "c1f16d3b",
   "metadata": {},
   "outputs": [],
   "source": [
    "tree4.predict(X_test_scaled)"
   ]
  },
  {
   "cell_type": "code",
   "execution_count": null,
   "id": "86b99550",
   "metadata": {},
   "outputs": [],
   "source": [
    "predictions4 = tree4.predict(X_test_scaled)"
   ]
  },
  {
   "cell_type": "code",
   "execution_count": null,
   "id": "90bcebe4",
   "metadata": {},
   "outputs": [],
   "source": [
    "actual4 = y_test"
   ]
  },
  {
   "cell_type": "code",
   "execution_count": null,
   "id": "7e3e476b",
   "metadata": {},
   "outputs": [],
   "source": [
    "confusion_matrix(actual4, predictions4)\n",
    "\n",
    "pd.crosstab(y_test['charter_encoded'], tree4.predict(X_test_scaled))"
   ]
  },
  {
   "cell_type": "code",
   "execution_count": null,
   "id": "cceec374",
   "metadata": {},
   "outputs": [],
   "source": [
    "plot_confusion_matrix(tree4, X_test_scaled, y_test, display_labels=['traditional', 'charter'])"
   ]
  },
  {
   "cell_type": "code",
   "execution_count": null,
   "id": "42e7d5a2",
   "metadata": {},
   "outputs": [],
   "source": [
    "print(classification_report(actual4, predictions4))"
   ]
  },
  {
   "cell_type": "code",
   "execution_count": null,
   "id": "265d8aea",
   "metadata": {},
   "outputs": [],
   "source": [
    "pred_dict = {\n",
    "    'model': [],\n",
    "    'accuracy': [],\n",
    "    'true_positive_rate': [],\n",
    "    'false_positive_rate': [],\n",
    "    'true_negative_rate': [],\n",
    "    'false_negative_rate': [],\n",
    "    'precision': [],\n",
    "    'recall': [],\n",
    "    'f1_score': [],\n",
    "    'support_0': [],\n",
    "    'support_1': []\n",
    "}\n",
    "\n",
    "for n in [4]:\n",
    "    tree4 = DecisionTreeClassifier(max_depth = 4, random_state=123)\n",
    "    \n",
    "    tree4.fit(X_test_scaled, y_test)\n",
    "    \n",
    "    y_pred4=tree4.predict(X_test_scaled)\n",
    "    \n",
    "    TN, FP, FN, TP = confusion_matrix(y_test, y_pred4).ravel()\n",
    "    ALL = TP + TN + FP + FN\n",
    "    \n",
    "    accuracy = (TP + TN)/ALL\n",
    "    true_positive_rate = TP/(TP+FN)\n",
    "    false_positive_rate = FP/(FP+TN)\n",
    "    true_negative_rate = TN/(TN+FP)\n",
    "    false_negative_rate = FN/(FN+TP)\n",
    "    precision = TP/(TP+FP)\n",
    "    recall = TP/(TP+FN)\n",
    "    f1_score = 2*(precision*recall)/(precision+recall)\n",
    "    support_pos = TP + FN\n",
    "    support_neg = FP + TN\n",
    "    \n",
    "    pred_dict['model'].append(f'decision_tree_{n}')\n",
    "    pred_dict['accuracy'].append(accuracy)\n",
    "    pred_dict['true_positive_rate'].append(true_positive_rate)\n",
    "    pred_dict['false_positive_rate'].append(false_positive_rate)\n",
    "    pred_dict['true_negative_rate'].append(true_negative_rate)\n",
    "    pred_dict['false_negative_rate'].append(false_negative_rate)\n",
    "    pred_dict['precision'].append(precision)\n",
    "    pred_dict['recall'].append(recall)\n",
    "    pred_dict['f1_score'].append(f1_score)\n",
    "    pred_dict['support_0'].append(support_pos)\n",
    "    pred_dict['support_1'].append(support_neg)"
   ]
  },
  {
   "cell_type": "code",
   "execution_count": null,
   "id": "a08ea780",
   "metadata": {},
   "outputs": [],
   "source": [
    "pd.DataFrame(pred_dict)"
   ]
  },
  {
   "cell_type": "code",
   "execution_count": null,
   "id": "25748f30",
   "metadata": {},
   "outputs": [],
   "source": [
    "pd.DataFrame(pred_dict).T"
   ]
  },
  {
   "cell_type": "code",
   "execution_count": null,
   "id": "77468b0b",
   "metadata": {},
   "outputs": [],
   "source": []
  },
  {
   "cell_type": "code",
   "execution_count": null,
   "id": "8dfd4333",
   "metadata": {},
   "outputs": [],
   "source": []
  },
  {
   "cell_type": "code",
   "execution_count": null,
   "id": "fba24631",
   "metadata": {},
   "outputs": [],
   "source": []
  },
  {
   "cell_type": "code",
   "execution_count": null,
   "id": "886dbda4",
   "metadata": {},
   "outputs": [],
   "source": []
  },
  {
   "cell_type": "code",
   "execution_count": null,
   "id": "9160fe76",
   "metadata": {},
   "outputs": [],
   "source": []
  }
 ],
 "metadata": {
  "kernelspec": {
   "display_name": "Python 3 (ipykernel)",
   "language": "python",
   "name": "python3"
  },
  "language_info": {
   "codemirror_mode": {
    "name": "ipython",
    "version": 3
   },
   "file_extension": ".py",
   "mimetype": "text/x-python",
   "name": "python",
   "nbconvert_exporter": "python",
   "pygments_lexer": "ipython3",
   "version": "3.9.12"
  }
 },
 "nbformat": 4,
 "nbformat_minor": 5
}
