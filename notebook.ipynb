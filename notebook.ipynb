{
 "cells": [
  {
   "cell_type": "code",
   "execution_count": 1,
   "id": "96049c3c",
   "metadata": {},
   "outputs": [],
   "source": [
    "from matplotlib import pyplot as plt\n",
    "from matplotlib.colors import ListedColormap\n",
    "from env import user, password, host\n",
    "from scipy import stats\n",
    "from scipy.stats import levene, ttest_ind\n",
    "from sklearn.ensemble import RandomForestClassifier\n",
    "from sklearn.impute import SimpleImputer\n",
    "from sklearn.linear_model import LogisticRegression\n",
    "from sklearn.metrics import classification_report, confusion_matrix, ConfusionMatrixDisplay, plot_confusion_matrix\n",
    "from sklearn.model_selection import train_test_split\n",
    "from sklearn.neighbors import KNeighborsClassifier\n",
    "from sklearn.preprocessing import MinMaxScaler\n",
    "from sklearn.tree import DecisionTreeClassifier, plot_tree, export_text\n",
    "import math\n",
    "import numpy as np\n",
    "import os\n",
    "import pandas as pd\n",
    "import requests\n",
    "import seaborn as sns\n",
    "import statsmodels.api as sm\n",
    "import warnings\n",
    "warnings.filterwarnings(\"ignore\")\n"
   ]
  },
  {
   "cell_type": "code",
   "execution_count": 2,
   "id": "ef84cc09",
   "metadata": {},
   "outputs": [],
   "source": [
    "df22 = pd.read_csv('CAMPUS_summary_22.csv')\n",
    "df21 = pd.read_csv('CAMPUS_summary_21.csv')\n",
    "df20 = pd.read_csv('CAMPUS_summary_20.csv')\n",
    "df19 = pd.read_csv('CAMPUS_summary_19.csv')\n",
    "df18 = pd.read_csv('CAMPUS_summary_18.csv')"
   ]
  },
  {
   "cell_type": "code",
   "execution_count": 3,
   "id": "1f32e923",
   "metadata": {},
   "outputs": [
    {
     "data": {
      "text/html": [
       "<div>\n",
       "<style scoped>\n",
       "    .dataframe tbody tr th:only-of-type {\n",
       "        vertical-align: middle;\n",
       "    }\n",
       "\n",
       "    .dataframe tbody tr th {\n",
       "        vertical-align: top;\n",
       "    }\n",
       "\n",
       "    .dataframe thead th {\n",
       "        text-align: right;\n",
       "    }\n",
       "</style>\n",
       "<table border=\"1\" class=\"dataframe\">\n",
       "  <thead>\n",
       "    <tr style=\"text-align: right;\">\n",
       "      <th></th>\n",
       "      <th>agg_level</th>\n",
       "      <th>campus_number</th>\n",
       "      <th>region</th>\n",
       "      <th>dist_name_num</th>\n",
       "      <th>charter_status</th>\n",
       "      <th>campus</th>\n",
       "      <th>section</th>\n",
       "      <th>heading</th>\n",
       "      <th>heading_name</th>\n",
       "      <th>student_count</th>\n",
       "    </tr>\n",
       "  </thead>\n",
       "  <tbody>\n",
       "    <tr>\n",
       "      <th>0</th>\n",
       "      <td>CAMPUS SUMMARY</td>\n",
       "      <td>57816102</td>\n",
       "      <td>10</td>\n",
       "      <td>A W BROWN LEADERSHIP ACADEMY 057816</td>\n",
       "      <td>OPEN ENROLLMENT CHARTER</td>\n",
       "      <td>GENESIS CAMPUS PRE-K THRU 5 057816102</td>\n",
       "      <td>A-PARTICIPATION</td>\n",
       "      <td>A01</td>\n",
       "      <td>CAMPUS CUMULATIVE YEAR END ENROLLMENT</td>\n",
       "      <td>533</td>\n",
       "    </tr>\n",
       "    <tr>\n",
       "      <th>1</th>\n",
       "      <td>CAMPUS SUMMARY</td>\n",
       "      <td>57816102</td>\n",
       "      <td>10</td>\n",
       "      <td>A W BROWN LEADERSHIP ACADEMY 057816</td>\n",
       "      <td>OPEN ENROLLMENT CHARTER</td>\n",
       "      <td>GENESIS CAMPUS PRE-K THRU 5 057816102</td>\n",
       "      <td>A-PARTICIPATION</td>\n",
       "      <td>A02</td>\n",
       "      <td>CAMPUS DISCIPLINE POPULATION</td>\n",
       "      <td>27</td>\n",
       "    </tr>\n",
       "    <tr>\n",
       "      <th>2</th>\n",
       "      <td>CAMPUS SUMMARY</td>\n",
       "      <td>57816102</td>\n",
       "      <td>10</td>\n",
       "      <td>A W BROWN LEADERSHIP ACADEMY 057816</td>\n",
       "      <td>OPEN ENROLLMENT CHARTER</td>\n",
       "      <td>GENESIS CAMPUS PRE-K THRU 5 057816102</td>\n",
       "      <td>A-PARTICIPATION</td>\n",
       "      <td>A03</td>\n",
       "      <td>CAMPUS DISCIPLINE RECORD COUNT</td>\n",
       "      <td>40</td>\n",
       "    </tr>\n",
       "    <tr>\n",
       "      <th>3</th>\n",
       "      <td>CAMPUS SUMMARY</td>\n",
       "      <td>57816102</td>\n",
       "      <td>10</td>\n",
       "      <td>A W BROWN LEADERSHIP ACADEMY 057816</td>\n",
       "      <td>OPEN ENROLLMENT CHARTER</td>\n",
       "      <td>GENESIS CAMPUS PRE-K THRU 5 057816102</td>\n",
       "      <td>B-DISCIPLINE DATA TRENDS</td>\n",
       "      <td>B13</td>\n",
       "      <td>STUDENTS SUSPENDED OUT OF SCHOOL</td>\n",
       "      <td>27</td>\n",
       "    </tr>\n",
       "    <tr>\n",
       "      <th>4</th>\n",
       "      <td>CAMPUS SUMMARY</td>\n",
       "      <td>57816102</td>\n",
       "      <td>10</td>\n",
       "      <td>A W BROWN LEADERSHIP ACADEMY 057816</td>\n",
       "      <td>OPEN ENROLLMENT CHARTER</td>\n",
       "      <td>GENESIS CAMPUS PRE-K THRU 5 057816102</td>\n",
       "      <td>F-OUT OF SCHOOL SUSPENSIONS</td>\n",
       "      <td>C24</td>\n",
       "      <td>BLACK OR AFRICAN AMERICAN</td>\n",
       "      <td>-999</td>\n",
       "    </tr>\n",
       "  </tbody>\n",
       "</table>\n",
       "</div>"
      ],
      "text/plain": [
       "        agg_level  campus_number  region                        dist_name_num  \\\n",
       "0  CAMPUS SUMMARY       57816102      10  A W BROWN LEADERSHIP ACADEMY 057816   \n",
       "1  CAMPUS SUMMARY       57816102      10  A W BROWN LEADERSHIP ACADEMY 057816   \n",
       "2  CAMPUS SUMMARY       57816102      10  A W BROWN LEADERSHIP ACADEMY 057816   \n",
       "3  CAMPUS SUMMARY       57816102      10  A W BROWN LEADERSHIP ACADEMY 057816   \n",
       "4  CAMPUS SUMMARY       57816102      10  A W BROWN LEADERSHIP ACADEMY 057816   \n",
       "\n",
       "            charter_status                                 campus  \\\n",
       "0  OPEN ENROLLMENT CHARTER  GENESIS CAMPUS PRE-K THRU 5 057816102   \n",
       "1  OPEN ENROLLMENT CHARTER  GENESIS CAMPUS PRE-K THRU 5 057816102   \n",
       "2  OPEN ENROLLMENT CHARTER  GENESIS CAMPUS PRE-K THRU 5 057816102   \n",
       "3  OPEN ENROLLMENT CHARTER  GENESIS CAMPUS PRE-K THRU 5 057816102   \n",
       "4  OPEN ENROLLMENT CHARTER  GENESIS CAMPUS PRE-K THRU 5 057816102   \n",
       "\n",
       "                       section heading                           heading_name  \\\n",
       "0              A-PARTICIPATION     A01  CAMPUS CUMULATIVE YEAR END ENROLLMENT   \n",
       "1              A-PARTICIPATION     A02           CAMPUS DISCIPLINE POPULATION   \n",
       "2              A-PARTICIPATION     A03         CAMPUS DISCIPLINE RECORD COUNT   \n",
       "3     B-DISCIPLINE DATA TRENDS     B13       STUDENTS SUSPENDED OUT OF SCHOOL   \n",
       "4  F-OUT OF SCHOOL SUSPENSIONS     C24              BLACK OR AFRICAN AMERICAN   \n",
       "\n",
       "  student_count  \n",
       "0           533  \n",
       "1            27  \n",
       "2            40  \n",
       "3            27  \n",
       "4          -999  "
      ]
     },
     "execution_count": 3,
     "metadata": {},
     "output_type": "execute_result"
    }
   ],
   "source": [
    "df22.head()"
   ]
  },
  {
   "cell_type": "code",
   "execution_count": 4,
   "id": "94efe554",
   "metadata": {},
   "outputs": [
    {
     "data": {
      "text/html": [
       "<div>\n",
       "<style scoped>\n",
       "    .dataframe tbody tr th:only-of-type {\n",
       "        vertical-align: middle;\n",
       "    }\n",
       "\n",
       "    .dataframe tbody tr th {\n",
       "        vertical-align: top;\n",
       "    }\n",
       "\n",
       "    .dataframe thead th {\n",
       "        text-align: right;\n",
       "    }\n",
       "</style>\n",
       "<table border=\"1\" class=\"dataframe\">\n",
       "  <thead>\n",
       "    <tr style=\"text-align: right;\">\n",
       "      <th></th>\n",
       "      <th>agg_level</th>\n",
       "      <th>campus_number</th>\n",
       "      <th>region</th>\n",
       "      <th>dist_name_num</th>\n",
       "      <th>charter_status</th>\n",
       "      <th>campus</th>\n",
       "      <th>section</th>\n",
       "      <th>heading</th>\n",
       "      <th>heading_name</th>\n",
       "      <th>student_count</th>\n",
       "    </tr>\n",
       "  </thead>\n",
       "  <tbody>\n",
       "    <tr>\n",
       "      <th>0</th>\n",
       "      <td>CAMPUS SUMMARY</td>\n",
       "      <td>57816102</td>\n",
       "      <td>10</td>\n",
       "      <td>A W BROWN LEADERSHIP ACADEMY 057816</td>\n",
       "      <td>OPEN ENROLLMENT CHARTER</td>\n",
       "      <td>GENESIS CAMPUS PRE-K THRU 5 057816102</td>\n",
       "      <td>A-PARTICIPATION</td>\n",
       "      <td>A01</td>\n",
       "      <td>CAMPUS CUMULATIVE YEAR END ENROLLMENT</td>\n",
       "      <td>853</td>\n",
       "    </tr>\n",
       "    <tr>\n",
       "      <th>1</th>\n",
       "      <td>CAMPUS SUMMARY</td>\n",
       "      <td>57816101</td>\n",
       "      <td>10</td>\n",
       "      <td>A W BROWN LEADERSHIP ACADEMY 057816</td>\n",
       "      <td>OPEN ENROLLMENT CHARTER</td>\n",
       "      <td>QUEST CAMPUS PRE-K THRU 8 057816101</td>\n",
       "      <td>A-PARTICIPATION</td>\n",
       "      <td>A01</td>\n",
       "      <td>CAMPUS CUMULATIVE YEAR END ENROLLMENT</td>\n",
       "      <td>682</td>\n",
       "    </tr>\n",
       "    <tr>\n",
       "      <th>2</th>\n",
       "      <td>CAMPUS SUMMARY</td>\n",
       "      <td>57816101</td>\n",
       "      <td>10</td>\n",
       "      <td>A W BROWN LEADERSHIP ACADEMY 057816</td>\n",
       "      <td>OPEN ENROLLMENT CHARTER</td>\n",
       "      <td>QUEST CAMPUS PRE-K THRU 8 057816101</td>\n",
       "      <td>A-PARTICIPATION</td>\n",
       "      <td>A02</td>\n",
       "      <td>CAMPUS DISCIPLINE POPULATION</td>\n",
       "      <td>-999</td>\n",
       "    </tr>\n",
       "    <tr>\n",
       "      <th>3</th>\n",
       "      <td>CAMPUS SUMMARY</td>\n",
       "      <td>57816101</td>\n",
       "      <td>10</td>\n",
       "      <td>A W BROWN LEADERSHIP ACADEMY 057816</td>\n",
       "      <td>OPEN ENROLLMENT CHARTER</td>\n",
       "      <td>QUEST CAMPUS PRE-K THRU 8 057816101</td>\n",
       "      <td>A-PARTICIPATION</td>\n",
       "      <td>A03</td>\n",
       "      <td>CAMPUS DISCIPLINE RECORD COUNT</td>\n",
       "      <td>-999</td>\n",
       "    </tr>\n",
       "    <tr>\n",
       "      <th>4</th>\n",
       "      <td>CAMPUS SUMMARY</td>\n",
       "      <td>57816101</td>\n",
       "      <td>10</td>\n",
       "      <td>A W BROWN LEADERSHIP ACADEMY 057816</td>\n",
       "      <td>OPEN ENROLLMENT CHARTER</td>\n",
       "      <td>QUEST CAMPUS PRE-K THRU 8 057816101</td>\n",
       "      <td>B-DISCIPLINE DATA TRENDS</td>\n",
       "      <td>B13</td>\n",
       "      <td>STUDENTS SUSPENDED OUT OF SCHOOL</td>\n",
       "      <td>-999</td>\n",
       "    </tr>\n",
       "  </tbody>\n",
       "</table>\n",
       "</div>"
      ],
      "text/plain": [
       "        agg_level  campus_number  region                        dist_name_num  \\\n",
       "0  CAMPUS SUMMARY       57816102      10  A W BROWN LEADERSHIP ACADEMY 057816   \n",
       "1  CAMPUS SUMMARY       57816101      10  A W BROWN LEADERSHIP ACADEMY 057816   \n",
       "2  CAMPUS SUMMARY       57816101      10  A W BROWN LEADERSHIP ACADEMY 057816   \n",
       "3  CAMPUS SUMMARY       57816101      10  A W BROWN LEADERSHIP ACADEMY 057816   \n",
       "4  CAMPUS SUMMARY       57816101      10  A W BROWN LEADERSHIP ACADEMY 057816   \n",
       "\n",
       "            charter_status                                 campus  \\\n",
       "0  OPEN ENROLLMENT CHARTER  GENESIS CAMPUS PRE-K THRU 5 057816102   \n",
       "1  OPEN ENROLLMENT CHARTER    QUEST CAMPUS PRE-K THRU 8 057816101   \n",
       "2  OPEN ENROLLMENT CHARTER    QUEST CAMPUS PRE-K THRU 8 057816101   \n",
       "3  OPEN ENROLLMENT CHARTER    QUEST CAMPUS PRE-K THRU 8 057816101   \n",
       "4  OPEN ENROLLMENT CHARTER    QUEST CAMPUS PRE-K THRU 8 057816101   \n",
       "\n",
       "                    section heading                           heading_name  \\\n",
       "0           A-PARTICIPATION     A01  CAMPUS CUMULATIVE YEAR END ENROLLMENT   \n",
       "1           A-PARTICIPATION     A01  CAMPUS CUMULATIVE YEAR END ENROLLMENT   \n",
       "2           A-PARTICIPATION     A02           CAMPUS DISCIPLINE POPULATION   \n",
       "3           A-PARTICIPATION     A03         CAMPUS DISCIPLINE RECORD COUNT   \n",
       "4  B-DISCIPLINE DATA TRENDS     B13       STUDENTS SUSPENDED OUT OF SCHOOL   \n",
       "\n",
       "  student_count  \n",
       "0           853  \n",
       "1           682  \n",
       "2          -999  \n",
       "3          -999  \n",
       "4          -999  "
      ]
     },
     "execution_count": 4,
     "metadata": {},
     "output_type": "execute_result"
    }
   ],
   "source": [
    "df21.head()"
   ]
  },
  {
   "cell_type": "code",
   "execution_count": 5,
   "id": "8ca226b1",
   "metadata": {},
   "outputs": [
    {
     "data": {
      "text/html": [
       "<div>\n",
       "<style scoped>\n",
       "    .dataframe tbody tr th:only-of-type {\n",
       "        vertical-align: middle;\n",
       "    }\n",
       "\n",
       "    .dataframe tbody tr th {\n",
       "        vertical-align: top;\n",
       "    }\n",
       "\n",
       "    .dataframe thead th {\n",
       "        text-align: right;\n",
       "    }\n",
       "</style>\n",
       "<table border=\"1\" class=\"dataframe\">\n",
       "  <thead>\n",
       "    <tr style=\"text-align: right;\">\n",
       "      <th></th>\n",
       "      <th>agg_level</th>\n",
       "      <th>campus_number</th>\n",
       "      <th>region</th>\n",
       "      <th>dist_name_num</th>\n",
       "      <th>charter_status</th>\n",
       "      <th>campus</th>\n",
       "      <th>section</th>\n",
       "      <th>heading</th>\n",
       "      <th>heading_name</th>\n",
       "      <th>student_count</th>\n",
       "    </tr>\n",
       "  </thead>\n",
       "  <tbody>\n",
       "    <tr>\n",
       "      <th>0</th>\n",
       "      <td>CAMPUS SUMMARY</td>\n",
       "      <td>57816102</td>\n",
       "      <td>10</td>\n",
       "      <td>A W BROWN LEADERSHIP ACADEMY 057816</td>\n",
       "      <td>OPEN ENROLLMENT CHARTER</td>\n",
       "      <td>GENESIS CAMPUS PRE-K THRU 5 057816102</td>\n",
       "      <td>A-PARTICIPATION</td>\n",
       "      <td>A01</td>\n",
       "      <td>CAMPUS CUMULATIVE YEAR END ENROLLMENT</td>\n",
       "      <td>1086</td>\n",
       "    </tr>\n",
       "    <tr>\n",
       "      <th>1</th>\n",
       "      <td>CAMPUS SUMMARY</td>\n",
       "      <td>57816102</td>\n",
       "      <td>10</td>\n",
       "      <td>A W BROWN LEADERSHIP ACADEMY 057816</td>\n",
       "      <td>OPEN ENROLLMENT CHARTER</td>\n",
       "      <td>GENESIS CAMPUS PRE-K THRU 5 057816102</td>\n",
       "      <td>A-PARTICIPATION</td>\n",
       "      <td>A02</td>\n",
       "      <td>CAMPUS DISCIPLINE POPULATION</td>\n",
       "      <td>20</td>\n",
       "    </tr>\n",
       "    <tr>\n",
       "      <th>2</th>\n",
       "      <td>CAMPUS SUMMARY</td>\n",
       "      <td>57816102</td>\n",
       "      <td>10</td>\n",
       "      <td>A W BROWN LEADERSHIP ACADEMY 057816</td>\n",
       "      <td>OPEN ENROLLMENT CHARTER</td>\n",
       "      <td>GENESIS CAMPUS PRE-K THRU 5 057816102</td>\n",
       "      <td>A-PARTICIPATION</td>\n",
       "      <td>A03</td>\n",
       "      <td>CAMPUS DISCIPLINE RECORD COUNT</td>\n",
       "      <td>32</td>\n",
       "    </tr>\n",
       "    <tr>\n",
       "      <th>3</th>\n",
       "      <td>CAMPUS SUMMARY</td>\n",
       "      <td>57816102</td>\n",
       "      <td>10</td>\n",
       "      <td>A W BROWN LEADERSHIP ACADEMY 057816</td>\n",
       "      <td>OPEN ENROLLMENT CHARTER</td>\n",
       "      <td>GENESIS CAMPUS PRE-K THRU 5 057816102</td>\n",
       "      <td>B-DISCIPLINE DATA TRENDS</td>\n",
       "      <td>B10</td>\n",
       "      <td>COUNT OF STUDENTS SUSPENDED IN SCHOOL</td>\n",
       "      <td>-999</td>\n",
       "    </tr>\n",
       "    <tr>\n",
       "      <th>4</th>\n",
       "      <td>CAMPUS SUMMARY</td>\n",
       "      <td>57816102</td>\n",
       "      <td>10</td>\n",
       "      <td>A W BROWN LEADERSHIP ACADEMY 057816</td>\n",
       "      <td>OPEN ENROLLMENT CHARTER</td>\n",
       "      <td>GENESIS CAMPUS PRE-K THRU 5 057816102</td>\n",
       "      <td>B-DISCIPLINE DATA TRENDS</td>\n",
       "      <td>B13</td>\n",
       "      <td>STUDENTS SUSPENDED OUT OF SCHOOL</td>\n",
       "      <td>16</td>\n",
       "    </tr>\n",
       "  </tbody>\n",
       "</table>\n",
       "</div>"
      ],
      "text/plain": [
       "        agg_level  campus_number  region                        dist_name_num  \\\n",
       "0  CAMPUS SUMMARY       57816102      10  A W BROWN LEADERSHIP ACADEMY 057816   \n",
       "1  CAMPUS SUMMARY       57816102      10  A W BROWN LEADERSHIP ACADEMY 057816   \n",
       "2  CAMPUS SUMMARY       57816102      10  A W BROWN LEADERSHIP ACADEMY 057816   \n",
       "3  CAMPUS SUMMARY       57816102      10  A W BROWN LEADERSHIP ACADEMY 057816   \n",
       "4  CAMPUS SUMMARY       57816102      10  A W BROWN LEADERSHIP ACADEMY 057816   \n",
       "\n",
       "            charter_status                                 campus  \\\n",
       "0  OPEN ENROLLMENT CHARTER  GENESIS CAMPUS PRE-K THRU 5 057816102   \n",
       "1  OPEN ENROLLMENT CHARTER  GENESIS CAMPUS PRE-K THRU 5 057816102   \n",
       "2  OPEN ENROLLMENT CHARTER  GENESIS CAMPUS PRE-K THRU 5 057816102   \n",
       "3  OPEN ENROLLMENT CHARTER  GENESIS CAMPUS PRE-K THRU 5 057816102   \n",
       "4  OPEN ENROLLMENT CHARTER  GENESIS CAMPUS PRE-K THRU 5 057816102   \n",
       "\n",
       "                    section heading                           heading_name  \\\n",
       "0           A-PARTICIPATION     A01  CAMPUS CUMULATIVE YEAR END ENROLLMENT   \n",
       "1           A-PARTICIPATION     A02           CAMPUS DISCIPLINE POPULATION   \n",
       "2           A-PARTICIPATION     A03         CAMPUS DISCIPLINE RECORD COUNT   \n",
       "3  B-DISCIPLINE DATA TRENDS     B10  COUNT OF STUDENTS SUSPENDED IN SCHOOL   \n",
       "4  B-DISCIPLINE DATA TRENDS     B13       STUDENTS SUSPENDED OUT OF SCHOOL   \n",
       "\n",
       "  student_count  \n",
       "0          1086  \n",
       "1            20  \n",
       "2            32  \n",
       "3          -999  \n",
       "4            16  "
      ]
     },
     "execution_count": 5,
     "metadata": {},
     "output_type": "execute_result"
    }
   ],
   "source": [
    "df20.head()"
   ]
  },
  {
   "cell_type": "code",
   "execution_count": 6,
   "id": "7df05ece",
   "metadata": {},
   "outputs": [
    {
     "data": {
      "text/html": [
       "<div>\n",
       "<style scoped>\n",
       "    .dataframe tbody tr th:only-of-type {\n",
       "        vertical-align: middle;\n",
       "    }\n",
       "\n",
       "    .dataframe tbody tr th {\n",
       "        vertical-align: top;\n",
       "    }\n",
       "\n",
       "    .dataframe thead th {\n",
       "        text-align: right;\n",
       "    }\n",
       "</style>\n",
       "<table border=\"1\" class=\"dataframe\">\n",
       "  <thead>\n",
       "    <tr style=\"text-align: right;\">\n",
       "      <th></th>\n",
       "      <th>agg_level</th>\n",
       "      <th>campus_number</th>\n",
       "      <th>region</th>\n",
       "      <th>dist_name_num</th>\n",
       "      <th>charter_status</th>\n",
       "      <th>campus</th>\n",
       "      <th>section</th>\n",
       "      <th>heading</th>\n",
       "      <th>heading_name</th>\n",
       "      <th>student_count</th>\n",
       "    </tr>\n",
       "  </thead>\n",
       "  <tbody>\n",
       "    <tr>\n",
       "      <th>0</th>\n",
       "      <td>CAMPUS SUMMARY</td>\n",
       "      <td>57816102</td>\n",
       "      <td>10</td>\n",
       "      <td>A W BROWN LEADERSHIP ACADEMY 057816</td>\n",
       "      <td>OPEN ENROLLMENT CHARTER</td>\n",
       "      <td>A W BROWN - F L A EARLY CHILDHOOD 057816102</td>\n",
       "      <td>A-PARTICIPATION</td>\n",
       "      <td>A01</td>\n",
       "      <td>CAMPUS CUMULATIVE YEAR END ENROLLMENT</td>\n",
       "      <td>1291</td>\n",
       "    </tr>\n",
       "    <tr>\n",
       "      <th>1</th>\n",
       "      <td>CAMPUS SUMMARY</td>\n",
       "      <td>57816101</td>\n",
       "      <td>10</td>\n",
       "      <td>A W BROWN LEADERSHIP ACADEMY 057816</td>\n",
       "      <td>OPEN ENROLLMENT CHARTER</td>\n",
       "      <td>AW BROWN-F L A INT CAMPUS 057816101</td>\n",
       "      <td>A-PARTICIPATION</td>\n",
       "      <td>A01</td>\n",
       "      <td>CAMPUS CUMULATIVE YEAR END ENROLLMENT</td>\n",
       "      <td>961</td>\n",
       "    </tr>\n",
       "    <tr>\n",
       "      <th>2</th>\n",
       "      <td>CAMPUS SUMMARY</td>\n",
       "      <td>57829001</td>\n",
       "      <td>10</td>\n",
       "      <td>A+ ACADEMY 057829</td>\n",
       "      <td>OPEN ENROLLMENT CHARTER</td>\n",
       "      <td>A+ ACADEMY EL 057829001</td>\n",
       "      <td>A-PARTICIPATION</td>\n",
       "      <td>A01</td>\n",
       "      <td>CAMPUS CUMULATIVE YEAR END ENROLLMENT</td>\n",
       "      <td>853</td>\n",
       "    </tr>\n",
       "    <tr>\n",
       "      <th>3</th>\n",
       "      <td>CAMPUS SUMMARY</td>\n",
       "      <td>57829001</td>\n",
       "      <td>10</td>\n",
       "      <td>A+ ACADEMY 057829</td>\n",
       "      <td>OPEN ENROLLMENT CHARTER</td>\n",
       "      <td>A+ ACADEMY EL 057829001</td>\n",
       "      <td>A-PARTICIPATION</td>\n",
       "      <td>A02</td>\n",
       "      <td>CAMPUS DISCIPLINE POPULATION</td>\n",
       "      <td>24</td>\n",
       "    </tr>\n",
       "    <tr>\n",
       "      <th>4</th>\n",
       "      <td>CAMPUS SUMMARY</td>\n",
       "      <td>57829001</td>\n",
       "      <td>10</td>\n",
       "      <td>A+ ACADEMY 057829</td>\n",
       "      <td>OPEN ENROLLMENT CHARTER</td>\n",
       "      <td>A+ ACADEMY EL 057829001</td>\n",
       "      <td>A-PARTICIPATION</td>\n",
       "      <td>A03</td>\n",
       "      <td>CAMPUS DISCIPLINE RECORD COUNT</td>\n",
       "      <td>26</td>\n",
       "    </tr>\n",
       "  </tbody>\n",
       "</table>\n",
       "</div>"
      ],
      "text/plain": [
       "        agg_level  campus_number  region                        dist_name_num  \\\n",
       "0  CAMPUS SUMMARY       57816102      10  A W BROWN LEADERSHIP ACADEMY 057816   \n",
       "1  CAMPUS SUMMARY       57816101      10  A W BROWN LEADERSHIP ACADEMY 057816   \n",
       "2  CAMPUS SUMMARY       57829001      10                    A+ ACADEMY 057829   \n",
       "3  CAMPUS SUMMARY       57829001      10                    A+ ACADEMY 057829   \n",
       "4  CAMPUS SUMMARY       57829001      10                    A+ ACADEMY 057829   \n",
       "\n",
       "            charter_status                                       campus  \\\n",
       "0  OPEN ENROLLMENT CHARTER  A W BROWN - F L A EARLY CHILDHOOD 057816102   \n",
       "1  OPEN ENROLLMENT CHARTER          AW BROWN-F L A INT CAMPUS 057816101   \n",
       "2  OPEN ENROLLMENT CHARTER                      A+ ACADEMY EL 057829001   \n",
       "3  OPEN ENROLLMENT CHARTER                      A+ ACADEMY EL 057829001   \n",
       "4  OPEN ENROLLMENT CHARTER                      A+ ACADEMY EL 057829001   \n",
       "\n",
       "           section heading                           heading_name  \\\n",
       "0  A-PARTICIPATION     A01  CAMPUS CUMULATIVE YEAR END ENROLLMENT   \n",
       "1  A-PARTICIPATION     A01  CAMPUS CUMULATIVE YEAR END ENROLLMENT   \n",
       "2  A-PARTICIPATION     A01  CAMPUS CUMULATIVE YEAR END ENROLLMENT   \n",
       "3  A-PARTICIPATION     A02           CAMPUS DISCIPLINE POPULATION   \n",
       "4  A-PARTICIPATION     A03         CAMPUS DISCIPLINE RECORD COUNT   \n",
       "\n",
       "  student_count  \n",
       "0          1291  \n",
       "1           961  \n",
       "2           853  \n",
       "3            24  \n",
       "4            26  "
      ]
     },
     "execution_count": 6,
     "metadata": {},
     "output_type": "execute_result"
    }
   ],
   "source": [
    "df19.head()"
   ]
  },
  {
   "cell_type": "code",
   "execution_count": 7,
   "id": "7adcc860",
   "metadata": {},
   "outputs": [
    {
     "data": {
      "text/html": [
       "<div>\n",
       "<style scoped>\n",
       "    .dataframe tbody tr th:only-of-type {\n",
       "        vertical-align: middle;\n",
       "    }\n",
       "\n",
       "    .dataframe tbody tr th {\n",
       "        vertical-align: top;\n",
       "    }\n",
       "\n",
       "    .dataframe thead th {\n",
       "        text-align: right;\n",
       "    }\n",
       "</style>\n",
       "<table border=\"1\" class=\"dataframe\">\n",
       "  <thead>\n",
       "    <tr style=\"text-align: right;\">\n",
       "      <th></th>\n",
       "      <th>agg_level</th>\n",
       "      <th>campus_number</th>\n",
       "      <th>region</th>\n",
       "      <th>dist_name_num</th>\n",
       "      <th>charter_status</th>\n",
       "      <th>campus</th>\n",
       "      <th>section</th>\n",
       "      <th>heading</th>\n",
       "      <th>heading_name</th>\n",
       "      <th>student_count</th>\n",
       "    </tr>\n",
       "  </thead>\n",
       "  <tbody>\n",
       "    <tr>\n",
       "      <th>0</th>\n",
       "      <td>CAMPUS SUMMARY</td>\n",
       "      <td>57816102</td>\n",
       "      <td>10</td>\n",
       "      <td>A W BROWN LEADERSHIP ACADEMY 057816</td>\n",
       "      <td>OPEN ENROLLMENT CHARTER</td>\n",
       "      <td>A W BROWN - F L A EARLY CHILDHOOD 057816102</td>\n",
       "      <td>A-PARTICIPATION</td>\n",
       "      <td>A01</td>\n",
       "      <td>CAMPUS CUMULATIVE YEAR END ENROLLMENT</td>\n",
       "      <td>1278</td>\n",
       "    </tr>\n",
       "    <tr>\n",
       "      <th>1</th>\n",
       "      <td>CAMPUS SUMMARY</td>\n",
       "      <td>57816101</td>\n",
       "      <td>10</td>\n",
       "      <td>A W BROWN LEADERSHIP ACADEMY 057816</td>\n",
       "      <td>OPEN ENROLLMENT CHARTER</td>\n",
       "      <td>AW BROWN-F L A INT CAMPUS 057816101</td>\n",
       "      <td>A-PARTICIPATION</td>\n",
       "      <td>A01</td>\n",
       "      <td>CAMPUS CUMULATIVE YEAR END ENROLLMENT</td>\n",
       "      <td>1106</td>\n",
       "    </tr>\n",
       "    <tr>\n",
       "      <th>2</th>\n",
       "      <td>CAMPUS SUMMARY</td>\n",
       "      <td>57829001</td>\n",
       "      <td>10</td>\n",
       "      <td>A+ ACADEMY 057829</td>\n",
       "      <td>OPEN ENROLLMENT CHARTER</td>\n",
       "      <td>A+ ACADEMY EL 057829001</td>\n",
       "      <td>A-PARTICIPATION</td>\n",
       "      <td>A01</td>\n",
       "      <td>CAMPUS CUMULATIVE YEAR END ENROLLMENT</td>\n",
       "      <td>859</td>\n",
       "    </tr>\n",
       "    <tr>\n",
       "      <th>3</th>\n",
       "      <td>CAMPUS SUMMARY</td>\n",
       "      <td>57829002</td>\n",
       "      <td>10</td>\n",
       "      <td>A+ ACADEMY 057829</td>\n",
       "      <td>OPEN ENROLLMENT CHARTER</td>\n",
       "      <td>A+ SECONDARY SCHOOL 057829002</td>\n",
       "      <td>A-PARTICIPATION</td>\n",
       "      <td>A01</td>\n",
       "      <td>CAMPUS CUMULATIVE YEAR END ENROLLMENT</td>\n",
       "      <td>584</td>\n",
       "    </tr>\n",
       "    <tr>\n",
       "      <th>4</th>\n",
       "      <td>CAMPUS SUMMARY</td>\n",
       "      <td>57829001</td>\n",
       "      <td>10</td>\n",
       "      <td>A+ ACADEMY 057829</td>\n",
       "      <td>OPEN ENROLLMENT CHARTER</td>\n",
       "      <td>A+ ACADEMY EL 057829001</td>\n",
       "      <td>A-PARTICIPATION</td>\n",
       "      <td>A02</td>\n",
       "      <td>CAMPUS DISCIPLINE POPULATION</td>\n",
       "      <td>-999</td>\n",
       "    </tr>\n",
       "  </tbody>\n",
       "</table>\n",
       "</div>"
      ],
      "text/plain": [
       "        agg_level  campus_number  region                        dist_name_num  \\\n",
       "0  CAMPUS SUMMARY       57816102      10  A W BROWN LEADERSHIP ACADEMY 057816   \n",
       "1  CAMPUS SUMMARY       57816101      10  A W BROWN LEADERSHIP ACADEMY 057816   \n",
       "2  CAMPUS SUMMARY       57829001      10                    A+ ACADEMY 057829   \n",
       "3  CAMPUS SUMMARY       57829002      10                    A+ ACADEMY 057829   \n",
       "4  CAMPUS SUMMARY       57829001      10                    A+ ACADEMY 057829   \n",
       "\n",
       "            charter_status                                       campus  \\\n",
       "0  OPEN ENROLLMENT CHARTER  A W BROWN - F L A EARLY CHILDHOOD 057816102   \n",
       "1  OPEN ENROLLMENT CHARTER          AW BROWN-F L A INT CAMPUS 057816101   \n",
       "2  OPEN ENROLLMENT CHARTER                      A+ ACADEMY EL 057829001   \n",
       "3  OPEN ENROLLMENT CHARTER                A+ SECONDARY SCHOOL 057829002   \n",
       "4  OPEN ENROLLMENT CHARTER                      A+ ACADEMY EL 057829001   \n",
       "\n",
       "           section heading                           heading_name  \\\n",
       "0  A-PARTICIPATION     A01  CAMPUS CUMULATIVE YEAR END ENROLLMENT   \n",
       "1  A-PARTICIPATION     A01  CAMPUS CUMULATIVE YEAR END ENROLLMENT   \n",
       "2  A-PARTICIPATION     A01  CAMPUS CUMULATIVE YEAR END ENROLLMENT   \n",
       "3  A-PARTICIPATION     A01  CAMPUS CUMULATIVE YEAR END ENROLLMENT   \n",
       "4  A-PARTICIPATION     A02           CAMPUS DISCIPLINE POPULATION   \n",
       "\n",
       "  student_count  \n",
       "0          1278  \n",
       "1          1106  \n",
       "2           859  \n",
       "3           584  \n",
       "4          -999  "
      ]
     },
     "execution_count": 7,
     "metadata": {},
     "output_type": "execute_result"
    }
   ],
   "source": [
    "df18.head()"
   ]
  },
  {
   "cell_type": "code",
   "execution_count": 8,
   "id": "00e1aef2",
   "metadata": {},
   "outputs": [],
   "source": [
    "def prep22(df):\n",
    "    global df22\n",
    "    df22['charter_encoded'] = df22.charter_status.map({'OPEN ENROLLMENT CHARTER': 1, 'TRADITIONAL ISD/CSD':0})\n",
    "    df22=df22[(df22.heading == 'A01') | (df22.heading ==  'A03')]\n",
    "    df22=df22[df22['student_count'] != '-999']\n",
    "    df22['student_count']= df22['student_count'].str.replace(\"<\", \"\")\n",
    "    df22['student_count'] = df22['student_count'].astype(float)\n",
    "    dfpivot=df22.pivot(index='campus_number', columns='heading', values= 'student_count').dropna()\n",
    "    df22=df22.merge(dfpivot,how= 'right', on= 'campus_number')\n",
    "    df22=df22.rename(columns={'A01': 'student_enrollment', 'A03':'discipline_count'})\n",
    "    df22['discipline_percent']= ((df22['discipline_count']/df22['student_enrollment'])*100)\n",
    "    df22=df22.round({'discipline_percent': 0})\n",
    "    df22=df22.drop(columns=['agg_level', 'campus_number', 'region', 'charter_status', 'dist_name_num', 'student_count','section', 'heading', 'heading_name', 'student_count'])\n",
    "    df22=df22.drop_duplicates()\n",
    "    df22=df22.reset_index(drop=True)"
   ]
  },
  {
   "cell_type": "code",
   "execution_count": 9,
   "id": "7f25463c",
   "metadata": {},
   "outputs": [],
   "source": [
    "prep22(df22)"
   ]
  },
  {
   "cell_type": "code",
   "execution_count": 10,
   "id": "6fbfbc06",
   "metadata": {},
   "outputs": [
    {
     "data": {
      "text/html": [
       "<div>\n",
       "<style scoped>\n",
       "    .dataframe tbody tr th:only-of-type {\n",
       "        vertical-align: middle;\n",
       "    }\n",
       "\n",
       "    .dataframe tbody tr th {\n",
       "        vertical-align: top;\n",
       "    }\n",
       "\n",
       "    .dataframe thead th {\n",
       "        text-align: right;\n",
       "    }\n",
       "</style>\n",
       "<table border=\"1\" class=\"dataframe\">\n",
       "  <thead>\n",
       "    <tr style=\"text-align: right;\">\n",
       "      <th></th>\n",
       "      <th>campus</th>\n",
       "      <th>charter_encoded</th>\n",
       "      <th>student_enrollment</th>\n",
       "      <th>discipline_count</th>\n",
       "      <th>discipline_percent</th>\n",
       "    </tr>\n",
       "  </thead>\n",
       "  <tbody>\n",
       "    <tr>\n",
       "      <th>0</th>\n",
       "      <td>CAYUGA H S 001902001</td>\n",
       "      <td>0</td>\n",
       "      <td>173.0</td>\n",
       "      <td>37.0</td>\n",
       "      <td>21.0</td>\n",
       "    </tr>\n",
       "    <tr>\n",
       "      <th>1</th>\n",
       "      <td>ELKHART H S 001903001</td>\n",
       "      <td>0</td>\n",
       "      <td>335.0</td>\n",
       "      <td>141.0</td>\n",
       "      <td>42.0</td>\n",
       "    </tr>\n",
       "    <tr>\n",
       "      <th>2</th>\n",
       "      <td>ELKHART MIDDLE 001903041</td>\n",
       "      <td>0</td>\n",
       "      <td>309.0</td>\n",
       "      <td>65.0</td>\n",
       "      <td>21.0</td>\n",
       "    </tr>\n",
       "    <tr>\n",
       "      <th>3</th>\n",
       "      <td>ELKHART INT 001903102</td>\n",
       "      <td>0</td>\n",
       "      <td>295.0</td>\n",
       "      <td>40.0</td>\n",
       "      <td>14.0</td>\n",
       "    </tr>\n",
       "    <tr>\n",
       "      <th>4</th>\n",
       "      <td>FRANKSTON H S 001904001</td>\n",
       "      <td>0</td>\n",
       "      <td>248.0</td>\n",
       "      <td>101.0</td>\n",
       "      <td>41.0</td>\n",
       "    </tr>\n",
       "  </tbody>\n",
       "</table>\n",
       "</div>"
      ],
      "text/plain": [
       "                     campus  charter_encoded  student_enrollment  \\\n",
       "0      CAYUGA H S 001902001                0               173.0   \n",
       "1     ELKHART H S 001903001                0               335.0   \n",
       "2  ELKHART MIDDLE 001903041                0               309.0   \n",
       "3     ELKHART INT 001903102                0               295.0   \n",
       "4   FRANKSTON H S 001904001                0               248.0   \n",
       "\n",
       "   discipline_count  discipline_percent  \n",
       "0              37.0                21.0  \n",
       "1             141.0                42.0  \n",
       "2              65.0                21.0  \n",
       "3              40.0                14.0  \n",
       "4             101.0                41.0  "
      ]
     },
     "execution_count": 10,
     "metadata": {},
     "output_type": "execute_result"
    }
   ],
   "source": [
    "df22.head()"
   ]
  },
  {
   "cell_type": "code",
   "execution_count": 11,
   "id": "24ee7d5e",
   "metadata": {},
   "outputs": [],
   "source": [
    "def prep21(df):\n",
    "    global df21\n",
    "    df21['charter_encoded'] = df21.charter_status.map({'OPEN ENROLLMENT CHARTER': 1, 'TRADITIONAL ISD/CSD':0})\n",
    "    df21=df21[(df21.heading == 'A01') | (df21.heading ==  'A03')]\n",
    "    df21=df21[df21['student_count'] != '-999']\n",
    "    df21['student_count']= df21['student_count'].str.replace(\"<\", \"\")\n",
    "    df21['student_count'] = df21['student_count'].astype(float)\n",
    "    dfpivot=df21.pivot(index='campus_number', columns='heading', values= 'student_count').dropna()\n",
    "    df21=df21.merge(dfpivot,how= 'right', on= 'campus_number')\n",
    "    df21=df21.rename(columns={'A01': 'student_enrollment', 'A03':'discipline_count'})\n",
    "    df21['discipline_percent']= ((df21['discipline_count']/df21['student_enrollment'])*100)\n",
    "    df21=df21.round({'discipline_percent': 0})\n",
    "    df21=df21.drop(columns=['agg_level', 'campus_number', 'region', 'charter_status', 'dist_name_num', 'student_count','section', 'heading', 'heading_name', 'student_count'])\n",
    "    df21=df21.drop_duplicates()\n",
    "    df21=df21.reset_index(drop=True)"
   ]
  },
  {
   "cell_type": "code",
   "execution_count": 12,
   "id": "cc28dd1a",
   "metadata": {},
   "outputs": [],
   "source": [
    "prep21(df21)"
   ]
  },
  {
   "cell_type": "code",
   "execution_count": 13,
   "id": "0a11be29",
   "metadata": {},
   "outputs": [
    {
     "data": {
      "text/html": [
       "<div>\n",
       "<style scoped>\n",
       "    .dataframe tbody tr th:only-of-type {\n",
       "        vertical-align: middle;\n",
       "    }\n",
       "\n",
       "    .dataframe tbody tr th {\n",
       "        vertical-align: top;\n",
       "    }\n",
       "\n",
       "    .dataframe thead th {\n",
       "        text-align: right;\n",
       "    }\n",
       "</style>\n",
       "<table border=\"1\" class=\"dataframe\">\n",
       "  <thead>\n",
       "    <tr style=\"text-align: right;\">\n",
       "      <th></th>\n",
       "      <th>campus</th>\n",
       "      <th>charter_encoded</th>\n",
       "      <th>student_enrollment</th>\n",
       "      <th>discipline_count</th>\n",
       "      <th>discipline_percent</th>\n",
       "    </tr>\n",
       "  </thead>\n",
       "  <tbody>\n",
       "    <tr>\n",
       "      <th>0</th>\n",
       "      <td>CAYUGA H S 001902001</td>\n",
       "      <td>0</td>\n",
       "      <td>175.0</td>\n",
       "      <td>43.0</td>\n",
       "      <td>25.0</td>\n",
       "    </tr>\n",
       "    <tr>\n",
       "      <th>1</th>\n",
       "      <td>ELKHART H S 001903001</td>\n",
       "      <td>0</td>\n",
       "      <td>371.0</td>\n",
       "      <td>70.0</td>\n",
       "      <td>19.0</td>\n",
       "    </tr>\n",
       "    <tr>\n",
       "      <th>2</th>\n",
       "      <td>ELKHART MIDDLE 001903041</td>\n",
       "      <td>0</td>\n",
       "      <td>289.0</td>\n",
       "      <td>74.0</td>\n",
       "      <td>26.0</td>\n",
       "    </tr>\n",
       "    <tr>\n",
       "      <th>3</th>\n",
       "      <td>FRANKSTON H S 001904001</td>\n",
       "      <td>0</td>\n",
       "      <td>240.0</td>\n",
       "      <td>44.0</td>\n",
       "      <td>18.0</td>\n",
       "    </tr>\n",
       "    <tr>\n",
       "      <th>4</th>\n",
       "      <td>PALESTINE H S 001907001</td>\n",
       "      <td>0</td>\n",
       "      <td>1088.0</td>\n",
       "      <td>380.0</td>\n",
       "      <td>35.0</td>\n",
       "    </tr>\n",
       "  </tbody>\n",
       "</table>\n",
       "</div>"
      ],
      "text/plain": [
       "                     campus  charter_encoded  student_enrollment  \\\n",
       "0      CAYUGA H S 001902001                0               175.0   \n",
       "1     ELKHART H S 001903001                0               371.0   \n",
       "2  ELKHART MIDDLE 001903041                0               289.0   \n",
       "3   FRANKSTON H S 001904001                0               240.0   \n",
       "4   PALESTINE H S 001907001                0              1088.0   \n",
       "\n",
       "   discipline_count  discipline_percent  \n",
       "0              43.0                25.0  \n",
       "1              70.0                19.0  \n",
       "2              74.0                26.0  \n",
       "3              44.0                18.0  \n",
       "4             380.0                35.0  "
      ]
     },
     "execution_count": 13,
     "metadata": {},
     "output_type": "execute_result"
    }
   ],
   "source": [
    "df21.head()"
   ]
  },
  {
   "cell_type": "code",
   "execution_count": 14,
   "id": "732345fb",
   "metadata": {},
   "outputs": [],
   "source": [
    "def prep20(df):\n",
    "    global df20\n",
    "    df20['charter_encoded'] = df20.charter_status.map({'OPEN ENROLLMENT CHARTER': 1, 'TRADITIONAL ISD/CSD':0})\n",
    "    df20=df20[(df20.heading == 'A01') | (df20.heading ==  'A03')]\n",
    "    df20=df20[df20['student_count'] != '-999']\n",
    "    df20['student_count']= df20['student_count'].str.replace(\"<\", \"\")\n",
    "    df20['student_count'] = df20['student_count'].astype(float)\n",
    "    dfpivot=df20.pivot(index='campus_number', columns='heading', values= 'student_count').dropna()\n",
    "    df20=df20.merge(dfpivot,how= 'right', on= 'campus_number')\n",
    "    df20=df20.rename(columns={'A01': 'student_enrollment', 'A03':'discipline_count'})\n",
    "    df20['discipline_percent']= ((df20['discipline_count']/df20['student_enrollment'])*100)\n",
    "    df20=df20.round({'discipline_percent': 0})\n",
    "    df20=df20.drop(columns=['agg_level', 'campus_number', 'region', 'charter_status', 'dist_name_num', 'student_count','section', 'heading', 'heading_name', 'student_count'])\n",
    "    df20=df20.drop_duplicates()\n",
    "    df20=df20.reset_index(drop=True)"
   ]
  },
  {
   "cell_type": "code",
   "execution_count": 15,
   "id": "1c7dfc8d",
   "metadata": {},
   "outputs": [],
   "source": [
    "prep20(df20)"
   ]
  },
  {
   "cell_type": "code",
   "execution_count": 16,
   "id": "c717ed3b",
   "metadata": {},
   "outputs": [
    {
     "data": {
      "text/html": [
       "<div>\n",
       "<style scoped>\n",
       "    .dataframe tbody tr th:only-of-type {\n",
       "        vertical-align: middle;\n",
       "    }\n",
       "\n",
       "    .dataframe tbody tr th {\n",
       "        vertical-align: top;\n",
       "    }\n",
       "\n",
       "    .dataframe thead th {\n",
       "        text-align: right;\n",
       "    }\n",
       "</style>\n",
       "<table border=\"1\" class=\"dataframe\">\n",
       "  <thead>\n",
       "    <tr style=\"text-align: right;\">\n",
       "      <th></th>\n",
       "      <th>campus</th>\n",
       "      <th>charter_encoded</th>\n",
       "      <th>student_enrollment</th>\n",
       "      <th>discipline_count</th>\n",
       "      <th>discipline_percent</th>\n",
       "    </tr>\n",
       "  </thead>\n",
       "  <tbody>\n",
       "    <tr>\n",
       "      <th>0</th>\n",
       "      <td>CAYUGA H S 001902001</td>\n",
       "      <td>0</td>\n",
       "      <td>186.0</td>\n",
       "      <td>57.0</td>\n",
       "      <td>31.0</td>\n",
       "    </tr>\n",
       "    <tr>\n",
       "      <th>1</th>\n",
       "      <td>ELKHART H S 001903001</td>\n",
       "      <td>0</td>\n",
       "      <td>409.0</td>\n",
       "      <td>188.0</td>\n",
       "      <td>46.0</td>\n",
       "    </tr>\n",
       "    <tr>\n",
       "      <th>2</th>\n",
       "      <td>ELKHART MIDDLE 001903041</td>\n",
       "      <td>0</td>\n",
       "      <td>283.0</td>\n",
       "      <td>49.0</td>\n",
       "      <td>17.0</td>\n",
       "    </tr>\n",
       "    <tr>\n",
       "      <th>3</th>\n",
       "      <td>FRANKSTON H S 001904001</td>\n",
       "      <td>0</td>\n",
       "      <td>251.0</td>\n",
       "      <td>16.0</td>\n",
       "      <td>6.0</td>\n",
       "    </tr>\n",
       "    <tr>\n",
       "      <th>4</th>\n",
       "      <td>FRANKSTON MIDDLE 001904041</td>\n",
       "      <td>0</td>\n",
       "      <td>197.0</td>\n",
       "      <td>15.0</td>\n",
       "      <td>8.0</td>\n",
       "    </tr>\n",
       "  </tbody>\n",
       "</table>\n",
       "</div>"
      ],
      "text/plain": [
       "                       campus  charter_encoded  student_enrollment  \\\n",
       "0        CAYUGA H S 001902001                0               186.0   \n",
       "1       ELKHART H S 001903001                0               409.0   \n",
       "2    ELKHART MIDDLE 001903041                0               283.0   \n",
       "3     FRANKSTON H S 001904001                0               251.0   \n",
       "4  FRANKSTON MIDDLE 001904041                0               197.0   \n",
       "\n",
       "   discipline_count  discipline_percent  \n",
       "0              57.0                31.0  \n",
       "1             188.0                46.0  \n",
       "2              49.0                17.0  \n",
       "3              16.0                 6.0  \n",
       "4              15.0                 8.0  "
      ]
     },
     "execution_count": 16,
     "metadata": {},
     "output_type": "execute_result"
    }
   ],
   "source": [
    "df20.head()"
   ]
  },
  {
   "cell_type": "code",
   "execution_count": 17,
   "id": "0f651731",
   "metadata": {},
   "outputs": [],
   "source": [
    "def prep19(df):\n",
    "    global df19\n",
    "    df19['charter_encoded'] = df19.charter_status.map({'OPEN ENROLLMENT CHARTER': 1, 'TRADITIONAL ISD/CSD':0})\n",
    "    df19=df19[(df19.heading == 'A01') | (df19.heading ==  'A03')]\n",
    "    df19=df19[df19['student_count'] != '-999']\n",
    "    df19['student_count']= df19['student_count'].str.replace(\"<\", \"\")\n",
    "    df19['student_count'] = df19['student_count'].astype(float)\n",
    "    dfpivot=df19.pivot(index='campus_number', columns='heading', values= 'student_count').dropna()\n",
    "    df19=df19.merge(dfpivot,how= 'right', on= 'campus_number')\n",
    "    df19=df19.rename(columns={'A01': 'student_enrollment', 'A03':'discipline_count'})\n",
    "    df19['discipline_percent']= ((df19['discipline_count']/df19['student_enrollment'])*100)\n",
    "    df19=df19.round({'discipline_percent': 0})\n",
    "    df19=df19.drop(columns=['agg_level', 'campus_number', 'region', 'charter_status', 'dist_name_num', 'student_count','section', 'heading', 'heading_name', 'student_count'])\n",
    "    df19=df19.drop_duplicates()\n",
    "    df19=df19.reset_index(drop=True)"
   ]
  },
  {
   "cell_type": "code",
   "execution_count": 18,
   "id": "77d5f1a2",
   "metadata": {},
   "outputs": [],
   "source": [
    "prep19(df19)"
   ]
  },
  {
   "cell_type": "code",
   "execution_count": 19,
   "id": "8a7ab854",
   "metadata": {},
   "outputs": [
    {
     "data": {
      "text/html": [
       "<div>\n",
       "<style scoped>\n",
       "    .dataframe tbody tr th:only-of-type {\n",
       "        vertical-align: middle;\n",
       "    }\n",
       "\n",
       "    .dataframe tbody tr th {\n",
       "        vertical-align: top;\n",
       "    }\n",
       "\n",
       "    .dataframe thead th {\n",
       "        text-align: right;\n",
       "    }\n",
       "</style>\n",
       "<table border=\"1\" class=\"dataframe\">\n",
       "  <thead>\n",
       "    <tr style=\"text-align: right;\">\n",
       "      <th></th>\n",
       "      <th>campus</th>\n",
       "      <th>charter_encoded</th>\n",
       "      <th>student_enrollment</th>\n",
       "      <th>discipline_count</th>\n",
       "      <th>discipline_percent</th>\n",
       "    </tr>\n",
       "  </thead>\n",
       "  <tbody>\n",
       "    <tr>\n",
       "      <th>0</th>\n",
       "      <td>CAYUGA H S 001902001</td>\n",
       "      <td>0</td>\n",
       "      <td>192.0</td>\n",
       "      <td>65.0</td>\n",
       "      <td>34.0</td>\n",
       "    </tr>\n",
       "    <tr>\n",
       "      <th>1</th>\n",
       "      <td>ELKHART H S 001903001</td>\n",
       "      <td>0</td>\n",
       "      <td>421.0</td>\n",
       "      <td>205.0</td>\n",
       "      <td>49.0</td>\n",
       "    </tr>\n",
       "    <tr>\n",
       "      <th>2</th>\n",
       "      <td>ELKHART MIDDLE 001903041</td>\n",
       "      <td>0</td>\n",
       "      <td>288.0</td>\n",
       "      <td>156.0</td>\n",
       "      <td>54.0</td>\n",
       "    </tr>\n",
       "    <tr>\n",
       "      <th>3</th>\n",
       "      <td>ELKHART EL 001903101</td>\n",
       "      <td>0</td>\n",
       "      <td>367.0</td>\n",
       "      <td>20.0</td>\n",
       "      <td>5.0</td>\n",
       "    </tr>\n",
       "    <tr>\n",
       "      <th>4</th>\n",
       "      <td>ELKHART INT 001903102</td>\n",
       "      <td>0</td>\n",
       "      <td>296.0</td>\n",
       "      <td>157.0</td>\n",
       "      <td>53.0</td>\n",
       "    </tr>\n",
       "  </tbody>\n",
       "</table>\n",
       "</div>"
      ],
      "text/plain": [
       "                     campus  charter_encoded  student_enrollment  \\\n",
       "0      CAYUGA H S 001902001                0               192.0   \n",
       "1     ELKHART H S 001903001                0               421.0   \n",
       "2  ELKHART MIDDLE 001903041                0               288.0   \n",
       "3      ELKHART EL 001903101                0               367.0   \n",
       "4     ELKHART INT 001903102                0               296.0   \n",
       "\n",
       "   discipline_count  discipline_percent  \n",
       "0              65.0                34.0  \n",
       "1             205.0                49.0  \n",
       "2             156.0                54.0  \n",
       "3              20.0                 5.0  \n",
       "4             157.0                53.0  "
      ]
     },
     "execution_count": 19,
     "metadata": {},
     "output_type": "execute_result"
    }
   ],
   "source": [
    "df19.head()"
   ]
  },
  {
   "cell_type": "code",
   "execution_count": 20,
   "id": "f0a79ee0",
   "metadata": {},
   "outputs": [],
   "source": [
    "def prep18(df):\n",
    "    global df18\n",
    "    df18['charter_encoded'] = df18.charter_status.map({'OPEN ENROLLMENT CHARTER': 1, 'TRADITIONAL ISD/CSD':0})\n",
    "    df18=df18[(df18.heading == 'A01') | (df18.heading ==  'A03')]\n",
    "    df18=df18[df18['student_count'] != '-999']\n",
    "    df18['student_count']= df18['student_count'].str.replace(\"<\", \"\")\n",
    "    df18['student_count'] = df18['student_count'].astype(float)\n",
    "    dfpivot=df18.pivot(index='campus_number', columns='heading', values= 'student_count').dropna()\n",
    "    df18=df18.merge(dfpivot,how= 'right', on= 'campus_number')\n",
    "    df18=df18.rename(columns={'A01': 'student_enrollment', 'A03':'discipline_count'})\n",
    "    df18['discipline_percent']= ((df18['discipline_count']/df18['student_enrollment'])*100)\n",
    "    df18=df18.round({'discipline_percent': 0})\n",
    "    df18=df18.drop(columns=['agg_level', 'campus_number', 'region', 'charter_status', 'dist_name_num', 'student_count','section', 'heading', 'heading_name', 'student_count'])\n",
    "    df18=df18.drop_duplicates()\n",
    "    df18=df18.reset_index(drop=True)"
   ]
  },
  {
   "cell_type": "code",
   "execution_count": 21,
   "id": "f10a1695",
   "metadata": {},
   "outputs": [],
   "source": [
    "prep18(df18)"
   ]
  },
  {
   "cell_type": "code",
   "execution_count": 22,
   "id": "ef7cb0d7",
   "metadata": {},
   "outputs": [
    {
     "data": {
      "text/html": [
       "<div>\n",
       "<style scoped>\n",
       "    .dataframe tbody tr th:only-of-type {\n",
       "        vertical-align: middle;\n",
       "    }\n",
       "\n",
       "    .dataframe tbody tr th {\n",
       "        vertical-align: top;\n",
       "    }\n",
       "\n",
       "    .dataframe thead th {\n",
       "        text-align: right;\n",
       "    }\n",
       "</style>\n",
       "<table border=\"1\" class=\"dataframe\">\n",
       "  <thead>\n",
       "    <tr style=\"text-align: right;\">\n",
       "      <th></th>\n",
       "      <th>campus</th>\n",
       "      <th>charter_encoded</th>\n",
       "      <th>student_enrollment</th>\n",
       "      <th>discipline_count</th>\n",
       "      <th>discipline_percent</th>\n",
       "    </tr>\n",
       "  </thead>\n",
       "  <tbody>\n",
       "    <tr>\n",
       "      <th>0</th>\n",
       "      <td>CAYUGA MIDDLE 001902041</td>\n",
       "      <td>0</td>\n",
       "      <td>155.0</td>\n",
       "      <td>38.0</td>\n",
       "      <td>25.0</td>\n",
       "    </tr>\n",
       "    <tr>\n",
       "      <th>1</th>\n",
       "      <td>ELKHART H S 001903001</td>\n",
       "      <td>0</td>\n",
       "      <td>411.0</td>\n",
       "      <td>205.0</td>\n",
       "      <td>50.0</td>\n",
       "    </tr>\n",
       "    <tr>\n",
       "      <th>2</th>\n",
       "      <td>ELKHART MIDDLE 001903041</td>\n",
       "      <td>0</td>\n",
       "      <td>298.0</td>\n",
       "      <td>151.0</td>\n",
       "      <td>51.0</td>\n",
       "    </tr>\n",
       "    <tr>\n",
       "      <th>3</th>\n",
       "      <td>ELKHART EL 001903101</td>\n",
       "      <td>0</td>\n",
       "      <td>379.0</td>\n",
       "      <td>11.0</td>\n",
       "      <td>3.0</td>\n",
       "    </tr>\n",
       "    <tr>\n",
       "      <th>4</th>\n",
       "      <td>ELKHART INT 001903102</td>\n",
       "      <td>0</td>\n",
       "      <td>276.0</td>\n",
       "      <td>151.0</td>\n",
       "      <td>55.0</td>\n",
       "    </tr>\n",
       "  </tbody>\n",
       "</table>\n",
       "</div>"
      ],
      "text/plain": [
       "                     campus  charter_encoded  student_enrollment  \\\n",
       "0   CAYUGA MIDDLE 001902041                0               155.0   \n",
       "1     ELKHART H S 001903001                0               411.0   \n",
       "2  ELKHART MIDDLE 001903041                0               298.0   \n",
       "3      ELKHART EL 001903101                0               379.0   \n",
       "4     ELKHART INT 001903102                0               276.0   \n",
       "\n",
       "   discipline_count  discipline_percent  \n",
       "0              38.0                25.0  \n",
       "1             205.0                50.0  \n",
       "2             151.0                51.0  \n",
       "3              11.0                 3.0  \n",
       "4             151.0                55.0  "
      ]
     },
     "execution_count": 22,
     "metadata": {},
     "output_type": "execute_result"
    }
   ],
   "source": [
    "df18.head()"
   ]
  },
  {
   "cell_type": "code",
   "execution_count": 23,
   "id": "07c00ccc",
   "metadata": {},
   "outputs": [],
   "source": [
    "def df_combine(a,b,c,d,e):\n",
    "    df=pd.concat([df18,df19,df20,df21,df22], ignore_index=True)\n",
    "    return(df)"
   ]
  },
  {
   "cell_type": "code",
   "execution_count": 24,
   "id": "ef59e0e5",
   "metadata": {},
   "outputs": [],
   "source": [
    "df=df_combine(df18,df19,df20,df21,df22)"
   ]
  },
  {
   "cell_type": "code",
   "execution_count": 25,
   "id": "8aecfc7a",
   "metadata": {},
   "outputs": [
    {
     "data": {
      "text/html": [
       "<div>\n",
       "<style scoped>\n",
       "    .dataframe tbody tr th:only-of-type {\n",
       "        vertical-align: middle;\n",
       "    }\n",
       "\n",
       "    .dataframe tbody tr th {\n",
       "        vertical-align: top;\n",
       "    }\n",
       "\n",
       "    .dataframe thead th {\n",
       "        text-align: right;\n",
       "    }\n",
       "</style>\n",
       "<table border=\"1\" class=\"dataframe\">\n",
       "  <thead>\n",
       "    <tr style=\"text-align: right;\">\n",
       "      <th></th>\n",
       "      <th>campus</th>\n",
       "      <th>charter_encoded</th>\n",
       "      <th>student_enrollment</th>\n",
       "      <th>discipline_count</th>\n",
       "      <th>discipline_percent</th>\n",
       "    </tr>\n",
       "  </thead>\n",
       "  <tbody>\n",
       "    <tr>\n",
       "      <th>0</th>\n",
       "      <td>CAYUGA MIDDLE 001902041</td>\n",
       "      <td>0</td>\n",
       "      <td>155.0</td>\n",
       "      <td>38.0</td>\n",
       "      <td>25.0</td>\n",
       "    </tr>\n",
       "    <tr>\n",
       "      <th>1</th>\n",
       "      <td>ELKHART H S 001903001</td>\n",
       "      <td>0</td>\n",
       "      <td>411.0</td>\n",
       "      <td>205.0</td>\n",
       "      <td>50.0</td>\n",
       "    </tr>\n",
       "    <tr>\n",
       "      <th>2</th>\n",
       "      <td>ELKHART MIDDLE 001903041</td>\n",
       "      <td>0</td>\n",
       "      <td>298.0</td>\n",
       "      <td>151.0</td>\n",
       "      <td>51.0</td>\n",
       "    </tr>\n",
       "    <tr>\n",
       "      <th>3</th>\n",
       "      <td>ELKHART EL 001903101</td>\n",
       "      <td>0</td>\n",
       "      <td>379.0</td>\n",
       "      <td>11.0</td>\n",
       "      <td>3.0</td>\n",
       "    </tr>\n",
       "    <tr>\n",
       "      <th>4</th>\n",
       "      <td>ELKHART INT 001903102</td>\n",
       "      <td>0</td>\n",
       "      <td>276.0</td>\n",
       "      <td>151.0</td>\n",
       "      <td>55.0</td>\n",
       "    </tr>\n",
       "  </tbody>\n",
       "</table>\n",
       "</div>"
      ],
      "text/plain": [
       "                     campus  charter_encoded  student_enrollment  \\\n",
       "0   CAYUGA MIDDLE 001902041                0               155.0   \n",
       "1     ELKHART H S 001903001                0               411.0   \n",
       "2  ELKHART MIDDLE 001903041                0               298.0   \n",
       "3      ELKHART EL 001903101                0               379.0   \n",
       "4     ELKHART INT 001903102                0               276.0   \n",
       "\n",
       "   discipline_count  discipline_percent  \n",
       "0              38.0                25.0  \n",
       "1             205.0                50.0  \n",
       "2             151.0                51.0  \n",
       "3              11.0                 3.0  \n",
       "4             151.0                55.0  "
      ]
     },
     "execution_count": 25,
     "metadata": {},
     "output_type": "execute_result"
    }
   ],
   "source": [
    "df.head()"
   ]
  },
  {
   "cell_type": "code",
   "execution_count": 26,
   "id": "34f387a0",
   "metadata": {},
   "outputs": [],
   "source": [
    "def split_tea_data(df):\n",
    "    '''\n",
    "    This function performs split on tea data, stratify charter_encoded.\n",
    "    Returns train, validate, and test dfs.\n",
    "    '''\n",
    "    train_validate, test = train_test_split(df, test_size=.2, \n",
    "                                        random_state=123, \n",
    "                                        stratify=df.charter_encoded)\n",
    "    train, validate = train_test_split(train_validate, test_size=.3, \n",
    "                                   random_state=123, \n",
    "                                   stratify=train_validate.charter_encoded)\n",
    "    return train, validate, test"
   ]
  },
  {
   "cell_type": "code",
   "execution_count": 27,
   "id": "0d023f43",
   "metadata": {},
   "outputs": [],
   "source": [
    "train, validate, test=split_tea_data(df)"
   ]
  },
  {
   "cell_type": "code",
   "execution_count": 28,
   "id": "5a8882c3",
   "metadata": {},
   "outputs": [
    {
     "data": {
      "text/html": [
       "<div>\n",
       "<style scoped>\n",
       "    .dataframe tbody tr th:only-of-type {\n",
       "        vertical-align: middle;\n",
       "    }\n",
       "\n",
       "    .dataframe tbody tr th {\n",
       "        vertical-align: top;\n",
       "    }\n",
       "\n",
       "    .dataframe thead th {\n",
       "        text-align: right;\n",
       "    }\n",
       "</style>\n",
       "<table border=\"1\" class=\"dataframe\">\n",
       "  <thead>\n",
       "    <tr style=\"text-align: right;\">\n",
       "      <th></th>\n",
       "      <th>campus</th>\n",
       "      <th>charter_encoded</th>\n",
       "      <th>student_enrollment</th>\n",
       "      <th>discipline_count</th>\n",
       "      <th>discipline_percent</th>\n",
       "    </tr>\n",
       "  </thead>\n",
       "  <tbody>\n",
       "    <tr>\n",
       "      <th>14461</th>\n",
       "      <td>IRVIN H S 071902008</td>\n",
       "      <td>0</td>\n",
       "      <td>1300.0</td>\n",
       "      <td>159.0</td>\n",
       "      <td>12.0</td>\n",
       "    </tr>\n",
       "    <tr>\n",
       "      <th>15829</th>\n",
       "      <td>VETERANS MIDDLE 108902046</td>\n",
       "      <td>0</td>\n",
       "      <td>949.0</td>\n",
       "      <td>1163.0</td>\n",
       "      <td>123.0</td>\n",
       "    </tr>\n",
       "    <tr>\n",
       "      <th>21119</th>\n",
       "      <td>LORENA HIGH 161907001</td>\n",
       "      <td>0</td>\n",
       "      <td>530.0</td>\n",
       "      <td>71.0</td>\n",
       "      <td>13.0</td>\n",
       "    </tr>\n",
       "    <tr>\n",
       "      <th>9136</th>\n",
       "      <td>TIPPS EL 101907141</td>\n",
       "      <td>0</td>\n",
       "      <td>1022.0</td>\n",
       "      <td>120.0</td>\n",
       "      <td>12.0</td>\n",
       "    </tr>\n",
       "    <tr>\n",
       "      <th>13930</th>\n",
       "      <td>YOUNG WOMEN'S STEAM ACADEMY AT BAL 057905352</td>\n",
       "      <td>0</td>\n",
       "      <td>1290.0</td>\n",
       "      <td>97.0</td>\n",
       "      <td>8.0</td>\n",
       "    </tr>\n",
       "  </tbody>\n",
       "</table>\n",
       "</div>"
      ],
      "text/plain": [
       "                                             campus  charter_encoded  \\\n",
       "14461                           IRVIN H S 071902008                0   \n",
       "15829                     VETERANS MIDDLE 108902046                0   \n",
       "21119                         LORENA HIGH 161907001                0   \n",
       "9136                             TIPPS EL 101907141                0   \n",
       "13930  YOUNG WOMEN'S STEAM ACADEMY AT BAL 057905352                0   \n",
       "\n",
       "       student_enrollment  discipline_count  discipline_percent  \n",
       "14461              1300.0             159.0                12.0  \n",
       "15829               949.0            1163.0               123.0  \n",
       "21119               530.0              71.0                13.0  \n",
       "9136               1022.0             120.0                12.0  \n",
       "13930              1290.0              97.0                 8.0  "
      ]
     },
     "execution_count": 28,
     "metadata": {},
     "output_type": "execute_result"
    }
   ],
   "source": [
    "train.head()"
   ]
  },
  {
   "cell_type": "code",
   "execution_count": 29,
   "id": "3940eb7d",
   "metadata": {},
   "outputs": [
    {
     "data": {
      "text/plain": [
       "(15918, 5)"
      ]
     },
     "execution_count": 29,
     "metadata": {},
     "output_type": "execute_result"
    }
   ],
   "source": [
    "train.shape"
   ]
  },
  {
   "cell_type": "code",
   "execution_count": 30,
   "id": "4776bd15",
   "metadata": {},
   "outputs": [
    {
     "data": {
      "text/plain": [
       "(6822, 5)"
      ]
     },
     "execution_count": 30,
     "metadata": {},
     "output_type": "execute_result"
    }
   ],
   "source": [
    "validate.shape"
   ]
  },
  {
   "cell_type": "code",
   "execution_count": 31,
   "id": "4ed305c7",
   "metadata": {},
   "outputs": [
    {
     "data": {
      "text/plain": [
       "(5686, 5)"
      ]
     },
     "execution_count": 31,
     "metadata": {},
     "output_type": "execute_result"
    }
   ],
   "source": [
    "test.shape"
   ]
  },
  {
   "cell_type": "code",
   "execution_count": 32,
   "id": "9532538b",
   "metadata": {},
   "outputs": [
    {
     "name": "stdout",
     "output_type": "stream",
     "text": [
      "<class 'pandas.core.frame.DataFrame'>\n",
      "Int64Index: 15918 entries, 14461 to 12928\n",
      "Data columns (total 5 columns):\n",
      " #   Column              Non-Null Count  Dtype  \n",
      "---  ------              --------------  -----  \n",
      " 0   campus              15918 non-null  object \n",
      " 1   charter_encoded     15918 non-null  int64  \n",
      " 2   student_enrollment  15918 non-null  float64\n",
      " 3   discipline_count    15918 non-null  float64\n",
      " 4   discipline_percent  15918 non-null  float64\n",
      "dtypes: float64(3), int64(1), object(1)\n",
      "memory usage: 746.2+ KB\n"
     ]
    }
   ],
   "source": [
    "train.info()"
   ]
  },
  {
   "cell_type": "code",
   "execution_count": 33,
   "id": "ccf6e1f4",
   "metadata": {},
   "outputs": [
    {
     "data": {
      "text/html": [
       "<div>\n",
       "<style scoped>\n",
       "    .dataframe tbody tr th:only-of-type {\n",
       "        vertical-align: middle;\n",
       "    }\n",
       "\n",
       "    .dataframe tbody tr th {\n",
       "        vertical-align: top;\n",
       "    }\n",
       "\n",
       "    .dataframe thead th {\n",
       "        text-align: right;\n",
       "    }\n",
       "</style>\n",
       "<table border=\"1\" class=\"dataframe\">\n",
       "  <thead>\n",
       "    <tr style=\"text-align: right;\">\n",
       "      <th></th>\n",
       "      <th>charter_encoded</th>\n",
       "      <th>student_enrollment</th>\n",
       "      <th>discipline_count</th>\n",
       "      <th>discipline_percent</th>\n",
       "    </tr>\n",
       "  </thead>\n",
       "  <tbody>\n",
       "    <tr>\n",
       "      <th>count</th>\n",
       "      <td>15918.000000</td>\n",
       "      <td>15918.000000</td>\n",
       "      <td>15918.000000</td>\n",
       "      <td>15918.000000</td>\n",
       "    </tr>\n",
       "    <tr>\n",
       "      <th>mean</th>\n",
       "      <td>0.061440</td>\n",
       "      <td>791.996859</td>\n",
       "      <td>222.924676</td>\n",
       "      <td>25.205491</td>\n",
       "    </tr>\n",
       "    <tr>\n",
       "      <th>std</th>\n",
       "      <td>0.240143</td>\n",
       "      <td>613.691952</td>\n",
       "      <td>374.960071</td>\n",
       "      <td>30.315431</td>\n",
       "    </tr>\n",
       "    <tr>\n",
       "      <th>min</th>\n",
       "      <td>0.000000</td>\n",
       "      <td>10.000000</td>\n",
       "      <td>10.000000</td>\n",
       "      <td>0.000000</td>\n",
       "    </tr>\n",
       "    <tr>\n",
       "      <th>25%</th>\n",
       "      <td>0.000000</td>\n",
       "      <td>437.000000</td>\n",
       "      <td>29.000000</td>\n",
       "      <td>6.000000</td>\n",
       "    </tr>\n",
       "    <tr>\n",
       "      <th>50%</th>\n",
       "      <td>0.000000</td>\n",
       "      <td>645.000000</td>\n",
       "      <td>72.000000</td>\n",
       "      <td>14.000000</td>\n",
       "    </tr>\n",
       "    <tr>\n",
       "      <th>75%</th>\n",
       "      <td>0.000000</td>\n",
       "      <td>904.000000</td>\n",
       "      <td>238.000000</td>\n",
       "      <td>34.000000</td>\n",
       "    </tr>\n",
       "    <tr>\n",
       "      <th>max</th>\n",
       "      <td>1.000000</td>\n",
       "      <td>5529.000000</td>\n",
       "      <td>4593.000000</td>\n",
       "      <td>554.000000</td>\n",
       "    </tr>\n",
       "  </tbody>\n",
       "</table>\n",
       "</div>"
      ],
      "text/plain": [
       "       charter_encoded  student_enrollment  discipline_count  \\\n",
       "count     15918.000000        15918.000000      15918.000000   \n",
       "mean          0.061440          791.996859        222.924676   \n",
       "std           0.240143          613.691952        374.960071   \n",
       "min           0.000000           10.000000         10.000000   \n",
       "25%           0.000000          437.000000         29.000000   \n",
       "50%           0.000000          645.000000         72.000000   \n",
       "75%           0.000000          904.000000        238.000000   \n",
       "max           1.000000         5529.000000       4593.000000   \n",
       "\n",
       "       discipline_percent  \n",
       "count        15918.000000  \n",
       "mean            25.205491  \n",
       "std             30.315431  \n",
       "min              0.000000  \n",
       "25%              6.000000  \n",
       "50%             14.000000  \n",
       "75%             34.000000  \n",
       "max            554.000000  "
      ]
     },
     "execution_count": 33,
     "metadata": {},
     "output_type": "execute_result"
    }
   ],
   "source": [
    "train.describe()"
   ]
  },
  {
   "cell_type": "code",
   "execution_count": 34,
   "id": "63aa9e67",
   "metadata": {},
   "outputs": [
    {
     "data": {
      "text/plain": [
       "Index(['campus', 'charter_encoded', 'student_enrollment', 'discipline_count',\n",
       "       'discipline_percent'],\n",
       "      dtype='object')"
      ]
     },
     "execution_count": 34,
     "metadata": {},
     "output_type": "execute_result"
    }
   ],
   "source": [
    "train.columns"
   ]
  },
  {
   "cell_type": "code",
   "execution_count": 35,
   "id": "51b91cf4",
   "metadata": {},
   "outputs": [
    {
     "data": {
      "text/plain": [
       "<seaborn.axisgrid.PairGrid at 0x161aca040>"
      ]
     },
     "execution_count": 35,
     "metadata": {},
     "output_type": "execute_result"
    },
    {
     "data": {
      "image/png": "[encoded data removed]",
      "text/plain": [
       "<Figure size 720x720 with 14 Axes>"
      ]
     },
     "metadata": {
      "needs_background": "light"
     },
     "output_type": "display_data"
    }
   ],
   "source": [
    "sns.pairplot(data=train, kind=\"reg\", corner=True)"
   ]
  },
  {
   "cell_type": "code",
   "execution_count": 36,
   "id": "a784d881",
   "metadata": {},
   "outputs": [],
   "source": [
    "num_vars = ['student_enrollment', 'discipline_count' 'discipline_percent']\n",
    "cat_vars = ['campus', 'charter_encoded']"
   ]
  },
  {
   "cell_type": "code",
   "execution_count": 37,
   "id": "292f26fd",
   "metadata": {},
   "outputs": [
    {
     "data": {
      "image/png": "[encoded data removed]",
      "text/plain": [
       "<Figure size 432x288 with 1 Axes>"
      ]
     },
     "metadata": {
      "needs_background": "light"
     },
     "output_type": "display_data"
    },
    {
     "data": {
      "image/png": "[encoded data removed]",
      "text/plain": [
       "<Figure size 432x288 with 1 Axes>"
      ]
     },
     "metadata": {
      "needs_background": "light"
     },
     "output_type": "display_data"
    },
    {
     "data": {
      "image/png": "[encoded data removed]",
      "text/plain": [
       "<Figure size 432x288 with 1 Axes>"
      ]
     },
     "metadata": {
      "needs_background": "light"
     },
     "output_type": "display_data"
    },
    {
     "data": {
      "image/png": "[encoded data removed]",
      "text/plain": [
       "<Figure size 432x288 with 1 Axes>"
      ]
     },
     "metadata": {
      "needs_background": "light"
     },
     "output_type": "display_data"
    },
    {
     "data": {
      "image/png": "[encoded data removed]",
      "text/plain": [
       "<Figure size 432x288 with 1 Axes>"
      ]
     },
     "metadata": {
      "needs_background": "light"
     },
     "output_type": "display_data"
    }
   ],
   "source": [
    "for col in train.columns:\n",
    "    plt.hist(train[col])\n",
    "    plt.title(col)\n",
    "    plt.show()"
   ]
  },
  {
   "cell_type": "code",
   "execution_count": 38,
   "id": "9bc38b10",
   "metadata": {},
   "outputs": [
    {
     "name": "stdout",
     "output_type": "stream",
     "text": [
      "campus\n",
      "MATTHYS EL 101917134                            5\n",
      "VENUS PRI 126908102                             5\n",
      "YORK J H 170902049                              5\n",
      "HALTOM MIDDLE 220902041                         5\n",
      "EHRHART SCHOOL 123805001                        5\n",
      "                                               ..\n",
      "CROWLEY MIDDLE 220912042                        1\n",
      "HERMLEIGH SCHOOL 208901001                      1\n",
      "JHW INSPIRE ACADEMY - WILLIAMS HOU 015808011    1\n",
      "AMBASSADORS PREPARATORY ACADEMY 084804101       1\n",
      "IDEA ROUND ROCK TECH ACADEMY 108807300          1\n",
      "Name: campus, Length: 7049, dtype: int64\n",
      "MATTHYS EL 101917134                            0.031411\n",
      "VENUS PRI 126908102                             0.031411\n",
      "YORK J H 170902049                              0.031411\n",
      "HALTOM MIDDLE 220902041                         0.031411\n",
      "EHRHART SCHOOL 123805001                        0.031411\n",
      "                                                  ...   \n",
      "CROWLEY MIDDLE 220912042                        0.006282\n",
      "HERMLEIGH SCHOOL 208901001                      0.006282\n",
      "JHW INSPIRE ACADEMY - WILLIAMS HOU 015808011    0.006282\n",
      "AMBASSADORS PREPARATORY ACADEMY 084804101       0.006282\n",
      "IDEA ROUND ROCK TECH ACADEMY 108807300          0.006282\n",
      "Name: campus, Length: 7049, dtype: float64\n"
     ]
    },
    {
     "data": {
      "image/png": "[encoded data removed]",
      "text/plain": [
       "<Figure size 432x288 with 1 Axes>"
      ]
     },
     "metadata": {
      "needs_background": "light"
     },
     "output_type": "display_data"
    },
    {
     "name": "stdout",
     "output_type": "stream",
     "text": [
      "charter_encoded\n",
      "0    14940\n",
      "1      978\n",
      "Name: charter_encoded, dtype: int64\n",
      "0    93.856012\n",
      "1     6.143988\n",
      "Name: charter_encoded, dtype: float64\n"
     ]
    },
    {
     "data": {
      "image/png": "[encoded data removed]",
      "text/plain": [
       "<Figure size 432x288 with 1 Axes>"
      ]
     },
     "metadata": {
      "needs_background": "light"
     },
     "output_type": "display_data"
    }
   ],
   "source": [
    "for col in cat_vars:\n",
    "    print(col)\n",
    "    print(train[col].value_counts())\n",
    "    print(train[col].value_counts(normalize=True)*100)\n",
    "    sns.countplot(x=col, data=train)\n",
    "    plt.show()"
   ]
  },
  {
   "cell_type": "code",
   "execution_count": 39,
   "id": "3e328770",
   "metadata": {},
   "outputs": [
    {
     "data": {
      "text/plain": [
       "0.06143987938183189"
      ]
     },
     "execution_count": 39,
     "metadata": {},
     "output_type": "execute_result"
    }
   ],
   "source": [
    "978/15918"
   ]
  },
  {
   "cell_type": "code",
   "execution_count": 40,
   "id": "3e25752b",
   "metadata": {},
   "outputs": [
    {
     "data": {
      "text/plain": [
       "0.9385601206181681"
      ]
     },
     "execution_count": 40,
     "metadata": {},
     "output_type": "execute_result"
    }
   ],
   "source": [
    "14940/15918"
   ]
  },
  {
   "cell_type": "code",
   "execution_count": 41,
   "id": "d45f9dfb",
   "metadata": {},
   "outputs": [
    {
     "data": {
      "image/png": "[encoded data removed]",
      "text/plain": [
       "<Figure size 720x720 with 1 Axes>"
      ]
     },
     "metadata": {
      "needs_background": "light"
     },
     "output_type": "display_data"
    }
   ],
   "source": [
    "fig, ax = plt.subplots(1, figsize=(10, 10))\n",
    "sns.boxplot(x=train['charter_encoded'], y=train['discipline_percent']);\n",
    "plt.xticks(rotation = 90)\n",
    "plt.show()"
   ]
  },
  {
   "cell_type": "code",
   "execution_count": 42,
   "id": "203580a7",
   "metadata": {},
   "outputs": [
    {
     "data": {
      "image/png": "[encoded data removed]",
      "text/plain": [
       "<Figure size 720x720 with 1 Axes>"
      ]
     },
     "metadata": {
      "needs_background": "light"
     },
     "output_type": "display_data"
    }
   ],
   "source": [
    "fig, ax = plt.subplots(1, figsize=(10, 10))\n",
    "sns.boxplot(x=train['charter_encoded'], y=train['discipline_count']);\n",
    "plt.xticks(rotation = 90)\n",
    "plt.show()"
   ]
  },
  {
   "cell_type": "code",
   "execution_count": 43,
   "id": "e698fb89",
   "metadata": {},
   "outputs": [
    {
     "data": {
      "image/png": "[encoded data removed]",
      "text/plain": [
       "<Figure size 720x720 with 1 Axes>"
      ]
     },
     "metadata": {
      "needs_background": "light"
     },
     "output_type": "display_data"
    }
   ],
   "source": [
    "fig, ax = plt.subplots(1, figsize=(10, 10))\n",
    "sns.boxplot(x=train['charter_encoded'], y=train['student_enrollment']);\n",
    "plt.xticks(rotation = 90)\n",
    "plt.show()"
   ]
  },
  {
   "cell_type": "code",
   "execution_count": 44,
   "id": "753bb097",
   "metadata": {},
   "outputs": [
    {
     "data": {
      "text/plain": [
       "<AxesSubplot:xlabel='student_enrollment', ylabel='discipline_count'>"
      ]
     },
     "execution_count": 44,
     "metadata": {},
     "output_type": "execute_result"
    },
    {
     "data": {
      "image/png": "[encoded data removed]",
      "text/plain": [
       "<Figure size 432x288 with 1 Axes>"
      ]
     },
     "metadata": {
      "needs_background": "light"
     },
     "output_type": "display_data"
    }
   ],
   "source": [
    "sns.scatterplot(x='student_enrollment', y='discipline_count', data=train, hue='charter_encoded')"
   ]
  },
  {
   "cell_type": "code",
   "execution_count": 45,
   "id": "989b0674",
   "metadata": {},
   "outputs": [
    {
     "data": {
      "text/plain": [
       "<AxesSubplot:xlabel='discipline_percent', ylabel='Count'>"
      ]
     },
     "execution_count": 45,
     "metadata": {},
     "output_type": "execute_result"
    },
    {
     "data": {
      "image/png": "[encoded data removed]",
      "text/plain": [
       "<Figure size 432x288 with 1 Axes>"
      ]
     },
     "metadata": {
      "needs_background": "light"
     },
     "output_type": "display_data"
    }
   ],
   "source": [
    "sns.histplot(x='discipline_percent', data=train, kde=True)"
   ]
  },
  {
   "cell_type": "code",
   "execution_count": 46,
   "id": "de4e76b9",
   "metadata": {},
   "outputs": [
    {
     "data": {
      "text/plain": [
       "<AxesSubplot:>"
      ]
     },
     "execution_count": 46,
     "metadata": {},
     "output_type": "execute_result"
    },
    {
     "data": {
      "image/png": "[encoded data removed]",
      "text/plain": [
       "<Figure size 432x288 with 1 Axes>"
      ]
     },
     "metadata": {
      "needs_background": "light"
     },
     "output_type": "display_data"
    }
   ],
   "source": [
    "# histogram of churned customers\n",
    "charterdiscp = train[train.charter_encoded==1].discipline_percent\n",
    "charterdiscp.hist()"
   ]
  },
  {
   "cell_type": "code",
   "execution_count": 47,
   "id": "0f355469",
   "metadata": {},
   "outputs": [
    {
     "data": {
      "text/plain": [
       "<AxesSubplot:>"
      ]
     },
     "execution_count": 47,
     "metadata": {},
     "output_type": "execute_result"
    },
    {
     "data": {
      "image/png": "[encoded data removed]",
      "text/plain": [
       "<Figure size 432x288 with 1 Axes>"
      ]
     },
     "metadata": {
      "needs_background": "light"
     },
     "output_type": "display_data"
    }
   ],
   "source": [
    "# histogram of non-churned customers\n",
    "non_charterdiscp = train[train.charter_encoded==0].discipline_percent\n",
    "non_charterdiscp.hist()"
   ]
  },
  {
   "cell_type": "markdown",
   "id": "19d956ca",
   "metadata": {},
   "source": [
    "Hypothesis\n",
    "Null H: Mean of disciplined students is the same for charter schools and traditional schools. Alt H: Mean of disciplined students is not the same for charter schools and traditional schools."
   ]
  },
  {
   "cell_type": "code",
   "execution_count": 48,
   "id": "cbad94e8",
   "metadata": {},
   "outputs": [],
   "source": [
    "mean_a = charterdiscp.mean()\n",
    "mean_b = non_charterdiscp.mean()"
   ]
  },
  {
   "cell_type": "code",
   "execution_count": 49,
   "id": "dc05c23c",
   "metadata": {},
   "outputs": [
    {
     "data": {
      "text/plain": [
       "(16.685071574642127, 25.763253012048192)"
      ]
     },
     "execution_count": 49,
     "metadata": {},
     "output_type": "execute_result"
    }
   ],
   "source": [
    "mean_a, mean_b"
   ]
  },
  {
   "cell_type": "code",
   "execution_count": 50,
   "id": "89572d79",
   "metadata": {},
   "outputs": [],
   "source": [
    "# remember that our confidence level determines our alpha, \n",
    "# which we use to compare to p\n",
    "alpha = 0.05"
   ]
  },
  {
   "cell_type": "code",
   "execution_count": 51,
   "id": "b7d4c5a8",
   "metadata": {},
   "outputs": [],
   "source": [
    "# Mini H0: variances are equal between groups\n",
    "# Ha: variances are inequal between groups\n",
    "# alpha: 0.05\n",
    "stat, pval = stats.levene(charterdiscp, non_charterdiscp)"
   ]
  },
  {
   "cell_type": "code",
   "execution_count": 52,
   "id": "8380d091",
   "metadata": {},
   "outputs": [
    {
     "data": {
      "text/plain": [
       "(87.10592642169593, 1.1614599401392916e-20)"
      ]
     },
     "execution_count": 52,
     "metadata": {},
     "output_type": "execute_result"
    }
   ],
   "source": [
    "stat, pval"
   ]
  },
  {
   "cell_type": "code",
   "execution_count": 53,
   "id": "1037281d",
   "metadata": {},
   "outputs": [],
   "source": [
    "# implications of one-tailed two-sampled t-test:\n",
    "# p will be divided by two because we are only looking at one tail of the curve\n",
    "# we will pay attention to the sign of our t-statistic\n",
    "# t, p = t-test: (group A, group B) ==> comparison of mu_a > mu_b\n",
    "t, p = stats.ttest_ind(charterdiscp, non_charterdiscp, equal_var=False)"
   ]
  },
  {
   "cell_type": "code",
   "execution_count": 54,
   "id": "8bb5f599",
   "metadata": {},
   "outputs": [
    {
     "data": {
      "text/plain": [
       "(-14.134290589822502, 1.9771683419824536e-42)"
      ]
     },
     "execution_count": 54,
     "metadata": {},
     "output_type": "execute_result"
    }
   ],
   "source": [
    "t, p"
   ]
  },
  {
   "cell_type": "code",
   "execution_count": 55,
   "id": "a26684f1",
   "metadata": {},
   "outputs": [
    {
     "name": "stdout",
     "output_type": "stream",
     "text": [
      "Is p less than alpha?  True\n"
     ]
    }
   ],
   "source": [
    "print('Is p less than alpha? ', pval < alpha)"
   ]
  },
  {
   "cell_type": "code",
   "execution_count": 56,
   "id": "51dadc6f",
   "metadata": {},
   "outputs": [
    {
     "name": "stdout",
     "output_type": "stream",
     "text": [
      "we fail to reject the null hypothesis\n"
     ]
    }
   ],
   "source": [
    "if (t > 0) and ((p / 2) < alpha):\n",
    "    print('We can reject the null hypothesis')\n",
    "else:\n",
    "    print('we fail to reject the null hypothesis')"
   ]
  },
  {
   "cell_type": "code",
   "execution_count": 57,
   "id": "7fef9403",
   "metadata": {},
   "outputs": [],
   "source": [
    "# assign the train variables\n",
    "X_train_scaled = train[['student_enrollment','discipline_count','discipline_percent']]\n",
    "y_train=train[['charter_encoded']]\n",
    "\n",
    "#assign the validate variables\n",
    "X_validate_scaled=validate[['student_enrollment','discipline_count','discipline_percent']]\n",
    "y_validate=validate[['charter_encoded']]\n",
    "\n",
    "# assign the test variables\n",
    "X_test_scaled=test[['student_enrollment','discipline_count','discipline_percent']]\n",
    "y_test=test[['charter_encoded']]"
   ]
  },
  {
   "cell_type": "code",
   "execution_count": 58,
   "id": "b1d04932",
   "metadata": {},
   "outputs": [],
   "source": [
    "def scale_data(train, \n",
    "               validate, \n",
    "               test, \n",
    "               columns_to_scale = ['student_enrollment','discipline_count','discipline_percent'],\n",
    "               return_scaler=False):\n",
    "    '''\n",
    "    Scales the 3 data splits. \n",
    "    Takes in train, validate, and test data splits and returns their scaled counterparts.\n",
    "    If return_scalar is True, the scaler object will be returned as well\n",
    "    '''\n",
    "    # make copies of our original data so we dont gronk up anything\n",
    "    train_scaled = train.copy()\n",
    "    validate_scaled = validate.copy()\n",
    "    test_scaled = test.copy()\n",
    "    #     make the thing\n",
    "    scaler = MinMaxScaler()\n",
    "    #     fit the thing\n",
    "    scaler.fit(train[columns_to_scale])\n",
    "    # applying the scaler:\n",
    "    train_scaled[columns_to_scale] = pd.DataFrame(scaler.transform(train[columns_to_scale]),\n",
    "                                                  columns=train[columns_to_scale].columns.values).set_index([train.index.values])\n",
    "                                                  \n",
    "    validate_scaled[columns_to_scale] = pd.DataFrame(scaler.transform(validate[columns_to_scale]),\n",
    "                                           columns=validate[columns_to_scale].columns.values).set_index([validate.index.values])\n",
    "    \n",
    "    test_scaled[columns_to_scale] = pd.DataFrame(scaler.transform(test[columns_to_scale]),\n",
    "                                                 columns=test[columns_to_scale].columns.values).set_index([test.index.values])\n",
    "    \n",
    "    if return_scaler:\n",
    "        return scaler, train_scaled, validate_scaled, test_scaled\n",
    "    else:\n",
    "        return train_scaled, validate_scaled, test_scaled"
   ]
  },
  {
   "cell_type": "code",
   "execution_count": 59,
   "id": "5b3385b4",
   "metadata": {},
   "outputs": [],
   "source": [
    "train_scaled, validate_scaled, test_scaled = scale_data(train, validate, test)"
   ]
  },
  {
   "cell_type": "code",
   "execution_count": 60,
   "id": "ba832246",
   "metadata": {},
   "outputs": [
    {
     "data": {
      "text/plain": [
       "(                                             campus  charter_encoded  \\\n",
       " 14461                           IRVIN H S 071902008                0   \n",
       " 15829                     VETERANS MIDDLE 108902046                0   \n",
       " 21119                         LORENA HIGH 161907001                0   \n",
       " 9136                             TIPPS EL 101907141                0   \n",
       " 13930  YOUNG WOMEN'S STEAM ACADEMY AT BAL 057905352                0   \n",
       " ...                                             ...              ...   \n",
       " 14048                       AUSTIN MIDDLE 057912045                0   \n",
       " 19501                       WELLINGTON EL 061902130                0   \n",
       " 25179                       CHANCELLOR EL 101903108                0   \n",
       " 14289                        DENTON CREEK 061911003                0   \n",
       " 12928                        CIBOLO GREEN 015910145                0   \n",
       " \n",
       "        student_enrollment  discipline_count  discipline_percent  \n",
       " 14461            0.233738          0.032511            0.021661  \n",
       " 15829            0.170140          0.251582            0.222022  \n",
       " 21119            0.094220          0.013310            0.023466  \n",
       " 9136             0.183367          0.024002            0.021661  \n",
       " 13930            0.231926          0.018983            0.014440  \n",
       " ...                   ...               ...                 ...  \n",
       " 14048            0.185903          0.037748            0.032491  \n",
       " 19501            0.149846          0.000436            0.001805  \n",
       " 25179            0.146403          0.030111            0.032491  \n",
       " 14289            0.006885          0.005237            0.128159  \n",
       " 12928            0.165066          0.009383            0.010830  \n",
       " \n",
       " [15918 rows x 5 columns],\n",
       "                                campus  charter_encoded  student_enrollment  \\\n",
       " 5913             WALLER H S 237904002                0            0.379235   \n",
       " 24412       JACK LUMMUS INT 070903105                0            0.119949   \n",
       " 11565      EASTERN HILLS EL 220905125                0            0.116507   \n",
       " 9087            COOK MIDDLE 101907047                0            0.286103   \n",
       " 26902             WODEN H S 174906001                0            0.039500   \n",
       " ...                               ...              ...                 ...   \n",
       " 22791        L B JOHNSON EL 015905109                0            0.073383   \n",
       " 7833               DAVIS EL 057909126                0            0.111796   \n",
       " 4664              FANNIN EL 175903103                0            0.091140   \n",
       " 10974  DRISCOLL EL & MIDDLE 178905041                0            0.057076   \n",
       " 4436    BRUCEVILLE-EDDY INT 161919042                0            0.031527   \n",
       " \n",
       "        discipline_count  discipline_percent  \n",
       " 5913           0.270129            0.106498  \n",
       " 24412          0.055859            0.072202  \n",
       " 11565          0.011346            0.016245  \n",
       " 9087           0.409557            0.214801  \n",
       " 26902          0.004800            0.025271  \n",
       " ...                 ...                 ...  \n",
       " 22791          0.000218            0.005415  \n",
       " 7833           0.000000            0.003610  \n",
       " 4664           0.001091            0.005415  \n",
       " 10974          0.000655            0.007220  \n",
       " 4436           0.001527            0.016245  \n",
       " \n",
       " [6822 rows x 5 columns],\n",
       "                                 campus  charter_encoded  student_enrollment  \\\n",
       " 25630               PARKS EL 101917112                0            0.081718   \n",
       " 141              LAKEWOOD EL 014903108                0            0.129190   \n",
       " 23611            PROSPER H S 043912001                0            0.616778   \n",
       " 3968    HAMSHIRE-FANNETT H S 123914001                0            0.102555   \n",
       " 949           ATLANTA MIDDLE 034901042                0            0.092770   \n",
       " ...                                ...              ...                 ...   \n",
       " 10027     SULPHUR SPRINGS EL 112901108                0            0.127922   \n",
       " 179         MOUNTAIN VIEW EL 014906121                0            0.187353   \n",
       " 24255               CAMEY EL 061902107                0            0.103280   \n",
       " 9049           KLENTZMAN INT 101903141                0            0.203479   \n",
       " 18794  JAMES EARL RUDDER H S 021902002                0            0.321979   \n",
       " \n",
       "        discipline_count  discipline_percent  \n",
       " 25630          0.004146            0.010830  \n",
       " 141            0.003273            0.005415  \n",
       " 23611          0.092952            0.023466  \n",
       " 3968           0.041676            0.063177  \n",
       " 949            0.032293            0.054152  \n",
       " ...                 ...                 ...  \n",
       " 10027          0.009601            0.014440  \n",
       " 179            0.032511            0.027076  \n",
       " 24255          0.007855            0.014440  \n",
       " 9049           0.092298            0.068592  \n",
       " 18794          0.190705            0.088448  \n",
       " \n",
       " [5686 rows x 5 columns])"
      ]
     },
     "execution_count": 60,
     "metadata": {},
     "output_type": "execute_result"
    }
   ],
   "source": [
    "train_scaled, validate_scaled, test_scaled"
   ]
  },
  {
   "cell_type": "code",
   "execution_count": 61,
   "id": "8de09132",
   "metadata": {},
   "outputs": [
    {
     "data": {
      "text/html": [
       "<div>\n",
       "<style scoped>\n",
       "    .dataframe tbody tr th:only-of-type {\n",
       "        vertical-align: middle;\n",
       "    }\n",
       "\n",
       "    .dataframe tbody tr th {\n",
       "        vertical-align: top;\n",
       "    }\n",
       "\n",
       "    .dataframe thead th {\n",
       "        text-align: right;\n",
       "    }\n",
       "</style>\n",
       "<table border=\"1\" class=\"dataframe\">\n",
       "  <thead>\n",
       "    <tr style=\"text-align: right;\">\n",
       "      <th></th>\n",
       "      <th>student_enrollment</th>\n",
       "      <th>discipline_count</th>\n",
       "      <th>discipline_percent</th>\n",
       "    </tr>\n",
       "  </thead>\n",
       "  <tbody>\n",
       "    <tr>\n",
       "      <th>14461</th>\n",
       "      <td>1300.0</td>\n",
       "      <td>159.0</td>\n",
       "      <td>12.0</td>\n",
       "    </tr>\n",
       "    <tr>\n",
       "      <th>15829</th>\n",
       "      <td>949.0</td>\n",
       "      <td>1163.0</td>\n",
       "      <td>123.0</td>\n",
       "    </tr>\n",
       "    <tr>\n",
       "      <th>21119</th>\n",
       "      <td>530.0</td>\n",
       "      <td>71.0</td>\n",
       "      <td>13.0</td>\n",
       "    </tr>\n",
       "    <tr>\n",
       "      <th>9136</th>\n",
       "      <td>1022.0</td>\n",
       "      <td>120.0</td>\n",
       "      <td>12.0</td>\n",
       "    </tr>\n",
       "    <tr>\n",
       "      <th>13930</th>\n",
       "      <td>1290.0</td>\n",
       "      <td>97.0</td>\n",
       "      <td>8.0</td>\n",
       "    </tr>\n",
       "  </tbody>\n",
       "</table>\n",
       "</div>"
      ],
      "text/plain": [
       "       student_enrollment  discipline_count  discipline_percent\n",
       "14461              1300.0             159.0                12.0\n",
       "15829               949.0            1163.0               123.0\n",
       "21119               530.0              71.0                13.0\n",
       "9136               1022.0             120.0                12.0\n",
       "13930              1290.0              97.0                 8.0"
      ]
     },
     "execution_count": 61,
     "metadata": {},
     "output_type": "execute_result"
    }
   ],
   "source": [
    "X_train_scaled.head()"
   ]
  },
  {
   "cell_type": "code",
   "execution_count": 62,
   "id": "36e6b4fd",
   "metadata": {},
   "outputs": [
    {
     "data": {
      "text/plain": [
       "charter_encoded\n",
       "0                  14940\n",
       "1                    978\n",
       "dtype: int64"
      ]
     },
     "execution_count": 62,
     "metadata": {},
     "output_type": "execute_result"
    }
   ],
   "source": [
    "y_train.value_counts()"
   ]
  },
  {
   "cell_type": "markdown",
   "id": "7178ce8d",
   "metadata": {},
   "source": [
    "## Baseline"
   ]
  },
  {
   "cell_type": "code",
   "execution_count": 63,
   "id": "2f715e37",
   "metadata": {},
   "outputs": [],
   "source": [
    "# The mode is a great baseline\n",
    "baseline = y_train.mode()"
   ]
  },
  {
   "cell_type": "code",
   "execution_count": 64,
   "id": "e786b1e6",
   "metadata": {},
   "outputs": [
    {
     "data": {
      "text/html": [
       "<div>\n",
       "<style scoped>\n",
       "    .dataframe tbody tr th:only-of-type {\n",
       "        vertical-align: middle;\n",
       "    }\n",
       "\n",
       "    .dataframe tbody tr th {\n",
       "        vertical-align: top;\n",
       "    }\n",
       "\n",
       "    .dataframe thead th {\n",
       "        text-align: right;\n",
       "    }\n",
       "</style>\n",
       "<table border=\"1\" class=\"dataframe\">\n",
       "  <thead>\n",
       "    <tr style=\"text-align: right;\">\n",
       "      <th></th>\n",
       "      <th>charter_encoded</th>\n",
       "    </tr>\n",
       "  </thead>\n",
       "  <tbody>\n",
       "    <tr>\n",
       "      <th>0</th>\n",
       "      <td>0</td>\n",
       "    </tr>\n",
       "  </tbody>\n",
       "</table>\n",
       "</div>"
      ],
      "text/plain": [
       "   charter_encoded\n",
       "0                0"
      ]
     },
     "execution_count": 64,
     "metadata": {},
     "output_type": "execute_result"
    }
   ],
   "source": [
    "baseline"
   ]
  },
  {
   "cell_type": "code",
   "execution_count": 65,
   "id": "559be2de",
   "metadata": {},
   "outputs": [
    {
     "data": {
      "text/html": [
       "<div>\n",
       "<style scoped>\n",
       "    .dataframe tbody tr th:only-of-type {\n",
       "        vertical-align: middle;\n",
       "    }\n",
       "\n",
       "    .dataframe tbody tr th {\n",
       "        vertical-align: top;\n",
       "    }\n",
       "\n",
       "    .dataframe thead th {\n",
       "        text-align: right;\n",
       "    }\n",
       "</style>\n",
       "<table border=\"1\" class=\"dataframe\">\n",
       "  <thead>\n",
       "    <tr style=\"text-align: right;\">\n",
       "      <th></th>\n",
       "      <th>student_enrollment</th>\n",
       "      <th>discipline_count</th>\n",
       "      <th>discipline_percent</th>\n",
       "      <th>baseline_prediction</th>\n",
       "    </tr>\n",
       "  </thead>\n",
       "  <tbody>\n",
       "    <tr>\n",
       "      <th>14461</th>\n",
       "      <td>1300.0</td>\n",
       "      <td>159.0</td>\n",
       "      <td>12.0</td>\n",
       "      <td>0</td>\n",
       "    </tr>\n",
       "    <tr>\n",
       "      <th>15829</th>\n",
       "      <td>949.0</td>\n",
       "      <td>1163.0</td>\n",
       "      <td>123.0</td>\n",
       "      <td>0</td>\n",
       "    </tr>\n",
       "    <tr>\n",
       "      <th>21119</th>\n",
       "      <td>530.0</td>\n",
       "      <td>71.0</td>\n",
       "      <td>13.0</td>\n",
       "      <td>0</td>\n",
       "    </tr>\n",
       "    <tr>\n",
       "      <th>9136</th>\n",
       "      <td>1022.0</td>\n",
       "      <td>120.0</td>\n",
       "      <td>12.0</td>\n",
       "      <td>0</td>\n",
       "    </tr>\n",
       "    <tr>\n",
       "      <th>13930</th>\n",
       "      <td>1290.0</td>\n",
       "      <td>97.0</td>\n",
       "      <td>8.0</td>\n",
       "      <td>0</td>\n",
       "    </tr>\n",
       "    <tr>\n",
       "      <th>...</th>\n",
       "      <td>...</td>\n",
       "      <td>...</td>\n",
       "      <td>...</td>\n",
       "      <td>...</td>\n",
       "    </tr>\n",
       "    <tr>\n",
       "      <th>14048</th>\n",
       "      <td>1036.0</td>\n",
       "      <td>183.0</td>\n",
       "      <td>18.0</td>\n",
       "      <td>0</td>\n",
       "    </tr>\n",
       "    <tr>\n",
       "      <th>19501</th>\n",
       "      <td>837.0</td>\n",
       "      <td>12.0</td>\n",
       "      <td>1.0</td>\n",
       "      <td>0</td>\n",
       "    </tr>\n",
       "    <tr>\n",
       "      <th>25179</th>\n",
       "      <td>818.0</td>\n",
       "      <td>148.0</td>\n",
       "      <td>18.0</td>\n",
       "      <td>0</td>\n",
       "    </tr>\n",
       "    <tr>\n",
       "      <th>14289</th>\n",
       "      <td>48.0</td>\n",
       "      <td>34.0</td>\n",
       "      <td>71.0</td>\n",
       "      <td>0</td>\n",
       "    </tr>\n",
       "    <tr>\n",
       "      <th>12928</th>\n",
       "      <td>921.0</td>\n",
       "      <td>53.0</td>\n",
       "      <td>6.0</td>\n",
       "      <td>0</td>\n",
       "    </tr>\n",
       "  </tbody>\n",
       "</table>\n",
       "<p>15918 rows × 4 columns</p>\n",
       "</div>"
      ],
      "text/plain": [
       "       student_enrollment  discipline_count  discipline_percent  \\\n",
       "14461              1300.0             159.0                12.0   \n",
       "15829               949.0            1163.0               123.0   \n",
       "21119               530.0              71.0                13.0   \n",
       "9136               1022.0             120.0                12.0   \n",
       "13930              1290.0              97.0                 8.0   \n",
       "...                   ...               ...                 ...   \n",
       "14048              1036.0             183.0                18.0   \n",
       "19501               837.0              12.0                 1.0   \n",
       "25179               818.0             148.0                18.0   \n",
       "14289                48.0              34.0                71.0   \n",
       "12928               921.0              53.0                 6.0   \n",
       "\n",
       "       baseline_prediction  \n",
       "14461                    0  \n",
       "15829                    0  \n",
       "21119                    0  \n",
       "9136                     0  \n",
       "13930                    0  \n",
       "...                    ...  \n",
       "14048                    0  \n",
       "19501                    0  \n",
       "25179                    0  \n",
       "14289                    0  \n",
       "12928                    0  \n",
       "\n",
       "[15918 rows x 4 columns]"
      ]
     },
     "execution_count": 65,
     "metadata": {},
     "output_type": "execute_result"
    }
   ],
   "source": [
    "X_train_scaled['baseline_prediction'] = 0\n",
    "X_train_scaled"
   ]
  },
  {
   "cell_type": "code",
   "execution_count": 66,
   "id": "b5f179f6",
   "metadata": {},
   "outputs": [],
   "source": [
    "actual = y_train\n",
    "predictions = X_train_scaled.baseline_prediction"
   ]
  },
  {
   "cell_type": "code",
   "execution_count": 67,
   "id": "b6be9177",
   "metadata": {},
   "outputs": [
    {
     "data": {
      "text/html": [
       "<div>\n",
       "<style scoped>\n",
       "    .dataframe tbody tr th:only-of-type {\n",
       "        vertical-align: middle;\n",
       "    }\n",
       "\n",
       "    .dataframe tbody tr th {\n",
       "        vertical-align: top;\n",
       "    }\n",
       "\n",
       "    .dataframe thead th {\n",
       "        text-align: right;\n",
       "    }\n",
       "</style>\n",
       "<table border=\"1\" class=\"dataframe\">\n",
       "  <thead>\n",
       "    <tr style=\"text-align: right;\">\n",
       "      <th>baseline_prediction</th>\n",
       "      <th>0</th>\n",
       "    </tr>\n",
       "    <tr>\n",
       "      <th>charter_encoded</th>\n",
       "      <th></th>\n",
       "    </tr>\n",
       "  </thead>\n",
       "  <tbody>\n",
       "    <tr>\n",
       "      <th>0</th>\n",
       "      <td>14940</td>\n",
       "    </tr>\n",
       "    <tr>\n",
       "      <th>1</th>\n",
       "      <td>978</td>\n",
       "    </tr>\n",
       "  </tbody>\n",
       "</table>\n",
       "</div>"
      ],
      "text/plain": [
       "baseline_prediction      0\n",
       "charter_encoded           \n",
       "0                    14940\n",
       "1                      978"
      ]
     },
     "execution_count": 67,
     "metadata": {},
     "output_type": "execute_result"
    }
   ],
   "source": [
    "pd.crosstab(y_train['charter_encoded'], X_train_scaled.baseline_prediction)"
   ]
  },
  {
   "cell_type": "code",
   "execution_count": 68,
   "id": "230cc5c9",
   "metadata": {},
   "outputs": [
    {
     "data": {
      "text/html": [
       "<div>\n",
       "<style scoped>\n",
       "    .dataframe tbody tr th:only-of-type {\n",
       "        vertical-align: middle;\n",
       "    }\n",
       "\n",
       "    .dataframe tbody tr th {\n",
       "        vertical-align: top;\n",
       "    }\n",
       "\n",
       "    .dataframe thead th {\n",
       "        text-align: right;\n",
       "    }\n",
       "</style>\n",
       "<table border=\"1\" class=\"dataframe\">\n",
       "  <thead>\n",
       "    <tr style=\"text-align: right;\">\n",
       "      <th></th>\n",
       "      <th>charter_encoded</th>\n",
       "    </tr>\n",
       "  </thead>\n",
       "  <tbody>\n",
       "    <tr>\n",
       "      <th>14461</th>\n",
       "      <td>True</td>\n",
       "    </tr>\n",
       "    <tr>\n",
       "      <th>15829</th>\n",
       "      <td>True</td>\n",
       "    </tr>\n",
       "    <tr>\n",
       "      <th>21119</th>\n",
       "      <td>True</td>\n",
       "    </tr>\n",
       "    <tr>\n",
       "      <th>9136</th>\n",
       "      <td>True</td>\n",
       "    </tr>\n",
       "    <tr>\n",
       "      <th>13930</th>\n",
       "      <td>True</td>\n",
       "    </tr>\n",
       "    <tr>\n",
       "      <th>...</th>\n",
       "      <td>...</td>\n",
       "    </tr>\n",
       "    <tr>\n",
       "      <th>14048</th>\n",
       "      <td>True</td>\n",
       "    </tr>\n",
       "    <tr>\n",
       "      <th>19501</th>\n",
       "      <td>True</td>\n",
       "    </tr>\n",
       "    <tr>\n",
       "      <th>25179</th>\n",
       "      <td>True</td>\n",
       "    </tr>\n",
       "    <tr>\n",
       "      <th>14289</th>\n",
       "      <td>True</td>\n",
       "    </tr>\n",
       "    <tr>\n",
       "      <th>12928</th>\n",
       "      <td>True</td>\n",
       "    </tr>\n",
       "  </tbody>\n",
       "</table>\n",
       "<p>15918 rows × 1 columns</p>\n",
       "</div>"
      ],
      "text/plain": [
       "       charter_encoded\n",
       "14461             True\n",
       "15829             True\n",
       "21119             True\n",
       "9136              True\n",
       "13930             True\n",
       "...                ...\n",
       "14048             True\n",
       "19501             True\n",
       "25179             True\n",
       "14289             True\n",
       "12928             True\n",
       "\n",
       "[15918 rows x 1 columns]"
      ]
     },
     "execution_count": 68,
     "metadata": {},
     "output_type": "execute_result"
    }
   ],
   "source": [
    "# Creates a boolean array where \"No\" becomes True and \"Yes\" becomes False\n",
    "(y_train == 0)"
   ]
  },
  {
   "cell_type": "code",
   "execution_count": 69,
   "id": "b37bf2fe",
   "metadata": {},
   "outputs": [
    {
     "data": {
      "text/plain": [
       "charter_encoded    0.93856\n",
       "dtype: float64"
      ]
     },
     "execution_count": 69,
     "metadata": {},
     "output_type": "execute_result"
    }
   ],
   "source": [
    "# Takes the .mean() of the boolean array that represents the proportion \n",
    "# that would also match our baseline prediction\n",
    "(y_train == 0).mean() "
   ]
  },
  {
   "cell_type": "code",
   "execution_count": 70,
   "id": "2d9b34e7",
   "metadata": {},
   "outputs": [],
   "source": [
    "X_validate_scaled['baseline_prediction'] = 0"
   ]
  },
  {
   "cell_type": "code",
   "execution_count": 71,
   "id": "7c126477",
   "metadata": {},
   "outputs": [],
   "source": [
    "X_test_scaled['baseline_prediction'] = 0"
   ]
  },
  {
   "cell_type": "markdown",
   "id": "1e2fa1fb",
   "metadata": {},
   "source": [
    "# Model: Decision Tree"
   ]
  },
  {
   "cell_type": "markdown",
   "id": "d92c8e61",
   "metadata": {},
   "source": [
    "## decision tree max depth=3"
   ]
  },
  {
   "cell_type": "code",
   "execution_count": 72,
   "id": "4cd41a06",
   "metadata": {},
   "outputs": [],
   "source": [
    "# Create the decision tree object and specify hyperparams\n",
    "tree3 = DecisionTreeClassifier(max_depth = 3, random_state=123)"
   ]
  },
  {
   "cell_type": "code",
   "execution_count": 74,
   "id": "7c6df0b0",
   "metadata": {},
   "outputs": [
    {
     "name": "stdout",
     "output_type": "stream",
     "text": [
      "|--- discipline_count <= 208.50\n",
      "|   |--- student_enrollment <= 565.50\n",
      "|   |   |--- discipline_percent <= 45.50\n",
      "|   |   |   |--- class: 0\n",
      "|   |   |--- discipline_percent >  45.50\n",
      "|   |   |   |--- class: 0\n",
      "|   |--- student_enrollment >  565.50\n",
      "|   |   |--- student_enrollment <= 604.50\n",
      "|   |   |   |--- class: 0\n",
      "|   |   |--- student_enrollment >  604.50\n",
      "|   |   |   |--- class: 0\n",
      "|--- discipline_count >  208.50\n",
      "|   |--- discipline_count <= 624.50\n",
      "|   |   |--- student_enrollment <= 1050.50\n",
      "|   |   |   |--- class: 0\n",
      "|   |   |--- student_enrollment >  1050.50\n",
      "|   |   |   |--- class: 0\n",
      "|   |--- discipline_count >  624.50\n",
      "|   |   |--- student_enrollment <= 488.00\n",
      "|   |   |   |--- class: 0\n",
      "|   |   |--- student_enrollment >  488.00\n",
      "|   |   |   |--- class: 0\n",
      "\n"
     ]
    }
   ],
   "source": [
    "tree3.fit(X_train_scaled, y_train)\n",
    "\n",
    "# Rudimentary visualization of model structure\n",
    "print(export_text(tree3, feature_names=X_train_scaled.columns.tolist()))"
   ]
  },
  {
   "cell_type": "code",
   "execution_count": 75,
   "id": "9ec81dc0",
   "metadata": {},
   "outputs": [
    {
     "data": {
      "text/plain": [
       "[Text(0.5, 0.875, 'discipline_count <= 208.5\\ngini = 0.115\\nsamples = 15918\\nvalue = [14940, 978]\\nclass = 0'),\n",
       " Text(0.25, 0.625, 'student_enrollment <= 565.5\\ngini = 0.141\\nsamples = 11551\\nvalue = [10672, 879]\\nclass = 0'),\n",
       " Text(0.125, 0.375, 'discipline_percent <= 45.5\\ngini = 0.166\\nsamples = 5833\\nvalue = [5300, 533]\\nclass = 0'),\n",
       " Text(0.0625, 0.125, 'gini = 0.172\\nsamples = 5456\\nvalue = [4937, 519]\\nclass = 0'),\n",
       " Text(0.1875, 0.125, 'gini = 0.072\\nsamples = 377\\nvalue = [363, 14]\\nclass = 0'),\n",
       " Text(0.375, 0.375, 'student_enrollment <= 604.5\\ngini = 0.114\\nsamples = 5718\\nvalue = [5372, 346]\\nclass = 0'),\n",
       " Text(0.3125, 0.125, 'gini = 0.077\\nsamples = 724\\nvalue = [695, 29]\\nclass = 0'),\n",
       " Text(0.4375, 0.125, 'gini = 0.119\\nsamples = 4994\\nvalue = [4677, 317]\\nclass = 0'),\n",
       " Text(0.75, 0.625, 'discipline_count <= 624.5\\ngini = 0.044\\nsamples = 4367\\nvalue = [4268, 99]\\nclass = 0'),\n",
       " Text(0.625, 0.375, 'student_enrollment <= 1050.5\\ngini = 0.065\\nsamples = 2785\\nvalue = [2691, 94]\\nclass = 0'),\n",
       " Text(0.5625, 0.125, 'gini = 0.081\\nsamples = 1850\\nvalue = [1772, 78]\\nclass = 0'),\n",
       " Text(0.6875, 0.125, 'gini = 0.034\\nsamples = 935\\nvalue = [919, 16]\\nclass = 0'),\n",
       " Text(0.875, 0.375, 'student_enrollment <= 488.0\\ngini = 0.006\\nsamples = 1582\\nvalue = [1577, 5]\\nclass = 0'),\n",
       " Text(0.8125, 0.125, 'gini = 0.26\\nsamples = 13\\nvalue = [11, 2]\\nclass = 0'),\n",
       " Text(0.9375, 0.125, 'gini = 0.004\\nsamples = 1569\\nvalue = [1566, 3]\\nclass = 0')]"
      ]
     },
     "execution_count": 75,
     "metadata": {},
     "output_type": "execute_result"
    },
    {
     "data": {
      "image/png": "[encoded data removed]",
      "text/plain": [
       "<Figure size 864x504 with 1 Axes>"
      ]
     },
     "metadata": {
      "needs_background": "light"
     },
     "output_type": "display_data"
    }
   ],
   "source": [
    "# Visualize the tree\n",
    "plt.figure(figsize=(12, 7))\n",
    "plot_tree(tree3, feature_names=X_train_scaled.columns, class_names=tree3.classes_.astype(str))\n",
    "#plt.show()"
   ]
  },
  {
   "cell_type": "code",
   "execution_count": 76,
   "id": "07d55acc",
   "metadata": {},
   "outputs": [],
   "source": [
    "y_pred3=tree3.predict(X_train_scaled)"
   ]
  },
  {
   "cell_type": "code",
   "execution_count": 77,
   "id": "54ded98a",
   "metadata": {},
   "outputs": [],
   "source": [
    "y_pred_proba3 = tree3.predict_proba(X_train_scaled)\n"
   ]
  },
  {
   "cell_type": "code",
   "execution_count": 78,
   "id": "7d2d4b04",
   "metadata": {},
   "outputs": [
    {
     "name": "stdout",
     "output_type": "stream",
     "text": [
      "Accuracy of Decision Tree classifier on training set: 0.94\n"
     ]
    }
   ],
   "source": [
    "print('Accuracy of Decision Tree classifier on training set: {:.2f}'\n",
    "      .format(tree3.score(X_train_scaled, y_train)))"
   ]
  },
  {
   "cell_type": "markdown",
   "id": "4d77b1ea",
   "metadata": {},
   "source": [
    "# Create a confusion matrix"
   ]
  },
  {
   "cell_type": "code",
   "execution_count": 79,
   "id": "21ba4d36",
   "metadata": {},
   "outputs": [
    {
     "data": {
      "text/plain": [
       "array([0, 0, 0, ..., 0, 0, 0])"
      ]
     },
     "execution_count": 79,
     "metadata": {},
     "output_type": "execute_result"
    }
   ],
   "source": [
    "tree3.predict(X_train_scaled)"
   ]
  },
  {
   "cell_type": "code",
   "execution_count": 80,
   "id": "0736f5d8",
   "metadata": {},
   "outputs": [],
   "source": [
    "predictions3 = tree3.predict(X_train_scaled)\n",
    "actual3 = y_train"
   ]
  },
  {
   "cell_type": "code",
   "execution_count": 81,
   "id": "3c54ccd7",
   "metadata": {},
   "outputs": [
    {
     "data": {
      "text/plain": [
       "array([[14940,     0],\n",
       "       [  978,     0]])"
      ]
     },
     "execution_count": 81,
     "metadata": {},
     "output_type": "execute_result"
    }
   ],
   "source": [
    "confusion_matrix(actual, predictions)"
   ]
  },
  {
   "cell_type": "code",
   "execution_count": 82,
   "id": "f621d604",
   "metadata": {},
   "outputs": [
    {
     "data": {
      "text/html": [
       "<div>\n",
       "<style scoped>\n",
       "    .dataframe tbody tr th:only-of-type {\n",
       "        vertical-align: middle;\n",
       "    }\n",
       "\n",
       "    .dataframe tbody tr th {\n",
       "        vertical-align: top;\n",
       "    }\n",
       "\n",
       "    .dataframe thead th {\n",
       "        text-align: right;\n",
       "    }\n",
       "</style>\n",
       "<table border=\"1\" class=\"dataframe\">\n",
       "  <thead>\n",
       "    <tr style=\"text-align: right;\">\n",
       "      <th>col_0</th>\n",
       "      <th>0</th>\n",
       "    </tr>\n",
       "    <tr>\n",
       "      <th>charter_encoded</th>\n",
       "      <th></th>\n",
       "    </tr>\n",
       "  </thead>\n",
       "  <tbody>\n",
       "    <tr>\n",
       "      <th>0</th>\n",
       "      <td>14940</td>\n",
       "    </tr>\n",
       "    <tr>\n",
       "      <th>1</th>\n",
       "      <td>978</td>\n",
       "    </tr>\n",
       "  </tbody>\n",
       "</table>\n",
       "</div>"
      ],
      "text/plain": [
       "col_0                0\n",
       "charter_encoded       \n",
       "0                14940\n",
       "1                  978"
      ]
     },
     "execution_count": 82,
     "metadata": {},
     "output_type": "execute_result"
    }
   ],
   "source": [
    "pd.crosstab(y_train['charter_encoded'], tree3.predict(X_train_scaled))"
   ]
  },
  {
   "cell_type": "code",
   "execution_count": 83,
   "id": "8bee6599",
   "metadata": {},
   "outputs": [
    {
     "data": {
      "text/plain": [
       "<sklearn.metrics._plot.confusion_matrix.ConfusionMatrixDisplay at 0x296a4f910>"
      ]
     },
     "execution_count": 83,
     "metadata": {},
     "output_type": "execute_result"
    },
    {
     "data": {
      "image/png": "[encoded data removed]",
      "text/plain": [
       "<Figure size 432x288 with 2 Axes>"
      ]
     },
     "metadata": {
      "needs_background": "light"
     },
     "output_type": "display_data"
    }
   ],
   "source": [
    "plot_confusion_matrix(tree3, X_train_scaled, y_train, display_labels=['traditional', 'charter'])\n"
   ]
  },
  {
   "cell_type": "code",
   "execution_count": 84,
   "id": "be3ea0ba",
   "metadata": {},
   "outputs": [
    {
     "name": "stdout",
     "output_type": "stream",
     "text": [
      "              precision    recall  f1-score   support\n",
      "\n",
      "           0       0.94      1.00      0.97     14940\n",
      "           1       0.00      0.00      0.00       978\n",
      "\n",
      "    accuracy                           0.94     15918\n",
      "   macro avg       0.47      0.50      0.48     15918\n",
      "weighted avg       0.88      0.94      0.91     15918\n",
      "\n"
     ]
    }
   ],
   "source": [
    "print(classification_report(actual3, predictions3))"
   ]
  },
  {
   "cell_type": "markdown",
   "id": "3e677984",
   "metadata": {},
   "source": [
    "## decision tree max depth=4"
   ]
  },
  {
   "cell_type": "code",
   "execution_count": 85,
   "id": "6ae96266",
   "metadata": {},
   "outputs": [],
   "source": [
    "# Create the decision tree object and specify hyperparams\n",
    "tree4 = DecisionTreeClassifier(max_depth = 4, random_state=123)"
   ]
  },
  {
   "cell_type": "code",
   "execution_count": 86,
   "id": "1bb08758",
   "metadata": {},
   "outputs": [
    {
     "data": {
      "text/plain": [
       "DecisionTreeClassifier(max_depth=4, random_state=123)"
      ]
     },
     "execution_count": 86,
     "metadata": {},
     "output_type": "execute_result"
    }
   ],
   "source": [
    "tree4"
   ]
  },
  {
   "cell_type": "code",
   "execution_count": 87,
   "id": "fdc48696",
   "metadata": {},
   "outputs": [
    {
     "data": {
      "text/plain": [
       "DecisionTreeClassifier(max_depth=4, random_state=123)"
      ]
     },
     "execution_count": 87,
     "metadata": {},
     "output_type": "execute_result"
    }
   ],
   "source": [
    "tree4.fit(X_train_scaled, y_train)"
   ]
  },
  {
   "cell_type": "code",
   "execution_count": 88,
   "id": "d00ba517",
   "metadata": {},
   "outputs": [
    {
     "name": "stdout",
     "output_type": "stream",
     "text": [
      "|--- discipline_count <= 208.50\n",
      "|   |--- student_enrollment <= 565.50\n",
      "|   |   |--- discipline_percent <= 45.50\n",
      "|   |   |   |--- discipline_count <= 13.50\n",
      "|   |   |   |   |--- class: 0\n",
      "|   |   |   |--- discipline_count >  13.50\n",
      "|   |   |   |   |--- class: 0\n",
      "|   |   |--- discipline_percent >  45.50\n",
      "|   |   |   |--- discipline_percent <= 67.50\n",
      "|   |   |   |   |--- class: 0\n",
      "|   |   |   |--- discipline_percent >  67.50\n",
      "|   |   |   |   |--- class: 0\n",
      "|   |--- student_enrollment >  565.50\n",
      "|   |   |--- student_enrollment <= 604.50\n",
      "|   |   |   |--- discipline_count <= 69.50\n",
      "|   |   |   |   |--- class: 0\n",
      "|   |   |   |--- discipline_count >  69.50\n",
      "|   |   |   |   |--- class: 0\n",
      "|   |   |--- student_enrollment >  604.50\n",
      "|   |   |   |--- student_enrollment <= 605.50\n",
      "|   |   |   |   |--- class: 0\n",
      "|   |   |   |--- student_enrollment >  605.50\n",
      "|   |   |   |   |--- class: 0\n",
      "|--- discipline_count >  208.50\n",
      "|   |--- discipline_count <= 624.50\n",
      "|   |   |--- student_enrollment <= 1050.50\n",
      "|   |   |   |--- student_enrollment <= 932.50\n",
      "|   |   |   |   |--- class: 0\n",
      "|   |   |   |--- student_enrollment >  932.50\n",
      "|   |   |   |   |--- class: 0\n",
      "|   |   |--- student_enrollment >  1050.50\n",
      "|   |   |   |--- discipline_percent <= 31.50\n",
      "|   |   |   |   |--- class: 0\n",
      "|   |   |   |--- discipline_percent >  31.50\n",
      "|   |   |   |   |--- class: 0\n",
      "|   |--- discipline_count >  624.50\n",
      "|   |   |--- student_enrollment <= 488.00\n",
      "|   |   |   |--- student_enrollment <= 476.00\n",
      "|   |   |   |   |--- class: 0\n",
      "|   |   |   |--- student_enrollment >  476.00\n",
      "|   |   |   |   |--- class: 1\n",
      "|   |   |--- student_enrollment >  488.00\n",
      "|   |   |   |--- student_enrollment <= 934.50\n",
      "|   |   |   |   |--- class: 0\n",
      "|   |   |   |--- student_enrollment >  934.50\n",
      "|   |   |   |   |--- class: 0\n",
      "\n"
     ]
    }
   ],
   "source": [
    "# Rudimentary visualization of model structure\n",
    "print(export_text(tree4, feature_names=X_train_scaled.columns.tolist()))"
   ]
  },
  {
   "cell_type": "code",
   "execution_count": 89,
   "id": "3e0ebdc9",
   "metadata": {},
   "outputs": [
    {
     "data": {
      "text/plain": [
       "[Text(0.5, 0.9, 'discipline_count <= 208.5\\ngini = 0.115\\nsamples = 15918\\nvalue = [14940, 978]\\nclass = 0'),\n",
       " Text(0.25, 0.7, 'student_enrollment <= 565.5\\ngini = 0.141\\nsamples = 11551\\nvalue = [10672, 879]\\nclass = 0'),\n",
       " Text(0.125, 0.5, 'discipline_percent <= 45.5\\ngini = 0.166\\nsamples = 5833\\nvalue = [5300, 533]\\nclass = 0'),\n",
       " Text(0.0625, 0.3, 'discipline_count <= 13.5\\ngini = 0.172\\nsamples = 5456\\nvalue = [4937, 519]\\nclass = 0'),\n",
       " Text(0.03125, 0.1, 'gini = 0.228\\nsamples = 631\\nvalue = [548, 83]\\nclass = 0'),\n",
       " Text(0.09375, 0.1, 'gini = 0.164\\nsamples = 4825\\nvalue = [4389, 436]\\nclass = 0'),\n",
       " Text(0.1875, 0.3, 'discipline_percent <= 67.5\\ngini = 0.072\\nsamples = 377\\nvalue = [363, 14]\\nclass = 0'),\n",
       " Text(0.15625, 0.1, 'gini = 0.052\\nsamples = 299\\nvalue = [291, 8]\\nclass = 0'),\n",
       " Text(0.21875, 0.1, 'gini = 0.142\\nsamples = 78\\nvalue = [72, 6]\\nclass = 0'),\n",
       " Text(0.375, 0.5, 'student_enrollment <= 604.5\\ngini = 0.114\\nsamples = 5718\\nvalue = [5372, 346]\\nclass = 0'),\n",
       " Text(0.3125, 0.3, 'discipline_count <= 69.5\\ngini = 0.077\\nsamples = 724\\nvalue = [695, 29]\\nclass = 0'),\n",
       " Text(0.28125, 0.1, 'gini = 0.053\\nsamples = 509\\nvalue = [495, 14]\\nclass = 0'),\n",
       " Text(0.34375, 0.1, 'gini = 0.13\\nsamples = 215\\nvalue = [200, 15]\\nclass = 0'),\n",
       " Text(0.4375, 0.3, 'student_enrollment <= 605.5\\ngini = 0.119\\nsamples = 4994\\nvalue = [4677, 317]\\nclass = 0'),\n",
       " Text(0.40625, 0.1, 'gini = 0.351\\nsamples = 22\\nvalue = [17, 5]\\nclass = 0'),\n",
       " Text(0.46875, 0.1, 'gini = 0.118\\nsamples = 4972\\nvalue = [4660, 312]\\nclass = 0'),\n",
       " Text(0.75, 0.7, 'discipline_count <= 624.5\\ngini = 0.044\\nsamples = 4367\\nvalue = [4268, 99]\\nclass = 0'),\n",
       " Text(0.625, 0.5, 'student_enrollment <= 1050.5\\ngini = 0.065\\nsamples = 2785\\nvalue = [2691, 94]\\nclass = 0'),\n",
       " Text(0.5625, 0.3, 'student_enrollment <= 932.5\\ngini = 0.081\\nsamples = 1850\\nvalue = [1772, 78]\\nclass = 0'),\n",
       " Text(0.53125, 0.1, 'gini = 0.065\\nsamples = 1517\\nvalue = [1466, 51]\\nclass = 0'),\n",
       " Text(0.59375, 0.1, 'gini = 0.149\\nsamples = 333\\nvalue = [306, 27]\\nclass = 0'),\n",
       " Text(0.6875, 0.3, 'discipline_percent <= 31.5\\ngini = 0.034\\nsamples = 935\\nvalue = [919, 16]\\nclass = 0'),\n",
       " Text(0.65625, 0.1, 'gini = 0.043\\nsamples = 685\\nvalue = [670, 15]\\nclass = 0'),\n",
       " Text(0.71875, 0.1, 'gini = 0.008\\nsamples = 250\\nvalue = [249, 1]\\nclass = 0'),\n",
       " Text(0.875, 0.5, 'student_enrollment <= 488.0\\ngini = 0.006\\nsamples = 1582\\nvalue = [1577, 5]\\nclass = 0'),\n",
       " Text(0.8125, 0.3, 'student_enrollment <= 476.0\\ngini = 0.26\\nsamples = 13\\nvalue = [11, 2]\\nclass = 0'),\n",
       " Text(0.78125, 0.1, 'gini = 0.153\\nsamples = 12\\nvalue = [11, 1]\\nclass = 0'),\n",
       " Text(0.84375, 0.1, 'gini = 0.0\\nsamples = 1\\nvalue = [0, 1]\\nclass = 1'),\n",
       " Text(0.9375, 0.3, 'student_enrollment <= 934.5\\ngini = 0.004\\nsamples = 1569\\nvalue = [1566, 3]\\nclass = 0'),\n",
       " Text(0.90625, 0.1, 'gini = 0.013\\nsamples = 313\\nvalue = [311, 2]\\nclass = 0'),\n",
       " Text(0.96875, 0.1, 'gini = 0.002\\nsamples = 1256\\nvalue = [1255, 1]\\nclass = 0')]"
      ]
     },
     "execution_count": 89,
     "metadata": {},
     "output_type": "execute_result"
    },
    {
     "data": {
      "image/png": "[encoded data removed]",
      "text/plain": [
       "<Figure size 864x504 with 1 Axes>"
      ]
     },
     "metadata": {
      "needs_background": "light"
     },
     "output_type": "display_data"
    }
   ],
   "source": [
    "# Visualize the tree\n",
    "plt.figure(figsize=(12, 7))\n",
    "plot_tree(tree4, feature_names=X_train_scaled.columns, class_names=tree4.classes_.astype(str))\n",
    "#plt.show()"
   ]
  },
  {
   "cell_type": "code",
   "execution_count": 90,
   "id": "a38fb8ec",
   "metadata": {},
   "outputs": [],
   "source": [
    "y_pred4=tree4.predict(X_train_scaled)"
   ]
  },
  {
   "cell_type": "code",
   "execution_count": 91,
   "id": "ffba4046",
   "metadata": {},
   "outputs": [],
   "source": [
    "y_pred_proba4 = tree4.predict_proba(X_train_scaled)"
   ]
  },
  {
   "cell_type": "code",
   "execution_count": 94,
   "id": "0360d483",
   "metadata": {},
   "outputs": [
    {
     "name": "stdout",
     "output_type": "stream",
     "text": [
      "Accuracy of Decision Tree classifier on training set: 0.94\n"
     ]
    }
   ],
   "source": [
    "print('Accuracy of Decision Tree classifier on training set: {:.2f}'\n",
    "      .format(tree4.score(X_train_scaled, y_train)))"
   ]
  },
  {
   "cell_type": "code",
   "execution_count": 95,
   "id": "0fe76ad4",
   "metadata": {},
   "outputs": [
    {
     "data": {
      "text/plain": [
       "array([0, 0, 0, ..., 0, 0, 0])"
      ]
     },
     "execution_count": 95,
     "metadata": {},
     "output_type": "execute_result"
    }
   ],
   "source": [
    "tree4.predict(X_train_scaled)"
   ]
  },
  {
   "cell_type": "code",
   "execution_count": 96,
   "id": "5af2395a",
   "metadata": {},
   "outputs": [],
   "source": [
    "predictions4 = tree4.predict(X_train_scaled)"
   ]
  },
  {
   "cell_type": "code",
   "execution_count": 97,
   "id": "bfa0dcde",
   "metadata": {},
   "outputs": [],
   "source": [
    "actual4 = y_train"
   ]
  },
  {
   "cell_type": "code",
   "execution_count": 98,
   "id": "3eddad96",
   "metadata": {},
   "outputs": [
    {
     "data": {
      "text/plain": [
       "array([[14940,     0],\n",
       "       [  977,     1]])"
      ]
     },
     "execution_count": 98,
     "metadata": {},
     "output_type": "execute_result"
    }
   ],
   "source": [
    "confusion_matrix(actual4, predictions4)"
   ]
  },
  {
   "cell_type": "code",
   "execution_count": 99,
   "id": "5da2ebc6",
   "metadata": {},
   "outputs": [
    {
     "data": {
      "text/html": [
       "<div>\n",
       "<style scoped>\n",
       "    .dataframe tbody tr th:only-of-type {\n",
       "        vertical-align: middle;\n",
       "    }\n",
       "\n",
       "    .dataframe tbody tr th {\n",
       "        vertical-align: top;\n",
       "    }\n",
       "\n",
       "    .dataframe thead th {\n",
       "        text-align: right;\n",
       "    }\n",
       "</style>\n",
       "<table border=\"1\" class=\"dataframe\">\n",
       "  <thead>\n",
       "    <tr style=\"text-align: right;\">\n",
       "      <th>col_0</th>\n",
       "      <th>0</th>\n",
       "      <th>1</th>\n",
       "    </tr>\n",
       "    <tr>\n",
       "      <th>charter_encoded</th>\n",
       "      <th></th>\n",
       "      <th></th>\n",
       "    </tr>\n",
       "  </thead>\n",
       "  <tbody>\n",
       "    <tr>\n",
       "      <th>0</th>\n",
       "      <td>14940</td>\n",
       "      <td>0</td>\n",
       "    </tr>\n",
       "    <tr>\n",
       "      <th>1</th>\n",
       "      <td>977</td>\n",
       "      <td>1</td>\n",
       "    </tr>\n",
       "  </tbody>\n",
       "</table>\n",
       "</div>"
      ],
      "text/plain": [
       "col_0                0  1\n",
       "charter_encoded          \n",
       "0                14940  0\n",
       "1                  977  1"
      ]
     },
     "execution_count": 99,
     "metadata": {},
     "output_type": "execute_result"
    }
   ],
   "source": [
    "pd.crosstab(y_train['charter_encoded'], tree4.predict(X_train_scaled))"
   ]
  },
  {
   "cell_type": "code",
   "execution_count": 100,
   "id": "31b524d6",
   "metadata": {},
   "outputs": [
    {
     "data": {
      "text/plain": [
       "<sklearn.metrics._plot.confusion_matrix.ConfusionMatrixDisplay at 0x29672eeb0>"
      ]
     },
     "execution_count": 100,
     "metadata": {},
     "output_type": "execute_result"
    },
    {
     "data": {
      "image/png": "[encoded data removed]",
      "text/plain": [
       "<Figure size 432x288 with 2 Axes>"
      ]
     },
     "metadata": {
      "needs_background": "light"
     },
     "output_type": "display_data"
    }
   ],
   "source": [
    "plot_confusion_matrix(tree4, X_train_scaled, y_train, display_labels=['traditional', 'charter'])\n"
   ]
  },
  {
   "cell_type": "code",
   "execution_count": 101,
   "id": "e1aaa215",
   "metadata": {},
   "outputs": [
    {
     "name": "stdout",
     "output_type": "stream",
     "text": [
      "              precision    recall  f1-score   support\n",
      "\n",
      "           0       0.94      1.00      0.97     14940\n",
      "           1       1.00      0.00      0.00       978\n",
      "\n",
      "    accuracy                           0.94     15918\n",
      "   macro avg       0.97      0.50      0.49     15918\n",
      "weighted avg       0.94      0.94      0.91     15918\n",
      "\n"
     ]
    }
   ],
   "source": [
    "print(classification_report(actual4, predictions4))"
   ]
  },
  {
   "cell_type": "markdown",
   "id": "f21d3647",
   "metadata": {},
   "source": [
    "## decision tree max depth=5"
   ]
  },
  {
   "cell_type": "code",
   "execution_count": 102,
   "id": "90b23938",
   "metadata": {},
   "outputs": [],
   "source": [
    "# Create the decision tree object and specify hyperparams\n",
    "tree5 = DecisionTreeClassifier(max_depth = 5, random_state=123)"
   ]
  },
  {
   "cell_type": "code",
   "execution_count": 104,
   "id": "ebf7d850",
   "metadata": {},
   "outputs": [
    {
     "name": "stdout",
     "output_type": "stream",
     "text": [
      "|--- discipline_count <= 208.50\n",
      "|   |--- student_enrollment <= 565.50\n",
      "|   |   |--- discipline_percent <= 45.50\n",
      "|   |   |   |--- discipline_count <= 13.50\n",
      "|   |   |   |   |--- student_enrollment <= 318.50\n",
      "|   |   |   |   |   |--- class: 0\n",
      "|   |   |   |   |--- student_enrollment >  318.50\n",
      "|   |   |   |   |   |--- class: 0\n",
      "|   |   |   |--- discipline_count >  13.50\n",
      "|   |   |   |   |--- discipline_percent <= 2.50\n",
      "|   |   |   |   |   |--- class: 1\n",
      "|   |   |   |   |--- discipline_percent >  2.50\n",
      "|   |   |   |   |   |--- class: 0\n",
      "|   |   |--- discipline_percent >  45.50\n",
      "|   |   |   |--- discipline_percent <= 67.50\n",
      "|   |   |   |   |--- discipline_count <= 192.50\n",
      "|   |   |   |   |   |--- class: 0\n",
      "|   |   |   |   |--- discipline_count >  192.50\n",
      "|   |   |   |   |   |--- class: 0\n",
      "|   |   |   |--- discipline_percent >  67.50\n",
      "|   |   |   |   |--- discipline_count <= 166.50\n",
      "|   |   |   |   |   |--- class: 0\n",
      "|   |   |   |   |--- discipline_count >  166.50\n",
      "|   |   |   |   |   |--- class: 0\n",
      "|   |--- student_enrollment >  565.50\n",
      "|   |   |--- student_enrollment <= 604.50\n",
      "|   |   |   |--- discipline_count <= 69.50\n",
      "|   |   |   |   |--- discipline_count <= 23.50\n",
      "|   |   |   |   |   |--- class: 0\n",
      "|   |   |   |   |--- discipline_count >  23.50\n",
      "|   |   |   |   |   |--- class: 0\n",
      "|   |   |   |--- discipline_count >  69.50\n",
      "|   |   |   |   |--- discipline_count <= 71.50\n",
      "|   |   |   |   |   |--- class: 0\n",
      "|   |   |   |   |--- discipline_count >  71.50\n",
      "|   |   |   |   |   |--- class: 0\n",
      "|   |   |--- student_enrollment >  604.50\n",
      "|   |   |   |--- student_enrollment <= 605.50\n",
      "|   |   |   |   |--- discipline_count <= 18.00\n",
      "|   |   |   |   |   |--- class: 0\n",
      "|   |   |   |   |--- discipline_count >  18.00\n",
      "|   |   |   |   |   |--- class: 0\n",
      "|   |   |   |--- student_enrollment >  605.50\n",
      "|   |   |   |   |--- discipline_percent <= 31.50\n",
      "|   |   |   |   |   |--- class: 0\n",
      "|   |   |   |   |--- discipline_percent >  31.50\n",
      "|   |   |   |   |   |--- class: 0\n",
      "|--- discipline_count >  208.50\n",
      "|   |--- discipline_count <= 624.50\n",
      "|   |   |--- student_enrollment <= 1050.50\n",
      "|   |   |   |--- student_enrollment <= 932.50\n",
      "|   |   |   |   |--- discipline_count <= 620.50\n",
      "|   |   |   |   |   |--- class: 0\n",
      "|   |   |   |   |--- discipline_count >  620.50\n",
      "|   |   |   |   |   |--- class: 1\n",
      "|   |   |   |--- student_enrollment >  932.50\n",
      "|   |   |   |   |--- student_enrollment <= 945.50\n",
      "|   |   |   |   |   |--- class: 0\n",
      "|   |   |   |   |--- student_enrollment >  945.50\n",
      "|   |   |   |   |   |--- class: 0\n",
      "|   |   |--- student_enrollment >  1050.50\n",
      "|   |   |   |--- discipline_percent <= 31.50\n",
      "|   |   |   |   |--- discipline_count <= 240.50\n",
      "|   |   |   |   |   |--- class: 0\n",
      "|   |   |   |   |--- discipline_count >  240.50\n",
      "|   |   |   |   |   |--- class: 0\n",
      "|   |   |   |--- discipline_percent >  31.50\n",
      "|   |   |   |   |--- student_enrollment <= 1128.50\n",
      "|   |   |   |   |   |--- class: 0\n",
      "|   |   |   |   |--- student_enrollment >  1128.50\n",
      "|   |   |   |   |   |--- class: 0\n",
      "|   |--- discipline_count >  624.50\n",
      "|   |   |--- student_enrollment <= 488.00\n",
      "|   |   |   |--- discipline_count <= 646.50\n",
      "|   |   |   |   |--- class: 1\n",
      "|   |   |   |--- discipline_count >  646.50\n",
      "|   |   |   |   |--- discipline_count <= 721.50\n",
      "|   |   |   |   |   |--- class: 0\n",
      "|   |   |   |   |--- discipline_count >  721.50\n",
      "|   |   |   |   |   |--- class: 0\n",
      "|   |   |--- student_enrollment >  488.00\n",
      "|   |   |   |--- student_enrollment <= 934.50\n",
      "|   |   |   |   |--- student_enrollment <= 933.00\n",
      "|   |   |   |   |   |--- class: 0\n",
      "|   |   |   |   |--- student_enrollment >  933.00\n",
      "|   |   |   |   |   |--- class: 0\n",
      "|   |   |   |--- student_enrollment >  934.50\n",
      "|   |   |   |   |--- discipline_count <= 891.00\n",
      "|   |   |   |   |   |--- class: 0\n",
      "|   |   |   |   |--- discipline_count >  891.00\n",
      "|   |   |   |   |   |--- class: 0\n",
      "\n"
     ]
    }
   ],
   "source": [
    "tree5.fit(X_train_scaled, y_train)\n",
    "\n",
    "# Rudimentary visualization of model structure\n",
    "print(export_text(tree5, feature_names=X_train_scaled.columns.tolist()))"
   ]
  },
  {
   "cell_type": "code",
   "execution_count": 105,
   "id": "e9cf0e4f",
   "metadata": {},
   "outputs": [
    {
     "data": {
      "text/plain": [
       "[Text(0.51875, 0.9166666666666666, 'discipline_count <= 208.5\\ngini = 0.115\\nsamples = 15918\\nvalue = [14940, 978]\\nclass = 0'),\n",
       " Text(0.26666666666666666, 0.75, 'student_enrollment <= 565.5\\ngini = 0.141\\nsamples = 11551\\nvalue = [10672, 879]\\nclass = 0'),\n",
       " Text(0.13333333333333333, 0.5833333333333334, 'discipline_percent <= 45.5\\ngini = 0.166\\nsamples = 5833\\nvalue = [5300, 533]\\nclass = 0'),\n",
       " Text(0.06666666666666667, 0.4166666666666667, 'discipline_count <= 13.5\\ngini = 0.172\\nsamples = 5456\\nvalue = [4937, 519]\\nclass = 0'),\n",
       " Text(0.03333333333333333, 0.25, 'student_enrollment <= 318.5\\ngini = 0.228\\nsamples = 631\\nvalue = [548, 83]\\nclass = 0'),\n",
       " Text(0.016666666666666666, 0.08333333333333333, 'gini = 0.324\\nsamples = 231\\nvalue = [184, 47]\\nclass = 0'),\n",
       " Text(0.05, 0.08333333333333333, 'gini = 0.164\\nsamples = 400\\nvalue = [364, 36]\\nclass = 0'),\n",
       " Text(0.1, 0.25, 'discipline_percent <= 2.5\\ngini = 0.164\\nsamples = 4825\\nvalue = [4389, 436]\\nclass = 0'),\n",
       " Text(0.08333333333333333, 0.08333333333333333, 'gini = 0.0\\nsamples = 1\\nvalue = [0, 1]\\nclass = 1'),\n",
       " Text(0.11666666666666667, 0.08333333333333333, 'gini = 0.164\\nsamples = 4824\\nvalue = [4389, 435]\\nclass = 0'),\n",
       " Text(0.2, 0.4166666666666667, 'discipline_percent <= 67.5\\ngini = 0.072\\nsamples = 377\\nvalue = [363, 14]\\nclass = 0'),\n",
       " Text(0.16666666666666666, 0.25, 'discipline_count <= 192.5\\ngini = 0.052\\nsamples = 299\\nvalue = [291, 8]\\nclass = 0'),\n",
       " Text(0.15, 0.08333333333333333, 'gini = 0.031\\nsamples = 255\\nvalue = [251, 4]\\nclass = 0'),\n",
       " Text(0.18333333333333332, 0.08333333333333333, 'gini = 0.165\\nsamples = 44\\nvalue = [40, 4]\\nclass = 0'),\n",
       " Text(0.23333333333333334, 0.25, 'discipline_count <= 166.5\\ngini = 0.142\\nsamples = 78\\nvalue = [72, 6]\\nclass = 0'),\n",
       " Text(0.21666666666666667, 0.08333333333333333, 'gini = 0.177\\nsamples = 61\\nvalue = [55, 6]\\nclass = 0'),\n",
       " Text(0.25, 0.08333333333333333, 'gini = 0.0\\nsamples = 17\\nvalue = [17, 0]\\nclass = 0'),\n",
       " Text(0.4, 0.5833333333333334, 'student_enrollment <= 604.5\\ngini = 0.114\\nsamples = 5718\\nvalue = [5372, 346]\\nclass = 0'),\n",
       " Text(0.3333333333333333, 0.4166666666666667, 'discipline_count <= 69.5\\ngini = 0.077\\nsamples = 724\\nvalue = [695, 29]\\nclass = 0'),\n",
       " Text(0.3, 0.25, 'discipline_count <= 23.5\\ngini = 0.053\\nsamples = 509\\nvalue = [495, 14]\\nclass = 0'),\n",
       " Text(0.2833333333333333, 0.08333333333333333, 'gini = 0.019\\nsamples = 206\\nvalue = [204, 2]\\nclass = 0'),\n",
       " Text(0.31666666666666665, 0.08333333333333333, 'gini = 0.076\\nsamples = 303\\nvalue = [291, 12]\\nclass = 0'),\n",
       " Text(0.36666666666666664, 0.25, 'discipline_count <= 71.5\\ngini = 0.13\\nsamples = 215\\nvalue = [200, 15]\\nclass = 0'),\n",
       " Text(0.35, 0.08333333333333333, 'gini = 0.346\\nsamples = 9\\nvalue = [7, 2]\\nclass = 0'),\n",
       " Text(0.38333333333333336, 0.08333333333333333, 'gini = 0.118\\nsamples = 206\\nvalue = [193, 13]\\nclass = 0'),\n",
       " Text(0.4666666666666667, 0.4166666666666667, 'student_enrollment <= 605.5\\ngini = 0.119\\nsamples = 4994\\nvalue = [4677, 317]\\nclass = 0'),\n",
       " Text(0.43333333333333335, 0.25, 'discipline_count <= 18.0\\ngini = 0.351\\nsamples = 22\\nvalue = [17, 5]\\nclass = 0'),\n",
       " Text(0.4166666666666667, 0.08333333333333333, 'gini = 0.0\\nsamples = 5\\nvalue = [5, 0]\\nclass = 0'),\n",
       " Text(0.45, 0.08333333333333333, 'gini = 0.415\\nsamples = 17\\nvalue = [12, 5]\\nclass = 0'),\n",
       " Text(0.5, 0.25, 'discipline_percent <= 31.5\\ngini = 0.118\\nsamples = 4972\\nvalue = [4660, 312]\\nclass = 0'),\n",
       " Text(0.48333333333333334, 0.08333333333333333, 'gini = 0.117\\nsamples = 4961\\nvalue = [4652, 309]\\nclass = 0'),\n",
       " Text(0.5166666666666667, 0.08333333333333333, 'gini = 0.397\\nsamples = 11\\nvalue = [8, 3]\\nclass = 0'),\n",
       " Text(0.7708333333333334, 0.75, 'discipline_count <= 624.5\\ngini = 0.044\\nsamples = 4367\\nvalue = [4268, 99]\\nclass = 0'),\n",
       " Text(0.6666666666666666, 0.5833333333333334, 'student_enrollment <= 1050.5\\ngini = 0.065\\nsamples = 2785\\nvalue = [2691, 94]\\nclass = 0'),\n",
       " Text(0.6, 0.4166666666666667, 'student_enrollment <= 932.5\\ngini = 0.081\\nsamples = 1850\\nvalue = [1772, 78]\\nclass = 0'),\n",
       " Text(0.5666666666666667, 0.25, 'discipline_count <= 620.5\\ngini = 0.065\\nsamples = 1517\\nvalue = [1466, 51]\\nclass = 0'),\n",
       " Text(0.55, 0.08333333333333333, 'gini = 0.063\\nsamples = 1514\\nvalue = [1465, 49]\\nclass = 0'),\n",
       " Text(0.5833333333333334, 0.08333333333333333, 'gini = 0.444\\nsamples = 3\\nvalue = [1, 2]\\nclass = 1'),\n",
       " Text(0.6333333333333333, 0.25, 'student_enrollment <= 945.5\\ngini = 0.149\\nsamples = 333\\nvalue = [306, 27]\\nclass = 0'),\n",
       " Text(0.6166666666666667, 0.08333333333333333, 'gini = 0.358\\nsamples = 30\\nvalue = [23, 7]\\nclass = 0'),\n",
       " Text(0.65, 0.08333333333333333, 'gini = 0.123\\nsamples = 303\\nvalue = [283, 20]\\nclass = 0'),\n",
       " Text(0.7333333333333333, 0.4166666666666667, 'discipline_percent <= 31.5\\ngini = 0.034\\nsamples = 935\\nvalue = [919, 16]\\nclass = 0'),\n",
       " Text(0.7, 0.25, 'discipline_count <= 240.5\\ngini = 0.043\\nsamples = 685\\nvalue = [670, 15]\\nclass = 0'),\n",
       " Text(0.6833333333333333, 0.08333333333333333, 'gini = 0.0\\nsamples = 88\\nvalue = [88, 0]\\nclass = 0'),\n",
       " Text(0.7166666666666667, 0.08333333333333333, 'gini = 0.049\\nsamples = 597\\nvalue = [582, 15]\\nclass = 0'),\n",
       " Text(0.7666666666666667, 0.25, 'student_enrollment <= 1128.5\\ngini = 0.008\\nsamples = 250\\nvalue = [249, 1]\\nclass = 0'),\n",
       " Text(0.75, 0.08333333333333333, 'gini = 0.024\\nsamples = 82\\nvalue = [81, 1]\\nclass = 0'),\n",
       " Text(0.7833333333333333, 0.08333333333333333, 'gini = 0.0\\nsamples = 168\\nvalue = [168, 0]\\nclass = 0'),\n",
       " Text(0.875, 0.5833333333333334, 'student_enrollment <= 488.0\\ngini = 0.006\\nsamples = 1582\\nvalue = [1577, 5]\\nclass = 0'),\n",
       " Text(0.8166666666666667, 0.4166666666666667, 'discipline_count <= 646.5\\ngini = 0.26\\nsamples = 13\\nvalue = [11, 2]\\nclass = 0'),\n",
       " Text(0.8, 0.25, 'gini = 0.0\\nsamples = 1\\nvalue = [0, 1]\\nclass = 1'),\n",
       " Text(0.8333333333333334, 0.25, 'discipline_count <= 721.5\\ngini = 0.153\\nsamples = 12\\nvalue = [11, 1]\\nclass = 0'),\n",
       " Text(0.8166666666666667, 0.08333333333333333, 'gini = 0.375\\nsamples = 4\\nvalue = [3, 1]\\nclass = 0'),\n",
       " Text(0.85, 0.08333333333333333, 'gini = 0.0\\nsamples = 8\\nvalue = [8, 0]\\nclass = 0'),\n",
       " Text(0.9333333333333333, 0.4166666666666667, 'student_enrollment <= 934.5\\ngini = 0.004\\nsamples = 1569\\nvalue = [1566, 3]\\nclass = 0'),\n",
       " Text(0.9, 0.25, 'student_enrollment <= 933.0\\ngini = 0.013\\nsamples = 313\\nvalue = [311, 2]\\nclass = 0'),\n",
       " Text(0.8833333333333333, 0.08333333333333333, 'gini = 0.006\\nsamples = 311\\nvalue = [310, 1]\\nclass = 0'),\n",
       " Text(0.9166666666666666, 0.08333333333333333, 'gini = 0.5\\nsamples = 2\\nvalue = [1, 1]\\nclass = 0'),\n",
       " Text(0.9666666666666667, 0.25, 'discipline_count <= 891.0\\ngini = 0.002\\nsamples = 1256\\nvalue = [1255, 1]\\nclass = 0'),\n",
       " Text(0.95, 0.08333333333333333, 'gini = 0.004\\nsamples = 475\\nvalue = [474, 1]\\nclass = 0'),\n",
       " Text(0.9833333333333333, 0.08333333333333333, 'gini = 0.0\\nsamples = 781\\nvalue = [781, 0]\\nclass = 0')]"
      ]
     },
     "execution_count": 105,
     "metadata": {},
     "output_type": "execute_result"
    },
    {
     "data": {
      "image/png": "[encoded data removed]",
      "text/plain": [
       "<Figure size 864x504 with 1 Axes>"
      ]
     },
     "metadata": {
      "needs_background": "light"
     },
     "output_type": "display_data"
    }
   ],
   "source": [
    "# Visualize the tree\n",
    "plt.figure(figsize=(12, 7))\n",
    "plot_tree(tree5, feature_names=X_train_scaled.columns, class_names=tree5.classes_.astype(str))\n",
    "#plt.show()"
   ]
  },
  {
   "cell_type": "code",
   "execution_count": 106,
   "id": "230baeb8",
   "metadata": {},
   "outputs": [],
   "source": [
    "y_pred5=tree5.predict(X_train_scaled)"
   ]
  },
  {
   "cell_type": "code",
   "execution_count": 107,
   "id": "1f496675",
   "metadata": {},
   "outputs": [],
   "source": [
    "y_pred_proba5 = tree5.predict_proba(X_train_scaled)"
   ]
  },
  {
   "cell_type": "code",
   "execution_count": 108,
   "id": "79671764",
   "metadata": {},
   "outputs": [
    {
     "name": "stdout",
     "output_type": "stream",
     "text": [
      "Accuracy of Decision Tree classifier on training set: 0.94\n"
     ]
    }
   ],
   "source": [
    "print('Accuracy of Decision Tree classifier on training set: {:.2f}'\n",
    "      .format(tree5.score(X_train_scaled, y_train)))"
   ]
  },
  {
   "cell_type": "code",
   "execution_count": 109,
   "id": "b12646e9",
   "metadata": {},
   "outputs": [
    {
     "data": {
      "text/plain": [
       "array([0, 0, 0, ..., 0, 0, 0])"
      ]
     },
     "execution_count": 109,
     "metadata": {},
     "output_type": "execute_result"
    }
   ],
   "source": [
    "tree5.predict(X_train_scaled)"
   ]
  },
  {
   "cell_type": "code",
   "execution_count": 111,
   "id": "eb5e3ac5",
   "metadata": {},
   "outputs": [],
   "source": [
    "predictions5 = tree5.predict(X_train_scaled)\n",
    "actual5 = y_train"
   ]
  },
  {
   "cell_type": "code",
   "execution_count": 112,
   "id": "494f49ce",
   "metadata": {},
   "outputs": [
    {
     "data": {
      "text/plain": [
       "array([[14939,     1],\n",
       "       [  974,     4]])"
      ]
     },
     "execution_count": 112,
     "metadata": {},
     "output_type": "execute_result"
    }
   ],
   "source": [
    "confusion_matrix(actual5, predictions5)\n"
   ]
  },
  {
   "cell_type": "code",
   "execution_count": 113,
   "id": "dabe48da",
   "metadata": {},
   "outputs": [
    {
     "data": {
      "text/html": [
       "<div>\n",
       "<style scoped>\n",
       "    .dataframe tbody tr th:only-of-type {\n",
       "        vertical-align: middle;\n",
       "    }\n",
       "\n",
       "    .dataframe tbody tr th {\n",
       "        vertical-align: top;\n",
       "    }\n",
       "\n",
       "    .dataframe thead th {\n",
       "        text-align: right;\n",
       "    }\n",
       "</style>\n",
       "<table border=\"1\" class=\"dataframe\">\n",
       "  <thead>\n",
       "    <tr style=\"text-align: right;\">\n",
       "      <th>col_0</th>\n",
       "      <th>0</th>\n",
       "      <th>1</th>\n",
       "    </tr>\n",
       "    <tr>\n",
       "      <th>charter_encoded</th>\n",
       "      <th></th>\n",
       "      <th></th>\n",
       "    </tr>\n",
       "  </thead>\n",
       "  <tbody>\n",
       "    <tr>\n",
       "      <th>0</th>\n",
       "      <td>14939</td>\n",
       "      <td>1</td>\n",
       "    </tr>\n",
       "    <tr>\n",
       "      <th>1</th>\n",
       "      <td>974</td>\n",
       "      <td>4</td>\n",
       "    </tr>\n",
       "  </tbody>\n",
       "</table>\n",
       "</div>"
      ],
      "text/plain": [
       "col_0                0  1\n",
       "charter_encoded          \n",
       "0                14939  1\n",
       "1                  974  4"
      ]
     },
     "execution_count": 113,
     "metadata": {},
     "output_type": "execute_result"
    }
   ],
   "source": [
    "pd.crosstab(y_train['charter_encoded'], tree5.predict(X_train_scaled))\n"
   ]
  },
  {
   "cell_type": "code",
   "execution_count": 114,
   "id": "f5da888e",
   "metadata": {},
   "outputs": [
    {
     "data": {
      "text/plain": [
       "<sklearn.metrics._plot.confusion_matrix.ConfusionMatrixDisplay at 0x2976cdcd0>"
      ]
     },
     "execution_count": 114,
     "metadata": {},
     "output_type": "execute_result"
    },
    {
     "data": {
      "image/png": "[encoded data removed]",
      "text/plain": [
       "<Figure size 432x288 with 2 Axes>"
      ]
     },
     "metadata": {
      "needs_background": "light"
     },
     "output_type": "display_data"
    }
   ],
   "source": [
    "plot_confusion_matrix(tree5, X_train_scaled, y_train, display_labels=['traditional', 'charter'])\n"
   ]
  },
  {
   "cell_type": "code",
   "execution_count": 115,
   "id": "34f24758",
   "metadata": {},
   "outputs": [
    {
     "name": "stdout",
     "output_type": "stream",
     "text": [
      "              precision    recall  f1-score   support\n",
      "\n",
      "           0       0.94      1.00      0.97     14940\n",
      "           1       0.80      0.00      0.01       978\n",
      "\n",
      "    accuracy                           0.94     15918\n",
      "   macro avg       0.87      0.50      0.49     15918\n",
      "weighted avg       0.93      0.94      0.91     15918\n",
      "\n"
     ]
    }
   ],
   "source": [
    "print(classification_report(actual5, predictions5))\n"
   ]
  },
  {
   "cell_type": "markdown",
   "id": "0f2d5108",
   "metadata": {},
   "source": [
    "## best decision tree depth =4"
   ]
  },
  {
   "cell_type": "code",
   "execution_count": 116,
   "id": "7981b664",
   "metadata": {},
   "outputs": [
    {
     "name": "stdout",
     "output_type": "stream",
     "text": [
      "              precision    recall  f1-score   support\n",
      "\n",
      "           0       0.94      1.00      0.97     14940\n",
      "           1       1.00      0.00      0.00       978\n",
      "\n",
      "    accuracy                           0.94     15918\n",
      "   macro avg       0.97      0.50      0.49     15918\n",
      "weighted avg       0.94      0.94      0.91     15918\n",
      "\n"
     ]
    }
   ],
   "source": [
    "print(classification_report(actual4, predictions4))"
   ]
  },
  {
   "cell_type": "markdown",
   "id": "5bdcdc91",
   "metadata": {},
   "source": [
    "# Random Forest"
   ]
  },
  {
   "cell_type": "markdown",
   "id": "2b87bcfb",
   "metadata": {},
   "source": [
    "## RF max depth=3"
   ]
  },
  {
   "cell_type": "code",
   "execution_count": 117,
   "id": "ceb5fbf7",
   "metadata": {},
   "outputs": [
    {
     "data": {
      "text/plain": [
       "RandomForestClassifier(max_depth=3, random_state=123)"
      ]
     },
     "execution_count": 117,
     "metadata": {},
     "output_type": "execute_result"
    }
   ],
   "source": [
    "rf3 = RandomForestClassifier(max_depth=3, random_state=123)\n",
    "rf3"
   ]
  },
  {
   "cell_type": "code",
   "execution_count": 118,
   "id": "5b6fa59a",
   "metadata": {},
   "outputs": [
    {
     "data": {
      "text/plain": [
       "RandomForestClassifier(max_depth=3, random_state=123)"
      ]
     },
     "execution_count": 118,
     "metadata": {},
     "output_type": "execute_result"
    }
   ],
   "source": [
    "rf3.fit(X_train_scaled, y_train)"
   ]
  },
  {
   "cell_type": "code",
   "execution_count": 119,
   "id": "dddaf109",
   "metadata": {},
   "outputs": [
    {
     "name": "stdout",
     "output_type": "stream",
     "text": [
      "[0.3770554  0.40514777 0.21779683 0.        ]\n"
     ]
    }
   ],
   "source": [
    "print(rf3.feature_importances_)"
   ]
  },
  {
   "cell_type": "code",
   "execution_count": 120,
   "id": "cdd5a660",
   "metadata": {},
   "outputs": [
    {
     "data": {
      "image/png": "[encoded data removed]",
      "text/plain": [
       "<Figure size 432x288 with 1 Axes>"
      ]
     },
     "metadata": {
      "needs_background": "light"
     },
     "output_type": "display_data"
    }
   ],
   "source": [
    "plt.bar(X_train_scaled.columns, rf3.feature_importances_)\n",
    "plt.show()"
   ]
  },
  {
   "cell_type": "code",
   "execution_count": 122,
   "id": "37b92323",
   "metadata": {},
   "outputs": [
    {
     "data": {
      "text/plain": [
       "array([0, 0, 0, ..., 0, 0, 0])"
      ]
     },
     "execution_count": 122,
     "metadata": {},
     "output_type": "execute_result"
    }
   ],
   "source": [
    "y_pred3 = rf3.predict(X_train_scaled)\n",
    "y_pred3"
   ]
  },
  {
   "cell_type": "code",
   "execution_count": 123,
   "id": "1f27a1a6",
   "metadata": {},
   "outputs": [
    {
     "data": {
      "text/plain": [
       "array([[0.94528636, 0.05471364],\n",
       "       [0.98842625, 0.01157375],\n",
       "       [0.91168033, 0.08831967],\n",
       "       ...,\n",
       "       [0.93967668, 0.06032332],\n",
       "       [0.93307993, 0.06692007],\n",
       "       [0.93584494, 0.06415506]])"
      ]
     },
     "execution_count": 123,
     "metadata": {},
     "output_type": "execute_result"
    }
   ],
   "source": [
    "y_pred_proba3 = rf3.predict_proba(X_train_scaled)\n",
    "y_pred_proba3"
   ]
  },
  {
   "cell_type": "code",
   "execution_count": 124,
   "id": "95024da1",
   "metadata": {},
   "outputs": [
    {
     "name": "stdout",
     "output_type": "stream",
     "text": [
      "Accuracy of random forest classifier on training set: 0.94\n"
     ]
    }
   ],
   "source": [
    "print('Accuracy of random forest classifier on training set: {:.2f}'\n",
    "     .format(rf3.score(X_train_scaled, y_train)))"
   ]
  },
  {
   "cell_type": "code",
   "execution_count": 125,
   "id": "f4b50f65",
   "metadata": {},
   "outputs": [
    {
     "name": "stdout",
     "output_type": "stream",
     "text": [
      "[[14940     0]\n",
      " [  978     0]]\n"
     ]
    }
   ],
   "source": [
    "cm3 = confusion_matrix(y_train, y_pred3)\n",
    "print(cm3)"
   ]
  },
  {
   "cell_type": "code",
   "execution_count": 126,
   "id": "b70dd362",
   "metadata": {},
   "outputs": [
    {
     "data": {
      "image/png": "[encoded data removed]",
      "text/plain": [
       "<Figure size 432x288 with 2 Axes>"
      ]
     },
     "metadata": {
      "needs_background": "light"
     },
     "output_type": "display_data"
    }
   ],
   "source": [
    "disp3 = ConfusionMatrixDisplay(confusion_matrix=cm3, display_labels=rf3.classes_)\n",
    "disp3.plot()\n",
    "plt.show()"
   ]
  },
  {
   "cell_type": "code",
   "execution_count": 127,
   "id": "1ab65ff9",
   "metadata": {},
   "outputs": [
    {
     "name": "stdout",
     "output_type": "stream",
     "text": [
      "              precision    recall  f1-score   support\n",
      "\n",
      "           0       0.94      1.00      0.97     14940\n",
      "           1       0.00      0.00      0.00       978\n",
      "\n",
      "    accuracy                           0.94     15918\n",
      "   macro avg       0.47      0.50      0.48     15918\n",
      "weighted avg       0.88      0.94      0.91     15918\n",
      "\n"
     ]
    }
   ],
   "source": [
    "print(classification_report(y_train, y_pred3))"
   ]
  },
  {
   "cell_type": "markdown",
   "id": "ff1c98d7",
   "metadata": {},
   "source": [
    "## RF max depth=4"
   ]
  },
  {
   "cell_type": "code",
   "execution_count": 128,
   "id": "2e65705c",
   "metadata": {},
   "outputs": [
    {
     "data": {
      "text/plain": [
       "RandomForestClassifier(max_depth=4, random_state=123)"
      ]
     },
     "execution_count": 128,
     "metadata": {},
     "output_type": "execute_result"
    }
   ],
   "source": [
    "rf4 = RandomForestClassifier(max_depth=4, random_state=123)\n",
    "rf4"
   ]
  },
  {
   "cell_type": "code",
   "execution_count": 129,
   "id": "799f250e",
   "metadata": {},
   "outputs": [
    {
     "data": {
      "text/plain": [
       "RandomForestClassifier(max_depth=4, random_state=123)"
      ]
     },
     "execution_count": 129,
     "metadata": {},
     "output_type": "execute_result"
    }
   ],
   "source": [
    "rf4.fit(X_train_scaled, y_train)"
   ]
  },
  {
   "cell_type": "code",
   "execution_count": 130,
   "id": "cde1fce8",
   "metadata": {},
   "outputs": [
    {
     "name": "stdout",
     "output_type": "stream",
     "text": [
      "[0.39171052 0.36558438 0.2427051  0.        ]\n"
     ]
    }
   ],
   "source": [
    "print(rf4.feature_importances_)"
   ]
  },
  {
   "cell_type": "code",
   "execution_count": 131,
   "id": "1b099336",
   "metadata": {},
   "outputs": [
    {
     "data": {
      "image/png": "[encoded data removed]",
      "text/plain": [
       "<Figure size 432x288 with 1 Axes>"
      ]
     },
     "metadata": {
      "needs_background": "light"
     },
     "output_type": "display_data"
    }
   ],
   "source": [
    "plt.bar(X_train_scaled.columns, rf4.feature_importances_)\n",
    "plt.show()"
   ]
  },
  {
   "cell_type": "code",
   "execution_count": 132,
   "id": "b37183b3",
   "metadata": {},
   "outputs": [
    {
     "data": {
      "text/plain": [
       "array([0, 0, 0, ..., 0, 0, 0])"
      ]
     },
     "execution_count": 132,
     "metadata": {},
     "output_type": "execute_result"
    }
   ],
   "source": [
    "y_pred4 = rf4.predict(X_train_scaled)\n",
    "y_pred4"
   ]
  },
  {
   "cell_type": "code",
   "execution_count": 133,
   "id": "beb52b84",
   "metadata": {},
   "outputs": [
    {
     "data": {
      "text/plain": [
       "array([[0.94889598, 0.05110402],\n",
       "       [0.98994188, 0.01005812],\n",
       "       [0.90686583, 0.09313417],\n",
       "       ...,\n",
       "       [0.93947709, 0.06052291],\n",
       "       [0.94235478, 0.05764522],\n",
       "       [0.93620301, 0.06379699]])"
      ]
     },
     "execution_count": 133,
     "metadata": {},
     "output_type": "execute_result"
    }
   ],
   "source": [
    "y_pred_proba4 = rf4.predict_proba(X_train_scaled)\n",
    "y_pred_proba4"
   ]
  },
  {
   "cell_type": "code",
   "execution_count": 134,
   "id": "b432b570",
   "metadata": {},
   "outputs": [
    {
     "name": "stdout",
     "output_type": "stream",
     "text": [
      "Accuracy of random forest classifier on training set: 0.94\n"
     ]
    }
   ],
   "source": [
    "print('Accuracy of random forest classifier on training set: {:.2f}'\n",
    "     .format(rf4.score(X_train_scaled, y_train)))"
   ]
  },
  {
   "cell_type": "code",
   "execution_count": 135,
   "id": "632f36c3",
   "metadata": {},
   "outputs": [
    {
     "name": "stdout",
     "output_type": "stream",
     "text": [
      "[[14940     0]\n",
      " [  978     0]]\n"
     ]
    }
   ],
   "source": [
    "cm4 = confusion_matrix(y_train, y_pred4)\n",
    "print(cm4)"
   ]
  },
  {
   "cell_type": "code",
   "execution_count": 136,
   "id": "d8b46ada",
   "metadata": {},
   "outputs": [
    {
     "data": {
      "image/png": "[encoded data removed]",
      "text/plain": [
       "<Figure size 432x288 with 2 Axes>"
      ]
     },
     "metadata": {
      "needs_background": "light"
     },
     "output_type": "display_data"
    }
   ],
   "source": [
    "disp4 = ConfusionMatrixDisplay(confusion_matrix=cm4, display_labels=rf4.classes_)\n",
    "disp4.plot()\n",
    "plt.show()"
   ]
  },
  {
   "cell_type": "code",
   "execution_count": 137,
   "id": "47a324b5",
   "metadata": {},
   "outputs": [
    {
     "name": "stdout",
     "output_type": "stream",
     "text": [
      "              precision    recall  f1-score   support\n",
      "\n",
      "           0       0.94      1.00      0.97     14940\n",
      "           1       0.00      0.00      0.00       978\n",
      "\n",
      "    accuracy                           0.94     15918\n",
      "   macro avg       0.47      0.50      0.48     15918\n",
      "weighted avg       0.88      0.94      0.91     15918\n",
      "\n"
     ]
    }
   ],
   "source": [
    "print(classification_report(y_train, y_pred4))"
   ]
  },
  {
   "cell_type": "markdown",
   "id": "dde76d0f",
   "metadata": {},
   "source": [
    "## RF max depth=5"
   ]
  },
  {
   "cell_type": "code",
   "execution_count": 138,
   "id": "6178c2df",
   "metadata": {},
   "outputs": [
    {
     "data": {
      "text/plain": [
       "RandomForestClassifier(max_depth=5, random_state=123)"
      ]
     },
     "execution_count": 138,
     "metadata": {},
     "output_type": "execute_result"
    }
   ],
   "source": [
    "rf5 = RandomForestClassifier(max_depth=5, random_state=123)\n",
    "rf5"
   ]
  },
  {
   "cell_type": "code",
   "execution_count": 139,
   "id": "c9678d86",
   "metadata": {},
   "outputs": [
    {
     "data": {
      "text/plain": [
       "RandomForestClassifier(max_depth=5, random_state=123)"
      ]
     },
     "execution_count": 139,
     "metadata": {},
     "output_type": "execute_result"
    }
   ],
   "source": [
    "rf5.fit(X_train_scaled, y_train)"
   ]
  },
  {
   "cell_type": "code",
   "execution_count": 140,
   "id": "20963738",
   "metadata": {},
   "outputs": [
    {
     "name": "stdout",
     "output_type": "stream",
     "text": [
      "[0.40336308 0.36356846 0.23306847 0.        ]\n"
     ]
    }
   ],
   "source": [
    "print(rf5.feature_importances_)"
   ]
  },
  {
   "cell_type": "code",
   "execution_count": 141,
   "id": "86c8a8e0",
   "metadata": {},
   "outputs": [
    {
     "data": {
      "image/png": "[encoded data removed]",
      "text/plain": [
       "<Figure size 432x288 with 1 Axes>"
      ]
     },
     "metadata": {
      "needs_background": "light"
     },
     "output_type": "display_data"
    }
   ],
   "source": [
    "plt.bar(X_train_scaled.columns, rf5.feature_importances_)\n",
    "plt.show()"
   ]
  },
  {
   "cell_type": "code",
   "execution_count": 142,
   "id": "16d94faa",
   "metadata": {},
   "outputs": [
    {
     "data": {
      "text/plain": [
       "array([0, 0, 0, ..., 0, 0, 0])"
      ]
     },
     "execution_count": 142,
     "metadata": {},
     "output_type": "execute_result"
    }
   ],
   "source": [
    "y_pred5 = rf5.predict(X_train_scaled)\n",
    "y_pred5"
   ]
  },
  {
   "cell_type": "code",
   "execution_count": 143,
   "id": "3cddad31",
   "metadata": {},
   "outputs": [
    {
     "data": {
      "text/plain": [
       "array([[0.95768277, 0.04231723],\n",
       "       [0.9927804 , 0.0072196 ],\n",
       "       [0.90104253, 0.09895747],\n",
       "       ...,\n",
       "       [0.93966656, 0.06033344],\n",
       "       [0.94793478, 0.05206522],\n",
       "       [0.93808971, 0.06191029]])"
      ]
     },
     "execution_count": 143,
     "metadata": {},
     "output_type": "execute_result"
    }
   ],
   "source": [
    "y_pred_proba5 = rf5.predict_proba(X_train_scaled)\n",
    "y_pred_proba5"
   ]
  },
  {
   "cell_type": "code",
   "execution_count": 144,
   "id": "a5688059",
   "metadata": {},
   "outputs": [
    {
     "name": "stdout",
     "output_type": "stream",
     "text": [
      "Accuracy of random forest classifier on training set: 0.94\n"
     ]
    }
   ],
   "source": [
    "print('Accuracy of random forest classifier on training set: {:.2f}'\n",
    "     .format(rf5.score(X_train_scaled, y_train)))"
   ]
  },
  {
   "cell_type": "code",
   "execution_count": 145,
   "id": "927f5687",
   "metadata": {},
   "outputs": [
    {
     "name": "stdout",
     "output_type": "stream",
     "text": [
      "[[14940     0]\n",
      " [  978     0]]\n"
     ]
    }
   ],
   "source": [
    "cm5 = confusion_matrix(y_train, y_pred5)\n",
    "print(cm5)"
   ]
  },
  {
   "cell_type": "code",
   "execution_count": 146,
   "id": "b777225f",
   "metadata": {},
   "outputs": [
    {
     "data": {
      "image/png": "[encoded data removed]",
      "text/plain": [
       "<Figure size 432x288 with 2 Axes>"
      ]
     },
     "metadata": {
      "needs_background": "light"
     },
     "output_type": "display_data"
    }
   ],
   "source": [
    "disp5 = ConfusionMatrixDisplay(confusion_matrix=cm5, display_labels=rf5.classes_)\n",
    "disp5.plot()\n",
    "plt.show()"
   ]
  },
  {
   "cell_type": "code",
   "execution_count": 147,
   "id": "d5ca7920",
   "metadata": {},
   "outputs": [
    {
     "name": "stdout",
     "output_type": "stream",
     "text": [
      "              precision    recall  f1-score   support\n",
      "\n",
      "           0       0.94      1.00      0.97     14940\n",
      "           1       0.00      0.00      0.00       978\n",
      "\n",
      "    accuracy                           0.94     15918\n",
      "   macro avg       0.47      0.50      0.48     15918\n",
      "weighted avg       0.88      0.94      0.91     15918\n",
      "\n"
     ]
    }
   ],
   "source": [
    "print(classification_report(y_train, y_pred5))"
   ]
  },
  {
   "cell_type": "markdown",
   "id": "87bb9976",
   "metadata": {},
   "source": [
    "# K-Nearest Neighbor"
   ]
  },
  {
   "cell_type": "markdown",
   "id": "7d83bf5a",
   "metadata": {},
   "source": [
    "## n_neighbors=3"
   ]
  },
  {
   "cell_type": "code",
   "execution_count": 149,
   "id": "6fdddf27",
   "metadata": {},
   "outputs": [],
   "source": [
    "# weights = ['uniform', 'density']\n",
    "knn3 = KNeighborsClassifier(n_neighbors=3, weights='uniform')"
   ]
  },
  {
   "cell_type": "code",
   "execution_count": 150,
   "id": "7bb737a2",
   "metadata": {},
   "outputs": [
    {
     "data": {
      "text/plain": [
       "KNeighborsClassifier(n_neighbors=3)"
      ]
     },
     "execution_count": 150,
     "metadata": {},
     "output_type": "execute_result"
    }
   ],
   "source": [
    "knn3.fit(X_train_scaled, y_train)"
   ]
  },
  {
   "cell_type": "code",
   "execution_count": 151,
   "id": "23cf0e2a",
   "metadata": {},
   "outputs": [],
   "source": [
    "y_pred3 = knn3.predict(X_train_scaled)"
   ]
  },
  {
   "cell_type": "code",
   "execution_count": 152,
   "id": "85c8c8ab",
   "metadata": {},
   "outputs": [],
   "source": [
    "y_pred_proba3 = knn3.predict_proba(X_train_scaled)"
   ]
  },
  {
   "cell_type": "code",
   "execution_count": 153,
   "id": "79f8c2fb",
   "metadata": {},
   "outputs": [
    {
     "name": "stdout",
     "output_type": "stream",
     "text": [
      "Accuracy of KNN classifier on training set: 0.94\n"
     ]
    }
   ],
   "source": [
    "print('Accuracy of KNN classifier on training set: {:.2f}'\n",
    "     .format(knn3.score(X_train_scaled, y_train)))"
   ]
  },
  {
   "cell_type": "code",
   "execution_count": 154,
   "id": "5ef9b2ff",
   "metadata": {},
   "outputs": [
    {
     "name": "stdout",
     "output_type": "stream",
     "text": [
      "[[14865    75]\n",
      " [  823   155]]\n"
     ]
    }
   ],
   "source": [
    "print(confusion_matrix(y_train, y_pred3))"
   ]
  },
  {
   "cell_type": "code",
   "execution_count": 155,
   "id": "5229069c",
   "metadata": {},
   "outputs": [
    {
     "name": "stdout",
     "output_type": "stream",
     "text": [
      "              precision    recall  f1-score   support\n",
      "\n",
      "           0       0.95      0.99      0.97     14940\n",
      "           1       0.67      0.16      0.26       978\n",
      "\n",
      "    accuracy                           0.94     15918\n",
      "   macro avg       0.81      0.58      0.61     15918\n",
      "weighted avg       0.93      0.94      0.93     15918\n",
      "\n"
     ]
    }
   ],
   "source": [
    "print(classification_report(y_train, y_pred3))"
   ]
  },
  {
   "cell_type": "markdown",
   "id": "01e76231",
   "metadata": {},
   "source": [
    "## n_neighbors=4"
   ]
  },
  {
   "cell_type": "code",
   "execution_count": 157,
   "id": "739b034e",
   "metadata": {},
   "outputs": [],
   "source": [
    "# weights = ['uniform', 'density']\n",
    "knn4 = KNeighborsClassifier(n_neighbors=4, weights='uniform')"
   ]
  },
  {
   "cell_type": "code",
   "execution_count": 158,
   "id": "279ae458",
   "metadata": {},
   "outputs": [
    {
     "data": {
      "text/plain": [
       "KNeighborsClassifier(n_neighbors=4)"
      ]
     },
     "execution_count": 158,
     "metadata": {},
     "output_type": "execute_result"
    }
   ],
   "source": [
    "knn4.fit(X_train_scaled, y_train)"
   ]
  },
  {
   "cell_type": "code",
   "execution_count": 159,
   "id": "4672b84d",
   "metadata": {},
   "outputs": [],
   "source": [
    "y_pred4 = knn4.predict(X_train_scaled)"
   ]
  },
  {
   "cell_type": "code",
   "execution_count": 160,
   "id": "72494eb0",
   "metadata": {},
   "outputs": [],
   "source": [
    "y_pred_proba4 = knn4.predict_proba(X_train_scaled)"
   ]
  },
  {
   "cell_type": "code",
   "execution_count": 161,
   "id": "f261c2a9",
   "metadata": {},
   "outputs": [
    {
     "name": "stdout",
     "output_type": "stream",
     "text": [
      "Accuracy of KNN classifier on training set: 0.94\n"
     ]
    }
   ],
   "source": [
    "print('Accuracy of KNN classifier on training set: {:.2f}'\n",
    "     .format(knn4.score(X_train_scaled, y_train)))"
   ]
  },
  {
   "cell_type": "code",
   "execution_count": 162,
   "id": "13731e19",
   "metadata": {},
   "outputs": [
    {
     "name": "stdout",
     "output_type": "stream",
     "text": [
      "[[14934     6]\n",
      " [  959    19]]\n"
     ]
    }
   ],
   "source": [
    "print(confusion_matrix(y_train, y_pred4))"
   ]
  },
  {
   "cell_type": "code",
   "execution_count": 163,
   "id": "5613d315",
   "metadata": {},
   "outputs": [
    {
     "name": "stdout",
     "output_type": "stream",
     "text": [
      "              precision    recall  f1-score   support\n",
      "\n",
      "           0       0.94      1.00      0.97     14940\n",
      "           1       0.76      0.02      0.04       978\n",
      "\n",
      "    accuracy                           0.94     15918\n",
      "   macro avg       0.85      0.51      0.50     15918\n",
      "weighted avg       0.93      0.94      0.91     15918\n",
      "\n"
     ]
    }
   ],
   "source": [
    "print(classification_report(y_train, y_pred4))"
   ]
  },
  {
   "cell_type": "markdown",
   "id": "143f0f79",
   "metadata": {},
   "source": [
    "## n_neighbors=5"
   ]
  },
  {
   "cell_type": "code",
   "execution_count": 164,
   "id": "ab7706a1",
   "metadata": {},
   "outputs": [],
   "source": [
    "# weights = ['uniform', 'density']\n",
    "knn5 = KNeighborsClassifier(n_neighbors=5, weights='uniform')"
   ]
  },
  {
   "cell_type": "code",
   "execution_count": 165,
   "id": "3a28609b",
   "metadata": {},
   "outputs": [
    {
     "data": {
      "text/plain": [
       "KNeighborsClassifier()"
      ]
     },
     "execution_count": 165,
     "metadata": {},
     "output_type": "execute_result"
    }
   ],
   "source": [
    "knn5.fit(X_train_scaled, y_train)"
   ]
  },
  {
   "cell_type": "code",
   "execution_count": 166,
   "id": "a7adfb31",
   "metadata": {},
   "outputs": [],
   "source": [
    "y_pred5 = knn5.predict(X_train_scaled)"
   ]
  },
  {
   "cell_type": "code",
   "execution_count": 167,
   "id": "53d59772",
   "metadata": {},
   "outputs": [],
   "source": [
    "y_pred_proba5 = knn5.predict_proba(X_train_scaled)"
   ]
  },
  {
   "cell_type": "code",
   "execution_count": 168,
   "id": "47fc9f7e",
   "metadata": {},
   "outputs": [
    {
     "name": "stdout",
     "output_type": "stream",
     "text": [
      "Accuracy of KNN classifier on training set: 0.94\n"
     ]
    }
   ],
   "source": [
    "print('Accuracy of KNN classifier on training set: {:.2f}'\n",
    "     .format(knn5.score(X_train_scaled, y_train)))"
   ]
  },
  {
   "cell_type": "code",
   "execution_count": 169,
   "id": "fcce2b05",
   "metadata": {},
   "outputs": [
    {
     "name": "stdout",
     "output_type": "stream",
     "text": [
      "[[14923    17]\n",
      " [  947    31]]\n"
     ]
    }
   ],
   "source": [
    "print(confusion_matrix(y_train, y_pred5))"
   ]
  },
  {
   "cell_type": "code",
   "execution_count": 170,
   "id": "1e6f49b5",
   "metadata": {},
   "outputs": [
    {
     "name": "stdout",
     "output_type": "stream",
     "text": [
      "              precision    recall  f1-score   support\n",
      "\n",
      "           0       0.94      1.00      0.97     14940\n",
      "           1       0.65      0.03      0.06       978\n",
      "\n",
      "    accuracy                           0.94     15918\n",
      "   macro avg       0.79      0.52      0.51     15918\n",
      "weighted avg       0.92      0.94      0.91     15918\n",
      "\n"
     ]
    }
   ],
   "source": [
    "print(classification_report(y_train, y_pred5))"
   ]
  },
  {
   "cell_type": "markdown",
   "id": "9face8b4",
   "metadata": {},
   "source": [
    "# Logistic Regression"
   ]
  },
  {
   "cell_type": "code",
   "execution_count": 172,
   "id": "280d65a2",
   "metadata": {},
   "outputs": [],
   "source": [
    "# Define the logistic regression model\n",
    "logit = LogisticRegression(C=1, random_state=123)"
   ]
  },
  {
   "cell_type": "code",
   "execution_count": 173,
   "id": "9051efd0",
   "metadata": {},
   "outputs": [
    {
     "data": {
      "text/plain": [
       "LogisticRegression(C=1, random_state=123)"
      ]
     },
     "execution_count": 173,
     "metadata": {},
     "output_type": "execute_result"
    }
   ],
   "source": [
    "#  fit the model on train data\n",
    "logit.fit(X_train_scaled, y_train)"
   ]
  },
  {
   "cell_type": "code",
   "execution_count": 174,
   "id": "0f5ab139",
   "metadata": {},
   "outputs": [],
   "source": [
    "# now use the model to make predictions\n",
    "y_predlr = logit.predict(X_train_scaled)"
   ]
  },
  {
   "cell_type": "code",
   "execution_count": 175,
   "id": "4ebdfff8",
   "metadata": {},
   "outputs": [
    {
     "data": {
      "text/plain": [
       "array([0, 0, 0, ..., 0, 0, 0])"
      ]
     },
     "execution_count": 175,
     "metadata": {},
     "output_type": "execute_result"
    }
   ],
   "source": [
    "#take a look at predictions\n",
    "y_predlr"
   ]
  },
  {
   "cell_type": "code",
   "execution_count": 176,
   "id": "ba574842",
   "metadata": {},
   "outputs": [
    {
     "data": {
      "text/plain": [
       "array([[0.95684353, 0.04315647],\n",
       "       [0.99364805, 0.00635195],\n",
       "       [0.9244573 , 0.0755427 ],\n",
       "       [0.94634628, 0.05365372],\n",
       "       [0.95114161, 0.04885839],\n",
       "       [0.92040216, 0.07959784],\n",
       "       [0.93525302, 0.06474698],\n",
       "       [0.91313496, 0.08686504],\n",
       "       [0.95086074, 0.04913926],\n",
       "       [0.92218739, 0.07781261]])"
      ]
     },
     "execution_count": 176,
     "metadata": {},
     "output_type": "execute_result"
    }
   ],
   "source": [
    "# look at predicted probabilites for first 10 observations\n",
    "logit.predict_proba(X_train_scaled)[:10]"
   ]
  },
  {
   "cell_type": "code",
   "execution_count": 177,
   "id": "1924cb94",
   "metadata": {},
   "outputs": [
    {
     "data": {
      "text/plain": [
       "array([0, 1])"
      ]
     },
     "execution_count": 177,
     "metadata": {},
     "output_type": "execute_result"
    }
   ],
   "source": [
    "logit.classes_"
   ]
  },
  {
   "cell_type": "code",
   "execution_count": 178,
   "id": "aca0d200",
   "metadata": {},
   "outputs": [
    {
     "data": {
      "text/html": [
       "<div>\n",
       "<style scoped>\n",
       "    .dataframe tbody tr th:only-of-type {\n",
       "        vertical-align: middle;\n",
       "    }\n",
       "\n",
       "    .dataframe tbody tr th {\n",
       "        vertical-align: top;\n",
       "    }\n",
       "\n",
       "    .dataframe thead th {\n",
       "        text-align: right;\n",
       "    }\n",
       "</style>\n",
       "<table border=\"1\" class=\"dataframe\">\n",
       "  <thead>\n",
       "    <tr style=\"text-align: right;\">\n",
       "      <th></th>\n",
       "      <th>traditional</th>\n",
       "      <th>charter</th>\n",
       "    </tr>\n",
       "  </thead>\n",
       "  <tbody>\n",
       "    <tr>\n",
       "      <th>0</th>\n",
       "      <td>0.8</td>\n",
       "      <td>0.2</td>\n",
       "    </tr>\n",
       "    <tr>\n",
       "      <th>1</th>\n",
       "      <td>1.0</td>\n",
       "      <td>0.0</td>\n",
       "    </tr>\n",
       "    <tr>\n",
       "      <th>2</th>\n",
       "      <td>1.0</td>\n",
       "      <td>0.0</td>\n",
       "    </tr>\n",
       "    <tr>\n",
       "      <th>3</th>\n",
       "      <td>1.0</td>\n",
       "      <td>0.0</td>\n",
       "    </tr>\n",
       "    <tr>\n",
       "      <th>4</th>\n",
       "      <td>1.0</td>\n",
       "      <td>0.0</td>\n",
       "    </tr>\n",
       "  </tbody>\n",
       "</table>\n",
       "</div>"
      ],
      "text/plain": [
       "   traditional  charter\n",
       "0          0.8      0.2\n",
       "1          1.0      0.0\n",
       "2          1.0      0.0\n",
       "3          1.0      0.0\n",
       "4          1.0      0.0"
      ]
     },
     "execution_count": 178,
     "metadata": {},
     "output_type": "execute_result"
    }
   ],
   "source": [
    "# View raw probabilities (output from the model)\n",
    "\n",
    "y_pred_probalr = logit.predict_proba(X_train_scaled)\n",
    "y_pred_probalr = pd.DataFrame(y_pred_proba, columns = ['traditional', 'charter'])\n",
    "y_pred_probalr.head().round(3)"
   ]
  },
  {
   "cell_type": "code",
   "execution_count": 179,
   "id": "888a87ea",
   "metadata": {},
   "outputs": [
    {
     "name": "stdout",
     "output_type": "stream",
     "text": [
      "              precision    recall  f1-score   support\n",
      "\n",
      "           0       0.94      1.00      0.97     14940\n",
      "           1       0.00      0.00      0.00       978\n",
      "\n",
      "    accuracy                           0.94     15918\n",
      "   macro avg       0.47      0.50      0.48     15918\n",
      "weighted avg       0.88      0.94      0.91     15918\n",
      "\n"
     ]
    }
   ],
   "source": [
    "#classification report\n",
    "print(classification_report(y_train, y_predlr))"
   ]
  },
  {
   "cell_type": "code",
   "execution_count": 180,
   "id": "8362ae19",
   "metadata": {},
   "outputs": [
    {
     "name": "stdout",
     "output_type": "stream",
     "text": [
      "Coefficient: \n",
      " [-0.00056865 -0.00181194 -0.00301103  0.        ]\n"
     ]
    }
   ],
   "source": [
    "# look at model 1 coefficents\n",
    " \n",
    "print('Coefficient: \\n', logit.coef_[0])"
   ]
  },
  {
   "cell_type": "code",
   "execution_count": 181,
   "id": "1712c3b5",
   "metadata": {},
   "outputs": [
    {
     "data": {
      "text/html": [
       "<div>\n",
       "<style scoped>\n",
       "    .dataframe tbody tr th:only-of-type {\n",
       "        vertical-align: middle;\n",
       "    }\n",
       "\n",
       "    .dataframe tbody tr th {\n",
       "        vertical-align: top;\n",
       "    }\n",
       "\n",
       "    .dataframe thead th {\n",
       "        text-align: right;\n",
       "    }\n",
       "</style>\n",
       "<table border=\"1\" class=\"dataframe\">\n",
       "  <thead>\n",
       "    <tr style=\"text-align: right;\">\n",
       "      <th></th>\n",
       "      <th>coeffs</th>\n",
       "    </tr>\n",
       "  </thead>\n",
       "  <tbody>\n",
       "    <tr>\n",
       "      <th>discipline_percent</th>\n",
       "      <td>-0.003011</td>\n",
       "    </tr>\n",
       "    <tr>\n",
       "      <th>discipline_count</th>\n",
       "      <td>-0.001812</td>\n",
       "    </tr>\n",
       "    <tr>\n",
       "      <th>student_enrollment</th>\n",
       "      <td>-0.000569</td>\n",
       "    </tr>\n",
       "    <tr>\n",
       "      <th>baseline_prediction</th>\n",
       "      <td>0.000000</td>\n",
       "    </tr>\n",
       "  </tbody>\n",
       "</table>\n",
       "</div>"
      ],
      "text/plain": [
       "                       coeffs\n",
       "discipline_percent  -0.003011\n",
       "discipline_count    -0.001812\n",
       "student_enrollment  -0.000569\n",
       "baseline_prediction  0.000000"
      ]
     },
     "execution_count": 181,
     "metadata": {},
     "output_type": "execute_result"
    }
   ],
   "source": [
    "# Make a dataframe of coefficients and feature names\n",
    "\n",
    "log_coeffs = pd.DataFrame(logit.coef_[0], index = X_train_scaled.columns,\n",
    "                          columns = ['coeffs']).sort_values(by = 'coeffs', ascending = True)\n",
    "log_coeffs"
   ]
  },
  {
   "cell_type": "code",
   "execution_count": 182,
   "id": "6b22a186",
   "metadata": {},
   "outputs": [
    {
     "data": {
      "text/html": [
       "<div>\n",
       "<style scoped>\n",
       "    .dataframe tbody tr th:only-of-type {\n",
       "        vertical-align: middle;\n",
       "    }\n",
       "\n",
       "    .dataframe tbody tr th {\n",
       "        vertical-align: top;\n",
       "    }\n",
       "\n",
       "    .dataframe thead th {\n",
       "        text-align: right;\n",
       "    }\n",
       "</style>\n",
       "<table border=\"1\" class=\"dataframe\">\n",
       "  <thead>\n",
       "    <tr style=\"text-align: right;\">\n",
       "      <th></th>\n",
       "      <th>coeffs</th>\n",
       "    </tr>\n",
       "  </thead>\n",
       "  <tbody>\n",
       "    <tr>\n",
       "      <th>discipline_percent</th>\n",
       "      <td>0.996994</td>\n",
       "    </tr>\n",
       "    <tr>\n",
       "      <th>discipline_count</th>\n",
       "      <td>0.998190</td>\n",
       "    </tr>\n",
       "    <tr>\n",
       "      <th>student_enrollment</th>\n",
       "      <td>0.999432</td>\n",
       "    </tr>\n",
       "    <tr>\n",
       "      <th>baseline_prediction</th>\n",
       "      <td>1.000000</td>\n",
       "    </tr>\n",
       "  </tbody>\n",
       "</table>\n",
       "</div>"
      ],
      "text/plain": [
       "                       coeffs\n",
       "discipline_percent   0.996994\n",
       "discipline_count     0.998190\n",
       "student_enrollment   0.999432\n",
       "baseline_prediction  1.000000"
      ]
     },
     "execution_count": 182,
     "metadata": {},
     "output_type": "execute_result"
    }
   ],
   "source": [
    "# convert from log odds to odds (exponentiate)\n",
    "odds = np.exp(log_coeffs)\n",
    "odds\n"
   ]
  },
  {
   "cell_type": "markdown",
   "id": "5ea8bae4",
   "metadata": {},
   "source": [
    "# classification report"
   ]
  },
  {
   "cell_type": "markdown",
   "id": "812f2931",
   "metadata": {},
   "source": [
    "There are four ways to check if the predictions are right or wrong:\n",
    "\n",
    "TN / True Negative: the case was negative and predicted negative\n",
    "TP / True Positive: the case was positive and predicted positive\n",
    "FN / False Negative: the case was positive but predicted negative\n",
    "FP / False Positive: the case was negative but predicted positive\n",
    "\n",
    "\n",
    "\n",
    "Precision — What percent of your predictions were correct?\n",
    "Precision:- Accuracy of positive predictions.\n",
    "\n",
    "Precision = TP/(TP + FP)\n",
    "\n",
    "\n",
    "Recall — What proportion of actual positives was identified correctly?\n",
    "Recall:- Fraction of positives that were correctly identified.\n",
    "\n",
    "Recall = TP/(TP+FN)\n",
    "\n",
    "F1 score — What percent of positive predictions were correct?\n",
    "F1 Score = 2*(Recall * Precision) / (Recall + Precision)\n",
    "\n",
    "\n",
    "Support — Support is the number of actual occurrences of the class in the specified dataset.\n",
    "\n"
   ]
  },
  {
   "cell_type": "markdown",
   "id": "d3467532",
   "metadata": {},
   "source": [
    "# Validate"
   ]
  },
  {
   "cell_type": "code",
   "execution_count": 183,
   "id": "6b9b6370",
   "metadata": {},
   "outputs": [],
   "source": [
    "# Create the decision tree object and specify hyperparams\n",
    "tree4 = DecisionTreeClassifier(max_depth = 4, random_state=123)"
   ]
  },
  {
   "cell_type": "code",
   "execution_count": 184,
   "id": "0602fef5",
   "metadata": {},
   "outputs": [
    {
     "data": {
      "text/plain": [
       "DecisionTreeClassifier(max_depth=4, random_state=123)"
      ]
     },
     "execution_count": 184,
     "metadata": {},
     "output_type": "execute_result"
    }
   ],
   "source": [
    "tree4.fit(X_validate_scaled, y_validate)"
   ]
  },
  {
   "cell_type": "code",
   "execution_count": 185,
   "id": "4b639751",
   "metadata": {},
   "outputs": [
    {
     "name": "stdout",
     "output_type": "stream",
     "text": [
      "|--- discipline_count <= 212.50\n",
      "|   |--- student_enrollment <= 524.50\n",
      "|   |   |--- discipline_count <= 211.00\n",
      "|   |   |   |--- discipline_percent <= 27.50\n",
      "|   |   |   |   |--- class: 0\n",
      "|   |   |   |--- discipline_percent >  27.50\n",
      "|   |   |   |   |--- class: 0\n",
      "|   |   |--- discipline_count >  211.00\n",
      "|   |   |   |--- class: 1\n",
      "|   |--- student_enrollment >  524.50\n",
      "|   |   |--- student_enrollment <= 960.50\n",
      "|   |   |   |--- discipline_count <= 23.50\n",
      "|   |   |   |   |--- class: 0\n",
      "|   |   |   |--- discipline_count >  23.50\n",
      "|   |   |   |   |--- class: 0\n",
      "|   |   |--- student_enrollment >  960.50\n",
      "|   |   |   |--- student_enrollment <= 1018.50\n",
      "|   |   |   |   |--- class: 0\n",
      "|   |   |   |--- student_enrollment >  1018.50\n",
      "|   |   |   |   |--- class: 0\n",
      "|--- discipline_count >  212.50\n",
      "|   |--- discipline_count <= 488.50\n",
      "|   |   |--- discipline_count <= 342.50\n",
      "|   |   |   |--- student_enrollment <= 501.00\n",
      "|   |   |   |   |--- class: 0\n",
      "|   |   |   |--- student_enrollment >  501.00\n",
      "|   |   |   |   |--- class: 0\n",
      "|   |   |--- discipline_count >  342.50\n",
      "|   |   |   |--- discipline_count <= 373.50\n",
      "|   |   |   |   |--- class: 0\n",
      "|   |   |   |--- discipline_count >  373.50\n",
      "|   |   |   |   |--- class: 0\n",
      "|   |--- discipline_count >  488.50\n",
      "|   |   |--- discipline_percent <= 22.50\n",
      "|   |   |   |--- student_enrollment <= 2656.00\n",
      "|   |   |   |   |--- class: 0\n",
      "|   |   |   |--- student_enrollment >  2656.00\n",
      "|   |   |   |   |--- class: 0\n",
      "|   |   |--- discipline_percent >  22.50\n",
      "|   |   |   |--- discipline_count <= 870.50\n",
      "|   |   |   |   |--- class: 0\n",
      "|   |   |   |--- discipline_count >  870.50\n",
      "|   |   |   |   |--- class: 0\n",
      "\n"
     ]
    }
   ],
   "source": [
    "# Rudimentary visualization of model structure\n",
    "print(export_text(tree4, feature_names=X_validate_scaled.columns.tolist()))"
   ]
  },
  {
   "cell_type": "code",
   "execution_count": 186,
   "id": "b083dcd8",
   "metadata": {},
   "outputs": [
    {
     "data": {
      "text/plain": [
       "[Text(0.45535714285714285, 0.9, 'discipline_count <= 212.5\\ngini = 0.115\\nsamples = 6822\\nvalue = [6403, 419]\\nclass = 0'),\n",
       " Text(0.19642857142857142, 0.7, 'student_enrollment <= 524.5\\ngini = 0.141\\nsamples = 5032\\nvalue = [4649, 383]\\nclass = 0'),\n",
       " Text(0.10714285714285714, 0.5, 'discipline_count <= 211.0\\ngini = 0.161\\nsamples = 2215\\nvalue = [2020, 195]\\nclass = 0'),\n",
       " Text(0.07142857142857142, 0.3, 'discipline_percent <= 27.5\\ngini = 0.16\\nsamples = 2214\\nvalue = [2020, 194]\\nclass = 0'),\n",
       " Text(0.03571428571428571, 0.1, 'gini = 0.177\\nsamples = 1698\\nvalue = [1531, 167]\\nclass = 0'),\n",
       " Text(0.10714285714285714, 0.1, 'gini = 0.099\\nsamples = 516\\nvalue = [489, 27]\\nclass = 0'),\n",
       " Text(0.14285714285714285, 0.3, 'gini = 0.0\\nsamples = 1\\nvalue = [0, 1]\\nclass = 1'),\n",
       " Text(0.2857142857142857, 0.5, 'student_enrollment <= 960.5\\ngini = 0.125\\nsamples = 2817\\nvalue = [2629, 188]\\nclass = 0'),\n",
       " Text(0.21428571428571427, 0.3, 'discipline_count <= 23.5\\ngini = 0.111\\nsamples = 2295\\nvalue = [2159, 136]\\nclass = 0'),\n",
       " Text(0.17857142857142858, 0.1, 'gini = 0.08\\nsamples = 599\\nvalue = [574, 25]\\nclass = 0'),\n",
       " Text(0.25, 0.1, 'gini = 0.122\\nsamples = 1696\\nvalue = [1585, 111]\\nclass = 0'),\n",
       " Text(0.35714285714285715, 0.3, 'student_enrollment <= 1018.5\\ngini = 0.179\\nsamples = 522\\nvalue = [470, 52]\\nclass = 0'),\n",
       " Text(0.32142857142857145, 0.1, 'gini = 0.309\\nsamples = 115\\nvalue = [93, 22]\\nclass = 0'),\n",
       " Text(0.39285714285714285, 0.1, 'gini = 0.137\\nsamples = 407\\nvalue = [377, 30]\\nclass = 0'),\n",
       " Text(0.7142857142857143, 0.7, 'discipline_count <= 488.5\\ngini = 0.039\\nsamples = 1790\\nvalue = [1754, 36]\\nclass = 0'),\n",
       " Text(0.5714285714285714, 0.5, 'discipline_count <= 342.5\\ngini = 0.062\\nsamples = 943\\nvalue = [913, 30]\\nclass = 0'),\n",
       " Text(0.5, 0.3, 'student_enrollment <= 501.0\\ngini = 0.033\\nsamples = 589\\nvalue = [579, 10]\\nclass = 0'),\n",
       " Text(0.4642857142857143, 0.1, 'gini = 0.0\\nsamples = 108\\nvalue = [108, 0]\\nclass = 0'),\n",
       " Text(0.5357142857142857, 0.1, 'gini = 0.041\\nsamples = 481\\nvalue = [471, 10]\\nclass = 0'),\n",
       " Text(0.6428571428571429, 0.3, 'discipline_count <= 373.5\\ngini = 0.107\\nsamples = 354\\nvalue = [334, 20]\\nclass = 0'),\n",
       " Text(0.6071428571428571, 0.1, 'gini = 0.221\\nsamples = 95\\nvalue = [83, 12]\\nclass = 0'),\n",
       " Text(0.6785714285714286, 0.1, 'gini = 0.06\\nsamples = 259\\nvalue = [251, 8]\\nclass = 0'),\n",
       " Text(0.8571428571428571, 0.5, 'discipline_percent <= 22.5\\ngini = 0.014\\nsamples = 847\\nvalue = [841, 6]\\nclass = 0'),\n",
       " Text(0.7857142857142857, 0.3, 'student_enrollment <= 2656.0\\ngini = 0.091\\nsamples = 21\\nvalue = [20, 1]\\nclass = 0'),\n",
       " Text(0.75, 0.1, 'gini = 0.375\\nsamples = 4\\nvalue = [3, 1]\\nclass = 0'),\n",
       " Text(0.8214285714285714, 0.1, 'gini = 0.0\\nsamples = 17\\nvalue = [17, 0]\\nclass = 0'),\n",
       " Text(0.9285714285714286, 0.3, 'discipline_count <= 870.5\\ngini = 0.012\\nsamples = 826\\nvalue = [821, 5]\\nclass = 0'),\n",
       " Text(0.8928571428571429, 0.1, 'gini = 0.021\\nsamples = 473\\nvalue = [468, 5]\\nclass = 0'),\n",
       " Text(0.9642857142857143, 0.1, 'gini = 0.0\\nsamples = 353\\nvalue = [353, 0]\\nclass = 0')]"
      ]
     },
     "execution_count": 186,
     "metadata": {},
     "output_type": "execute_result"
    },
    {
     "data": {
      "image/png": "[encoded data removed]",
      "text/plain": [
       "<Figure size 864x504 with 1 Axes>"
      ]
     },
     "metadata": {
      "needs_background": "light"
     },
     "output_type": "display_data"
    }
   ],
   "source": [
    "#Visualize the tree\n",
    "plt.figure(figsize=(12, 7))\n",
    "plot_tree(tree4, feature_names=X_validate_scaled.columns, class_names=tree4.classes_.astype(str))\n",
    "plt.show()"
   ]
  },
  {
   "cell_type": "code",
   "execution_count": 187,
   "id": "3092dee9",
   "metadata": {},
   "outputs": [],
   "source": [
    "y_pred4=tree4.predict(X_validate_scaled)"
   ]
  },
  {
   "cell_type": "code",
   "execution_count": 188,
   "id": "fd7fbff0",
   "metadata": {},
   "outputs": [],
   "source": [
    "y_pred_proba4 = tree4.predict_proba(X_validate_scaled)"
   ]
  },
  {
   "cell_type": "code",
   "execution_count": 189,
   "id": "b25243d2",
   "metadata": {},
   "outputs": [
    {
     "name": "stdout",
     "output_type": "stream",
     "text": [
      "Accuracy of Decision Tree classifier on training set: 0.94\n"
     ]
    }
   ],
   "source": [
    "print('Accuracy of Decision Tree classifier on training set: {:.2f}'\n",
    "      .format(tree4.score(X_validate_scaled, y_validate)))"
   ]
  },
  {
   "cell_type": "code",
   "execution_count": 190,
   "id": "d7b2e919",
   "metadata": {},
   "outputs": [
    {
     "data": {
      "text/plain": [
       "array([0, 0, 0, ..., 0, 0, 0])"
      ]
     },
     "execution_count": 190,
     "metadata": {},
     "output_type": "execute_result"
    }
   ],
   "source": [
    "tree4.predict(X_validate_scaled)"
   ]
  },
  {
   "cell_type": "code",
   "execution_count": 191,
   "id": "79c6bc39",
   "metadata": {},
   "outputs": [],
   "source": [
    "predictions4 = tree4.predict(X_validate_scaled)"
   ]
  },
  {
   "cell_type": "code",
   "execution_count": 192,
   "id": "61ec908d",
   "metadata": {},
   "outputs": [],
   "source": [
    "actual4 = y_validate"
   ]
  },
  {
   "cell_type": "code",
   "execution_count": 193,
   "id": "d5034f93",
   "metadata": {},
   "outputs": [
    {
     "data": {
      "text/plain": [
       "array([[6403,    0],\n",
       "       [ 418,    1]])"
      ]
     },
     "execution_count": 193,
     "metadata": {},
     "output_type": "execute_result"
    }
   ],
   "source": [
    "confusion_matrix(actual4, predictions4)"
   ]
  },
  {
   "cell_type": "code",
   "execution_count": 194,
   "id": "b4826b8f",
   "metadata": {},
   "outputs": [
    {
     "data": {
      "text/html": [
       "<div>\n",
       "<style scoped>\n",
       "    .dataframe tbody tr th:only-of-type {\n",
       "        vertical-align: middle;\n",
       "    }\n",
       "\n",
       "    .dataframe tbody tr th {\n",
       "        vertical-align: top;\n",
       "    }\n",
       "\n",
       "    .dataframe thead th {\n",
       "        text-align: right;\n",
       "    }\n",
       "</style>\n",
       "<table border=\"1\" class=\"dataframe\">\n",
       "  <thead>\n",
       "    <tr style=\"text-align: right;\">\n",
       "      <th>col_0</th>\n",
       "      <th>0</th>\n",
       "      <th>1</th>\n",
       "    </tr>\n",
       "    <tr>\n",
       "      <th>charter_encoded</th>\n",
       "      <th></th>\n",
       "      <th></th>\n",
       "    </tr>\n",
       "  </thead>\n",
       "  <tbody>\n",
       "    <tr>\n",
       "      <th>0</th>\n",
       "      <td>6403</td>\n",
       "      <td>0</td>\n",
       "    </tr>\n",
       "    <tr>\n",
       "      <th>1</th>\n",
       "      <td>418</td>\n",
       "      <td>1</td>\n",
       "    </tr>\n",
       "  </tbody>\n",
       "</table>\n",
       "</div>"
      ],
      "text/plain": [
       "col_0               0  1\n",
       "charter_encoded         \n",
       "0                6403  0\n",
       "1                 418  1"
      ]
     },
     "execution_count": 194,
     "metadata": {},
     "output_type": "execute_result"
    }
   ],
   "source": [
    "pd.crosstab(y_validate['charter_encoded'], tree4.predict(X_validate_scaled))"
   ]
  },
  {
   "cell_type": "code",
   "execution_count": 195,
   "id": "dc879a4b",
   "metadata": {},
   "outputs": [
    {
     "data": {
      "text/plain": [
       "<sklearn.metrics._plot.confusion_matrix.ConfusionMatrixDisplay at 0x2a02d3bb0>"
      ]
     },
     "execution_count": 195,
     "metadata": {},
     "output_type": "execute_result"
    },
    {
     "data": {
      "image/png": "[encoded data removed]",
      "text/plain": [
       "<Figure size 432x288 with 2 Axes>"
      ]
     },
     "metadata": {
      "needs_background": "light"
     },
     "output_type": "display_data"
    }
   ],
   "source": [
    "plot_confusion_matrix(tree4, X_validate_scaled, y_validate, display_labels=['traditional', 'charter'])"
   ]
  },
  {
   "cell_type": "code",
   "execution_count": 196,
   "id": "479cb21a",
   "metadata": {},
   "outputs": [
    {
     "name": "stdout",
     "output_type": "stream",
     "text": [
      "              precision    recall  f1-score   support\n",
      "\n",
      "           0       0.94      1.00      0.97      6403\n",
      "           1       1.00      0.00      0.00       419\n",
      "\n",
      "    accuracy                           0.94      6822\n",
      "   macro avg       0.97      0.50      0.49      6822\n",
      "weighted avg       0.94      0.94      0.91      6822\n",
      "\n"
     ]
    }
   ],
   "source": [
    "print(classification_report(actual4, predictions4))"
   ]
  },
  {
   "cell_type": "markdown",
   "id": "e6be1fd7",
   "metadata": {},
   "source": [
    "# Test"
   ]
  },
  {
   "cell_type": "code",
   "execution_count": 197,
   "id": "5c3deca6",
   "metadata": {},
   "outputs": [],
   "source": [
    "# Create the decision tree object and specify hyperparams\n",
    "tree4 = DecisionTreeClassifier(max_depth = 4, random_state=123)"
   ]
  },
  {
   "cell_type": "code",
   "execution_count": 198,
   "id": "60f3b2bc",
   "metadata": {},
   "outputs": [
    {
     "data": {
      "text/plain": [
       "DecisionTreeClassifier(max_depth=4, random_state=123)"
      ]
     },
     "execution_count": 198,
     "metadata": {},
     "output_type": "execute_result"
    }
   ],
   "source": [
    "tree4.fit(X_test_scaled, y_test)"
   ]
  },
  {
   "cell_type": "code",
   "execution_count": 199,
   "id": "ccaf6665",
   "metadata": {},
   "outputs": [
    {
     "name": "stdout",
     "output_type": "stream",
     "text": [
      "|--- discipline_count <= 264.50\n",
      "|   |--- discipline_percent <= 24.50\n",
      "|   |   |--- student_enrollment <= 563.50\n",
      "|   |   |   |--- student_enrollment <= 127.00\n",
      "|   |   |   |   |--- class: 0\n",
      "|   |   |   |--- student_enrollment >  127.00\n",
      "|   |   |   |   |--- class: 0\n",
      "|   |   |--- student_enrollment >  563.50\n",
      "|   |   |   |--- student_enrollment <= 736.50\n",
      "|   |   |   |   |--- class: 0\n",
      "|   |   |   |--- student_enrollment >  736.50\n",
      "|   |   |   |   |--- class: 0\n",
      "|   |--- discipline_percent >  24.50\n",
      "|   |   |--- discipline_count <= 41.50\n",
      "|   |   |   |--- student_enrollment <= 87.50\n",
      "|   |   |   |   |--- class: 0\n",
      "|   |   |   |--- student_enrollment >  87.50\n",
      "|   |   |   |   |--- class: 0\n",
      "|   |   |--- discipline_count >  41.50\n",
      "|   |   |   |--- discipline_count <= 259.50\n",
      "|   |   |   |   |--- class: 0\n",
      "|   |   |   |--- discipline_count >  259.50\n",
      "|   |   |   |   |--- class: 0\n",
      "|--- discipline_count >  264.50\n",
      "|   |--- student_enrollment <= 523.50\n",
      "|   |   |--- student_enrollment <= 511.50\n",
      "|   |   |   |--- discipline_count <= 292.50\n",
      "|   |   |   |   |--- class: 0\n",
      "|   |   |   |--- discipline_count >  292.50\n",
      "|   |   |   |   |--- class: 0\n",
      "|   |   |--- student_enrollment >  511.50\n",
      "|   |   |   |--- discipline_count <= 278.50\n",
      "|   |   |   |   |--- class: 0\n",
      "|   |   |   |--- discipline_count >  278.50\n",
      "|   |   |   |   |--- class: 1\n",
      "|   |--- student_enrollment >  523.50\n",
      "|   |   |--- discipline_count <= 557.50\n",
      "|   |   |   |--- discipline_count <= 556.00\n",
      "|   |   |   |   |--- class: 0\n",
      "|   |   |   |--- discipline_count >  556.00\n",
      "|   |   |   |   |--- class: 0\n",
      "|   |   |--- discipline_count >  557.50\n",
      "|   |   |   |--- discipline_percent <= 134.50\n",
      "|   |   |   |   |--- class: 0\n",
      "|   |   |   |--- discipline_percent >  134.50\n",
      "|   |   |   |   |--- class: 0\n",
      "\n"
     ]
    }
   ],
   "source": [
    "# Rudimentary visualization of model structure\n",
    "print(export_text(tree4, feature_names=X_train_scaled.columns.tolist()))"
   ]
  },
  {
   "cell_type": "code",
   "execution_count": 200,
   "id": "52568cbf",
   "metadata": {},
   "outputs": [
    {
     "data": {
      "image/png": "[encoded data removed]",
      "text/plain": [
       "<Figure size 864x504 with 1 Axes>"
      ]
     },
     "metadata": {
      "needs_background": "light"
     },
     "output_type": "display_data"
    }
   ],
   "source": [
    "#Visualize the tree\n",
    "plt.figure(figsize=(12, 7))\n",
    "plot_tree(tree4, feature_names=X_test_scaled.columns, class_names=tree4.classes_.astype(str))\n",
    "plt.show()"
   ]
  },
  {
   "cell_type": "code",
   "execution_count": 201,
   "id": "7791d312",
   "metadata": {},
   "outputs": [],
   "source": [
    "y_pred4=tree4.predict(X_test_scaled)"
   ]
  },
  {
   "cell_type": "code",
   "execution_count": 202,
   "id": "38f9f145",
   "metadata": {},
   "outputs": [],
   "source": [
    "y_pred_proba4 = tree4.predict_proba(X_test_scaled)"
   ]
  },
  {
   "cell_type": "code",
   "execution_count": 203,
   "id": "8a5f0429",
   "metadata": {},
   "outputs": [
    {
     "name": "stdout",
     "output_type": "stream",
     "text": [
      "Accuracy of Decision Tree classifier on training set: 0.94\n"
     ]
    }
   ],
   "source": [
    "print('Accuracy of Decision Tree classifier on training set: {:.2f}'\n",
    "      .format(tree4.score(X_test_scaled, y_test)))"
   ]
  },
  {
   "cell_type": "code",
   "execution_count": 204,
   "id": "fb68282c",
   "metadata": {},
   "outputs": [
    {
     "data": {
      "text/plain": [
       "array([0, 0, 0, ..., 0, 0, 0])"
      ]
     },
     "execution_count": 204,
     "metadata": {},
     "output_type": "execute_result"
    }
   ],
   "source": [
    "tree4.predict(X_test_scaled)"
   ]
  },
  {
   "cell_type": "code",
   "execution_count": 205,
   "id": "e23c4191",
   "metadata": {},
   "outputs": [],
   "source": [
    "predictions4 = tree4.predict(X_test_scaled)"
   ]
  },
  {
   "cell_type": "code",
   "execution_count": 206,
   "id": "a42a6ab8",
   "metadata": {},
   "outputs": [],
   "source": [
    "actual4 = y_test"
   ]
  },
  {
   "cell_type": "code",
   "execution_count": 207,
   "id": "fc602985",
   "metadata": {},
   "outputs": [
    {
     "data": {
      "text/html": [
       "<div>\n",
       "<style scoped>\n",
       "    .dataframe tbody tr th:only-of-type {\n",
       "        vertical-align: middle;\n",
       "    }\n",
       "\n",
       "    .dataframe tbody tr th {\n",
       "        vertical-align: top;\n",
       "    }\n",
       "\n",
       "    .dataframe thead th {\n",
       "        text-align: right;\n",
       "    }\n",
       "</style>\n",
       "<table border=\"1\" class=\"dataframe\">\n",
       "  <thead>\n",
       "    <tr style=\"text-align: right;\">\n",
       "      <th>col_0</th>\n",
       "      <th>0</th>\n",
       "      <th>1</th>\n",
       "    </tr>\n",
       "    <tr>\n",
       "      <th>charter_encoded</th>\n",
       "      <th></th>\n",
       "      <th></th>\n",
       "    </tr>\n",
       "  </thead>\n",
       "  <tbody>\n",
       "    <tr>\n",
       "      <th>0</th>\n",
       "      <td>5337</td>\n",
       "      <td>0</td>\n",
       "    </tr>\n",
       "    <tr>\n",
       "      <th>1</th>\n",
       "      <td>347</td>\n",
       "      <td>2</td>\n",
       "    </tr>\n",
       "  </tbody>\n",
       "</table>\n",
       "</div>"
      ],
      "text/plain": [
       "col_0               0  1\n",
       "charter_encoded         \n",
       "0                5337  0\n",
       "1                 347  2"
      ]
     },
     "execution_count": 207,
     "metadata": {},
     "output_type": "execute_result"
    }
   ],
   "source": [
    "confusion_matrix(actual4, predictions4)\n",
    "\n",
    "pd.crosstab(y_test['charter_encoded'], tree4.predict(X_test_scaled))"
   ]
  },
  {
   "cell_type": "code",
   "execution_count": 208,
   "id": "4c21e533",
   "metadata": {},
   "outputs": [
    {
     "data": {
      "text/plain": [
       "<sklearn.metrics._plot.confusion_matrix.ConfusionMatrixDisplay at 0x2a03896a0>"
      ]
     },
     "execution_count": 208,
     "metadata": {},
     "output_type": "execute_result"
    },
    {
     "data": {
      "image/png": "[encoded data removed]",
      "text/plain": [
       "<Figure size 432x288 with 2 Axes>"
      ]
     },
     "metadata": {
      "needs_background": "light"
     },
     "output_type": "display_data"
    }
   ],
   "source": [
    "plot_confusion_matrix(tree4, X_test_scaled, y_test, display_labels=['traditional', 'charter'])"
   ]
  },
  {
   "cell_type": "code",
   "execution_count": 209,
   "id": "99af3d15",
   "metadata": {},
   "outputs": [
    {
     "name": "stdout",
     "output_type": "stream",
     "text": [
      "              precision    recall  f1-score   support\n",
      "\n",
      "           0       0.94      1.00      0.97      5337\n",
      "           1       1.00      0.01      0.01       349\n",
      "\n",
      "    accuracy                           0.94      5686\n",
      "   macro avg       0.97      0.50      0.49      5686\n",
      "weighted avg       0.94      0.94      0.91      5686\n",
      "\n"
     ]
    }
   ],
   "source": [
    "print(classification_report(actual4, predictions4))"
   ]
  },
  {
   "cell_type": "code",
   "execution_count": null,
   "id": "815fc3fe",
   "metadata": {},
   "outputs": [],
   "source": [
    "pred_dict = {\n",
    "    'model': [],\n",
    "    'accuracy': [],\n",
    "    'true_positive_rate': [],\n",
    "    'false_positive_rate': [],\n",
    "    'true_negative_rate': [],\n",
    "    'false_negative_rate': [],\n",
    "    'precision': [],\n",
    "    'recall': [],\n",
    "    'f1_score': [],\n",
    "    'support_0': [],\n",
    "    'support_1': []\n",
    "}\n",
    "\n",
    "for n in [5, 10, 20]:\n",
    "    knn = KNeighborsClassifier(n_neighbors=n)\n",
    "    \n",
    "    knn.fit(X_test_scaled, y_test)\n",
    "    \n",
    "    y_preds = knn.predict(X_test_scaled)\n",
    "    \n",
    "    TN, FP, FN, TP = confusion_matrix(y_test, y_preds).ravel()\n",
    "    ALL = TP + TN + FP + FN\n",
    "    \n",
    "    accuracy = (TP + TN)/ALL\n",
    "    true_positive_rate = TP/(TP+FN)\n",
    "    false_positive_rate = FP/(FP+TN)\n",
    "    true_negative_rate = TN/(TN+FP)\n",
    "    false_negative_rate = FN/(FN+TP)\n",
    "    precision = TP/(TP+FP)\n",
    "    recall = TP/(TP+FN)\n",
    "    f1_score = 2*(precision*recall)/(precision+recall)\n",
    "    support_pos = TP + FN\n",
    "    support_neg = FP + TN\n",
    "    \n",
    "    pred_dict['model'].append(f'knn_n_{n}')\n",
    "    pred_dict['accuracy'].append(accuracy)\n",
    "    pred_dict['true_positive_rate'].append(true_positive_rate)\n",
    "    pred_dict['false_positive_rate'].append(false_positive_rate)\n",
    "    pred_dict['true_negative_rate'].append(true_negative_rate)\n",
    "    pred_dict['false_negative_rate'].append(false_negative_rate)\n",
    "    pred_dict['precision'].append(precision)\n",
    "    pred_dict['recall'].append(recall)\n",
    "    pred_dict['f1_score'].append(f1_score)\n",
    "    pred_dict['support_0'].append(support_pos)\n",
    "    pred_dict['support_1'].append(support_neg)"
   ]
  },
  {
   "cell_type": "code",
   "execution_count": null,
   "id": "b0b6300d",
   "metadata": {},
   "outputs": [],
   "source": []
  },
  {
   "cell_type": "code",
   "execution_count": null,
   "id": "6250427d",
   "metadata": {},
   "outputs": [],
   "source": []
  },
  {
   "cell_type": "code",
   "execution_count": null,
   "id": "82aca7ff",
   "metadata": {},
   "outputs": [],
   "source": []
  },
  {
   "cell_type": "code",
   "execution_count": null,
   "id": "f4ec2aec",
   "metadata": {},
   "outputs": [],
   "source": []
  },
  {
   "cell_type": "code",
   "execution_count": null,
   "id": "135110f9",
   "metadata": {},
   "outputs": [],
   "source": []
  },
  {
   "cell_type": "code",
   "execution_count": null,
   "id": "e84a71c2",
   "metadata": {},
   "outputs": [],
   "source": []
  },
  {
   "cell_type": "code",
   "execution_count": null,
   "id": "95945d36",
   "metadata": {},
   "outputs": [],
   "source": []
  }
 ],
 "metadata": {
  "kernelspec": {
   "display_name": "Python 3 (ipykernel)",
   "language": "python",
   "name": "python3"
  },
  "language_info": {
   "codemirror_mode": {
    "name": "ipython",
    "version": 3
   },
   "file_extension": ".py",
   "mimetype": "text/x-python",
   "name": "python",
   "nbconvert_exporter": "python",
   "pygments_lexer": "ipython3",
   "version": "3.9.12"
  }
 },
 "nbformat": 4,
 "nbformat_minor": 5
}
